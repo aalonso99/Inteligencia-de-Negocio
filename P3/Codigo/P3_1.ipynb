{
  "nbformat": 4,
  "nbformat_minor": 0,
  "metadata": {
    "colab": {
      "name": "P3-1.ipynb",
      "provenance": [],
      "collapsed_sections": [
        "iIBT0yXwQzH_"
      ]
    },
    "kernelspec": {
      "name": "python3",
      "display_name": "Python 3"
    },
    "accelerator": "GPU"
  },
  "cells": [
    {
      "cell_type": "markdown",
      "metadata": {
        "id": "2LDgnK47n-_Y"
      },
      "source": [
        "Cuaderno correspondiente a las predicciones 1 y 2.\n",
        "\n"
      ]
    },
    {
      "cell_type": "code",
      "metadata": {
        "colab": {
          "base_uri": "https://localhost:8080/"
        },
        "id": "04JV-qjYtoPg",
        "outputId": "3e583428-0143-47c1-f004-522771e3fc48"
      },
      "source": [
        "#Comentar las siguientes líneas para ejecutar el siguiente script fuera de GoogleColab\n",
        "#from google.colab import drive\n",
        "#drive.mount('/content/gdrive')"
      ],
      "execution_count": 1,
      "outputs": [
        {
          "output_type": "stream",
          "text": [
            "Mounted at /content/gdrive\n"
          ],
          "name": "stdout"
        }
      ]
    },
    {
      "cell_type": "code",
      "metadata": {
        "colab": {
          "base_uri": "https://localhost:8080/"
        },
        "id": "vYvPpiURtpVa",
        "outputId": "f529178e-b089-40f0-90a3-4086f9bbbf57"
      },
      "source": [
        "#cd '/content/gdrive/My Drive/Inteligencia de Negocio/Prácticas/P3'"
      ],
      "execution_count": 2,
      "outputs": [
        {
          "output_type": "stream",
          "text": [
            "/content/gdrive/My Drive/Inteligencia de Negocio/Prácticas/P3\n"
          ],
          "name": "stdout"
        }
      ]
    },
    {
      "cell_type": "markdown",
      "metadata": {
        "id": "VCcrqjXDAe1S"
      },
      "source": [
        "## Preprocesamiento"
      ]
    },
    {
      "cell_type": "code",
      "metadata": {
        "id": "JmAhvI7JApVE"
      },
      "source": [
        "import pandas as pd\n",
        "import numpy as np\n",
        "import matplotlib.pyplot as plt\n",
        "import seaborn as sns"
      ],
      "execution_count": 3,
      "outputs": []
    },
    {
      "cell_type": "markdown",
      "metadata": {
        "id": "i14Iv01VQGXl"
      },
      "source": [
        "### Manipulación básica de los datos"
      ]
    },
    {
      "cell_type": "code",
      "metadata": {
        "id": "SpYmn9wRAY0-"
      },
      "source": [
        "rd = pd.read_csv(\"train.csv\", na_values='')\n",
        "rd_test = pd.read_csv(\"test.csv\", na_values='')"
      ],
      "execution_count": 4,
      "outputs": []
    },
    {
      "cell_type": "code",
      "metadata": {
        "colab": {
          "base_uri": "https://localhost:8080/",
          "height": 391
        },
        "id": "BGJgn3DcAwUA",
        "outputId": "68ce8df2-9b04-45cd-e46d-3b6139102d71"
      },
      "source": [
        "rd"
      ],
      "execution_count": 5,
      "outputs": [
        {
          "output_type": "execute_result",
          "data": {
            "text/html": [
              "<div>\n",
              "<style scoped>\n",
              "    .dataframe tbody tr th:only-of-type {\n",
              "        vertical-align: middle;\n",
              "    }\n",
              "\n",
              "    .dataframe tbody tr th {\n",
              "        vertical-align: top;\n",
              "    }\n",
              "\n",
              "    .dataframe thead th {\n",
              "        text-align: right;\n",
              "    }\n",
              "</style>\n",
              "<table border=\"1\" class=\"dataframe\">\n",
              "  <thead>\n",
              "    <tr style=\"text-align: right;\">\n",
              "      <th></th>\n",
              "      <th>id</th>\n",
              "      <th>Nombre</th>\n",
              "      <th>Ciudad</th>\n",
              "      <th>Año</th>\n",
              "      <th>Kilometros</th>\n",
              "      <th>Combustible</th>\n",
              "      <th>Tipo_marchas</th>\n",
              "      <th>Mano</th>\n",
              "      <th>Consumo</th>\n",
              "      <th>Motor_CC</th>\n",
              "      <th>Potencia</th>\n",
              "      <th>Asientos</th>\n",
              "      <th>Descuento</th>\n",
              "      <th>Precio_cat</th>\n",
              "    </tr>\n",
              "  </thead>\n",
              "  <tbody>\n",
              "    <tr>\n",
              "      <th>0</th>\n",
              "      <td>1.0</td>\n",
              "      <td>Maruti Swift Dzire ZDI</td>\n",
              "      <td>G</td>\n",
              "      <td>2012.0</td>\n",
              "      <td>83000.0</td>\n",
              "      <td>Diesel</td>\n",
              "      <td>Manual</td>\n",
              "      <td>First</td>\n",
              "      <td>23.4 kmpl</td>\n",
              "      <td>1248 CC</td>\n",
              "      <td>74 bhp</td>\n",
              "      <td>5.0</td>\n",
              "      <td>NaN</td>\n",
              "      <td>3</td>\n",
              "    </tr>\n",
              "    <tr>\n",
              "      <th>1</th>\n",
              "      <td>2.0</td>\n",
              "      <td>Maruti Wagon R LXI Optional</td>\n",
              "      <td>I</td>\n",
              "      <td>2016.0</td>\n",
              "      <td>4800.0</td>\n",
              "      <td>Petrol</td>\n",
              "      <td>Manual</td>\n",
              "      <td>First</td>\n",
              "      <td>20.51 kmpl</td>\n",
              "      <td>998 CC</td>\n",
              "      <td>67.04 bhp</td>\n",
              "      <td>5.0</td>\n",
              "      <td>NaN</td>\n",
              "      <td>3</td>\n",
              "    </tr>\n",
              "    <tr>\n",
              "      <th>2</th>\n",
              "      <td>3.0</td>\n",
              "      <td>Mahindra KUV 100 mFALCON D75 K8</td>\n",
              "      <td>F</td>\n",
              "      <td>2016.0</td>\n",
              "      <td>26000.0</td>\n",
              "      <td>Diesel</td>\n",
              "      <td>Manual</td>\n",
              "      <td>First</td>\n",
              "      <td>25.32 kmpl</td>\n",
              "      <td>1198 CC</td>\n",
              "      <td>77 bhp</td>\n",
              "      <td>6.0</td>\n",
              "      <td>NaN</td>\n",
              "      <td>3</td>\n",
              "    </tr>\n",
              "    <tr>\n",
              "      <th>3</th>\n",
              "      <td>4.0</td>\n",
              "      <td>Hyundai i20 1.2 Magna</td>\n",
              "      <td>E</td>\n",
              "      <td>2013.0</td>\n",
              "      <td>56127.0</td>\n",
              "      <td>Petrol</td>\n",
              "      <td>Manual</td>\n",
              "      <td>First</td>\n",
              "      <td>18.5 kmpl</td>\n",
              "      <td>1197 CC</td>\n",
              "      <td>80 bhp</td>\n",
              "      <td>5.0</td>\n",
              "      <td>NaN</td>\n",
              "      <td>3</td>\n",
              "    </tr>\n",
              "    <tr>\n",
              "      <th>4</th>\n",
              "      <td>5.0</td>\n",
              "      <td>Honda Jazz 1.2 SV i VTEC</td>\n",
              "      <td>H</td>\n",
              "      <td>2017.0</td>\n",
              "      <td>41981.0</td>\n",
              "      <td>Petrol</td>\n",
              "      <td>Manual</td>\n",
              "      <td>First</td>\n",
              "      <td>18.7 kmpl</td>\n",
              "      <td>1199 CC</td>\n",
              "      <td>88.7 bhp</td>\n",
              "      <td>5.0</td>\n",
              "      <td>NaN</td>\n",
              "      <td>3</td>\n",
              "    </tr>\n",
              "    <tr>\n",
              "      <th>...</th>\n",
              "      <td>...</td>\n",
              "      <td>...</td>\n",
              "      <td>...</td>\n",
              "      <td>...</td>\n",
              "      <td>...</td>\n",
              "      <td>...</td>\n",
              "      <td>...</td>\n",
              "      <td>...</td>\n",
              "      <td>...</td>\n",
              "      <td>...</td>\n",
              "      <td>...</td>\n",
              "      <td>...</td>\n",
              "      <td>...</td>\n",
              "      <td>...</td>\n",
              "    </tr>\n",
              "    <tr>\n",
              "      <th>4814</th>\n",
              "      <td>4815.0</td>\n",
              "      <td>Maruti Swift VDI</td>\n",
              "      <td>E</td>\n",
              "      <td>2014.0</td>\n",
              "      <td>83274.0</td>\n",
              "      <td>Diesel</td>\n",
              "      <td>Manual</td>\n",
              "      <td>First</td>\n",
              "      <td>22.9 kmpl</td>\n",
              "      <td>1248 CC</td>\n",
              "      <td>74 bhp</td>\n",
              "      <td>5.0</td>\n",
              "      <td>NaN</td>\n",
              "      <td>3</td>\n",
              "    </tr>\n",
              "    <tr>\n",
              "      <th>4815</th>\n",
              "      <td>NaN</td>\n",
              "      <td>Porsche Panamera Diesel 250hp</td>\n",
              "      <td>H</td>\n",
              "      <td>2014.0</td>\n",
              "      <td>60033.0</td>\n",
              "      <td>Diesel</td>\n",
              "      <td>Automatic</td>\n",
              "      <td>First</td>\n",
              "      <td>18.18 kmpl</td>\n",
              "      <td>2967 CC</td>\n",
              "      <td>250 bhp</td>\n",
              "      <td>4.0</td>\n",
              "      <td>NaN</td>\n",
              "      <td>5</td>\n",
              "    </tr>\n",
              "    <tr>\n",
              "      <th>4816</th>\n",
              "      <td>4817.0</td>\n",
              "      <td>Hyundai Creta 1.6 CRDi SX Option</td>\n",
              "      <td>C</td>\n",
              "      <td>2017.0</td>\n",
              "      <td>40158.0</td>\n",
              "      <td>Diesel</td>\n",
              "      <td>Manual</td>\n",
              "      <td>First</td>\n",
              "      <td>19.67 kmpl</td>\n",
              "      <td>NaN</td>\n",
              "      <td>126.2 bhp</td>\n",
              "      <td>5.0</td>\n",
              "      <td>NaN</td>\n",
              "      <td>4</td>\n",
              "    </tr>\n",
              "    <tr>\n",
              "      <th>4817</th>\n",
              "      <td>4818.0</td>\n",
              "      <td>Hyundai Xcent 1.2 VTVT S</td>\n",
              "      <td>E</td>\n",
              "      <td>2015.0</td>\n",
              "      <td>65743.0</td>\n",
              "      <td>Petrol</td>\n",
              "      <td>Manual</td>\n",
              "      <td>First</td>\n",
              "      <td>20.14 kmpl</td>\n",
              "      <td>1197 CC</td>\n",
              "      <td>81.86 bhp</td>\n",
              "      <td>5.0</td>\n",
              "      <td>7.85</td>\n",
              "      <td>3</td>\n",
              "    </tr>\n",
              "    <tr>\n",
              "      <th>4818</th>\n",
              "      <td>4819.0</td>\n",
              "      <td>Maruti Ertiga ZDI</td>\n",
              "      <td>B</td>\n",
              "      <td>2013.0</td>\n",
              "      <td>75000.0</td>\n",
              "      <td>Diesel</td>\n",
              "      <td>Manual</td>\n",
              "      <td>First</td>\n",
              "      <td>20.77 kmpl</td>\n",
              "      <td>1248 CC</td>\n",
              "      <td>88.8 bhp</td>\n",
              "      <td>7.0</td>\n",
              "      <td>NaN</td>\n",
              "      <td>3</td>\n",
              "    </tr>\n",
              "  </tbody>\n",
              "</table>\n",
              "<p>4819 rows × 14 columns</p>\n",
              "</div>"
            ],
            "text/plain": [
              "          id                            Nombre  ... Descuento  Precio_cat\n",
              "0        1.0            Maruti Swift Dzire ZDI  ...       NaN           3\n",
              "1        2.0       Maruti Wagon R LXI Optional  ...       NaN           3\n",
              "2        3.0   Mahindra KUV 100 mFALCON D75 K8  ...       NaN           3\n",
              "3        4.0             Hyundai i20 1.2 Magna  ...       NaN           3\n",
              "4        5.0          Honda Jazz 1.2 SV i VTEC  ...       NaN           3\n",
              "...      ...                               ...  ...       ...         ...\n",
              "4814  4815.0                  Maruti Swift VDI  ...       NaN           3\n",
              "4815     NaN     Porsche Panamera Diesel 250hp  ...       NaN           5\n",
              "4816  4817.0  Hyundai Creta 1.6 CRDi SX Option  ...       NaN           4\n",
              "4817  4818.0          Hyundai Xcent 1.2 VTVT S  ...      7.85           3\n",
              "4818  4819.0                 Maruti Ertiga ZDI  ...       NaN           3\n",
              "\n",
              "[4819 rows x 14 columns]"
            ]
          },
          "metadata": {
            "tags": []
          },
          "execution_count": 5
        }
      ]
    },
    {
      "cell_type": "code",
      "metadata": {
        "id": "6BuiDIDKHqkj"
      },
      "source": [
        "d = rd.copy()\n",
        "d_test = rd_test.copy()"
      ],
      "execution_count": 21,
      "outputs": []
    },
    {
      "cell_type": "code",
      "metadata": {
        "colab": {
          "base_uri": "https://localhost:8080/"
        },
        "id": "z73ExfCDBBX8",
        "outputId": "9ee719a4-53dd-48fc-8737-9861bebf3d2d"
      },
      "source": [
        "d['Descuento'].count()"
      ],
      "execution_count": 22,
      "outputs": [
        {
          "output_type": "execute_result",
          "data": {
            "text/plain": [
              "659"
            ]
          },
          "metadata": {
            "tags": []
          },
          "execution_count": 22
        }
      ]
    },
    {
      "cell_type": "markdown",
      "metadata": {
        "id": "wmEt-OwssKgJ"
      },
      "source": [
        "Borramos la columna \"Descuento\" porque la mayor parte de las veces no es conocida."
      ]
    },
    {
      "cell_type": "code",
      "metadata": {
        "id": "CCfejf_4r-cU"
      },
      "source": [
        "del d['Descuento']\n",
        "del d['id']\n",
        "\n",
        "del d_test['Descuento']\n",
        "test_ids = d_test['id']\n",
        "del d_test['id']"
      ],
      "execution_count": 23,
      "outputs": []
    },
    {
      "cell_type": "code",
      "metadata": {
        "colab": {
          "base_uri": "https://localhost:8080/"
        },
        "id": "nsVU1gW7rzSP",
        "outputId": "0860c2a9-8e31-487e-e6ab-cdb6ea6ecb00"
      },
      "source": [
        "d['Ciudad'].nunique()"
      ],
      "execution_count": 24,
      "outputs": [
        {
          "output_type": "execute_result",
          "data": {
            "text/plain": [
              "11"
            ]
          },
          "metadata": {
            "tags": []
          },
          "execution_count": 24
        }
      ]
    },
    {
      "cell_type": "code",
      "metadata": {
        "colab": {
          "base_uri": "https://localhost:8080/",
          "height": 622
        },
        "id": "nkef9P-vsnjI",
        "outputId": "ab645211-125c-456e-d03c-7c9037745b13"
      },
      "source": [
        "plt.figure(figsize=(10,10))\n",
        "sns.countplot(data=d, x='Ciudad', hue='Precio_cat')"
      ],
      "execution_count": 25,
      "outputs": [
        {
          "output_type": "execute_result",
          "data": {
            "text/plain": [
              "<matplotlib.axes._subplots.AxesSubplot at 0x7fe98b305908>"
            ]
          },
          "metadata": {
            "tags": []
          },
          "execution_count": 25
        },
        {
          "output_type": "display_data",
          "data": {
            "image/png": "[encoded data removed]",
            "text/plain": [
              "<Figure size 720x720 with 1 Axes>"
            ]
          },
          "metadata": {
            "tags": [],
            "needs_background": "light"
          }
        }
      ]
    },
    {
      "cell_type": "code",
      "metadata": {
        "id": "d90wltIUDDPR"
      },
      "source": [
        "del d['Ciudad']\n",
        "del d_test['Ciudad']  "
      ],
      "execution_count": 26,
      "outputs": []
    },
    {
      "cell_type": "code",
      "metadata": {
        "id": "0iI_07HSCXs3"
      },
      "source": [
        "d = d.dropna()"
      ],
      "execution_count": 27,
      "outputs": []
    },
    {
      "cell_type": "code",
      "metadata": {
        "colab": {
          "base_uri": "https://localhost:8080/"
        },
        "id": "-MJivVgWBEts",
        "outputId": "096ef7bb-671a-43fa-8d6d-c82ff8737757"
      },
      "source": [
        "d.count()"
      ],
      "execution_count": 28,
      "outputs": [
        {
          "output_type": "execute_result",
          "data": {
            "text/plain": [
              "Nombre          4059\n",
              "Año             4059\n",
              "Kilometros      4059\n",
              "Combustible     4059\n",
              "Tipo_marchas    4059\n",
              "Mano            4059\n",
              "Consumo         4059\n",
              "Motor_CC        4059\n",
              "Potencia        4059\n",
              "Asientos        4059\n",
              "Precio_cat      4059\n",
              "dtype: int64"
            ]
          },
          "metadata": {
            "tags": []
          },
          "execution_count": 28
        }
      ]
    },
    {
      "cell_type": "code",
      "metadata": {
        "colab": {
          "base_uri": "https://localhost:8080/",
          "height": 391
        },
        "id": "YSV6p56UC5hQ",
        "outputId": "3a4bcb08-b320-4a4f-a69f-6ea03c0914b6"
      },
      "source": [
        "d"
      ],
      "execution_count": 29,
      "outputs": [
        {
          "output_type": "execute_result",
          "data": {
            "text/html": [
              "<div>\n",
              "<style scoped>\n",
              "    .dataframe tbody tr th:only-of-type {\n",
              "        vertical-align: middle;\n",
              "    }\n",
              "\n",
              "    .dataframe tbody tr th {\n",
              "        vertical-align: top;\n",
              "    }\n",
              "\n",
              "    .dataframe thead th {\n",
              "        text-align: right;\n",
              "    }\n",
              "</style>\n",
              "<table border=\"1\" class=\"dataframe\">\n",
              "  <thead>\n",
              "    <tr style=\"text-align: right;\">\n",
              "      <th></th>\n",
              "      <th>Nombre</th>\n",
              "      <th>Año</th>\n",
              "      <th>Kilometros</th>\n",
              "      <th>Combustible</th>\n",
              "      <th>Tipo_marchas</th>\n",
              "      <th>Mano</th>\n",
              "      <th>Consumo</th>\n",
              "      <th>Motor_CC</th>\n",
              "      <th>Potencia</th>\n",
              "      <th>Asientos</th>\n",
              "      <th>Precio_cat</th>\n",
              "    </tr>\n",
              "  </thead>\n",
              "  <tbody>\n",
              "    <tr>\n",
              "      <th>0</th>\n",
              "      <td>Maruti Swift Dzire ZDI</td>\n",
              "      <td>2012.0</td>\n",
              "      <td>83000.0</td>\n",
              "      <td>Diesel</td>\n",
              "      <td>Manual</td>\n",
              "      <td>First</td>\n",
              "      <td>23.4 kmpl</td>\n",
              "      <td>1248 CC</td>\n",
              "      <td>74 bhp</td>\n",
              "      <td>5.0</td>\n",
              "      <td>3</td>\n",
              "    </tr>\n",
              "    <tr>\n",
              "      <th>1</th>\n",
              "      <td>Maruti Wagon R LXI Optional</td>\n",
              "      <td>2016.0</td>\n",
              "      <td>4800.0</td>\n",
              "      <td>Petrol</td>\n",
              "      <td>Manual</td>\n",
              "      <td>First</td>\n",
              "      <td>20.51 kmpl</td>\n",
              "      <td>998 CC</td>\n",
              "      <td>67.04 bhp</td>\n",
              "      <td>5.0</td>\n",
              "      <td>3</td>\n",
              "    </tr>\n",
              "    <tr>\n",
              "      <th>2</th>\n",
              "      <td>Mahindra KUV 100 mFALCON D75 K8</td>\n",
              "      <td>2016.0</td>\n",
              "      <td>26000.0</td>\n",
              "      <td>Diesel</td>\n",
              "      <td>Manual</td>\n",
              "      <td>First</td>\n",
              "      <td>25.32 kmpl</td>\n",
              "      <td>1198 CC</td>\n",
              "      <td>77 bhp</td>\n",
              "      <td>6.0</td>\n",
              "      <td>3</td>\n",
              "    </tr>\n",
              "    <tr>\n",
              "      <th>3</th>\n",
              "      <td>Hyundai i20 1.2 Magna</td>\n",
              "      <td>2013.0</td>\n",
              "      <td>56127.0</td>\n",
              "      <td>Petrol</td>\n",
              "      <td>Manual</td>\n",
              "      <td>First</td>\n",
              "      <td>18.5 kmpl</td>\n",
              "      <td>1197 CC</td>\n",
              "      <td>80 bhp</td>\n",
              "      <td>5.0</td>\n",
              "      <td>3</td>\n",
              "    </tr>\n",
              "    <tr>\n",
              "      <th>4</th>\n",
              "      <td>Honda Jazz 1.2 SV i VTEC</td>\n",
              "      <td>2017.0</td>\n",
              "      <td>41981.0</td>\n",
              "      <td>Petrol</td>\n",
              "      <td>Manual</td>\n",
              "      <td>First</td>\n",
              "      <td>18.7 kmpl</td>\n",
              "      <td>1199 CC</td>\n",
              "      <td>88.7 bhp</td>\n",
              "      <td>5.0</td>\n",
              "      <td>3</td>\n",
              "    </tr>\n",
              "    <tr>\n",
              "      <th>...</th>\n",
              "      <td>...</td>\n",
              "      <td>...</td>\n",
              "      <td>...</td>\n",
              "      <td>...</td>\n",
              "      <td>...</td>\n",
              "      <td>...</td>\n",
              "      <td>...</td>\n",
              "      <td>...</td>\n",
              "      <td>...</td>\n",
              "      <td>...</td>\n",
              "      <td>...</td>\n",
              "    </tr>\n",
              "    <tr>\n",
              "      <th>4813</th>\n",
              "      <td>Volkswagen Vento Petrol Highline</td>\n",
              "      <td>2012.0</td>\n",
              "      <td>67200.0</td>\n",
              "      <td>Petrol</td>\n",
              "      <td>Manual</td>\n",
              "      <td>First</td>\n",
              "      <td>15.04 kmpl</td>\n",
              "      <td>1598 CC</td>\n",
              "      <td>103.6 bhp</td>\n",
              "      <td>5.0</td>\n",
              "      <td>3</td>\n",
              "    </tr>\n",
              "    <tr>\n",
              "      <th>4814</th>\n",
              "      <td>Maruti Swift VDI</td>\n",
              "      <td>2014.0</td>\n",
              "      <td>83274.0</td>\n",
              "      <td>Diesel</td>\n",
              "      <td>Manual</td>\n",
              "      <td>First</td>\n",
              "      <td>22.9 kmpl</td>\n",
              "      <td>1248 CC</td>\n",
              "      <td>74 bhp</td>\n",
              "      <td>5.0</td>\n",
              "      <td>3</td>\n",
              "    </tr>\n",
              "    <tr>\n",
              "      <th>4815</th>\n",
              "      <td>Porsche Panamera Diesel 250hp</td>\n",
              "      <td>2014.0</td>\n",
              "      <td>60033.0</td>\n",
              "      <td>Diesel</td>\n",
              "      <td>Automatic</td>\n",
              "      <td>First</td>\n",
              "      <td>18.18 kmpl</td>\n",
              "      <td>2967 CC</td>\n",
              "      <td>250 bhp</td>\n",
              "      <td>4.0</td>\n",
              "      <td>5</td>\n",
              "    </tr>\n",
              "    <tr>\n",
              "      <th>4817</th>\n",
              "      <td>Hyundai Xcent 1.2 VTVT S</td>\n",
              "      <td>2015.0</td>\n",
              "      <td>65743.0</td>\n",
              "      <td>Petrol</td>\n",
              "      <td>Manual</td>\n",
              "      <td>First</td>\n",
              "      <td>20.14 kmpl</td>\n",
              "      <td>1197 CC</td>\n",
              "      <td>81.86 bhp</td>\n",
              "      <td>5.0</td>\n",
              "      <td>3</td>\n",
              "    </tr>\n",
              "    <tr>\n",
              "      <th>4818</th>\n",
              "      <td>Maruti Ertiga ZDI</td>\n",
              "      <td>2013.0</td>\n",
              "      <td>75000.0</td>\n",
              "      <td>Diesel</td>\n",
              "      <td>Manual</td>\n",
              "      <td>First</td>\n",
              "      <td>20.77 kmpl</td>\n",
              "      <td>1248 CC</td>\n",
              "      <td>88.8 bhp</td>\n",
              "      <td>7.0</td>\n",
              "      <td>3</td>\n",
              "    </tr>\n",
              "  </tbody>\n",
              "</table>\n",
              "<p>4059 rows × 11 columns</p>\n",
              "</div>"
            ],
            "text/plain": [
              "                                Nombre     Año  ...  Asientos Precio_cat\n",
              "0               Maruti Swift Dzire ZDI  2012.0  ...       5.0          3\n",
              "1          Maruti Wagon R LXI Optional  2016.0  ...       5.0          3\n",
              "2      Mahindra KUV 100 mFALCON D75 K8  2016.0  ...       6.0          3\n",
              "3                Hyundai i20 1.2 Magna  2013.0  ...       5.0          3\n",
              "4             Honda Jazz 1.2 SV i VTEC  2017.0  ...       5.0          3\n",
              "...                                ...     ...  ...       ...        ...\n",
              "4813  Volkswagen Vento Petrol Highline  2012.0  ...       5.0          3\n",
              "4814                  Maruti Swift VDI  2014.0  ...       5.0          3\n",
              "4815     Porsche Panamera Diesel 250hp  2014.0  ...       4.0          5\n",
              "4817          Hyundai Xcent 1.2 VTVT S  2015.0  ...       5.0          3\n",
              "4818                 Maruti Ertiga ZDI  2013.0  ...       7.0          3\n",
              "\n",
              "[4059 rows x 11 columns]"
            ]
          },
          "metadata": {
            "tags": []
          },
          "execution_count": 29
        }
      ]
    },
    {
      "cell_type": "code",
      "metadata": {
        "id": "Cwa6E_QUD7Sf"
      },
      "source": [
        "def remove_units(s, n_chars):\n",
        "  return float(s[0:-n_chars])\n",
        "\n",
        "def remove_kmpl(s):\n",
        "  return remove_units(s, 5)\n",
        "\n",
        "def remove_cc(s):\n",
        "  return remove_units(s, 3)\n",
        "\n",
        "def remove_bhp(s):\n",
        "  return remove_units(s, 4)"
      ],
      "execution_count": 30,
      "outputs": []
    },
    {
      "cell_type": "code",
      "metadata": {
        "id": "UKjvnnRCBpD8"
      },
      "source": [
        "d['Consumo'] = d['Consumo'].map(remove_kmpl)\n",
        "d['Motor_CC'] = d['Motor_CC'].map(remove_cc)\n",
        "d['Potencia'] = d['Potencia'].map(remove_bhp)\n",
        "d_test['Consumo'] = d_test['Consumo'].map(remove_kmpl)\n",
        "d_test['Motor_CC'] = d_test['Motor_CC'].map(remove_cc)\n",
        "d_test['Potencia'] = d_test['Potencia'].map(remove_bhp)"
      ],
      "execution_count": 31,
      "outputs": []
    },
    {
      "cell_type": "code",
      "metadata": {
        "colab": {
          "base_uri": "https://localhost:8080/"
        },
        "id": "VMhBDhnUFNgk",
        "outputId": "a21a76e1-e6cb-45cb-d321-f4f8d1422f5b"
      },
      "source": [
        "d['Nombre'].nunique()"
      ],
      "execution_count": 32,
      "outputs": [
        {
          "output_type": "execute_result",
          "data": {
            "text/plain": [
              "1516"
            ]
          },
          "metadata": {
            "tags": []
          },
          "execution_count": 32
        }
      ]
    },
    {
      "cell_type": "markdown",
      "metadata": {
        "id": "5PZPcaWcFwKR"
      },
      "source": [
        "No merece la pena tener en cuenta los nombres de los modelos.Podemos tener en cuenta las marcas:"
      ]
    },
    {
      "cell_type": "code",
      "metadata": {
        "id": "FyDswhj8GdS4"
      },
      "source": [
        "def brand_from_name(s):\n",
        "  return s.split(' ', 1)[0].capitalize()"
      ],
      "execution_count": 33,
      "outputs": []
    },
    {
      "cell_type": "code",
      "metadata": {
        "id": "7bMPl5AeGrR-"
      },
      "source": [
        "d['Nombre'] = d['Nombre'].map(brand_from_name)\n",
        "d = d.rename(columns={'Nombre':'Marca'})\n",
        "\n",
        "d_test['Nombre'] = d_test['Nombre'].map(brand_from_name)\n",
        "d_test = d_test.rename(columns={'Nombre':'Marca'})"
      ],
      "execution_count": 34,
      "outputs": []
    },
    {
      "cell_type": "code",
      "metadata": {
        "colab": {
          "base_uri": "https://localhost:8080/"
        },
        "id": "jliIwNLrslFi",
        "outputId": "cc706928-4ebd-4152-f0de-1335fcaa702a"
      },
      "source": [
        "d['Marca'].nunique()"
      ],
      "execution_count": 36,
      "outputs": [
        {
          "output_type": "execute_result",
          "data": {
            "text/plain": [
              "28"
            ]
          },
          "metadata": {
            "tags": []
          },
          "execution_count": 36
        }
      ]
    },
    {
      "cell_type": "code",
      "metadata": {
        "colab": {
          "base_uri": "https://localhost:8080/",
          "height": 391
        },
        "id": "wNZdObAlIlkt",
        "outputId": "2cc0d026-7db8-4696-9575-ac52ae95a446"
      },
      "source": [
        "d"
      ],
      "execution_count": null,
      "outputs": [
        {
          "output_type": "execute_result",
          "data": {
            "text/html": [
              "<div>\n",
              "<style scoped>\n",
              "    .dataframe tbody tr th:only-of-type {\n",
              "        vertical-align: middle;\n",
              "    }\n",
              "\n",
              "    .dataframe tbody tr th {\n",
              "        vertical-align: top;\n",
              "    }\n",
              "\n",
              "    .dataframe thead th {\n",
              "        text-align: right;\n",
              "    }\n",
              "</style>\n",
              "<table border=\"1\" class=\"dataframe\">\n",
              "  <thead>\n",
              "    <tr style=\"text-align: right;\">\n",
              "      <th></th>\n",
              "      <th>Nombre</th>\n",
              "      <th>Año</th>\n",
              "      <th>Kilometros</th>\n",
              "      <th>Combustible</th>\n",
              "      <th>Tipo_marchas</th>\n",
              "      <th>Mano</th>\n",
              "      <th>Consumo</th>\n",
              "      <th>Motor_CC</th>\n",
              "      <th>Potencia</th>\n",
              "      <th>Asientos</th>\n",
              "      <th>Precio_cat</th>\n",
              "    </tr>\n",
              "  </thead>\n",
              "  <tbody>\n",
              "    <tr>\n",
              "      <th>0</th>\n",
              "      <td>Maruti Swift Dzire ZDI</td>\n",
              "      <td>2012.0</td>\n",
              "      <td>83000.0</td>\n",
              "      <td>Diesel</td>\n",
              "      <td>Manual</td>\n",
              "      <td>First</td>\n",
              "      <td>23.40</td>\n",
              "      <td>1248.0</td>\n",
              "      <td>74.00</td>\n",
              "      <td>5.0</td>\n",
              "      <td>3</td>\n",
              "    </tr>\n",
              "    <tr>\n",
              "      <th>1</th>\n",
              "      <td>Maruti Wagon R LXI Optional</td>\n",
              "      <td>2016.0</td>\n",
              "      <td>4800.0</td>\n",
              "      <td>Petrol</td>\n",
              "      <td>Manual</td>\n",
              "      <td>First</td>\n",
              "      <td>20.51</td>\n",
              "      <td>998.0</td>\n",
              "      <td>67.04</td>\n",
              "      <td>5.0</td>\n",
              "      <td>3</td>\n",
              "    </tr>\n",
              "    <tr>\n",
              "      <th>2</th>\n",
              "      <td>Mahindra KUV 100 mFALCON D75 K8</td>\n",
              "      <td>2016.0</td>\n",
              "      <td>26000.0</td>\n",
              "      <td>Diesel</td>\n",
              "      <td>Manual</td>\n",
              "      <td>First</td>\n",
              "      <td>25.32</td>\n",
              "      <td>1198.0</td>\n",
              "      <td>77.00</td>\n",
              "      <td>6.0</td>\n",
              "      <td>3</td>\n",
              "    </tr>\n",
              "    <tr>\n",
              "      <th>3</th>\n",
              "      <td>Hyundai i20 1.2 Magna</td>\n",
              "      <td>2013.0</td>\n",
              "      <td>56127.0</td>\n",
              "      <td>Petrol</td>\n",
              "      <td>Manual</td>\n",
              "      <td>First</td>\n",
              "      <td>18.50</td>\n",
              "      <td>1197.0</td>\n",
              "      <td>80.00</td>\n",
              "      <td>5.0</td>\n",
              "      <td>3</td>\n",
              "    </tr>\n",
              "    <tr>\n",
              "      <th>4</th>\n",
              "      <td>Honda Jazz 1.2 SV i VTEC</td>\n",
              "      <td>2017.0</td>\n",
              "      <td>41981.0</td>\n",
              "      <td>Petrol</td>\n",
              "      <td>Manual</td>\n",
              "      <td>First</td>\n",
              "      <td>18.70</td>\n",
              "      <td>1199.0</td>\n",
              "      <td>88.70</td>\n",
              "      <td>5.0</td>\n",
              "      <td>3</td>\n",
              "    </tr>\n",
              "    <tr>\n",
              "      <th>...</th>\n",
              "      <td>...</td>\n",
              "      <td>...</td>\n",
              "      <td>...</td>\n",
              "      <td>...</td>\n",
              "      <td>...</td>\n",
              "      <td>...</td>\n",
              "      <td>...</td>\n",
              "      <td>...</td>\n",
              "      <td>...</td>\n",
              "      <td>...</td>\n",
              "      <td>...</td>\n",
              "    </tr>\n",
              "    <tr>\n",
              "      <th>4813</th>\n",
              "      <td>Volkswagen Vento Petrol Highline</td>\n",
              "      <td>2012.0</td>\n",
              "      <td>67200.0</td>\n",
              "      <td>Petrol</td>\n",
              "      <td>Manual</td>\n",
              "      <td>First</td>\n",
              "      <td>15.04</td>\n",
              "      <td>1598.0</td>\n",
              "      <td>103.60</td>\n",
              "      <td>5.0</td>\n",
              "      <td>3</td>\n",
              "    </tr>\n",
              "    <tr>\n",
              "      <th>4814</th>\n",
              "      <td>Maruti Swift VDI</td>\n",
              "      <td>2014.0</td>\n",
              "      <td>83274.0</td>\n",
              "      <td>Diesel</td>\n",
              "      <td>Manual</td>\n",
              "      <td>First</td>\n",
              "      <td>22.90</td>\n",
              "      <td>1248.0</td>\n",
              "      <td>74.00</td>\n",
              "      <td>5.0</td>\n",
              "      <td>3</td>\n",
              "    </tr>\n",
              "    <tr>\n",
              "      <th>4815</th>\n",
              "      <td>Porsche Panamera Diesel 250hp</td>\n",
              "      <td>2014.0</td>\n",
              "      <td>60033.0</td>\n",
              "      <td>Diesel</td>\n",
              "      <td>Automatic</td>\n",
              "      <td>First</td>\n",
              "      <td>18.18</td>\n",
              "      <td>2967.0</td>\n",
              "      <td>250.00</td>\n",
              "      <td>4.0</td>\n",
              "      <td>5</td>\n",
              "    </tr>\n",
              "    <tr>\n",
              "      <th>4817</th>\n",
              "      <td>Hyundai Xcent 1.2 VTVT S</td>\n",
              "      <td>2015.0</td>\n",
              "      <td>65743.0</td>\n",
              "      <td>Petrol</td>\n",
              "      <td>Manual</td>\n",
              "      <td>First</td>\n",
              "      <td>20.14</td>\n",
              "      <td>1197.0</td>\n",
              "      <td>81.86</td>\n",
              "      <td>5.0</td>\n",
              "      <td>3</td>\n",
              "    </tr>\n",
              "    <tr>\n",
              "      <th>4818</th>\n",
              "      <td>Maruti Ertiga ZDI</td>\n",
              "      <td>2013.0</td>\n",
              "      <td>75000.0</td>\n",
              "      <td>Diesel</td>\n",
              "      <td>Manual</td>\n",
              "      <td>First</td>\n",
              "      <td>20.77</td>\n",
              "      <td>1248.0</td>\n",
              "      <td>88.80</td>\n",
              "      <td>7.0</td>\n",
              "      <td>3</td>\n",
              "    </tr>\n",
              "  </tbody>\n",
              "</table>\n",
              "<p>4059 rows × 11 columns</p>\n",
              "</div>"
            ],
            "text/plain": [
              "                                Nombre     Año  ...  Asientos Precio_cat\n",
              "0               Maruti Swift Dzire ZDI  2012.0  ...       5.0          3\n",
              "1          Maruti Wagon R LXI Optional  2016.0  ...       5.0          3\n",
              "2      Mahindra KUV 100 mFALCON D75 K8  2016.0  ...       6.0          3\n",
              "3                Hyundai i20 1.2 Magna  2013.0  ...       5.0          3\n",
              "4             Honda Jazz 1.2 SV i VTEC  2017.0  ...       5.0          3\n",
              "...                                ...     ...  ...       ...        ...\n",
              "4813  Volkswagen Vento Petrol Highline  2012.0  ...       5.0          3\n",
              "4814                  Maruti Swift VDI  2014.0  ...       5.0          3\n",
              "4815     Porsche Panamera Diesel 250hp  2014.0  ...       4.0          5\n",
              "4817          Hyundai Xcent 1.2 VTVT S  2015.0  ...       5.0          3\n",
              "4818                 Maruti Ertiga ZDI  2013.0  ...       7.0          3\n",
              "\n",
              "[4059 rows x 11 columns]"
            ]
          },
          "metadata": {
            "tags": []
          },
          "execution_count": 58
        }
      ]
    },
    {
      "cell_type": "markdown",
      "metadata": {
        "id": "JyoYy8LUQNJW"
      },
      "source": [
        "### Resampling"
      ]
    },
    {
      "cell_type": "markdown",
      "metadata": {
        "id": "uCiAChZKHcJ9"
      },
      "source": [
        "Vemos como de desbalanceados están los datos:"
      ]
    },
    {
      "cell_type": "code",
      "metadata": {
        "id": "JngCqSM1Het6"
      },
      "source": [
        "from collections import Counter"
      ],
      "execution_count": null,
      "outputs": []
    },
    {
      "cell_type": "code",
      "metadata": {
        "colab": {
          "base_uri": "https://localhost:8080/"
        },
        "id": "7K0R3_REHfMZ",
        "outputId": "3f93456f-3cf2-4776-becb-b837aa7bab2e"
      },
      "source": [
        "print(Counter(rd['Precio_cat']))\n",
        "print(Counter(d['Precio_cat']))"
      ],
      "execution_count": null,
      "outputs": [
        {
          "output_type": "stream",
          "text": [
            "Counter({3: 2211, 4: 978, 5: 759, 2: 602, 1: 269})\n",
            "Counter({3: 1853, 4: 848, 5: 646, 2: 509, 1: 203})\n"
          ],
          "name": "stdout"
        }
      ]
    },
    {
      "cell_type": "markdown",
      "metadata": {
        "id": "qzV3vlHYxHNB"
      },
      "source": [
        "(HACER OVERSAMPLING CON SMOTENC SEGUIDO DE UNDERSAMPLING CON TOMEK'S LINKS PARA LIMPIAR EL RESULTADO)"
      ]
    },
    {
      "cell_type": "code",
      "metadata": {
        "id": "t5qEa4CIICqy"
      },
      "source": [
        "from imblearn.over_sampling import SMOTENC\n",
        "from imblearn.combine import SMOTETomek\n",
        "from imblearn.under_sampling import TomekLinks\n",
        "from imblearn.under_sampling import EditedNearestNeighbours\n",
        "categorical_features = (0,3,4,5)"
      ],
      "execution_count": null,
      "outputs": []
    },
    {
      "cell_type": "code",
      "metadata": {
        "id": "A2b-eMWaKncJ"
      },
      "source": [
        "X = d.loc[:, d.columns != 'Precio_cat']\n",
        "y = d['Precio_cat']"
      ],
      "execution_count": null,
      "outputs": []
    },
    {
      "cell_type": "code",
      "metadata": {
        "colab": {
          "base_uri": "https://localhost:8080/"
        },
        "id": "OLcE4s_GLnlS",
        "outputId": "b249a955-34da-4129-d125-4aa5423f240e"
      },
      "source": [
        "smote_nc = SMOTENC(categorical_features=categorical_features, random_state=0)\n",
        "X_res, y_res = smote_nc.fit_resample(X, y)\n",
        "print('Dataset after resampling:')\n",
        "print(sorted(Counter(y_res).items()))"
      ],
      "execution_count": null,
      "outputs": [
        {
          "output_type": "stream",
          "text": [
            "/usr/local/lib/python3.6/dist-packages/sklearn/utils/deprecation.py:87: FutureWarning: Function safe_indexing is deprecated; safe_indexing is deprecated in version 0.22 and will be removed in version 0.24.\n",
            "  warnings.warn(msg, category=FutureWarning)\n",
            "/usr/local/lib/python3.6/dist-packages/sklearn/utils/deprecation.py:87: FutureWarning: Function safe_indexing is deprecated; safe_indexing is deprecated in version 0.22 and will be removed in version 0.24.\n",
            "  warnings.warn(msg, category=FutureWarning)\n"
          ],
          "name": "stderr"
        },
        {
          "output_type": "stream",
          "text": [
            "Dataset after resampling:\n",
            "[(1, 1853), (2, 1853), (3, 1853), (4, 1853), (5, 1853)]\n"
          ],
          "name": "stdout"
        }
      ]
    },
    {
      "cell_type": "markdown",
      "metadata": {
        "id": "xksrV81qMf0E"
      },
      "source": [
        "Limpieza con Tomek's Links. Primero codificamos los datos categóricos."
      ]
    },
    {
      "cell_type": "code",
      "metadata": {
        "id": "RW8pFGFKO7n4"
      },
      "source": [
        "from sklearn.preprocessing import OneHotEncoder\n",
        "from sklearn.compose import ColumnTransformer\n",
        "from sklearn.pipeline import Pipeline\n",
        "from sklearn.preprocessing import LabelEncoder\n",
        "from sklearn.preprocessing import MinMaxScaler\n",
        "le = [ LabelEncoder() for _ in categorical_features ]\n",
        "scaler = MinMaxScaler()\n",
        "scaler_oh = MinMaxScaler()"
      ],
      "execution_count": null,
      "outputs": []
    },
    {
      "cell_type": "code",
      "metadata": {
        "colab": {
          "base_uri": "https://localhost:8080/"
        },
        "id": "doPJZWoqwEEB",
        "outputId": "29a1ba82-b5e6-471a-e274-9fa044a717f7"
      },
      "source": [
        "X_res[:,categorical_features]"
      ],
      "execution_count": null,
      "outputs": [
        {
          "output_type": "execute_result",
          "data": {
            "text/plain": [
              "array([['Maruti Swift Dzire ZDI', 'Diesel', 'Manual', 'First'],\n",
              "       ['Maruti Wagon R LXI Optional', 'Petrol', 'Manual', 'First'],\n",
              "       ['Mahindra KUV 100 mFALCON D75 K8', 'Diesel', 'Manual', 'First'],\n",
              "       ...,\n",
              "       ['Mercedes-Benz E-Class 2009-2013 E 220 CDI Avantgarde', 'Diesel',\n",
              "        'Automatic', 'First'],\n",
              "       ['Toyota Innova Crysta 2.4 VX MT', 'Petrol', 'Automatic', 'First'],\n",
              "       ['Mini Cooper Convertible 1.6', 'Diesel', 'Automatic', 'First']],\n",
              "      dtype=object)"
            ]
          },
          "metadata": {
            "tags": []
          },
          "execution_count": 65
        }
      ]
    },
    {
      "cell_type": "code",
      "metadata": {
        "colab": {
          "base_uri": "https://localhost:8080/"
        },
        "id": "_vNi-i2Pra4L",
        "outputId": "b7cff57a-4cee-455d-c972-197b167d9642"
      },
      "source": [
        "categorical_transformer = Pipeline(steps=[('onehot', OneHotEncoder())])\n",
        "\n",
        "ohe = ColumnTransformer(transformers=[('cat', categorical_transformer, categorical_features)])\n",
        "\n",
        "ohe.fit( np.vstack((X_res,d_test.to_numpy())) )\n",
        "X_oh = ohe.transform( X_res ).toarray()\n",
        "X_oh = np.hstack( (X_oh,np.delete(X_res,categorical_features,axis=1)) )\n",
        "X_oh = scaler_oh.fit_transform(X_oh)\n",
        "X_oh"
      ],
      "execution_count": null,
      "outputs": [
        {
          "output_type": "execute_result",
          "data": {
            "text/plain": [
              "array([[0.        , 0.        , 0.        , ..., 0.11611463, 0.07569418,\n",
              "        0.375     ],\n",
              "       [0.        , 0.        , 0.        , ..., 0.06959434, 0.06245721,\n",
              "        0.375     ],\n",
              "       [0.        , 0.        , 0.        , ..., 0.10681057, 0.08139977,\n",
              "        0.5       ],\n",
              "       ...,\n",
              "       [0.        , 0.        , 0.        , ..., 0.25511723, 0.28472878,\n",
              "        0.375     ],\n",
              "       [0.        , 0.        , 0.        , ..., 0.44977325, 0.39590164,\n",
              "        0.43907754],\n",
              "       [0.        , 0.        , 0.        , ..., 0.28029451, 0.25174462,\n",
              "        0.37254688]])"
            ]
          },
          "metadata": {
            "tags": []
          },
          "execution_count": 66
        }
      ]
    },
    {
      "cell_type": "code",
      "metadata": {
        "id": "KS-Foa7cPVgL"
      },
      "source": [
        "for i, f in enumerate(categorical_features):\n",
        "  le[i].fit( np.hstack((X_res[:,f],d_test.to_numpy()[:,f])) )   #<------- AQUÍ PONGO LA UNIÓN DEL X DE TRAIN Y EL DE TEST, PARA QUE APRENDA A CODIFICAR LAS DOS\n",
        "  X_res[:,f] = le[i].transform(X_res[:,f])\n",
        "X_res = scaler.fit_transform(X_res)"
      ],
      "execution_count": null,
      "outputs": []
    },
    {
      "cell_type": "code",
      "metadata": {
        "id": "FLDfpnfgUfnG"
      },
      "source": [
        "###PARA DESHACER LA TRANSFORMACIÓN\n",
        "#X_res[:,categorical_features] = scaler.inverse_transform(X_res[:,categorical_features])\n",
        "#for i, f in enumerate(categorical_features):\n",
        "#  X_res[:,f] = le[i].inverse_transform(X_res[:,f].astype(int))"
      ],
      "execution_count": null,
      "outputs": []
    },
    {
      "cell_type": "code",
      "metadata": {
        "id": "xAfrqcBouV7m"
      },
      "source": [
        "#tl_oh = SMOTETomek()\n",
        "#X_oh, y_oh = tl_oh.fit_resample(X_oh, y_res)\n",
        "#print('Resampled dataset shape %s' % Counter(y_oh))"
      ],
      "execution_count": null,
      "outputs": []
    },
    {
      "cell_type": "code",
      "metadata": {
        "colab": {
          "base_uri": "https://localhost:8080/"
        },
        "id": "UfIowUcvMPw6",
        "outputId": "9305e6d6-25f9-4663-c62f-ea24511fcd18"
      },
      "source": [
        "tl = TomekLinks()\n",
        "X_res, y_res = tl.fit_resample(X_res, y_res)\n",
        "print('Resampled dataset shape %s' % Counter(y_res))"
      ],
      "execution_count": null,
      "outputs": [
        {
          "output_type": "stream",
          "text": [
            "Resampled dataset shape Counter({1: 1853, 5: 1809, 4: 1712, 2: 1690, 3: 1646})\n"
          ],
          "name": "stdout"
        },
        {
          "output_type": "stream",
          "text": [
            "/usr/local/lib/python3.6/dist-packages/sklearn/utils/deprecation.py:87: FutureWarning: Function safe_indexing is deprecated; safe_indexing is deprecated in version 0.22 and will be removed in version 0.24.\n",
            "  warnings.warn(msg, category=FutureWarning)\n"
          ],
          "name": "stderr"
        }
      ]
    },
    {
      "cell_type": "markdown",
      "metadata": {
        "id": "2MY3_zgPQl67"
      },
      "source": [
        "## XGBoost"
      ]
    },
    {
      "cell_type": "markdown",
      "metadata": {
        "id": "Lttiv73EWwkF"
      },
      "source": [
        "YA SÍ QUE SÍ PROBAMOS CON EL PRIMER MODELO"
      ]
    },
    {
      "cell_type": "code",
      "metadata": {
        "id": "063R2jN4OZbI"
      },
      "source": [
        "import xgboost as xgb\n",
        "from sklearn.model_selection import KFold\n",
        "from sklearn.metrics import accuracy_score"
      ],
      "execution_count": null,
      "outputs": []
    },
    {
      "cell_type": "code",
      "metadata": {
        "id": "CcHDwdvha9oD"
      },
      "source": [
        "n_splits = 5\n",
        "kf = KFold(n_splits, shuffle=True, random_state=0)"
      ],
      "execution_count": null,
      "outputs": []
    },
    {
      "cell_type": "code",
      "metadata": {
        "id": "LXYDoyXA4W76"
      },
      "source": [
        "def train_test_gradientBoosting(X, y, n_estim=500, max_depth=5, lr=0.1, gamma=0, min_child_weight=1, max_delta_step=0, \n",
        "                                subsample=0.8, colsample_bytree=1, booster='gbtree'):\n",
        "  mean_acc = 0.0\n",
        "  for train_idx, test_idx in kf.split(X):\n",
        "    X_train, X_test = X[train_idx], X[test_idx]\n",
        "    y_train, y_test = y[train_idx], y[test_idx]\n",
        "\n",
        "    gbClassifier = xgb.XGBClassifier(tree_method='gpu_hist', gpu_id=0, objective='multi:softmax', booster=booster, n_estimators=n_estim, \n",
        "                                     max_depth=max_depth, learning_rate=lr, gamma=gamma, min_child_weight=min_child_weight, \n",
        "                                     max_delta_step=max_delta_step, subsample=subsample, colsample_bytree=colsample_bytree, \n",
        "                                     colsample_bylevel=1, colsample_bynode=1, reg_alpha=0, reg_lambda=1, scale_pos_weight=1, \n",
        "                                     base_score=0.5, sampling_method='gradient_based', grow_policy='lossguide')\n",
        "    gbClassifier.fit(X_train, y_train)\n",
        "    y_predict = gbClassifier.predict(X_test)\n",
        "    mean_acc += accuracy_score(y_test, y_predict)\n",
        "  mean_acc /= n_splits\n",
        "\n",
        "  return mean_acc"
      ],
      "execution_count": null,
      "outputs": []
    },
    {
      "cell_type": "code",
      "metadata": {
        "colab": {
          "base_uri": "https://localhost:8080/"
        },
        "id": "S4_saaeq_Hib",
        "outputId": "37c3f486-62e6-4555-8971-c22b7dc6f2bd"
      },
      "source": [
        "best_acc = 0.0\n",
        "for booster in ('gbtree', 'gblinear'):\n",
        "  for depth in (3,4,5,6,7):\n",
        "    for lr in (0.05,0.1,0.15,0.2):\n",
        "      for gamma in (0,0.5,1):\n",
        "        for subsample in (0.5,0.7,0.8):\n",
        "          for col_sample in (0.5,0.7,0.8,1):\n",
        "            acc = train_test_gradientBoosting(X_res, y_res, n_estim=300, max_depth=depth, \n",
        "                                              subsample=subsample, lr=lr, colsample_bytree=col_sample, \n",
        "                                              gamma=gamma, booster=booster)\n",
        "            if acc > best_acc:\n",
        "              best_acc = acc\n",
        "              print( \"Mejor precisión encontrada para parámetros \",(booster,depth,lr,gamma,subsample,col_sample) )\n",
        "              print( \"Precisión:\", acc )"
      ],
      "execution_count": null,
      "outputs": [
        {
          "output_type": "stream",
          "text": [
            "Mejor precisión encontrada para parámetros  ('gbtree', 3, 0.05, 0, 0.5, 0.5)\n",
            "Precisión: 0.8990815154994258\n",
            "Mejor precisión encontrada para parámetros  ('gbtree', 3, 0.05, 0, 0.5, 0.7)\n",
            "Precisión: 0.9002296211251435\n",
            "Mejor precisión encontrada para parámetros  ('gbtree', 3, 0.05, 0, 0.5, 0.8)\n",
            "Precisión: 0.9018369690011481\n",
            "Mejor precisión encontrada para parámetros  ('gbtree', 3, 0.05, 0, 0.5, 1)\n",
            "Precisión: 0.90195177956372\n",
            "Mejor precisión encontrada para parámetros  ('gbtree', 3, 0.05, 0, 0.7, 0.5)\n",
            "Precisión: 0.9020665901262916\n",
            "Mejor precisión encontrada para parámetros  ('gbtree', 3, 0.05, 0, 0.7, 0.7)\n",
            "Precisión: 0.9026406429391504\n",
            "Mejor precisión encontrada para parámetros  ('gbtree', 3, 0.1, 0, 0.5, 0.5)\n",
            "Precisión: 0.9215843857634903\n",
            "Mejor precisión encontrada para parámetros  ('gbtree', 3, 0.1, 0, 0.5, 0.8)\n",
            "Precisión: 0.9233065442020665\n",
            "Mejor precisión encontrada para parámetros  ('gbtree', 3, 0.1, 0, 0.7, 0.8)\n",
            "Precisión: 0.9235361653272101\n",
            "Mejor precisión encontrada para parámetros  ('gbtree', 3, 0.1, 0, 0.7, 1)\n",
            "Precisión: 0.9257175660160735\n",
            "Mejor precisión encontrada para parámetros  ('gbtree', 3, 0.15, 0, 0.5, 0.5)\n",
            "Precisión: 0.9284730195177957\n",
            "Mejor precisión encontrada para parámetros  ('gbtree', 3, 0.15, 0, 0.5, 0.7)\n",
            "Precisión: 0.9296211251435131\n",
            "Mejor precisión encontrada para parámetros  ('gbtree', 3, 0.15, 0, 0.5, 1)\n",
            "Precisión: 0.931113662456946\n",
            "Mejor precisión encontrada para parámetros  ('gbtree', 3, 0.15, 0, 0.7, 0.7)\n",
            "Precisión: 0.9329506314580941\n",
            "Mejor precisión encontrada para parámetros  ('gbtree', 3, 0.15, 0, 0.8, 0.8)\n",
            "Precisión: 0.9332950631458093\n",
            "Mejor precisión encontrada para parámetros  ('gbtree', 3, 0.2, 0, 0.5, 0.7)\n",
            "Precisión: 0.9336394948335247\n",
            "Mejor precisión encontrada para parámetros  ('gbtree', 3, 0.2, 0, 0.7, 0.5)\n",
            "Precisión: 0.9337543053960964\n",
            "Mejor precisión encontrada para parámetros  ('gbtree', 3, 0.2, 0, 0.7, 0.7)\n",
            "Precisión: 0.9346727898966705\n",
            "Mejor precisión encontrada para parámetros  ('gbtree', 3, 0.2, 0, 0.7, 0.8)\n",
            "Precisión: 0.934902411021814\n",
            "Mejor precisión encontrada para parámetros  ('gbtree', 3, 0.2, 0, 0.7, 1)\n",
            "Precisión: 0.9359357060849598\n",
            "Mejor precisión encontrada para parámetros  ('gbtree', 3, 0.2, 0, 0.8, 0.7)\n",
            "Precisión: 0.9366245694603904\n",
            "Mejor precisión encontrada para parámetros  ('gbtree', 3, 0.2, 0, 0.8, 0.8)\n",
            "Precisión: 0.9369690011481057\n",
            "Mejor precisión encontrada para parámetros  ('gbtree', 3, 0.2, 0, 0.8, 1)\n",
            "Precisión: 0.9381171067738233\n",
            "Mejor precisión encontrada para parámetros  ('gbtree', 4, 0.15, 0, 0.5, 1)\n",
            "Precisión: 0.9398392652123997\n",
            "Mejor precisión encontrada para parámetros  ('gbtree', 4, 0.15, 0, 0.8, 0.8)\n",
            "Precisión: 0.9400688863375433\n",
            "Mejor precisión encontrada para parámetros  ('gbtree', 4, 0.2, 0, 0.7, 0.7)\n",
            "Precisión: 0.9413318025258324\n",
            "Mejor precisión encontrada para parámetros  ('gbtree', 5, 0.1, 0, 0.8, 1)\n",
            "Precisión: 0.9414466130884043\n",
            "Mejor precisión encontrada para parámetros  ('gbtree', 5, 0.15, 0, 0.7, 0.8)\n",
            "Precisión: 0.941561423650976\n",
            "Mejor precisión encontrada para parámetros  ('gbtree', 5, 0.15, 0, 0.8, 0.5)\n",
            "Precisión: 0.9417910447761194\n",
            "Mejor precisión encontrada para parámetros  ('gbtree', 5, 0.2, 0, 0.7, 0.5)\n",
            "Precisión: 0.9419058553386911\n",
            "Mejor precisión encontrada para parámetros  ('gbtree', 5, 0.2, 0, 0.7, 1)\n",
            "Precisión: 0.9424799081515498\n",
            "Mejor precisión encontrada para parámetros  ('gbtree', 5, 0.2, 0, 0.8, 0.7)\n",
            "Precisión: 0.9428243398392653\n",
            "Mejor precisión encontrada para parámetros  ('gbtree', 6, 0.1, 0, 0.7, 0.7)\n",
            "Precisión: 0.9432835820895523\n",
            "Mejor precisión encontrada para parámetros  ('gbtree', 6, 0.15, 0, 0.7, 0.5)\n",
            "Precisión: 0.943398392652124\n",
            "Mejor precisión encontrada para parámetros  ('gbtree', 7, 0.1, 0, 0.8, 0.5)\n",
            "Precisión: 0.9435132032146958\n"
          ],
          "name": "stdout"
        }
      ]
    },
    {
      "cell_type": "markdown",
      "metadata": {
        "id": "iIBT0yXwQzH_"
      },
      "source": [
        "## Redes Neuronales"
      ]
    },
    {
      "cell_type": "code",
      "metadata": {
        "id": "F5xWp2_qRQks"
      },
      "source": [
        "import matplotlib.pyplot as plt\n",
        "import tensorflow as tf\n",
        "from tensorflow import keras\n",
        "from tensorflow.keras import layers\n",
        "import keras.utils as np_utils\n",
        "from sklearn.model_selection import KFold\n",
        "from sklearn.model_selection import train_test_split"
      ],
      "execution_count": null,
      "outputs": []
    },
    {
      "cell_type": "code",
      "metadata": {
        "id": "WzHUt8MxRUEX"
      },
      "source": [
        "def calcularAccuracy(labels, preds):\n",
        "    labels = np.argmax(labels, axis = 1)\n",
        "    preds = np.argmax(preds, axis = 1)\n",
        "    accuracy = sum(labels == preds)/len(labels)\n",
        "    return accuracy\n",
        "\n",
        "def mostrarEvolucion(hist):\n",
        "    loss = hist.history['loss']\n",
        "    val_loss = hist.history['val_loss']\n",
        "    plt.plot(loss)\n",
        "    plt.plot(val_loss)\n",
        "    plt.legend(['Training loss', 'Validation loss'])\n",
        "    plt.show()\n",
        "    \n",
        "    acc = hist.history['accuracy']\n",
        "    val_acc = hist.history['val_accuracy']\n",
        "    plt.plot(acc)\n",
        "    plt.plot(val_acc)\n",
        "    plt.legend(['Training accuracy','Validation accuracy'])\n",
        "    plt.show()"
      ],
      "execution_count": null,
      "outputs": []
    },
    {
      "cell_type": "code",
      "metadata": {
        "id": "nYdfR0ROywpq"
      },
      "source": [
        "data, labels = X_oh, y_oh"
      ],
      "execution_count": null,
      "outputs": []
    },
    {
      "cell_type": "code",
      "metadata": {
        "id": "0tdGoCZDTQzO"
      },
      "source": [
        "def modelNN(n1, n2, n3, n4):\n",
        "  initializer = keras.initializers.GlorotUniform()\n",
        "  model = keras.Sequential()\n",
        "  model.add(layers.Dense(n1, activation='relu', kernel_initializer=initializer,\n",
        "                         input_dim=data.shape[1])\n",
        "                        )\n",
        "  if n2 > 0:\n",
        "    model.add(layers.Dense(n2, activation='relu', kernel_initializer=initializer,\n",
        "                         ))\n",
        "  if n3 > 0:\n",
        "    model.add(layers.Dense(n3, activation='relu', kernel_initializer=initializer,\n",
        "                         ))\n",
        "  model.add(layers.Dense(n4, activation='softmax', kernel_initializer=initializer,\n",
        "                         ))\n",
        "  return model"
      ],
      "execution_count": null,
      "outputs": []
    },
    {
      "cell_type": "code",
      "metadata": {
        "colab": {
          "base_uri": "https://localhost:8080/",
          "height": 1000
        },
        "id": "1V8aq1MrTxF7",
        "outputId": "b9081d73-b86d-416a-e648-d19d659874ac"
      },
      "source": [
        "n1 = 350\n",
        "n2 = 150\n",
        "n3 = 0\n",
        "n4 = 5\n",
        "\n",
        "y_truth = np_utils.to_categorical(labels)[:,1:].astype(int)\n",
        "\n",
        "X_train, X_test, y_train, y_test = train_test_split(data, y_truth, test_size=0.2, shuffle=True, random_state=0 )\n",
        "\n",
        "model = modelNN(n1, n2, n3, n4)\n",
        "model.compile(loss=keras.losses.categorical_crossentropy, \n",
        "              optimizer=keras.optimizers.Adam(learning_rate=0.0008), \n",
        "              metrics=['accuracy'])\n",
        "hist = model.fit(X_train, y_train, \n",
        "                  batch_size=10, epochs=50, \n",
        "                  callbacks=[keras.callbacks.EarlyStopping(monitor='val_loss', patience=5, restore_best_weights=True)],\n",
        "                  validation_data=(X_test,y_test))\n",
        "mostrarEvolucion(hist)\n",
        "#model.fit(X_train, y_train, batch_size=10, epochs=30, validation_split=0.1)\n",
        "y_predict = model.predict(X_test)\n",
        "acc = calcularAccuracy(y_test, y_predict)\n",
        "\n",
        "acc"
      ],
      "execution_count": null,
      "outputs": [
        {
          "output_type": "stream",
          "text": [
            "Epoch 1/50\n",
            "691/691 [==============================] - 3s 3ms/step - loss: 0.9295 - accuracy: 0.6200 - val_loss: 0.5359 - val_accuracy: 0.7810\n",
            "Epoch 2/50\n",
            "691/691 [==============================] - 2s 3ms/step - loss: 0.4915 - accuracy: 0.7903 - val_loss: 0.5404 - val_accuracy: 0.7683\n",
            "Epoch 3/50\n",
            "691/691 [==============================] - 2s 3ms/step - loss: 0.4510 - accuracy: 0.8155 - val_loss: 0.4329 - val_accuracy: 0.8308\n",
            "Epoch 4/50\n",
            "691/691 [==============================] - 2s 3ms/step - loss: 0.4099 - accuracy: 0.8323 - val_loss: 0.4492 - val_accuracy: 0.8158\n",
            "Epoch 5/50\n",
            "691/691 [==============================] - 2s 3ms/step - loss: 0.3993 - accuracy: 0.8373 - val_loss: 0.4072 - val_accuracy: 0.8326\n",
            "Epoch 6/50\n",
            "691/691 [==============================] - 2s 3ms/step - loss: 0.3625 - accuracy: 0.8511 - val_loss: 0.4102 - val_accuracy: 0.8366\n",
            "Epoch 7/50\n",
            "691/691 [==============================] - 2s 3ms/step - loss: 0.3670 - accuracy: 0.8523 - val_loss: 0.3864 - val_accuracy: 0.8366\n",
            "Epoch 8/50\n",
            "691/691 [==============================] - 2s 3ms/step - loss: 0.3594 - accuracy: 0.8489 - val_loss: 0.3894 - val_accuracy: 0.8430\n",
            "Epoch 9/50\n",
            "691/691 [==============================] - 2s 3ms/step - loss: 0.3598 - accuracy: 0.8487 - val_loss: 0.4083 - val_accuracy: 0.8349\n",
            "Epoch 10/50\n",
            "691/691 [==============================] - 2s 3ms/step - loss: 0.3458 - accuracy: 0.8586 - val_loss: 0.4153 - val_accuracy: 0.8453\n",
            "Epoch 11/50\n",
            "691/691 [==============================] - 2s 3ms/step - loss: 0.3754 - accuracy: 0.8466 - val_loss: 0.3799 - val_accuracy: 0.8505\n",
            "Epoch 12/50\n",
            "691/691 [==============================] - 2s 3ms/step - loss: 0.3510 - accuracy: 0.8551 - val_loss: 0.3824 - val_accuracy: 0.8517\n",
            "Epoch 13/50\n",
            "691/691 [==============================] - 2s 3ms/step - loss: 0.3304 - accuracy: 0.8646 - val_loss: 0.4124 - val_accuracy: 0.8291\n",
            "Epoch 14/50\n",
            "691/691 [==============================] - 2s 3ms/step - loss: 0.3350 - accuracy: 0.8596 - val_loss: 0.3887 - val_accuracy: 0.8401\n",
            "Epoch 15/50\n",
            "691/691 [==============================] - 2s 3ms/step - loss: 0.3267 - accuracy: 0.8659 - val_loss: 0.3816 - val_accuracy: 0.8476\n",
            "Epoch 16/50\n",
            "691/691 [==============================] - 2s 3ms/step - loss: 0.3237 - accuracy: 0.8627 - val_loss: 0.3959 - val_accuracy: 0.8366\n"
          ],
          "name": "stdout"
        },
        {
          "output_type": "display_data",
          "data": {
            "image/png": "[encoded data removed]",
            "text/plain": [
              "<Figure size 432x288 with 1 Axes>"
            ]
          },
          "metadata": {
            "tags": [],
            "needs_background": "light"
          }
        },
        {
          "output_type": "display_data",
          "data": {
            "image/png": "[encoded data removed]",
            "text/plain": [
              "<Figure size 432x288 with 1 Axes>"
            ]
          },
          "metadata": {
            "tags": [],
            "needs_background": "light"
          }
        },
        {
          "output_type": "execute_result",
          "data": {
            "text/plain": [
              "0.8505214368482039"
            ]
          },
          "metadata": {
            "tags": []
          },
          "execution_count": 62
        }
      ]
    },
    {
      "cell_type": "code",
      "metadata": {
        "id": "ohPcslP8Etpc"
      },
      "source": [
        "#mean_acc = 0.0\n",
        "#for train_idx, test_idx in kf.split(X_oh):\n",
        "#  X_train, X_test = X_oh[train_idx], X_oh[test_idx]\n",
        "#  y_train, y_test = y_oh[train_idx], y_oh[test_idx]\n",
        "#\n",
        "#  gbClassifier = xgb.XGBClassifier(tree_method='gpu_hist', gpu_id=0, n_estimators=500, max_depth=5, objective='multi:softmax', )\n",
        "#  gbClassifier.fit(X_train, y_train)\n",
        "#  y_predict = gbClassifier.predict(X_test)\n",
        "#  mean_acc += accuracy_score(y_test, y_predict)\n",
        "#mean_acc /= n_splits\n",
        "#\n",
        "#mean_acc"
      ],
      "execution_count": null,
      "outputs": []
    },
    {
      "cell_type": "markdown",
      "metadata": {
        "id": "-vdAMqWWQ5qg"
      },
      "source": [
        "## Entrenamiento final y predicción de test"
      ]
    },
    {
      "cell_type": "markdown",
      "metadata": {
        "id": "XgV01rlL6Shv"
      },
      "source": [
        "REENTRENAMOS PARA TODO EL DATASET"
      ]
    },
    {
      "cell_type": "code",
      "metadata": {
        "colab": {
          "base_uri": "https://localhost:8080/"
        },
        "id": "KbL-t9Zz572P",
        "outputId": "7fd546ce-5b90-4290-a302-c08e1b4630cb"
      },
      "source": [
        "gbClassifier = xgb.XGBClassifier(tree_method='gpu_hist', gpu_id=0, n_estimators=500, max_depth=5, objective='multi:softmax')\n",
        "gbClassifier.fit(X_res, y_res)"
      ],
      "execution_count": null,
      "outputs": [
        {
          "output_type": "execute_result",
          "data": {
            "text/plain": [
              "XGBClassifier(base_score=0.5, booster='gbtree', colsample_bylevel=1,\n",
              "              colsample_bynode=1, colsample_bytree=1, gamma=0, gpu_id=0,\n",
              "              learning_rate=0.1, max_delta_step=0, max_depth=5,\n",
              "              min_child_weight=1, missing=None, n_estimators=500, n_jobs=1,\n",
              "              nthread=None, objective='multi:softprob', random_state=0,\n",
              "              reg_alpha=0, reg_lambda=1, scale_pos_weight=1, seed=None,\n",
              "              silent=None, subsample=1, tree_method='gpu_hist', verbosity=1)"
            ]
          },
          "metadata": {
            "tags": []
          },
          "execution_count": 42
        }
      ]
    },
    {
      "cell_type": "markdown",
      "metadata": {
        "id": "gxHqB6vy8pUc"
      },
      "source": [
        "PREDECIMOS"
      ]
    },
    {
      "cell_type": "code",
      "metadata": {
        "id": "dJaGBP80AD9R"
      },
      "source": [
        "X_test = d_test.to_numpy()\n",
        "for i, f in enumerate(categorical_features):\n",
        "  X_test[:,f] = le[i].transform(X_test[:,f])\n",
        "X_test = scaler.transform(X_test)"
      ],
      "execution_count": null,
      "outputs": []
    },
    {
      "cell_type": "code",
      "metadata": {
        "id": "l0MUL2Pl8nWw"
      },
      "source": [
        "y_predict = gbClassifier.predict(X_test)"
      ],
      "execution_count": null,
      "outputs": []
    },
    {
      "cell_type": "code",
      "metadata": {
        "id": "QNgEMiVh6GRV"
      },
      "source": [
        "result = pd.DataFrame({'id':test_ids, 'Precio_cat':y_predict})"
      ],
      "execution_count": null,
      "outputs": []
    },
    {
      "cell_type": "code",
      "metadata": {
        "id": "ag9SWf1c6spf"
      },
      "source": [
        "#result.to_csv('resultados_2.csv', index=False)"
      ],
      "execution_count": null,
      "outputs": []
    }
  ]
}