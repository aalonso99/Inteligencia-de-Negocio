{
  "nbformat": 4,
  "nbformat_minor": 0,
  "metadata": {
    "accelerator": "GPU",
    "colab": {
      "name": "P3-1_2.ipynb",
      "provenance": [],
      "collapsed_sections": [
        "OBmOKpyZiObk",
        "lyCpmkJH3-iR",
        "O_nPW16zrIgK"
      ]
    },
    "kernelspec": {
      "display_name": "Python 3",
      "name": "python3"
    }
  },
  "cells": [
    {
      "cell_type": "markdown",
      "metadata": {
        "id": "2LDgnK47n-_Y"
      },
      "source": [
        "Cuaderno correspondiente a las predicciones 5, 6, 7, 8, 9 y 10.\n",
        "\n"
      ]
    },
    {
      "cell_type": "code",
      "metadata": {
        "colab": {
          "base_uri": "https://localhost:8080/"
        },
        "id": "04JV-qjYtoPg",
        "outputId": "1f2abe72-8324-46b5-dfd8-6fa19120bd71"
      },
      "source": [
        "#Comentar las siguientes líneas para ejecutar el siguiente script fuera de GoogleColab\n",
        "from google.colab import drive\n",
        "drive.mount('/content/gdrive')"
      ],
      "execution_count": null,
      "outputs": [
        {
          "output_type": "stream",
          "text": [
            "Drive already mounted at /content/gdrive; to attempt to forcibly remount, call drive.mount(\"/content/gdrive\", force_remount=True).\n"
          ],
          "name": "stdout"
        }
      ]
    },
    {
      "cell_type": "code",
      "metadata": {
        "colab": {
          "base_uri": "https://localhost:8080/"
        },
        "id": "vYvPpiURtpVa",
        "outputId": "27522bb4-b9e9-414e-b665-4ca3e0c7a0f8"
      },
      "source": [
        "cd '/content/gdrive/My Drive/Inteligencia de Negocio/Prácticas/P3'"
      ],
      "execution_count": null,
      "outputs": [
        {
          "output_type": "stream",
          "text": [
            "/content/gdrive/My Drive/Inteligencia de Negocio/Prácticas/P3\n"
          ],
          "name": "stdout"
        }
      ]
    },
    {
      "cell_type": "markdown",
      "metadata": {
        "id": "VCcrqjXDAe1S"
      },
      "source": [
        "## Preprocesamiento"
      ]
    },
    {
      "cell_type": "code",
      "metadata": {
        "id": "JmAhvI7JApVE"
      },
      "source": [
        "import pandas as pd\n",
        "import numpy as np\n",
        "import matplotlib.pyplot as plt\n",
        "import seaborn as sns"
      ],
      "execution_count": null,
      "outputs": []
    },
    {
      "cell_type": "markdown",
      "metadata": {
        "id": "i14Iv01VQGXl"
      },
      "source": [
        "### Manipulación básica de los datos"
      ]
    },
    {
      "cell_type": "code",
      "metadata": {
        "id": "SpYmn9wRAY0-"
      },
      "source": [
        "rd = pd.read_csv(\"train.csv\", na_values='')\n",
        "rd_test = pd.read_csv(\"test.csv\", na_values='')"
      ],
      "execution_count": null,
      "outputs": []
    },
    {
      "cell_type": "code",
      "metadata": {
        "colab": {
          "base_uri": "https://localhost:8080/",
          "height": 391
        },
        "id": "BGJgn3DcAwUA",
        "outputId": "b51ac49d-f144-40ee-8fcf-c4d2e917ed7d"
      },
      "source": [
        "rd"
      ],
      "execution_count": null,
      "outputs": [
        {
          "output_type": "execute_result",
          "data": {
            "text/html": [
              "<div>\n",
              "<style scoped>\n",
              "    .dataframe tbody tr th:only-of-type {\n",
              "        vertical-align: middle;\n",
              "    }\n",
              "\n",
              "    .dataframe tbody tr th {\n",
              "        vertical-align: top;\n",
              "    }\n",
              "\n",
              "    .dataframe thead th {\n",
              "        text-align: right;\n",
              "    }\n",
              "</style>\n",
              "<table border=\"1\" class=\"dataframe\">\n",
              "  <thead>\n",
              "    <tr style=\"text-align: right;\">\n",
              "      <th></th>\n",
              "      <th>id</th>\n",
              "      <th>Nombre</th>\n",
              "      <th>Ciudad</th>\n",
              "      <th>Año</th>\n",
              "      <th>Kilometros</th>\n",
              "      <th>Combustible</th>\n",
              "      <th>Tipo_marchas</th>\n",
              "      <th>Mano</th>\n",
              "      <th>Consumo</th>\n",
              "      <th>Motor_CC</th>\n",
              "      <th>Potencia</th>\n",
              "      <th>Asientos</th>\n",
              "      <th>Descuento</th>\n",
              "      <th>Precio_cat</th>\n",
              "    </tr>\n",
              "  </thead>\n",
              "  <tbody>\n",
              "    <tr>\n",
              "      <th>0</th>\n",
              "      <td>1.0</td>\n",
              "      <td>Maruti Swift Dzire ZDI</td>\n",
              "      <td>G</td>\n",
              "      <td>2012.0</td>\n",
              "      <td>83000.0</td>\n",
              "      <td>Diesel</td>\n",
              "      <td>Manual</td>\n",
              "      <td>First</td>\n",
              "      <td>23.4 kmpl</td>\n",
              "      <td>1248 CC</td>\n",
              "      <td>74 bhp</td>\n",
              "      <td>5.0</td>\n",
              "      <td>NaN</td>\n",
              "      <td>3</td>\n",
              "    </tr>\n",
              "    <tr>\n",
              "      <th>1</th>\n",
              "      <td>2.0</td>\n",
              "      <td>Maruti Wagon R LXI Optional</td>\n",
              "      <td>I</td>\n",
              "      <td>2016.0</td>\n",
              "      <td>4800.0</td>\n",
              "      <td>Petrol</td>\n",
              "      <td>Manual</td>\n",
              "      <td>First</td>\n",
              "      <td>20.51 kmpl</td>\n",
              "      <td>998 CC</td>\n",
              "      <td>67.04 bhp</td>\n",
              "      <td>5.0</td>\n",
              "      <td>NaN</td>\n",
              "      <td>3</td>\n",
              "    </tr>\n",
              "    <tr>\n",
              "      <th>2</th>\n",
              "      <td>3.0</td>\n",
              "      <td>Mahindra KUV 100 mFALCON D75 K8</td>\n",
              "      <td>F</td>\n",
              "      <td>2016.0</td>\n",
              "      <td>26000.0</td>\n",
              "      <td>Diesel</td>\n",
              "      <td>Manual</td>\n",
              "      <td>First</td>\n",
              "      <td>25.32 kmpl</td>\n",
              "      <td>1198 CC</td>\n",
              "      <td>77 bhp</td>\n",
              "      <td>6.0</td>\n",
              "      <td>NaN</td>\n",
              "      <td>3</td>\n",
              "    </tr>\n",
              "    <tr>\n",
              "      <th>3</th>\n",
              "      <td>4.0</td>\n",
              "      <td>Hyundai i20 1.2 Magna</td>\n",
              "      <td>E</td>\n",
              "      <td>2013.0</td>\n",
              "      <td>56127.0</td>\n",
              "      <td>Petrol</td>\n",
              "      <td>Manual</td>\n",
              "      <td>First</td>\n",
              "      <td>18.5 kmpl</td>\n",
              "      <td>1197 CC</td>\n",
              "      <td>80 bhp</td>\n",
              "      <td>5.0</td>\n",
              "      <td>NaN</td>\n",
              "      <td>3</td>\n",
              "    </tr>\n",
              "    <tr>\n",
              "      <th>4</th>\n",
              "      <td>5.0</td>\n",
              "      <td>Honda Jazz 1.2 SV i VTEC</td>\n",
              "      <td>H</td>\n",
              "      <td>2017.0</td>\n",
              "      <td>41981.0</td>\n",
              "      <td>Petrol</td>\n",
              "      <td>Manual</td>\n",
              "      <td>First</td>\n",
              "      <td>18.7 kmpl</td>\n",
              "      <td>1199 CC</td>\n",
              "      <td>88.7 bhp</td>\n",
              "      <td>5.0</td>\n",
              "      <td>NaN</td>\n",
              "      <td>3</td>\n",
              "    </tr>\n",
              "    <tr>\n",
              "      <th>...</th>\n",
              "      <td>...</td>\n",
              "      <td>...</td>\n",
              "      <td>...</td>\n",
              "      <td>...</td>\n",
              "      <td>...</td>\n",
              "      <td>...</td>\n",
              "      <td>...</td>\n",
              "      <td>...</td>\n",
              "      <td>...</td>\n",
              "      <td>...</td>\n",
              "      <td>...</td>\n",
              "      <td>...</td>\n",
              "      <td>...</td>\n",
              "      <td>...</td>\n",
              "    </tr>\n",
              "    <tr>\n",
              "      <th>4814</th>\n",
              "      <td>4815.0</td>\n",
              "      <td>Maruti Swift VDI</td>\n",
              "      <td>E</td>\n",
              "      <td>2014.0</td>\n",
              "      <td>83274.0</td>\n",
              "      <td>Diesel</td>\n",
              "      <td>Manual</td>\n",
              "      <td>First</td>\n",
              "      <td>22.9 kmpl</td>\n",
              "      <td>1248 CC</td>\n",
              "      <td>74 bhp</td>\n",
              "      <td>5.0</td>\n",
              "      <td>NaN</td>\n",
              "      <td>3</td>\n",
              "    </tr>\n",
              "    <tr>\n",
              "      <th>4815</th>\n",
              "      <td>NaN</td>\n",
              "      <td>Porsche Panamera Diesel 250hp</td>\n",
              "      <td>H</td>\n",
              "      <td>2014.0</td>\n",
              "      <td>60033.0</td>\n",
              "      <td>Diesel</td>\n",
              "      <td>Automatic</td>\n",
              "      <td>First</td>\n",
              "      <td>18.18 kmpl</td>\n",
              "      <td>2967 CC</td>\n",
              "      <td>250 bhp</td>\n",
              "      <td>4.0</td>\n",
              "      <td>NaN</td>\n",
              "      <td>5</td>\n",
              "    </tr>\n",
              "    <tr>\n",
              "      <th>4816</th>\n",
              "      <td>4817.0</td>\n",
              "      <td>Hyundai Creta 1.6 CRDi SX Option</td>\n",
              "      <td>C</td>\n",
              "      <td>2017.0</td>\n",
              "      <td>40158.0</td>\n",
              "      <td>Diesel</td>\n",
              "      <td>Manual</td>\n",
              "      <td>First</td>\n",
              "      <td>19.67 kmpl</td>\n",
              "      <td>NaN</td>\n",
              "      <td>126.2 bhp</td>\n",
              "      <td>5.0</td>\n",
              "      <td>NaN</td>\n",
              "      <td>4</td>\n",
              "    </tr>\n",
              "    <tr>\n",
              "      <th>4817</th>\n",
              "      <td>4818.0</td>\n",
              "      <td>Hyundai Xcent 1.2 VTVT S</td>\n",
              "      <td>E</td>\n",
              "      <td>2015.0</td>\n",
              "      <td>65743.0</td>\n",
              "      <td>Petrol</td>\n",
              "      <td>Manual</td>\n",
              "      <td>First</td>\n",
              "      <td>20.14 kmpl</td>\n",
              "      <td>1197 CC</td>\n",
              "      <td>81.86 bhp</td>\n",
              "      <td>5.0</td>\n",
              "      <td>7.85</td>\n",
              "      <td>3</td>\n",
              "    </tr>\n",
              "    <tr>\n",
              "      <th>4818</th>\n",
              "      <td>4819.0</td>\n",
              "      <td>Maruti Ertiga ZDI</td>\n",
              "      <td>B</td>\n",
              "      <td>2013.0</td>\n",
              "      <td>75000.0</td>\n",
              "      <td>Diesel</td>\n",
              "      <td>Manual</td>\n",
              "      <td>First</td>\n",
              "      <td>20.77 kmpl</td>\n",
              "      <td>1248 CC</td>\n",
              "      <td>88.8 bhp</td>\n",
              "      <td>7.0</td>\n",
              "      <td>NaN</td>\n",
              "      <td>3</td>\n",
              "    </tr>\n",
              "  </tbody>\n",
              "</table>\n",
              "<p>4819 rows × 14 columns</p>\n",
              "</div>"
            ],
            "text/plain": [
              "          id                            Nombre  ... Descuento  Precio_cat\n",
              "0        1.0            Maruti Swift Dzire ZDI  ...       NaN           3\n",
              "1        2.0       Maruti Wagon R LXI Optional  ...       NaN           3\n",
              "2        3.0   Mahindra KUV 100 mFALCON D75 K8  ...       NaN           3\n",
              "3        4.0             Hyundai i20 1.2 Magna  ...       NaN           3\n",
              "4        5.0          Honda Jazz 1.2 SV i VTEC  ...       NaN           3\n",
              "...      ...                               ...  ...       ...         ...\n",
              "4814  4815.0                  Maruti Swift VDI  ...       NaN           3\n",
              "4815     NaN     Porsche Panamera Diesel 250hp  ...       NaN           5\n",
              "4816  4817.0  Hyundai Creta 1.6 CRDi SX Option  ...       NaN           4\n",
              "4817  4818.0          Hyundai Xcent 1.2 VTVT S  ...      7.85           3\n",
              "4818  4819.0                 Maruti Ertiga ZDI  ...       NaN           3\n",
              "\n",
              "[4819 rows x 14 columns]"
            ]
          },
          "metadata": {
            "tags": []
          },
          "execution_count": 42
        }
      ]
    },
    {
      "cell_type": "code",
      "metadata": {
        "id": "6BuiDIDKHqkj"
      },
      "source": [
        "d = rd.copy()\n",
        "d_test = rd_test.copy()"
      ],
      "execution_count": null,
      "outputs": []
    },
    {
      "cell_type": "code",
      "metadata": {
        "colab": {
          "base_uri": "https://localhost:8080/"
        },
        "id": "z73ExfCDBBX8",
        "outputId": "7a770aad-4675-404a-d04c-3aeea48cb542"
      },
      "source": [
        "d['Descuento'].count()"
      ],
      "execution_count": null,
      "outputs": [
        {
          "output_type": "execute_result",
          "data": {
            "text/plain": [
              "659"
            ]
          },
          "metadata": {
            "tags": []
          },
          "execution_count": 44
        }
      ]
    },
    {
      "cell_type": "markdown",
      "metadata": {
        "id": "wmEt-OwssKgJ"
      },
      "source": [
        "Vamos a suponer que, si no aparece un descuento, es porque este vale 0:"
      ]
    },
    {
      "cell_type": "code",
      "metadata": {
        "id": "5zbQYKPKwHee"
      },
      "source": [
        "def zero_discount(disc):\n",
        "  if pd.isna(disc):\n",
        "    return 0.0\n",
        "  else:\n",
        "    return disc"
      ],
      "execution_count": null,
      "outputs": []
    },
    {
      "cell_type": "code",
      "metadata": {
        "id": "2Mm2dVocwVMJ"
      },
      "source": [
        "d['Descuento'] = d['Descuento'].map(zero_discount)\n",
        "d_test['Descuento'] = d_test['Descuento'].map(zero_discount)"
      ],
      "execution_count": null,
      "outputs": []
    },
    {
      "cell_type": "code",
      "metadata": {
        "id": "CCfejf_4r-cU"
      },
      "source": [
        "#del d['Descuento']\n",
        "del d['id']\n",
        "\n",
        "#del d_test['Descuento']\n",
        "test_ids = d_test['id']\n",
        "del d_test['id']"
      ],
      "execution_count": null,
      "outputs": []
    },
    {
      "cell_type": "code",
      "metadata": {
        "colab": {
          "base_uri": "https://localhost:8080/"
        },
        "id": "nsVU1gW7rzSP",
        "outputId": "5ea6e632-3a18-4daa-9d58-3ce0e73990f4"
      },
      "source": [
        "d['Ciudad'].nunique()"
      ],
      "execution_count": null,
      "outputs": [
        {
          "output_type": "execute_result",
          "data": {
            "text/plain": [
              "11"
            ]
          },
          "metadata": {
            "tags": []
          },
          "execution_count": 48
        }
      ]
    },
    {
      "cell_type": "code",
      "metadata": {
        "colab": {
          "base_uri": "https://localhost:8080/",
          "height": 622
        },
        "id": "nkef9P-vsnjI",
        "outputId": "a2a2ca74-a06c-4a0f-f4e9-e4951c26e37e"
      },
      "source": [
        "plt.figure(figsize=(10,10))\n",
        "sns.countplot(data=d, x='Ciudad', hue='Precio_cat')"
      ],
      "execution_count": null,
      "outputs": [
        {
          "output_type": "execute_result",
          "data": {
            "text/plain": [
              "<matplotlib.axes._subplots.AxesSubplot at 0x7f67f5d3bfd0>"
            ]
          },
          "metadata": {
            "tags": []
          },
          "execution_count": 49
        },
        {
          "output_type": "display_data",
          "data": {
            "image/png": "[encoded data removed]",
            "text/plain": [
              "<Figure size 720x720 with 1 Axes>"
            ]
          },
          "metadata": {
            "tags": [],
            "needs_background": "light"
          }
        }
      ]
    },
    {
      "cell_type": "code",
      "metadata": {
        "id": "d90wltIUDDPR"
      },
      "source": [
        "#del d['Ciudad']\n",
        "#del d_test['Ciudad']  "
      ],
      "execution_count": null,
      "outputs": []
    },
    {
      "cell_type": "code",
      "metadata": {
        "id": "0iI_07HSCXs3"
      },
      "source": [
        "#d = d.dropna()"
      ],
      "execution_count": null,
      "outputs": []
    },
    {
      "cell_type": "code",
      "metadata": {
        "colab": {
          "base_uri": "https://localhost:8080/"
        },
        "id": "-MJivVgWBEts",
        "outputId": "f2f3ef72-7479-4620-8209-a11e7534051b"
      },
      "source": [
        "d.count()"
      ],
      "execution_count": null,
      "outputs": [
        {
          "output_type": "execute_result",
          "data": {
            "text/plain": [
              "Nombre          4747\n",
              "Ciudad          4747\n",
              "Año             4747\n",
              "Kilometros      4747\n",
              "Combustible     4747\n",
              "Tipo_marchas    4747\n",
              "Mano            4747\n",
              "Consumo         4746\n",
              "Motor_CC        4718\n",
              "Potencia        4644\n",
              "Asientos        4713\n",
              "Descuento       4819\n",
              "Precio_cat      4819\n",
              "dtype: int64"
            ]
          },
          "metadata": {
            "tags": []
          },
          "execution_count": 52
        }
      ]
    },
    {
      "cell_type": "code",
      "metadata": {
        "colab": {
          "base_uri": "https://localhost:8080/",
          "height": 391
        },
        "id": "YSV6p56UC5hQ",
        "outputId": "4e050c5f-02de-4e11-ddb6-89e6251d8864"
      },
      "source": [
        "d"
      ],
      "execution_count": null,
      "outputs": [
        {
          "output_type": "execute_result",
          "data": {
            "text/html": [
              "<div>\n",
              "<style scoped>\n",
              "    .dataframe tbody tr th:only-of-type {\n",
              "        vertical-align: middle;\n",
              "    }\n",
              "\n",
              "    .dataframe tbody tr th {\n",
              "        vertical-align: top;\n",
              "    }\n",
              "\n",
              "    .dataframe thead th {\n",
              "        text-align: right;\n",
              "    }\n",
              "</style>\n",
              "<table border=\"1\" class=\"dataframe\">\n",
              "  <thead>\n",
              "    <tr style=\"text-align: right;\">\n",
              "      <th></th>\n",
              "      <th>Nombre</th>\n",
              "      <th>Ciudad</th>\n",
              "      <th>Año</th>\n",
              "      <th>Kilometros</th>\n",
              "      <th>Combustible</th>\n",
              "      <th>Tipo_marchas</th>\n",
              "      <th>Mano</th>\n",
              "      <th>Consumo</th>\n",
              "      <th>Motor_CC</th>\n",
              "      <th>Potencia</th>\n",
              "      <th>Asientos</th>\n",
              "      <th>Descuento</th>\n",
              "      <th>Precio_cat</th>\n",
              "    </tr>\n",
              "  </thead>\n",
              "  <tbody>\n",
              "    <tr>\n",
              "      <th>0</th>\n",
              "      <td>Maruti Swift Dzire ZDI</td>\n",
              "      <td>G</td>\n",
              "      <td>2012.0</td>\n",
              "      <td>83000.0</td>\n",
              "      <td>Diesel</td>\n",
              "      <td>Manual</td>\n",
              "      <td>First</td>\n",
              "      <td>23.4 kmpl</td>\n",
              "      <td>1248 CC</td>\n",
              "      <td>74 bhp</td>\n",
              "      <td>5.0</td>\n",
              "      <td>0.00</td>\n",
              "      <td>3</td>\n",
              "    </tr>\n",
              "    <tr>\n",
              "      <th>1</th>\n",
              "      <td>Maruti Wagon R LXI Optional</td>\n",
              "      <td>I</td>\n",
              "      <td>2016.0</td>\n",
              "      <td>4800.0</td>\n",
              "      <td>Petrol</td>\n",
              "      <td>Manual</td>\n",
              "      <td>First</td>\n",
              "      <td>20.51 kmpl</td>\n",
              "      <td>998 CC</td>\n",
              "      <td>67.04 bhp</td>\n",
              "      <td>5.0</td>\n",
              "      <td>0.00</td>\n",
              "      <td>3</td>\n",
              "    </tr>\n",
              "    <tr>\n",
              "      <th>2</th>\n",
              "      <td>Mahindra KUV 100 mFALCON D75 K8</td>\n",
              "      <td>F</td>\n",
              "      <td>2016.0</td>\n",
              "      <td>26000.0</td>\n",
              "      <td>Diesel</td>\n",
              "      <td>Manual</td>\n",
              "      <td>First</td>\n",
              "      <td>25.32 kmpl</td>\n",
              "      <td>1198 CC</td>\n",
              "      <td>77 bhp</td>\n",
              "      <td>6.0</td>\n",
              "      <td>0.00</td>\n",
              "      <td>3</td>\n",
              "    </tr>\n",
              "    <tr>\n",
              "      <th>3</th>\n",
              "      <td>Hyundai i20 1.2 Magna</td>\n",
              "      <td>E</td>\n",
              "      <td>2013.0</td>\n",
              "      <td>56127.0</td>\n",
              "      <td>Petrol</td>\n",
              "      <td>Manual</td>\n",
              "      <td>First</td>\n",
              "      <td>18.5 kmpl</td>\n",
              "      <td>1197 CC</td>\n",
              "      <td>80 bhp</td>\n",
              "      <td>5.0</td>\n",
              "      <td>0.00</td>\n",
              "      <td>3</td>\n",
              "    </tr>\n",
              "    <tr>\n",
              "      <th>4</th>\n",
              "      <td>Honda Jazz 1.2 SV i VTEC</td>\n",
              "      <td>H</td>\n",
              "      <td>2017.0</td>\n",
              "      <td>41981.0</td>\n",
              "      <td>Petrol</td>\n",
              "      <td>Manual</td>\n",
              "      <td>First</td>\n",
              "      <td>18.7 kmpl</td>\n",
              "      <td>1199 CC</td>\n",
              "      <td>88.7 bhp</td>\n",
              "      <td>5.0</td>\n",
              "      <td>0.00</td>\n",
              "      <td>3</td>\n",
              "    </tr>\n",
              "    <tr>\n",
              "      <th>...</th>\n",
              "      <td>...</td>\n",
              "      <td>...</td>\n",
              "      <td>...</td>\n",
              "      <td>...</td>\n",
              "      <td>...</td>\n",
              "      <td>...</td>\n",
              "      <td>...</td>\n",
              "      <td>...</td>\n",
              "      <td>...</td>\n",
              "      <td>...</td>\n",
              "      <td>...</td>\n",
              "      <td>...</td>\n",
              "      <td>...</td>\n",
              "    </tr>\n",
              "    <tr>\n",
              "      <th>4814</th>\n",
              "      <td>Maruti Swift VDI</td>\n",
              "      <td>E</td>\n",
              "      <td>2014.0</td>\n",
              "      <td>83274.0</td>\n",
              "      <td>Diesel</td>\n",
              "      <td>Manual</td>\n",
              "      <td>First</td>\n",
              "      <td>22.9 kmpl</td>\n",
              "      <td>1248 CC</td>\n",
              "      <td>74 bhp</td>\n",
              "      <td>5.0</td>\n",
              "      <td>0.00</td>\n",
              "      <td>3</td>\n",
              "    </tr>\n",
              "    <tr>\n",
              "      <th>4815</th>\n",
              "      <td>Porsche Panamera Diesel 250hp</td>\n",
              "      <td>H</td>\n",
              "      <td>2014.0</td>\n",
              "      <td>60033.0</td>\n",
              "      <td>Diesel</td>\n",
              "      <td>Automatic</td>\n",
              "      <td>First</td>\n",
              "      <td>18.18 kmpl</td>\n",
              "      <td>2967 CC</td>\n",
              "      <td>250 bhp</td>\n",
              "      <td>4.0</td>\n",
              "      <td>0.00</td>\n",
              "      <td>5</td>\n",
              "    </tr>\n",
              "    <tr>\n",
              "      <th>4816</th>\n",
              "      <td>Hyundai Creta 1.6 CRDi SX Option</td>\n",
              "      <td>C</td>\n",
              "      <td>2017.0</td>\n",
              "      <td>40158.0</td>\n",
              "      <td>Diesel</td>\n",
              "      <td>Manual</td>\n",
              "      <td>First</td>\n",
              "      <td>19.67 kmpl</td>\n",
              "      <td>NaN</td>\n",
              "      <td>126.2 bhp</td>\n",
              "      <td>5.0</td>\n",
              "      <td>0.00</td>\n",
              "      <td>4</td>\n",
              "    </tr>\n",
              "    <tr>\n",
              "      <th>4817</th>\n",
              "      <td>Hyundai Xcent 1.2 VTVT S</td>\n",
              "      <td>E</td>\n",
              "      <td>2015.0</td>\n",
              "      <td>65743.0</td>\n",
              "      <td>Petrol</td>\n",
              "      <td>Manual</td>\n",
              "      <td>First</td>\n",
              "      <td>20.14 kmpl</td>\n",
              "      <td>1197 CC</td>\n",
              "      <td>81.86 bhp</td>\n",
              "      <td>5.0</td>\n",
              "      <td>7.85</td>\n",
              "      <td>3</td>\n",
              "    </tr>\n",
              "    <tr>\n",
              "      <th>4818</th>\n",
              "      <td>Maruti Ertiga ZDI</td>\n",
              "      <td>B</td>\n",
              "      <td>2013.0</td>\n",
              "      <td>75000.0</td>\n",
              "      <td>Diesel</td>\n",
              "      <td>Manual</td>\n",
              "      <td>First</td>\n",
              "      <td>20.77 kmpl</td>\n",
              "      <td>1248 CC</td>\n",
              "      <td>88.8 bhp</td>\n",
              "      <td>7.0</td>\n",
              "      <td>0.00</td>\n",
              "      <td>3</td>\n",
              "    </tr>\n",
              "  </tbody>\n",
              "</table>\n",
              "<p>4819 rows × 13 columns</p>\n",
              "</div>"
            ],
            "text/plain": [
              "                                Nombre Ciudad  ...  Descuento  Precio_cat\n",
              "0               Maruti Swift Dzire ZDI      G  ...       0.00           3\n",
              "1          Maruti Wagon R LXI Optional      I  ...       0.00           3\n",
              "2      Mahindra KUV 100 mFALCON D75 K8      F  ...       0.00           3\n",
              "3                Hyundai i20 1.2 Magna      E  ...       0.00           3\n",
              "4             Honda Jazz 1.2 SV i VTEC      H  ...       0.00           3\n",
              "...                                ...    ...  ...        ...         ...\n",
              "4814                  Maruti Swift VDI      E  ...       0.00           3\n",
              "4815     Porsche Panamera Diesel 250hp      H  ...       0.00           5\n",
              "4816  Hyundai Creta 1.6 CRDi SX Option      C  ...       0.00           4\n",
              "4817          Hyundai Xcent 1.2 VTVT S      E  ...       7.85           3\n",
              "4818                 Maruti Ertiga ZDI      B  ...       0.00           3\n",
              "\n",
              "[4819 rows x 13 columns]"
            ]
          },
          "metadata": {
            "tags": []
          },
          "execution_count": 53
        }
      ]
    },
    {
      "cell_type": "code",
      "metadata": {
        "id": "Cwa6E_QUD7Sf"
      },
      "source": [
        "def remove_units(s, n_chars):\n",
        "  if pd.isna(s):\n",
        "    return s\n",
        "  else:\n",
        "    return float(s[0:-n_chars])\n",
        "\n",
        "def remove_kmpl(s):\n",
        "  if pd.isna(s):\n",
        "    return s\n",
        "  else:\n",
        "    return remove_units(s, 5)\n",
        "\n",
        "def remove_cc(s):\n",
        "  if pd.isna(s):\n",
        "    return s\n",
        "  else:\n",
        "    return remove_units(s, 3)\n",
        "\n",
        "def remove_bhp(s):\n",
        "  if pd.isna(s):\n",
        "    return s\n",
        "  else:\n",
        "    return remove_units(s, 4)"
      ],
      "execution_count": null,
      "outputs": []
    },
    {
      "cell_type": "code",
      "metadata": {
        "id": "UKjvnnRCBpD8"
      },
      "source": [
        "d['Consumo'] = d['Consumo'].map(remove_kmpl)\n",
        "d['Motor_CC'] = d['Motor_CC'].map(remove_cc)\n",
        "d['Potencia'] = d['Potencia'].map(remove_bhp)\n",
        "d_test['Consumo'] = d_test['Consumo'].map(remove_kmpl)\n",
        "d_test['Motor_CC'] = d_test['Motor_CC'].map(remove_cc)\n",
        "d_test['Potencia'] = d_test['Potencia'].map(remove_bhp)"
      ],
      "execution_count": null,
      "outputs": []
    },
    {
      "cell_type": "code",
      "metadata": {
        "colab": {
          "base_uri": "https://localhost:8080/"
        },
        "id": "VMhBDhnUFNgk",
        "outputId": "fbd33296-4ec7-4a17-c1e6-68382fcf06ea"
      },
      "source": [
        "d['Nombre'].nunique()"
      ],
      "execution_count": null,
      "outputs": [
        {
          "output_type": "execute_result",
          "data": {
            "text/plain": [
              "1654"
            ]
          },
          "metadata": {
            "tags": []
          },
          "execution_count": 56
        }
      ]
    },
    {
      "cell_type": "markdown",
      "metadata": {
        "id": "5PZPcaWcFwKR"
      },
      "source": [
        "No merece la pena tener en cuenta los nombres de los modelos.Podemos tener en cuenta las marcas:"
      ]
    },
    {
      "cell_type": "code",
      "metadata": {
        "id": "FyDswhj8GdS4"
      },
      "source": [
        "def brand_from_name(s):\n",
        "  if pd.isna(s):\n",
        "    return s\n",
        "  else:\n",
        "    return s.split(' ', 1)[0].capitalize()"
      ],
      "execution_count": null,
      "outputs": []
    },
    {
      "cell_type": "code",
      "metadata": {
        "id": "7bMPl5AeGrR-"
      },
      "source": [
        "d['Nombre'] = d['Nombre'].map(brand_from_name)\n",
        "d = d.rename(columns={'Nombre':'Marca'})\n",
        "\n",
        "d_test['Nombre'] = d_test['Nombre'].map(brand_from_name)"
      ],
      "execution_count": null,
      "outputs": []
    },
    {
      "cell_type": "markdown",
      "metadata": {
        "id": "rQ2SbhwHwwaF"
      },
      "source": [
        "Vamos a hacer un imputado de los datos perdidos:"
      ]
    },
    {
      "cell_type": "code",
      "metadata": {
        "id": "xv2rK3zZwy-E"
      },
      "source": [
        "from sklearn.impute import SimpleImputer\n",
        "si_cont = SimpleImputer(strategy='median')\n",
        "si_cat = SimpleImputer(strategy='most_frequent')\n",
        "d.loc[:, ['Marca', 'Ciudad', 'Combustible', 'Tipo_marchas', 'Mano']] = si_cat.fit_transform(d.loc[:,['Marca', 'Ciudad', 'Combustible', 'Tipo_marchas', 'Mano']])\n",
        "d.loc[:, ['Año', 'Kilometros', 'Consumo', 'Motor_CC', 'Potencia', 'Asientos']] = si_cont.fit_transform(d.loc[:,['Año', 'Kilometros', 'Consumo', 'Motor_CC', 'Potencia', 'Asientos']])"
      ],
      "execution_count": null,
      "outputs": []
    },
    {
      "cell_type": "code",
      "metadata": {
        "colab": {
          "base_uri": "https://localhost:8080/",
          "height": 391
        },
        "id": "wNZdObAlIlkt",
        "outputId": "086dda18-b015-46d4-b07f-208fcd72461d"
      },
      "source": [
        "d"
      ],
      "execution_count": null,
      "outputs": [
        {
          "output_type": "execute_result",
          "data": {
            "text/html": [
              "<div>\n",
              "<style scoped>\n",
              "    .dataframe tbody tr th:only-of-type {\n",
              "        vertical-align: middle;\n",
              "    }\n",
              "\n",
              "    .dataframe tbody tr th {\n",
              "        vertical-align: top;\n",
              "    }\n",
              "\n",
              "    .dataframe thead th {\n",
              "        text-align: right;\n",
              "    }\n",
              "</style>\n",
              "<table border=\"1\" class=\"dataframe\">\n",
              "  <thead>\n",
              "    <tr style=\"text-align: right;\">\n",
              "      <th></th>\n",
              "      <th>Marca</th>\n",
              "      <th>Ciudad</th>\n",
              "      <th>Año</th>\n",
              "      <th>Kilometros</th>\n",
              "      <th>Combustible</th>\n",
              "      <th>Tipo_marchas</th>\n",
              "      <th>Mano</th>\n",
              "      <th>Consumo</th>\n",
              "      <th>Motor_CC</th>\n",
              "      <th>Potencia</th>\n",
              "      <th>Asientos</th>\n",
              "      <th>Descuento</th>\n",
              "      <th>Precio_cat</th>\n",
              "    </tr>\n",
              "  </thead>\n",
              "  <tbody>\n",
              "    <tr>\n",
              "      <th>0</th>\n",
              "      <td>Maruti</td>\n",
              "      <td>G</td>\n",
              "      <td>2012.0</td>\n",
              "      <td>83000.0</td>\n",
              "      <td>Diesel</td>\n",
              "      <td>Manual</td>\n",
              "      <td>First</td>\n",
              "      <td>23.40</td>\n",
              "      <td>1248.0</td>\n",
              "      <td>74.00</td>\n",
              "      <td>5.0</td>\n",
              "      <td>0.00</td>\n",
              "      <td>3</td>\n",
              "    </tr>\n",
              "    <tr>\n",
              "      <th>1</th>\n",
              "      <td>Maruti</td>\n",
              "      <td>I</td>\n",
              "      <td>2016.0</td>\n",
              "      <td>4800.0</td>\n",
              "      <td>Petrol</td>\n",
              "      <td>Manual</td>\n",
              "      <td>First</td>\n",
              "      <td>20.51</td>\n",
              "      <td>998.0</td>\n",
              "      <td>67.04</td>\n",
              "      <td>5.0</td>\n",
              "      <td>0.00</td>\n",
              "      <td>3</td>\n",
              "    </tr>\n",
              "    <tr>\n",
              "      <th>2</th>\n",
              "      <td>Mahindra</td>\n",
              "      <td>F</td>\n",
              "      <td>2016.0</td>\n",
              "      <td>26000.0</td>\n",
              "      <td>Diesel</td>\n",
              "      <td>Manual</td>\n",
              "      <td>First</td>\n",
              "      <td>25.32</td>\n",
              "      <td>1198.0</td>\n",
              "      <td>77.00</td>\n",
              "      <td>6.0</td>\n",
              "      <td>0.00</td>\n",
              "      <td>3</td>\n",
              "    </tr>\n",
              "    <tr>\n",
              "      <th>3</th>\n",
              "      <td>Hyundai</td>\n",
              "      <td>E</td>\n",
              "      <td>2013.0</td>\n",
              "      <td>56127.0</td>\n",
              "      <td>Petrol</td>\n",
              "      <td>Manual</td>\n",
              "      <td>First</td>\n",
              "      <td>18.50</td>\n",
              "      <td>1197.0</td>\n",
              "      <td>80.00</td>\n",
              "      <td>5.0</td>\n",
              "      <td>0.00</td>\n",
              "      <td>3</td>\n",
              "    </tr>\n",
              "    <tr>\n",
              "      <th>4</th>\n",
              "      <td>Honda</td>\n",
              "      <td>H</td>\n",
              "      <td>2017.0</td>\n",
              "      <td>41981.0</td>\n",
              "      <td>Petrol</td>\n",
              "      <td>Manual</td>\n",
              "      <td>First</td>\n",
              "      <td>18.70</td>\n",
              "      <td>1199.0</td>\n",
              "      <td>88.70</td>\n",
              "      <td>5.0</td>\n",
              "      <td>0.00</td>\n",
              "      <td>3</td>\n",
              "    </tr>\n",
              "    <tr>\n",
              "      <th>...</th>\n",
              "      <td>...</td>\n",
              "      <td>...</td>\n",
              "      <td>...</td>\n",
              "      <td>...</td>\n",
              "      <td>...</td>\n",
              "      <td>...</td>\n",
              "      <td>...</td>\n",
              "      <td>...</td>\n",
              "      <td>...</td>\n",
              "      <td>...</td>\n",
              "      <td>...</td>\n",
              "      <td>...</td>\n",
              "      <td>...</td>\n",
              "    </tr>\n",
              "    <tr>\n",
              "      <th>4814</th>\n",
              "      <td>Maruti</td>\n",
              "      <td>E</td>\n",
              "      <td>2014.0</td>\n",
              "      <td>83274.0</td>\n",
              "      <td>Diesel</td>\n",
              "      <td>Manual</td>\n",
              "      <td>First</td>\n",
              "      <td>22.90</td>\n",
              "      <td>1248.0</td>\n",
              "      <td>74.00</td>\n",
              "      <td>5.0</td>\n",
              "      <td>0.00</td>\n",
              "      <td>3</td>\n",
              "    </tr>\n",
              "    <tr>\n",
              "      <th>4815</th>\n",
              "      <td>Porsche</td>\n",
              "      <td>H</td>\n",
              "      <td>2014.0</td>\n",
              "      <td>60033.0</td>\n",
              "      <td>Diesel</td>\n",
              "      <td>Automatic</td>\n",
              "      <td>First</td>\n",
              "      <td>18.18</td>\n",
              "      <td>2967.0</td>\n",
              "      <td>250.00</td>\n",
              "      <td>4.0</td>\n",
              "      <td>0.00</td>\n",
              "      <td>5</td>\n",
              "    </tr>\n",
              "    <tr>\n",
              "      <th>4816</th>\n",
              "      <td>Hyundai</td>\n",
              "      <td>C</td>\n",
              "      <td>2017.0</td>\n",
              "      <td>40158.0</td>\n",
              "      <td>Diesel</td>\n",
              "      <td>Manual</td>\n",
              "      <td>First</td>\n",
              "      <td>19.67</td>\n",
              "      <td>1496.0</td>\n",
              "      <td>126.20</td>\n",
              "      <td>5.0</td>\n",
              "      <td>0.00</td>\n",
              "      <td>4</td>\n",
              "    </tr>\n",
              "    <tr>\n",
              "      <th>4817</th>\n",
              "      <td>Hyundai</td>\n",
              "      <td>E</td>\n",
              "      <td>2015.0</td>\n",
              "      <td>65743.0</td>\n",
              "      <td>Petrol</td>\n",
              "      <td>Manual</td>\n",
              "      <td>First</td>\n",
              "      <td>20.14</td>\n",
              "      <td>1197.0</td>\n",
              "      <td>81.86</td>\n",
              "      <td>5.0</td>\n",
              "      <td>7.85</td>\n",
              "      <td>3</td>\n",
              "    </tr>\n",
              "    <tr>\n",
              "      <th>4818</th>\n",
              "      <td>Maruti</td>\n",
              "      <td>B</td>\n",
              "      <td>2013.0</td>\n",
              "      <td>75000.0</td>\n",
              "      <td>Diesel</td>\n",
              "      <td>Manual</td>\n",
              "      <td>First</td>\n",
              "      <td>20.77</td>\n",
              "      <td>1248.0</td>\n",
              "      <td>88.80</td>\n",
              "      <td>7.0</td>\n",
              "      <td>0.00</td>\n",
              "      <td>3</td>\n",
              "    </tr>\n",
              "  </tbody>\n",
              "</table>\n",
              "<p>4819 rows × 13 columns</p>\n",
              "</div>"
            ],
            "text/plain": [
              "         Marca Ciudad     Año  ...  Asientos Descuento Precio_cat\n",
              "0       Maruti      G  2012.0  ...       5.0      0.00          3\n",
              "1       Maruti      I  2016.0  ...       5.0      0.00          3\n",
              "2     Mahindra      F  2016.0  ...       6.0      0.00          3\n",
              "3      Hyundai      E  2013.0  ...       5.0      0.00          3\n",
              "4        Honda      H  2017.0  ...       5.0      0.00          3\n",
              "...        ...    ...     ...  ...       ...       ...        ...\n",
              "4814    Maruti      E  2014.0  ...       5.0      0.00          3\n",
              "4815   Porsche      H  2014.0  ...       4.0      0.00          5\n",
              "4816   Hyundai      C  2017.0  ...       5.0      0.00          4\n",
              "4817   Hyundai      E  2015.0  ...       5.0      7.85          3\n",
              "4818    Maruti      B  2013.0  ...       7.0      0.00          3\n",
              "\n",
              "[4819 rows x 13 columns]"
            ]
          },
          "metadata": {
            "tags": []
          },
          "execution_count": 60
        }
      ]
    },
    {
      "cell_type": "markdown",
      "metadata": {
        "id": "JyoYy8LUQNJW"
      },
      "source": [
        "### Resampling"
      ]
    },
    {
      "cell_type": "markdown",
      "metadata": {
        "id": "uCiAChZKHcJ9"
      },
      "source": [
        "Vemos como de desbalanceados están los datos:"
      ]
    },
    {
      "cell_type": "code",
      "metadata": {
        "id": "JngCqSM1Het6"
      },
      "source": [
        "from collections import Counter"
      ],
      "execution_count": null,
      "outputs": []
    },
    {
      "cell_type": "code",
      "metadata": {
        "colab": {
          "base_uri": "https://localhost:8080/"
        },
        "id": "7K0R3_REHfMZ",
        "outputId": "7622ba88-676c-4898-89b0-f4e79d0b0b63"
      },
      "source": [
        "print(Counter(rd['Precio_cat']))\n",
        "print(Counter(d['Precio_cat']))"
      ],
      "execution_count": null,
      "outputs": [
        {
          "output_type": "stream",
          "text": [
            "Counter({3: 2211, 4: 978, 5: 759, 2: 602, 1: 269})\n",
            "Counter({3: 2211, 4: 978, 5: 759, 2: 602, 1: 269})\n"
          ],
          "name": "stdout"
        }
      ]
    },
    {
      "cell_type": "markdown",
      "metadata": {
        "id": "qzV3vlHYxHNB"
      },
      "source": [
        "LA SIGUIENTE CLASE GESTIONA EL PREPROCESAMIENTO DE CADA CONJUNTO DE ENTRENAMIENTO/PRUEBA (el motivo es poder restringir el resampleo al conjunto de entrenamiento para evitar sesgos en validación)"
      ]
    },
    {
      "cell_type": "code",
      "metadata": {
        "id": "Wcl5atIESWiJ"
      },
      "source": [
        "from sklearn.preprocessing import OneHotEncoder\n",
        "from sklearn.compose import ColumnTransformer\n",
        "from sklearn.pipeline import Pipeline\n",
        "from sklearn.preprocessing import LabelEncoder\n",
        "from sklearn.preprocessing import MinMaxScaler, StandardScaler\n",
        "from imblearn.over_sampling import SMOTENC, SMOTE, BorderlineSMOTE, SVMSMOTE\n",
        "from imblearn.under_sampling import TomekLinks, EditedNearestNeighbours\n",
        "from imblearn.combine import SMOTETomek\n",
        "categorical_features = (0,1,4,5,6)\n",
        "\n",
        "class Preprocessor():\n",
        "  def __init__(self, categorical_features):\n",
        "    self.categorical_features = categorical_features\n",
        "    self.scaler = MinMaxScaler()\n",
        "    self.scaler_oh = MinMaxScaler()\n",
        "    self.le = [ LabelEncoder() for _ in categorical_features ]\n",
        "    categorical_transformer = Pipeline(steps=[('onehot', OneHotEncoder())])\n",
        "    self.ohe = ColumnTransformer(transformers=[('cat', categorical_transformer, self.categorical_features)])\n",
        "\n",
        "  def oversample(self, X, y):\n",
        "    smote_nc = SMOTENC(categorical_features=self.categorical_features, random_state=0)\n",
        "    X_res, y_res = smote_nc.fit_resample(X, y)\n",
        "    return X_res, y_res\n",
        "\n",
        "  def oversample_numeric(self, X, y):\n",
        "    smote = BorderlineSMOTE(random_state=0)\n",
        "    X_res, y_res = smote.fit_resample(X, y)\n",
        "    #undsamp = EditedNearestNeighbours(random_state=0)\n",
        "    #X_res, y_res = undsamp.fit_resample(X_res, y_res)\n",
        "    return X_res, y_res\n",
        "\n",
        "  #Aplica oversampling, codifica y escala los datos\n",
        "  def preproc_train(self, X, y, one_hot=False):\n",
        "    if not one_hot:\n",
        "      for i, f in enumerate(self.categorical_features):\n",
        "        self.le[i].fit( np.hstack((d.to_numpy()[:,f],d_test.to_numpy()[:,f])) )   #<------- AQUÍ PONGO LA UNIÓN DEL X DE TRAIN Y EL DE TEST, PARA QUE APRENDA A CODIFICAR LAS DOS\n",
        "        X[:,f] = self.le[i].transform(X[:,f])\n",
        "      X = self.scaler.fit_transform(X)\n",
        "      #tl = TomekLinks()\n",
        "      #X, y = tl.fit_resample(X, y)\n",
        "      return X, y\n",
        "    else:  \n",
        "      self.ohe.fit( np.vstack((d.loc[:, d.columns != 'Precio_cat'].to_numpy(), d_test.to_numpy())) )\n",
        "      X_oh = self.ohe.transform( X ).toarray()\n",
        "      X_oh = np.hstack( (X_oh,np.delete(X,self.categorical_features,axis=1)) )\n",
        "      X_oh = self.scaler_oh.fit_transform(X_oh)\n",
        "      return X_oh, y\n",
        "\n",
        "  #Se aplica sobre el conjunto test antes de la predicción. No hace resampling.\n",
        "  def preproc_test(self, X_test, one_hot=False):\n",
        "    if not one_hot:\n",
        "      for i, f in enumerate(self.categorical_features):\n",
        "        X_test[:,f] = self.le[i].transform(X_test[:,f])\n",
        "      X_test = self.scaler.transform(X_test)\n",
        "      return X_test\n",
        "    else:\n",
        "      X_test_oh = self.ohe.transform( X_test ).toarray()\n",
        "      X_test = np.hstack( (X_test_oh,np.delete(X_test,self.categorical_features,axis=1)) )\n",
        "      X_test = self.scaler_oh.fit_transform(X_test)\n",
        "      return X_test"
      ],
      "execution_count": null,
      "outputs": []
    },
    {
      "cell_type": "code",
      "metadata": {
        "id": "A2b-eMWaKncJ"
      },
      "source": [
        "X = d.loc[:, d.columns != 'Precio_cat'].to_numpy()\n",
        "y = d['Precio_cat'].to_numpy()"
      ],
      "execution_count": null,
      "outputs": []
    },
    {
      "cell_type": "markdown",
      "metadata": {
        "id": "voIsHkJojuC8"
      },
      "source": [
        "Creamos los splits para la validación cruzada y les aplicamos el resampling:"
      ]
    },
    {
      "cell_type": "code",
      "metadata": {
        "id": "3Hd86HRsLqUT"
      },
      "source": [
        "##ESTO ES PARA OVERSAMPLEAR CON SMOTENC Y LUEGO CODIFICAR\n",
        "#from sklearn.model_selection import KFold\n",
        "#n_splits = 5\n",
        "#kf = KFold(n_splits, shuffle=True, random_state=0)\n",
        "#X_train, X_train_oh, X_test, X_test_oh, y_train, y_train_oh, y_test = [],[],[],[],[],[],[]\n",
        "#preprocessor = [ Preprocessor(categorical_features) for _ in range(n_splits) ]\n",
        "#preprocessor_oh = [ Preprocessor(categorical_features) for _ in range(n_splits) ]\n",
        "#for i, (train_idx, test_idx) in enumerate(kf.split(X)):\n",
        "#    x_tr, x_te = np.copy(X[train_idx]), np.copy(X[test_idx])\n",
        "#    y_tr, y_te = np.copy(y[train_idx]), np.copy(y[test_idx])\n",
        "#\n",
        "#    x_resampled, y_resampled = preprocessor_oh[i].oversample(x_tr, y_tr)\n",
        "#\n",
        "#    x_tr, y_tr = preprocessor[i].preproc_train( np.copy(x_resampled), np.copy(y_resampled) )\n",
        "#    x_tr_oh, y_tr_oh = preprocessor_oh[i].preproc_train( np.copy(x_resampled), np.copy(y_resampled), one_hot=True)\n",
        "#    x_te_oh = preprocessor_oh[i].preproc_test(np.copy(x_te), one_hot=True)\n",
        "#    x_te = preprocessor[i].preproc_test(np.copy(x_te))    #ESTO TIENE QUE IR AQUÍ. SI LO PONGO ANTES LO PASO MODIFICADO A x_te_oh\n",
        "#\n",
        "#    X_train.append(x_tr)\n",
        "#    X_train_oh.append(x_tr_oh)\n",
        "#    X_test.append(x_te)\n",
        "#    X_test_oh.append(x_te_oh)\n",
        "#    y_train.append(y_tr)\n",
        "#    y_train_oh.append(y_tr_oh)\n",
        "#    y_test.append(y_te)"
      ],
      "execution_count": null,
      "outputs": []
    },
    {
      "cell_type": "code",
      "metadata": {
        "id": "Sjjgg2-4R9Zc"
      },
      "source": [
        "##ESTO ES PARA CODIFICAR Y LUEGO OVERSAMPLEAR CON SMOTE\n",
        "from sklearn.model_selection import KFold\n",
        "n_splits = 5\n",
        "kf = KFold(n_splits, shuffle=True, random_state=0)\n",
        "X_train, X_train_oh, X_test, X_test_oh, y_train, y_train_oh, y_test = [],[],[],[],[],[],[]\n",
        "preprocessor = [ Preprocessor(categorical_features) for _ in range(n_splits) ]\n",
        "preprocessor_oh = [ Preprocessor(categorical_features) for _ in range(n_splits) ]\n",
        "for i, (train_idx, test_idx) in enumerate(kf.split(X)):\n",
        "    x_tr, x_te = np.copy(X[train_idx]), np.copy(X[test_idx])\n",
        "    y_tr, y_te = np.copy(y[train_idx]), np.copy(y[test_idx])\n",
        "\n",
        "    x_resampled, y_resampled = np.copy(x_tr), np.copy(y_tr)   #para evitarme cambiar nombres xDD\n",
        "\n",
        "    x_tr, y_tr = preprocessor[i].preproc_train( np.copy(x_resampled), np.copy(y_resampled) )\n",
        "    x_tr_oh, y_tr_oh = preprocessor_oh[i].preproc_train( np.copy(x_resampled), np.copy(y_resampled), one_hot=True)\n",
        "    x_te_oh = preprocessor_oh[i].preproc_test(np.copy(x_te), one_hot=True)\n",
        "    x_te = preprocessor[i].preproc_test(np.copy(x_te))    #ESTO TIENE QUE IR AQUÍ. SI LO PONGO ANTES LO PASO MODIFICADO A x_te_oh\n",
        "\n",
        "    x_tr, y_tr = preprocessor[i].oversample_numeric(x_tr, y_tr)\n",
        "    x_tr_oh, y_tr_oh = preprocessor[i].oversample_numeric(x_tr_oh, y_tr_oh)\n",
        "\n",
        "    X_train.append(x_tr)\n",
        "    X_train_oh.append(x_tr_oh)\n",
        "    X_test.append(x_te)\n",
        "    X_test_oh.append(x_te_oh)\n",
        "    y_train.append(y_tr)\n",
        "    y_train_oh.append(y_tr_oh)\n",
        "    y_test.append(y_te)"
      ],
      "execution_count": null,
      "outputs": []
    },
    {
      "cell_type": "markdown",
      "metadata": {
        "id": "2MY3_zgPQl67"
      },
      "source": [
        "## XGBoost"
      ]
    },
    {
      "cell_type": "markdown",
      "metadata": {
        "id": "Lttiv73EWwkF"
      },
      "source": [
        "YA SÍ QUE SÍ PROBAMOS CON EL PRIMER MODELO"
      ]
    },
    {
      "cell_type": "code",
      "metadata": {
        "id": "063R2jN4OZbI"
      },
      "source": [
        "import xgboost as xgb\n",
        "from sklearn.feature_selection import SelectFromModel\n",
        "from sklearn.metrics import accuracy_score"
      ],
      "execution_count": null,
      "outputs": []
    },
    {
      "cell_type": "code",
      "metadata": {
        "id": "LXYDoyXA4W76"
      },
      "source": [
        "def train_test_gradientBoosting(X_train, y_train, X_test, y_test, n_estim=500, max_depth=5, lr=0.1, gamma=0, min_child_weight=1, max_delta_step=0, \n",
        "                                subsample=0.8, colsample_bytree=1, booster='gbtree'):\n",
        "  mean_acc = 0.0\n",
        "  for x_tr, x_te, y_tr, y_te in zip(X_train, X_test, y_train, y_test):\n",
        "    gbClassifier = xgb.XGBClassifier(tree_method='gpu_hist', gpu_id=0, objective='multi:softmax', booster=booster, n_estimators=n_estim, \n",
        "                                     max_depth=max_depth, learning_rate=lr, gamma=gamma, min_child_weight=min_child_weight, \n",
        "                                     max_delta_step=max_delta_step, subsample=subsample, colsample_bytree=colsample_bytree, \n",
        "                                     colsample_bylevel=1, colsample_bynode=1, reg_alpha=0, reg_lambda=1, scale_pos_weight=1, \n",
        "                                     base_score=0.5, sampling_method='gradient_based', grow_policy='lossguide')\n",
        "    gbClassifier.fit(x_tr, y_tr)\n",
        "    y_predict = gbClassifier.predict(x_te)\n",
        "    mean_acc += accuracy_score(y_te, y_predict)\n",
        "  mean_acc /= n_splits\n",
        "\n",
        "  return mean_acc"
      ],
      "execution_count": null,
      "outputs": []
    },
    {
      "cell_type": "code",
      "metadata": {
        "id": "UB9_Jmt71vEE"
      },
      "source": [
        "##GRID SEARCH PARA EL XGBOOST\n",
        "best_acc = 0.0\n",
        "for depth in (3,4,5,6,7):\n",
        "  for lr in (0.05,0.1,0.15,0.2):\n",
        "    for gamma in (0,0.5,1):\n",
        "      for subsample in (0.5,0.7,0.8):\n",
        "        for col_sample in (0.5,0.7,0.8,1):\n",
        "          acc = train_test_gradientBoosting(X_train, y_train, X_test, y_test, n_estim=300, max_depth=depth, \n",
        "                                            subsample=subsample, lr=lr, colsample_bytree=col_sample, \n",
        "                                            gamma=gamma)\n",
        "          if acc > best_acc:\n",
        "            best_acc = acc\n",
        "            print( \"Mejor precisión encontrada para parámetros \",(depth,lr,gamma,subsample,col_sample) )\n",
        "            print( \"Precisión:\", acc )"
      ],
      "execution_count": null,
      "outputs": []
    },
    {
      "cell_type": "code",
      "metadata": {
        "colab": {
          "base_uri": "https://localhost:8080/"
        },
        "id": "du9TkoN63PvI",
        "outputId": "29cdaafe-a7b5-4ee9-fb6d-f0b37acc21ac"
      },
      "source": [
        "train_test_gradientBoosting(X_train, y_train, X_test, y_test, max_depth=4, lr=0.1, gamma=0, subsample=0.7, colsample_bytree=0.7)"
      ],
      "execution_count": null,
      "outputs": [
        {
          "output_type": "execute_result",
          "data": {
            "text/plain": [
              "0.8364785443138878"
            ]
          },
          "metadata": {
            "tags": []
          },
          "execution_count": 505
        }
      ]
    },
    {
      "cell_type": "markdown",
      "metadata": {
        "id": "OBmOKpyZiObk"
      },
      "source": [
        "## Redes Neuronales"
      ]
    },
    {
      "cell_type": "code",
      "metadata": {
        "id": "F5xWp2_qRQks"
      },
      "source": [
        "import matplotlib.pyplot as plt\n",
        "import tensorflow as tf\n",
        "from tensorflow import keras\n",
        "from tensorflow.keras import layers\n",
        "import keras.utils as np_utils\n",
        "from sklearn.model_selection import train_test_split"
      ],
      "execution_count": null,
      "outputs": []
    },
    {
      "cell_type": "code",
      "metadata": {
        "id": "WzHUt8MxRUEX"
      },
      "source": [
        "def calcularAccuracy(labels, preds):\n",
        "    labels = np.argmax(labels, axis = 1)\n",
        "    preds = np.argmax(preds, axis = 1)\n",
        "    accuracy = sum(labels == preds)/len(labels)\n",
        "    return accuracy\n",
        "\n",
        "def mostrarEvolucion(hist):\n",
        "    loss = hist.history['loss']\n",
        "    val_loss = hist.history['val_loss']\n",
        "    plt.plot(loss)\n",
        "    plt.plot(val_loss)\n",
        "    plt.legend(['Training loss', 'Validation loss'])\n",
        "    plt.show()\n",
        "    \n",
        "    acc = hist.history['accuracy']\n",
        "    val_acc = hist.history['val_accuracy']\n",
        "    plt.plot(acc)\n",
        "    plt.plot(val_acc)\n",
        "    plt.legend(['Training accuracy','Validation accuracy'])\n",
        "    plt.show()"
      ],
      "execution_count": null,
      "outputs": []
    },
    {
      "cell_type": "code",
      "metadata": {
        "id": "ERVLs_klXGQv"
      },
      "source": [
        "def modelNN(n1, alfa, n2, beta, n3, gamma, n4, input_shape):\n",
        "  initializer = keras.initializers.GlorotUniform()\n",
        "  model = keras.Sequential()\n",
        "  model.add(layers.Dense(n1, activation='relu', kernel_initializer=initializer,\n",
        "                         input_dim=input_shape)\n",
        "                        )\n",
        "  model.add(layers.Dropout(alfa))\n",
        "  if n2 > 0:\n",
        "    model.add(layers.Dense(n2, activation='relu', kernel_initializer=initializer,\n",
        "                         ))\n",
        "    model.add(layers.Dropout(beta))\n",
        "  if n3 > 0:\n",
        "    model.add(layers.Dense(n3, activation='relu', kernel_initializer=initializer,\n",
        "                         ))\n",
        "    model.add(layers.Dropout(gamma))\n",
        "  model.add(layers.Dense(n4, activation='softmax', kernel_initializer=initializer,\n",
        "                         ))\n",
        "  return model"
      ],
      "execution_count": null,
      "outputs": []
    },
    {
      "cell_type": "code",
      "metadata": {
        "id": "mB2QtNS7wc7u"
      },
      "source": [
        "def train_test_MLP(n1, alfa, n2, beta, n3, gamma, n4=5, lr=0.0001, beta_1=0.9, \n",
        "                   beta_2=0.99, batch_size=10, epochs=50, \n",
        "                   fold_idx=0, plot_hist=True):\n",
        "  y_truth = np_utils.to_categorical(y_train_oh[fold_idx])[:,1:].astype(int)  #Uso [:,1:] porque to_categorical genera categorías empezando en 0 (así que genera 6, en vez de 5)\n",
        "  y_truth_test = np_utils.to_categorical(y_test[fold_idx])[:,1:].astype(int)\n",
        "\n",
        "  MLP = modelNN(n1, alfa, n2, beta, n3, gamma, n4, X_train_oh[fold_idx].shape[1])\n",
        "  MLP.compile(loss=keras.losses.categorical_crossentropy, \n",
        "                optimizer=keras.optimizers.Adam(learning_rate=lr, beta_1=beta_1, beta_2=beta_2), \n",
        "                metrics=['accuracy'])\n",
        "  hist = MLP.fit(X_train_oh[fold_idx], y_truth, \n",
        "                  batch_size=batch_size, epochs=epochs, \n",
        "                  callbacks=[keras.callbacks.EarlyStopping(monitor='val_loss', patience=5, restore_best_weights=True)],\n",
        "                  validation_data=(X_test_oh[fold_idx],y_truth_test))\n",
        "  if plot_hist:\n",
        "    mostrarEvolucion(hist)\n",
        "  y_predict = MLP.predict(X_test_oh[fold_idx])\n",
        "  acc = calcularAccuracy(y_truth_test, y_predict)\n",
        "\n",
        "  return acc"
      ],
      "execution_count": null,
      "outputs": []
    },
    {
      "cell_type": "code",
      "metadata": {
        "id": "1V8aq1MrTxF7"
      },
      "source": [
        "#n1, alfa = 378, 0.3\n",
        "#n2, beta = 256, 0.3\n",
        "#n3, gamma = 0, 0.3\n",
        "n1, alfa = 512, 0.3\n",
        "n2, beta = 378, 0.3\n",
        "n3, gamma = 16, 0.1\n",
        "\n",
        "train_test_MLP(n1, alfa, n2, beta, n3, gamma, batch_size=10, lr=0.00001)"
      ],
      "execution_count": null,
      "outputs": []
    },
    {
      "cell_type": "code",
      "metadata": {
        "id": "bNbzpYlgveEx"
      },
      "source": [
        "def modelCNN(nfilt1, nfilt2, n1, alfa, n2, beta, n3, gamma, n4, input_shape):\n",
        "  initializer = keras.initializers.HeNormal()\n",
        "  model = keras.Sequential()\n",
        "  #Capas convolucionales\n",
        "  model.add(layers.Conv1D(nfilt1, kernel_size=3, strides=1, padding='same', \n",
        "                          batch_input_shape=input_shape))\n",
        "  model.add(layers.BatchNormalization())\n",
        "  model.add(layers.Activation('relu'))\n",
        "  model.add(layers.MaxPooling1D())\n",
        "\n",
        "  model.add(layers.Conv1D(nfilt2, kernel_size=3, strides=1, padding='same'))\n",
        "  model.add(layers.BatchNormalization())\n",
        "  model.add(layers.Activation('relu'))\n",
        "  model.add(layers.MaxPooling1D())\n",
        "\n",
        "  model.add(layers.Conv1D(nfilt2, kernel_size=3, strides=1, padding='same'))\n",
        "  model.add(layers.BatchNormalization())\n",
        "  model.add(layers.Activation('relu'))\n",
        "  model.add(layers.MaxPooling1D())\n",
        "\n",
        "  #Capas FC y salida\n",
        "  model.add(layers.GlobalMaxPooling1D())\n",
        "  model.add(layers.Dense(n1, activation='relu', kernel_initializer=initializer))\n",
        "  model.add(layers.Dropout(alfa))\n",
        "  if n2 > 0:\n",
        "    model.add(layers.Dense(n2, activation='relu', kernel_initializer=initializer))\n",
        "    model.add(layers.Dropout(beta))\n",
        "  if n3 > 0:\n",
        "    model.add(layers.Dense(n3, activation='relu', kernel_initializer=initializer))\n",
        "    model.add(layers.Dropout(gamma))\n",
        "  model.add(layers.Dense(n4, activation='softmax', kernel_initializer=initializer))\n",
        "  return model"
      ],
      "execution_count": null,
      "outputs": []
    },
    {
      "cell_type": "code",
      "metadata": {
        "id": "Kw5mJZSPimWc"
      },
      "source": [
        "def train_test_CNN(nfilt1, nfilt2, n1, alfa, n2, beta, n3, gamma, n4=5, lr=0.0001, beta_1=0.9, \n",
        "                   beta_2=0.99, batch_size=10, epochs=50, \n",
        "                   fold_idx=0, plot_hist=True):\n",
        "  x_tr = X_train[fold_idx]    #Puede ponerse X_train_oh en su lugar\n",
        "  x_te = X_test[fold_idx]\n",
        "  y_truth = np_utils.to_categorical(y_train[fold_idx])[:,1:].astype(int)  #Uso [:,1:] porque to_categorical genera categorías empezando en 0 (así que genera 6, en vez de 5)\n",
        "  y_truth_test = np_utils.to_categorical(y_test[fold_idx])[:,1:].astype(int)\n",
        "\n",
        "  CNN = modelCNN( nfilt1, nfilt2, n1, alfa, n2, beta, n3, gamma, n4, input_shape=(None,x_tr.shape[1],1) )\n",
        "  CNN.compile(loss=keras.losses.categorical_crossentropy, \n",
        "                optimizer=keras.optimizers.Adam(learning_rate=lr, beta_1=beta_1, beta_2=beta_2), \n",
        "                metrics=['accuracy'])\n",
        "  hist = CNN.fit(np.expand_dims(x_tr,axis=2), y_truth,    #Le añadimos a X una tercera dimensión para que funcionen las capas Conv1D\n",
        "                  batch_size=batch_size, epochs=epochs, \n",
        "                  callbacks=[keras.callbacks.EarlyStopping(monitor='val_loss', patience=5, restore_best_weights=True)],\n",
        "                  validation_data=(np.expand_dims(x_te,axis=2),y_truth_test))\n",
        "  if plot_hist:\n",
        "    mostrarEvolucion(hist)\n",
        "  y_predict = CNN.predict(np.expand_dims(x_te,axis=2))\n",
        "  acc = calcularAccuracy(y_truth_test, y_predict)\n",
        "\n",
        "  return acc"
      ],
      "execution_count": null,
      "outputs": []
    },
    {
      "cell_type": "code",
      "metadata": {
        "id": "9eCXQjZ9xMaG"
      },
      "source": [
        "nfilt1 = 160\n",
        "nfilt2 = 96 \n",
        "n1, alfa = 378, 0.3\n",
        "n2, beta = 128, 0.3\n",
        "n3, gamma = 26, 0.3\n",
        "\n",
        "train_test_CNN(nfilt1, nfilt2, n1, alfa, n2, beta, n3, gamma, batch_size=2, lr=0.0001)"
      ],
      "execution_count": null,
      "outputs": []
    },
    {
      "cell_type": "markdown",
      "metadata": {
        "id": "lyCpmkJH3-iR"
      },
      "source": [
        "## RandomForest (MEH~~, XGBOOST ES MEJOR)"
      ]
    },
    {
      "cell_type": "code",
      "metadata": {
        "id": "_RKHLGiq3-iT"
      },
      "source": [
        "from sklearn.ensemble import RandomForestClassifier\n",
        "from sklearn.metrics import accuracy_score"
      ],
      "execution_count": null,
      "outputs": []
    },
    {
      "cell_type": "code",
      "metadata": {
        "id": "gXBy279m3-iU"
      },
      "source": [
        "def train_test_randomForest(X_train, y_train, X_test, y_test, n_estim=500, depth=5):\n",
        "  mean_acc = 0.0\n",
        "  for x_tr, x_te, y_tr, y_te in zip(X_train, X_test, y_train, y_test):\n",
        "    rf = RandomForestClassifier(n_estimators=n_estim, max_depth=depth)\n",
        "    rf.fit(x_tr, y_tr)\n",
        "    y_predict = rf.predict(x_te)\n",
        "    mean_acc += accuracy_score(y_te, y_predict)\n",
        "  mean_acc /= n_splits\n",
        "\n",
        "  return mean_acc"
      ],
      "execution_count": null,
      "outputs": []
    },
    {
      "cell_type": "code",
      "metadata": {
        "colab": {
          "base_uri": "https://localhost:8080/"
        },
        "id": "eG9z4dwc3-iV",
        "outputId": "70865bff-13c8-491c-f522-d472a01bee12"
      },
      "source": [
        "train_test_randomForest(X_train, y_train, X_test, y_test, n_estim=500, depth=15)"
      ],
      "execution_count": null,
      "outputs": [
        {
          "output_type": "execute_result",
          "data": {
            "text/plain": [
              "0.8130315447490769"
            ]
          },
          "metadata": {
            "tags": []
          },
          "execution_count": 91
        }
      ]
    },
    {
      "cell_type": "markdown",
      "metadata": {
        "id": "At_3MCUNKerk"
      },
      "source": [
        "## Redes Neuronales con Scikit-Learn"
      ]
    },
    {
      "cell_type": "code",
      "metadata": {
        "id": "KItNWr_jKjZ6"
      },
      "source": [
        "from sklearn.neural_network import MLPClassifier\n",
        "from sklearn.metrics import accuracy_score"
      ],
      "execution_count": null,
      "outputs": []
    },
    {
      "cell_type": "code",
      "metadata": {
        "id": "3Xz5DoQjKx62"
      },
      "source": [
        "def train_test_MLPSK(X_train, y_train, X_test, y_test, n1, n2, n3, alpha):\n",
        "  fold_idx = np.random.randint(0,len(X_train))\n",
        "  x_tr, y_tr = X_train[fold_idx], y_train[fold_idx]\n",
        "  x_te, y_te = X_test[fold_idx], y_test[fold_idx]\n",
        "\n",
        "  mlp_class = MLPClassifier(hidden_layer_sizes=(n1,n2,n3), alpha=alpha)\n",
        "  mlp_class.fit(x_tr, y_tr)\n",
        "  y_predict = mlp_class.predict(x_te)\n",
        "  return accuracy_score(y_te, y_predict)"
      ],
      "execution_count": null,
      "outputs": []
    },
    {
      "cell_type": "code",
      "metadata": {
        "id": "gfWNvfi_StF0"
      },
      "source": [
        "best_acc = 0.0\n",
        "for n1 in (500,450,400,350,300,250,200):\n",
        "  for n2 in (400,350,300,250,200,150,100):\n",
        "    for n3 in (200,150,100,50):\n",
        "      for alfa in (0.001,0.01,0.05,0.1,0.15,0.2):\n",
        "        acc = train_test_MLPSK(X_train, y_train, X_test, y_test, n1, n2, n3, alfa)\n",
        "        if acc > best_acc:\n",
        "          best_acc = acc\n",
        "          print(\"Mejor precisión obtenida para los parámetros \", (n1,n2,n3,alfa))\n",
        "          print(\"Precisión: \",acc)"
      ],
      "execution_count": null,
      "outputs": []
    },
    {
      "cell_type": "code",
      "metadata": {
        "colab": {
          "base_uri": "https://localhost:8080/"
        },
        "id": "2YJH46pAYdyC",
        "outputId": "658d498c-2fd4-4965-8474-d659828cd530"
      },
      "source": [
        "train_test_MLPSK(X_train, y_train, X_test, y_test, 500, 150, 150, 0.01)"
      ],
      "execution_count": null,
      "outputs": [
        {
          "output_type": "stream",
          "text": [
            "/usr/local/lib/python3.6/dist-packages/sklearn/neural_network/_multilayer_perceptron.py:571: ConvergenceWarning: Stochastic Optimizer: Maximum iterations (200) reached and the optimization hasn't converged yet.\n",
            "  % self.max_iter, ConvergenceWarning)\n"
          ],
          "name": "stderr"
        },
        {
          "output_type": "execute_result",
          "data": {
            "text/plain": [
              "0.7528556593977155"
            ]
          },
          "metadata": {
            "tags": []
          },
          "execution_count": 508
        }
      ]
    },
    {
      "cell_type": "markdown",
      "metadata": {
        "id": "9dRjyIcXgM6B"
      },
      "source": [
        "## SVM"
      ]
    },
    {
      "cell_type": "code",
      "metadata": {
        "id": "kRhk4E1cgOyk"
      },
      "source": [
        "from sklearn.svm import SVC, NuSVC\n",
        "from sklearn.metrics import accuracy_score"
      ],
      "execution_count": null,
      "outputs": []
    },
    {
      "cell_type": "code",
      "metadata": {
        "id": "85Gh0Tevi4pX"
      },
      "source": [
        "def train_test_SVM(X_train, y_train, X_test, y_test, C, degree):\n",
        "  fold_idx = np.random.randint(0,len(X_train))\n",
        "  x_tr, y_tr = X_train[fold_idx], y_train[fold_idx]\n",
        "  x_te, y_te = X_test[fold_idx], y_test[fold_idx]\n",
        "\n",
        "  svm = SVC(C=C, kernel='poly', degree=degree, decision_function_shape='ovr')\n",
        "  svm.fit(x_tr, y_tr)\n",
        "  y_predict = svm.predict(x_te)\n",
        "  return accuracy_score(y_te, y_predict)"
      ],
      "execution_count": null,
      "outputs": []
    },
    {
      "cell_type": "code",
      "metadata": {
        "colab": {
          "base_uri": "https://localhost:8080/"
        },
        "id": "_rUVTB5_jDpS",
        "outputId": "45f39d5b-42b0-40f9-f669-9be422f84288"
      },
      "source": [
        "train_test_SVM(X_train, y_train, X_test, y_test, 1.5, 9)"
      ],
      "execution_count": null,
      "outputs": [
        {
          "output_type": "execute_result",
          "data": {
            "text/plain": [
              "0.7528556593977155"
            ]
          },
          "metadata": {
            "tags": []
          },
          "execution_count": 87
        }
      ]
    },
    {
      "cell_type": "markdown",
      "metadata": {
        "id": "O_nPW16zrIgK"
      },
      "source": [
        "## Regresión Logística"
      ]
    },
    {
      "cell_type": "code",
      "metadata": {
        "id": "dEl9KHk4rPpw"
      },
      "source": [
        "from sklearn.linear_model import LogisticRegression\n",
        "from sklearn.metrics import accuracy_score"
      ],
      "execution_count": null,
      "outputs": []
    },
    {
      "cell_type": "code",
      "metadata": {
        "id": "x4t5baHuq7XG"
      },
      "source": [
        "def train_test_RegLog(X_train, y_train, X_test, y_test):\n",
        "  fold_idx = np.random.randint(0,len(X_train))\n",
        "  x_tr, y_tr = X_train[fold_idx], y_train[fold_idx]\n",
        "  x_te, y_te = X_test[fold_idx], y_test[fold_idx]\n",
        "\n",
        "  #rl = LogisticRegression(solver='lbfgs', multi_class='ovr', penalty='none', C=1.0, max_iter=1000)\n",
        "  rl = LogisticRegression(max_iter=1000)\n",
        "  rl.fit(x_tr, y_tr)\n",
        "  y_predict = rl.predict(x_te)\n",
        "  return accuracy_score(y_te, y_predict)"
      ],
      "execution_count": null,
      "outputs": []
    },
    {
      "cell_type": "code",
      "metadata": {
        "colab": {
          "base_uri": "https://localhost:8080/"
        },
        "id": "K52CeI1urR9g",
        "outputId": "69d08939-97da-4092-d034-1899c54258c4"
      },
      "source": [
        "train_test_RegLog(X_train, y_train, X_test, y_test)"
      ],
      "execution_count": null,
      "outputs": [
        {
          "output_type": "execute_result",
          "data": {
            "text/plain": [
              "0.6607883817427386"
            ]
          },
          "metadata": {
            "tags": []
          },
          "execution_count": 120
        }
      ]
    },
    {
      "cell_type": "markdown",
      "metadata": {
        "id": "z1yfPVe_f583"
      },
      "source": [
        "## Stacking"
      ]
    },
    {
      "cell_type": "code",
      "metadata": {
        "id": "BvwxF11Wf8wW"
      },
      "source": [
        "from sklearn.ensemble import StackingClassifier, GradientBoostingClassifier\n",
        "import xgboost as xgb\n",
        "from sklearn.neural_network import MLPClassifier\n",
        "from sklearn.svm import SVC\n",
        "from sklearn.ensemble import RandomForestClassifier\n",
        "from sklearn.linear_model import LogisticRegression\n",
        "from sklearn.metrics import accuracy_score"
      ],
      "execution_count": null,
      "outputs": []
    },
    {
      "cell_type": "code",
      "metadata": {
        "id": "ZgbEgiiJgwFe"
      },
      "source": [
        "def train_test_stacking(X_train, y_train, X_test, y_test):\n",
        "  mean_acc = 0.0\n",
        "  for x_tr, x_te, y_tr, y_te in zip(X_train, X_test, y_train, y_test):\n",
        "    estimators = [\n",
        "                  ( 'xgb1', xgb.XGBClassifier(tree_method='gpu_hist', gpu_id=0, objective='multi:softmax', n_estimators=500, \n",
        "                                        max_depth=4, learning_rate=0.1, gamma=0, min_child_weight=1, \n",
        "                                        max_delta_step=0, subsample=0.7, colsample_bytree=0.7, \n",
        "                                        colsample_bylevel=1, colsample_bynode=1, reg_alpha=0, reg_lambda=1, scale_pos_weight=1, \n",
        "                                        base_score=0.5, sampling_method='gradient_based', grow_policy='lossguide') ),\n",
        "                  ( 'rf', RandomForestClassifier(n_estimators=500, max_depth=15) ),\n",
        "                  ( 'mlp', MLPClassifier(hidden_layer_sizes=(500,150,150), alpha=0.01) ),\n",
        "                  ( 'svm', SVC(C=1.5, kernel='poly', degree=9, decision_function_shape='ovr') )\n",
        "                ]\n",
        "    final_estimator = GradientBoostingClassifier(n_estimators=25, subsample=0.5, min_samples_leaf=25, max_features=1, random_state=0)\n",
        "    clf = StackingClassifier( estimators=estimators, final_estimator=final_estimator )    \n",
        "    clf.fit(x_tr, y_tr)\n",
        "    y_predict = clf.predict(x_te)\n",
        "    mean_acc += accuracy_score(y_te, y_predict)\n",
        "  mean_acc /= n_splits\n",
        "\n",
        "  return mean_acc"
      ],
      "execution_count": null,
      "outputs": []
    },
    {
      "cell_type": "code",
      "metadata": {
        "colab": {
          "base_uri": "https://localhost:8080/"
        },
        "id": "p0hDaZp2hV-e",
        "outputId": "0fa91c1b-209e-4766-add5-65d4382bf79d"
      },
      "source": [
        "train_test_stacking(X_train, y_train, X_test, y_test)"
      ],
      "execution_count": null,
      "outputs": [
        {
          "output_type": "execute_result",
          "data": {
            "text/plain": [
              "0.8341966020777051"
            ]
          },
          "metadata": {
            "tags": []
          },
          "execution_count": 422
        }
      ]
    },
    {
      "cell_type": "markdown",
      "metadata": {
        "id": "-vdAMqWWQ5qg"
      },
      "source": [
        "## Entrenamiento final y predicción de test"
      ]
    },
    {
      "cell_type": "markdown",
      "metadata": {
        "id": "XgV01rlL6Shv"
      },
      "source": [
        "REENTRENAMOS PARA TODO EL DATASET"
      ]
    },
    {
      "cell_type": "code",
      "metadata": {
        "colab": {
          "base_uri": "https://localhost:8080/"
        },
        "id": "Na1VAH_G5pLD",
        "outputId": "ceb15cdf-e050-4cec-e802-f0b893862be3"
      },
      "source": [
        "##ESTO ERA CUANDO OVERSAMPLEABA ANTES DE ENCODEAR\n",
        "#preprocessor_test = Preprocessor(categorical_features)\n",
        "#\n",
        "#x_resampled, y_resampled = preprocessor_oh[i].oversample(X, y)\n",
        "#x_tr, y_tr = preprocessor_test.preproc_train( np.copy(x_resampled), np.copy(y_resampled) )\n",
        "\n",
        "preprocessor_test = Preprocessor(categorical_features)\n",
        "\n",
        "x_tr, y_tr = preprocessor_test.preproc_train( np.copy(X), np.copy(y) )\n",
        "x_tr, y_tr = preprocessor_test.oversample_numeric(x_tr, y_tr)"
      ],
      "execution_count": null,
      "outputs": [
        {
          "output_type": "stream",
          "text": [
            "/usr/local/lib/python3.6/dist-packages/sklearn/utils/deprecation.py:87: FutureWarning: Function safe_indexing is deprecated; safe_indexing is deprecated in version 0.22 and will be removed in version 0.24.\n",
            "  warnings.warn(msg, category=FutureWarning)\n",
            "/usr/local/lib/python3.6/dist-packages/sklearn/utils/deprecation.py:87: FutureWarning: Function safe_indexing is deprecated; safe_indexing is deprecated in version 0.22 and will be removed in version 0.24.\n",
            "  warnings.warn(msg, category=FutureWarning)\n",
            "/usr/local/lib/python3.6/dist-packages/sklearn/utils/deprecation.py:87: FutureWarning: Function safe_indexing is deprecated; safe_indexing is deprecated in version 0.22 and will be removed in version 0.24.\n",
            "  warnings.warn(msg, category=FutureWarning)\n",
            "/usr/local/lib/python3.6/dist-packages/sklearn/utils/deprecation.py:87: FutureWarning: Function safe_indexing is deprecated; safe_indexing is deprecated in version 0.22 and will be removed in version 0.24.\n",
            "  warnings.warn(msg, category=FutureWarning)\n",
            "/usr/local/lib/python3.6/dist-packages/sklearn/utils/deprecation.py:87: FutureWarning: Function safe_indexing is deprecated; safe_indexing is deprecated in version 0.22 and will be removed in version 0.24.\n",
            "  warnings.warn(msg, category=FutureWarning)\n",
            "/usr/local/lib/python3.6/dist-packages/sklearn/utils/deprecation.py:87: FutureWarning: Function safe_indexing is deprecated; safe_indexing is deprecated in version 0.22 and will be removed in version 0.24.\n",
            "  warnings.warn(msg, category=FutureWarning)\n",
            "/usr/local/lib/python3.6/dist-packages/sklearn/utils/deprecation.py:87: FutureWarning: Function safe_indexing is deprecated; safe_indexing is deprecated in version 0.22 and will be removed in version 0.24.\n",
            "  warnings.warn(msg, category=FutureWarning)\n",
            "/usr/local/lib/python3.6/dist-packages/sklearn/utils/deprecation.py:87: FutureWarning: Function safe_indexing is deprecated; safe_indexing is deprecated in version 0.22 and will be removed in version 0.24.\n",
            "  warnings.warn(msg, category=FutureWarning)\n",
            "/usr/local/lib/python3.6/dist-packages/sklearn/utils/deprecation.py:87: FutureWarning: Function safe_indexing is deprecated; safe_indexing is deprecated in version 0.22 and will be removed in version 0.24.\n",
            "  warnings.warn(msg, category=FutureWarning)\n"
          ],
          "name": "stderr"
        }
      ]
    },
    {
      "cell_type": "code",
      "metadata": {
        "colab": {
          "base_uri": "https://localhost:8080/"
        },
        "id": "KbL-t9Zz572P",
        "outputId": "21d33480-1fe9-4126-d2e9-fc7451b3a371"
      },
      "source": [
        "#gbClassifier = xgb.XGBClassifier(tree_method='gpu_hist', gpu_id=0, n_estimators=1500, max_depth=4, lr=0.1, gamma=0, subsample=0.7, colsample_bytree=0.7, objective='multi:softmax')\n",
        "#gbClassifier.fit(x_tr, y_tr)\n",
        "\n",
        "estimators = [\n",
        "              ( 'xgb1', xgb.XGBClassifier(tree_method='gpu_hist', gpu_id=0, objective='multi:softmax', n_estimators=1000, \n",
        "                                    max_depth=4, learning_rate=0.1, gamma=0, min_child_weight=1, \n",
        "                                    max_delta_step=0, subsample=0.7, colsample_bytree=0.7, \n",
        "                                    colsample_bylevel=1, colsample_bynode=1, reg_alpha=0, reg_lambda=1, scale_pos_weight=1, \n",
        "                                    base_score=0.5, sampling_method='gradient_based', grow_policy='lossguide') ),\n",
        "              #( 'rf', RandomForestClassifier(n_estimators=500, max_depth=15) ),\n",
        "              ( 'mlp', MLPClassifier(hidden_layer_sizes=(500,150,150), alpha=0.01) )\n",
        "              #( 'svm', SVC(C=1.5, kernel='poly', degree=10, decision_function_shape='ovr') )\n",
        "            ]\n",
        "final_estimator = GradientBoostingClassifier(n_estimators=40, subsample=0.5, min_samples_leaf=25, max_features=1)\n",
        "stack = StackingClassifier( estimators=estimators, final_estimator=final_estimator )    \n",
        "stack.fit(x_tr, y_tr)"
      ],
      "execution_count": null,
      "outputs": [
        {
          "output_type": "stream",
          "text": [
            "/usr/local/lib/python3.6/dist-packages/sklearn/neural_network/_multilayer_perceptron.py:571: ConvergenceWarning: Stochastic Optimizer: Maximum iterations (200) reached and the optimization hasn't converged yet.\n",
            "  % self.max_iter, ConvergenceWarning)\n",
            "/usr/local/lib/python3.6/dist-packages/sklearn/neural_network/_multilayer_perceptron.py:571: ConvergenceWarning: Stochastic Optimizer: Maximum iterations (200) reached and the optimization hasn't converged yet.\n",
            "  % self.max_iter, ConvergenceWarning)\n",
            "/usr/local/lib/python3.6/dist-packages/sklearn/neural_network/_multilayer_perceptron.py:571: ConvergenceWarning: Stochastic Optimizer: Maximum iterations (200) reached and the optimization hasn't converged yet.\n",
            "  % self.max_iter, ConvergenceWarning)\n",
            "/usr/local/lib/python3.6/dist-packages/sklearn/neural_network/_multilayer_perceptron.py:571: ConvergenceWarning: Stochastic Optimizer: Maximum iterations (200) reached and the optimization hasn't converged yet.\n",
            "  % self.max_iter, ConvergenceWarning)\n"
          ],
          "name": "stderr"
        },
        {
          "output_type": "execute_result",
          "data": {
            "text/plain": [
              "StackingClassifier(cv=None,\n",
              "                   estimators=[('xgb1',\n",
              "                                XGBClassifier(base_score=0.5, booster='gbtree',\n",
              "                                              colsample_bylevel=1,\n",
              "                                              colsample_bynode=1,\n",
              "                                              colsample_bytree=0.7, gamma=0,\n",
              "                                              gpu_id=0, grow_policy='lossguide',\n",
              "                                              learning_rate=0.1,\n",
              "                                              max_delta_step=0, max_depth=4,\n",
              "                                              min_child_weight=1, missing=None,\n",
              "                                              n_estimators=1000, n_jobs=1,\n",
              "                                              nthread=None,\n",
              "                                              objective='multi:softmax',\n",
              "                                              random_stat...\n",
              "                                                              max_leaf_nodes=None,\n",
              "                                                              min_impurity_decrease=0.0,\n",
              "                                                              min_impurity_split=None,\n",
              "                                                              min_samples_leaf=25,\n",
              "                                                              min_samples_split=2,\n",
              "                                                              min_weight_fraction_leaf=0.0,\n",
              "                                                              n_estimators=40,\n",
              "                                                              n_iter_no_change=None,\n",
              "                                                              presort='deprecated',\n",
              "                                                              random_state=0,\n",
              "                                                              subsample=0.5,\n",
              "                                                              tol=0.0001,\n",
              "                                                              validation_fraction=0.1,\n",
              "                                                              verbose=0,\n",
              "                                                              warm_start=False),\n",
              "                   n_jobs=None, passthrough=False, stack_method='auto',\n",
              "                   verbose=0)"
            ]
          },
          "metadata": {
            "tags": []
          },
          "execution_count": 69
        }
      ]
    },
    {
      "cell_type": "markdown",
      "metadata": {
        "id": "gxHqB6vy8pUc"
      },
      "source": [
        "PREDECIMOS"
      ]
    },
    {
      "cell_type": "code",
      "metadata": {
        "id": "dJaGBP80AD9R"
      },
      "source": [
        "x_te = preprocessor_test.preproc_test(np.copy(d_test.to_numpy()))"
      ],
      "execution_count": null,
      "outputs": []
    },
    {
      "cell_type": "code",
      "metadata": {
        "id": "l0MUL2Pl8nWw"
      },
      "source": [
        "y_predict = stack.predict(x_te)"
      ],
      "execution_count": null,
      "outputs": []
    },
    {
      "cell_type": "code",
      "metadata": {
        "id": "QNgEMiVh6GRV"
      },
      "source": [
        "result = pd.DataFrame({'id':test_ids, 'Precio_cat':y_predict})"
      ],
      "execution_count": null,
      "outputs": []
    },
    {
      "cell_type": "code",
      "metadata": {
        "colab": {
          "base_uri": "https://localhost:8080/",
          "height": 391
        },
        "id": "uA4J_bHHX0CF",
        "outputId": "476b91c0-c6ae-4c10-f4cd-a4390ae3f3b9"
      },
      "source": [
        "result"
      ],
      "execution_count": null,
      "outputs": [
        {
          "output_type": "execute_result",
          "data": {
            "text/html": [
              "<div>\n",
              "<style scoped>\n",
              "    .dataframe tbody tr th:only-of-type {\n",
              "        vertical-align: middle;\n",
              "    }\n",
              "\n",
              "    .dataframe tbody tr th {\n",
              "        vertical-align: top;\n",
              "    }\n",
              "\n",
              "    .dataframe thead th {\n",
              "        text-align: right;\n",
              "    }\n",
              "</style>\n",
              "<table border=\"1\" class=\"dataframe\">\n",
              "  <thead>\n",
              "    <tr style=\"text-align: right;\">\n",
              "      <th></th>\n",
              "      <th>id</th>\n",
              "      <th>Precio_cat</th>\n",
              "    </tr>\n",
              "  </thead>\n",
              "  <tbody>\n",
              "    <tr>\n",
              "      <th>0</th>\n",
              "      <td>4820</td>\n",
              "      <td>5</td>\n",
              "    </tr>\n",
              "    <tr>\n",
              "      <th>1</th>\n",
              "      <td>4821</td>\n",
              "      <td>2</td>\n",
              "    </tr>\n",
              "    <tr>\n",
              "      <th>2</th>\n",
              "      <td>4822</td>\n",
              "      <td>2</td>\n",
              "    </tr>\n",
              "    <tr>\n",
              "      <th>3</th>\n",
              "      <td>4823</td>\n",
              "      <td>3</td>\n",
              "    </tr>\n",
              "    <tr>\n",
              "      <th>4</th>\n",
              "      <td>4824</td>\n",
              "      <td>2</td>\n",
              "    </tr>\n",
              "    <tr>\n",
              "      <th>...</th>\n",
              "      <td>...</td>\n",
              "      <td>...</td>\n",
              "    </tr>\n",
              "    <tr>\n",
              "      <th>1154</th>\n",
              "      <td>5974</td>\n",
              "      <td>1</td>\n",
              "    </tr>\n",
              "    <tr>\n",
              "      <th>1155</th>\n",
              "      <td>5975</td>\n",
              "      <td>3</td>\n",
              "    </tr>\n",
              "    <tr>\n",
              "      <th>1156</th>\n",
              "      <td>5976</td>\n",
              "      <td>4</td>\n",
              "    </tr>\n",
              "    <tr>\n",
              "      <th>1157</th>\n",
              "      <td>5977</td>\n",
              "      <td>5</td>\n",
              "    </tr>\n",
              "    <tr>\n",
              "      <th>1158</th>\n",
              "      <td>5978</td>\n",
              "      <td>5</td>\n",
              "    </tr>\n",
              "  </tbody>\n",
              "</table>\n",
              "<p>1159 rows × 2 columns</p>\n",
              "</div>"
            ],
            "text/plain": [
              "        id  Precio_cat\n",
              "0     4820           5\n",
              "1     4821           2\n",
              "2     4822           2\n",
              "3     4823           3\n",
              "4     4824           2\n",
              "...    ...         ...\n",
              "1154  5974           1\n",
              "1155  5975           3\n",
              "1156  5976           4\n",
              "1157  5977           5\n",
              "1158  5978           5\n",
              "\n",
              "[1159 rows x 2 columns]"
            ]
          },
          "metadata": {
            "tags": []
          },
          "execution_count": 73
        }
      ]
    },
    {
      "cell_type": "code",
      "metadata": {
        "id": "ag9SWf1c6spf"
      },
      "source": [
        "#result.to_csv('resultados_10.csv', index=False)"
      ],
      "execution_count": null,
      "outputs": []
    }
  ]
}