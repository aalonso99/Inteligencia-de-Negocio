{
  "nbformat": 4,
  "nbformat_minor": 0,
  "metadata": {
    "colab": {
      "name": "P3-2.ipynb",
      "provenance": [],
      "collapsed_sections": []
    },
    "kernelspec": {
      "name": "python3",
      "display_name": "Python 3"
    },
    "accelerator": "GPU"
  },
  "cells": [
    {
      "cell_type": "markdown",
      "metadata": {
        "id": "2LDgnK47n-_Y"
      },
      "source": [
        "Cuaderno correspondiente a las predicciones 3 y 4.\n",
        "\n"
      ]
    },
    {
      "cell_type": "code",
      "metadata": {
        "colab": {
          "base_uri": "https://localhost:8080/"
        },
        "id": "04JV-qjYtoPg",
        "outputId": "c33deb03-350c-4792-8af8-b76ba121769a"
      },
      "source": [
        "#Comentar las siguientes líneas para ejecutar el siguiente script fuera de GoogleColab\n",
        "#from google.colab import drive\n",
        "#drive.mount('/content/gdrive')"
      ],
      "execution_count": null,
      "outputs": [
        {
          "output_type": "stream",
          "text": [
            "Drive already mounted at /content/gdrive; to attempt to forcibly remount, call drive.mount(\"/content/gdrive\", force_remount=True).\n"
          ],
          "name": "stdout"
        }
      ]
    },
    {
      "cell_type": "code",
      "metadata": {
        "colab": {
          "base_uri": "https://localhost:8080/"
        },
        "id": "vYvPpiURtpVa",
        "outputId": "1ba92f06-4bbb-4f3c-f00b-d9a2eb6018f8"
      },
      "source": [
        "#cd '/content/gdrive/My Drive/Inteligencia de Negocio/Prácticas/P3'"
      ],
      "execution_count": null,
      "outputs": [
        {
          "output_type": "stream",
          "text": [
            "/content/gdrive/My Drive/Inteligencia de Negocio/Prácticas/P3\n"
          ],
          "name": "stdout"
        }
      ]
    },
    {
      "cell_type": "markdown",
      "metadata": {
        "id": "VCcrqjXDAe1S"
      },
      "source": [
        "## Preprocesamiento"
      ]
    },
    {
      "cell_type": "code",
      "metadata": {
        "id": "JmAhvI7JApVE"
      },
      "source": [
        "import pandas as pd\n",
        "import numpy as np\n",
        "import matplotlib.pyplot as plt\n",
        "import seaborn as sns"
      ],
      "execution_count": null,
      "outputs": []
    },
    {
      "cell_type": "markdown",
      "metadata": {
        "id": "i14Iv01VQGXl"
      },
      "source": [
        "### Manipulación básica de los datos"
      ]
    },
    {
      "cell_type": "code",
      "metadata": {
        "id": "SpYmn9wRAY0-"
      },
      "source": [
        "rd = pd.read_csv(\"train.csv\", na_values='')\n",
        "rd_test = pd.read_csv(\"test.csv\", na_values='')"
      ],
      "execution_count": null,
      "outputs": []
    },
    {
      "cell_type": "code",
      "metadata": {
        "colab": {
          "base_uri": "https://localhost:8080/",
          "height": 391
        },
        "id": "BGJgn3DcAwUA",
        "outputId": "98ccd481-2cf5-405d-ced6-27d75a7704e5"
      },
      "source": [
        "rd"
      ],
      "execution_count": null,
      "outputs": [
        {
          "output_type": "execute_result",
          "data": {
            "text/html": [
              "<div>\n",
              "<style scoped>\n",
              "    .dataframe tbody tr th:only-of-type {\n",
              "        vertical-align: middle;\n",
              "    }\n",
              "\n",
              "    .dataframe tbody tr th {\n",
              "        vertical-align: top;\n",
              "    }\n",
              "\n",
              "    .dataframe thead th {\n",
              "        text-align: right;\n",
              "    }\n",
              "</style>\n",
              "<table border=\"1\" class=\"dataframe\">\n",
              "  <thead>\n",
              "    <tr style=\"text-align: right;\">\n",
              "      <th></th>\n",
              "      <th>id</th>\n",
              "      <th>Nombre</th>\n",
              "      <th>Ciudad</th>\n",
              "      <th>Año</th>\n",
              "      <th>Kilometros</th>\n",
              "      <th>Combustible</th>\n",
              "      <th>Tipo_marchas</th>\n",
              "      <th>Mano</th>\n",
              "      <th>Consumo</th>\n",
              "      <th>Motor_CC</th>\n",
              "      <th>Potencia</th>\n",
              "      <th>Asientos</th>\n",
              "      <th>Descuento</th>\n",
              "      <th>Precio_cat</th>\n",
              "    </tr>\n",
              "  </thead>\n",
              "  <tbody>\n",
              "    <tr>\n",
              "      <th>0</th>\n",
              "      <td>1.0</td>\n",
              "      <td>Maruti Swift Dzire ZDI</td>\n",
              "      <td>G</td>\n",
              "      <td>2012.0</td>\n",
              "      <td>83000.0</td>\n",
              "      <td>Diesel</td>\n",
              "      <td>Manual</td>\n",
              "      <td>First</td>\n",
              "      <td>23.4 kmpl</td>\n",
              "      <td>1248 CC</td>\n",
              "      <td>74 bhp</td>\n",
              "      <td>5.0</td>\n",
              "      <td>NaN</td>\n",
              "      <td>3</td>\n",
              "    </tr>\n",
              "    <tr>\n",
              "      <th>1</th>\n",
              "      <td>2.0</td>\n",
              "      <td>Maruti Wagon R LXI Optional</td>\n",
              "      <td>I</td>\n",
              "      <td>2016.0</td>\n",
              "      <td>4800.0</td>\n",
              "      <td>Petrol</td>\n",
              "      <td>Manual</td>\n",
              "      <td>First</td>\n",
              "      <td>20.51 kmpl</td>\n",
              "      <td>998 CC</td>\n",
              "      <td>67.04 bhp</td>\n",
              "      <td>5.0</td>\n",
              "      <td>NaN</td>\n",
              "      <td>3</td>\n",
              "    </tr>\n",
              "    <tr>\n",
              "      <th>2</th>\n",
              "      <td>3.0</td>\n",
              "      <td>Mahindra KUV 100 mFALCON D75 K8</td>\n",
              "      <td>F</td>\n",
              "      <td>2016.0</td>\n",
              "      <td>26000.0</td>\n",
              "      <td>Diesel</td>\n",
              "      <td>Manual</td>\n",
              "      <td>First</td>\n",
              "      <td>25.32 kmpl</td>\n",
              "      <td>1198 CC</td>\n",
              "      <td>77 bhp</td>\n",
              "      <td>6.0</td>\n",
              "      <td>NaN</td>\n",
              "      <td>3</td>\n",
              "    </tr>\n",
              "    <tr>\n",
              "      <th>3</th>\n",
              "      <td>4.0</td>\n",
              "      <td>Hyundai i20 1.2 Magna</td>\n",
              "      <td>E</td>\n",
              "      <td>2013.0</td>\n",
              "      <td>56127.0</td>\n",
              "      <td>Petrol</td>\n",
              "      <td>Manual</td>\n",
              "      <td>First</td>\n",
              "      <td>18.5 kmpl</td>\n",
              "      <td>1197 CC</td>\n",
              "      <td>80 bhp</td>\n",
              "      <td>5.0</td>\n",
              "      <td>NaN</td>\n",
              "      <td>3</td>\n",
              "    </tr>\n",
              "    <tr>\n",
              "      <th>4</th>\n",
              "      <td>5.0</td>\n",
              "      <td>Honda Jazz 1.2 SV i VTEC</td>\n",
              "      <td>H</td>\n",
              "      <td>2017.0</td>\n",
              "      <td>41981.0</td>\n",
              "      <td>Petrol</td>\n",
              "      <td>Manual</td>\n",
              "      <td>First</td>\n",
              "      <td>18.7 kmpl</td>\n",
              "      <td>1199 CC</td>\n",
              "      <td>88.7 bhp</td>\n",
              "      <td>5.0</td>\n",
              "      <td>NaN</td>\n",
              "      <td>3</td>\n",
              "    </tr>\n",
              "    <tr>\n",
              "      <th>...</th>\n",
              "      <td>...</td>\n",
              "      <td>...</td>\n",
              "      <td>...</td>\n",
              "      <td>...</td>\n",
              "      <td>...</td>\n",
              "      <td>...</td>\n",
              "      <td>...</td>\n",
              "      <td>...</td>\n",
              "      <td>...</td>\n",
              "      <td>...</td>\n",
              "      <td>...</td>\n",
              "      <td>...</td>\n",
              "      <td>...</td>\n",
              "      <td>...</td>\n",
              "    </tr>\n",
              "    <tr>\n",
              "      <th>4814</th>\n",
              "      <td>4815.0</td>\n",
              "      <td>Maruti Swift VDI</td>\n",
              "      <td>E</td>\n",
              "      <td>2014.0</td>\n",
              "      <td>83274.0</td>\n",
              "      <td>Diesel</td>\n",
              "      <td>Manual</td>\n",
              "      <td>First</td>\n",
              "      <td>22.9 kmpl</td>\n",
              "      <td>1248 CC</td>\n",
              "      <td>74 bhp</td>\n",
              "      <td>5.0</td>\n",
              "      <td>NaN</td>\n",
              "      <td>3</td>\n",
              "    </tr>\n",
              "    <tr>\n",
              "      <th>4815</th>\n",
              "      <td>NaN</td>\n",
              "      <td>Porsche Panamera Diesel 250hp</td>\n",
              "      <td>H</td>\n",
              "      <td>2014.0</td>\n",
              "      <td>60033.0</td>\n",
              "      <td>Diesel</td>\n",
              "      <td>Automatic</td>\n",
              "      <td>First</td>\n",
              "      <td>18.18 kmpl</td>\n",
              "      <td>2967 CC</td>\n",
              "      <td>250 bhp</td>\n",
              "      <td>4.0</td>\n",
              "      <td>NaN</td>\n",
              "      <td>5</td>\n",
              "    </tr>\n",
              "    <tr>\n",
              "      <th>4816</th>\n",
              "      <td>4817.0</td>\n",
              "      <td>Hyundai Creta 1.6 CRDi SX Option</td>\n",
              "      <td>C</td>\n",
              "      <td>2017.0</td>\n",
              "      <td>40158.0</td>\n",
              "      <td>Diesel</td>\n",
              "      <td>Manual</td>\n",
              "      <td>First</td>\n",
              "      <td>19.67 kmpl</td>\n",
              "      <td>NaN</td>\n",
              "      <td>126.2 bhp</td>\n",
              "      <td>5.0</td>\n",
              "      <td>NaN</td>\n",
              "      <td>4</td>\n",
              "    </tr>\n",
              "    <tr>\n",
              "      <th>4817</th>\n",
              "      <td>4818.0</td>\n",
              "      <td>Hyundai Xcent 1.2 VTVT S</td>\n",
              "      <td>E</td>\n",
              "      <td>2015.0</td>\n",
              "      <td>65743.0</td>\n",
              "      <td>Petrol</td>\n",
              "      <td>Manual</td>\n",
              "      <td>First</td>\n",
              "      <td>20.14 kmpl</td>\n",
              "      <td>1197 CC</td>\n",
              "      <td>81.86 bhp</td>\n",
              "      <td>5.0</td>\n",
              "      <td>7.85</td>\n",
              "      <td>3</td>\n",
              "    </tr>\n",
              "    <tr>\n",
              "      <th>4818</th>\n",
              "      <td>4819.0</td>\n",
              "      <td>Maruti Ertiga ZDI</td>\n",
              "      <td>B</td>\n",
              "      <td>2013.0</td>\n",
              "      <td>75000.0</td>\n",
              "      <td>Diesel</td>\n",
              "      <td>Manual</td>\n",
              "      <td>First</td>\n",
              "      <td>20.77 kmpl</td>\n",
              "      <td>1248 CC</td>\n",
              "      <td>88.8 bhp</td>\n",
              "      <td>7.0</td>\n",
              "      <td>NaN</td>\n",
              "      <td>3</td>\n",
              "    </tr>\n",
              "  </tbody>\n",
              "</table>\n",
              "<p>4819 rows × 14 columns</p>\n",
              "</div>"
            ],
            "text/plain": [
              "          id                            Nombre  ... Descuento  Precio_cat\n",
              "0        1.0            Maruti Swift Dzire ZDI  ...       NaN           3\n",
              "1        2.0       Maruti Wagon R LXI Optional  ...       NaN           3\n",
              "2        3.0   Mahindra KUV 100 mFALCON D75 K8  ...       NaN           3\n",
              "3        4.0             Hyundai i20 1.2 Magna  ...       NaN           3\n",
              "4        5.0          Honda Jazz 1.2 SV i VTEC  ...       NaN           3\n",
              "...      ...                               ...  ...       ...         ...\n",
              "4814  4815.0                  Maruti Swift VDI  ...       NaN           3\n",
              "4815     NaN     Porsche Panamera Diesel 250hp  ...       NaN           5\n",
              "4816  4817.0  Hyundai Creta 1.6 CRDi SX Option  ...       NaN           4\n",
              "4817  4818.0          Hyundai Xcent 1.2 VTVT S  ...      7.85           3\n",
              "4818  4819.0                 Maruti Ertiga ZDI  ...       NaN           3\n",
              "\n",
              "[4819 rows x 14 columns]"
            ]
          },
          "metadata": {
            "tags": []
          },
          "execution_count": 5
        }
      ]
    },
    {
      "cell_type": "code",
      "metadata": {
        "id": "6BuiDIDKHqkj"
      },
      "source": [
        "d = rd.copy()\n",
        "d_test = rd_test.copy()"
      ],
      "execution_count": null,
      "outputs": []
    },
    {
      "cell_type": "code",
      "metadata": {
        "colab": {
          "base_uri": "https://localhost:8080/"
        },
        "id": "z73ExfCDBBX8",
        "outputId": "50614a02-5e52-4855-be7b-3311bcd93799"
      },
      "source": [
        "d['Descuento'].count()"
      ],
      "execution_count": null,
      "outputs": [
        {
          "output_type": "execute_result",
          "data": {
            "text/plain": [
              "659"
            ]
          },
          "metadata": {
            "tags": []
          },
          "execution_count": 7
        }
      ]
    },
    {
      "cell_type": "markdown",
      "metadata": {
        "id": "wmEt-OwssKgJ"
      },
      "source": [
        "Borramos la columna \"Descuento\" porque la mayor parte de las veces no es conocida."
      ]
    },
    {
      "cell_type": "code",
      "metadata": {
        "id": "CCfejf_4r-cU"
      },
      "source": [
        "del d['Descuento']\n",
        "del d['id']\n",
        "\n",
        "del d_test['Descuento']\n",
        "test_ids = d_test['id']\n",
        "del d_test['id']"
      ],
      "execution_count": null,
      "outputs": []
    },
    {
      "cell_type": "markdown",
      "metadata": {
        "id": "DAya67wbPauD"
      },
      "source": [
        "ESTA VEZ DEJAREMOS LAS CIUDADES Y LOS NOMBRES DE LOS MODELOS"
      ]
    },
    {
      "cell_type": "code",
      "metadata": {
        "id": "0iI_07HSCXs3"
      },
      "source": [
        "d = d.dropna()"
      ],
      "execution_count": null,
      "outputs": []
    },
    {
      "cell_type": "code",
      "metadata": {
        "colab": {
          "base_uri": "https://localhost:8080/"
        },
        "id": "-MJivVgWBEts",
        "outputId": "d94d6159-8eb9-4c5d-cda2-d6d5e4632fee"
      },
      "source": [
        "d.count()"
      ],
      "execution_count": null,
      "outputs": [
        {
          "output_type": "execute_result",
          "data": {
            "text/plain": [
              "Nombre          4001\n",
              "Ciudad          4001\n",
              "Año             4001\n",
              "Kilometros      4001\n",
              "Combustible     4001\n",
              "Tipo_marchas    4001\n",
              "Mano            4001\n",
              "Consumo         4001\n",
              "Motor_CC        4001\n",
              "Potencia        4001\n",
              "Asientos        4001\n",
              "Precio_cat      4001\n",
              "dtype: int64"
            ]
          },
          "metadata": {
            "tags": []
          },
          "execution_count": 10
        }
      ]
    },
    {
      "cell_type": "code",
      "metadata": {
        "colab": {
          "base_uri": "https://localhost:8080/",
          "height": 391
        },
        "id": "YSV6p56UC5hQ",
        "outputId": "473f886e-362c-4048-ab1d-94b85c98185b"
      },
      "source": [
        "d"
      ],
      "execution_count": null,
      "outputs": [
        {
          "output_type": "execute_result",
          "data": {
            "text/html": [
              "<div>\n",
              "<style scoped>\n",
              "    .dataframe tbody tr th:only-of-type {\n",
              "        vertical-align: middle;\n",
              "    }\n",
              "\n",
              "    .dataframe tbody tr th {\n",
              "        vertical-align: top;\n",
              "    }\n",
              "\n",
              "    .dataframe thead th {\n",
              "        text-align: right;\n",
              "    }\n",
              "</style>\n",
              "<table border=\"1\" class=\"dataframe\">\n",
              "  <thead>\n",
              "    <tr style=\"text-align: right;\">\n",
              "      <th></th>\n",
              "      <th>Nombre</th>\n",
              "      <th>Ciudad</th>\n",
              "      <th>Año</th>\n",
              "      <th>Kilometros</th>\n",
              "      <th>Combustible</th>\n",
              "      <th>Tipo_marchas</th>\n",
              "      <th>Mano</th>\n",
              "      <th>Consumo</th>\n",
              "      <th>Motor_CC</th>\n",
              "      <th>Potencia</th>\n",
              "      <th>Asientos</th>\n",
              "      <th>Precio_cat</th>\n",
              "    </tr>\n",
              "  </thead>\n",
              "  <tbody>\n",
              "    <tr>\n",
              "      <th>0</th>\n",
              "      <td>Maruti Swift Dzire ZDI</td>\n",
              "      <td>G</td>\n",
              "      <td>2012.0</td>\n",
              "      <td>83000.0</td>\n",
              "      <td>Diesel</td>\n",
              "      <td>Manual</td>\n",
              "      <td>First</td>\n",
              "      <td>23.4 kmpl</td>\n",
              "      <td>1248 CC</td>\n",
              "      <td>74 bhp</td>\n",
              "      <td>5.0</td>\n",
              "      <td>3</td>\n",
              "    </tr>\n",
              "    <tr>\n",
              "      <th>1</th>\n",
              "      <td>Maruti Wagon R LXI Optional</td>\n",
              "      <td>I</td>\n",
              "      <td>2016.0</td>\n",
              "      <td>4800.0</td>\n",
              "      <td>Petrol</td>\n",
              "      <td>Manual</td>\n",
              "      <td>First</td>\n",
              "      <td>20.51 kmpl</td>\n",
              "      <td>998 CC</td>\n",
              "      <td>67.04 bhp</td>\n",
              "      <td>5.0</td>\n",
              "      <td>3</td>\n",
              "    </tr>\n",
              "    <tr>\n",
              "      <th>2</th>\n",
              "      <td>Mahindra KUV 100 mFALCON D75 K8</td>\n",
              "      <td>F</td>\n",
              "      <td>2016.0</td>\n",
              "      <td>26000.0</td>\n",
              "      <td>Diesel</td>\n",
              "      <td>Manual</td>\n",
              "      <td>First</td>\n",
              "      <td>25.32 kmpl</td>\n",
              "      <td>1198 CC</td>\n",
              "      <td>77 bhp</td>\n",
              "      <td>6.0</td>\n",
              "      <td>3</td>\n",
              "    </tr>\n",
              "    <tr>\n",
              "      <th>3</th>\n",
              "      <td>Hyundai i20 1.2 Magna</td>\n",
              "      <td>E</td>\n",
              "      <td>2013.0</td>\n",
              "      <td>56127.0</td>\n",
              "      <td>Petrol</td>\n",
              "      <td>Manual</td>\n",
              "      <td>First</td>\n",
              "      <td>18.5 kmpl</td>\n",
              "      <td>1197 CC</td>\n",
              "      <td>80 bhp</td>\n",
              "      <td>5.0</td>\n",
              "      <td>3</td>\n",
              "    </tr>\n",
              "    <tr>\n",
              "      <th>4</th>\n",
              "      <td>Honda Jazz 1.2 SV i VTEC</td>\n",
              "      <td>H</td>\n",
              "      <td>2017.0</td>\n",
              "      <td>41981.0</td>\n",
              "      <td>Petrol</td>\n",
              "      <td>Manual</td>\n",
              "      <td>First</td>\n",
              "      <td>18.7 kmpl</td>\n",
              "      <td>1199 CC</td>\n",
              "      <td>88.7 bhp</td>\n",
              "      <td>5.0</td>\n",
              "      <td>3</td>\n",
              "    </tr>\n",
              "    <tr>\n",
              "      <th>...</th>\n",
              "      <td>...</td>\n",
              "      <td>...</td>\n",
              "      <td>...</td>\n",
              "      <td>...</td>\n",
              "      <td>...</td>\n",
              "      <td>...</td>\n",
              "      <td>...</td>\n",
              "      <td>...</td>\n",
              "      <td>...</td>\n",
              "      <td>...</td>\n",
              "      <td>...</td>\n",
              "      <td>...</td>\n",
              "    </tr>\n",
              "    <tr>\n",
              "      <th>4813</th>\n",
              "      <td>Volkswagen Vento Petrol Highline</td>\n",
              "      <td>C</td>\n",
              "      <td>2012.0</td>\n",
              "      <td>67200.0</td>\n",
              "      <td>Petrol</td>\n",
              "      <td>Manual</td>\n",
              "      <td>First</td>\n",
              "      <td>15.04 kmpl</td>\n",
              "      <td>1598 CC</td>\n",
              "      <td>103.6 bhp</td>\n",
              "      <td>5.0</td>\n",
              "      <td>3</td>\n",
              "    </tr>\n",
              "    <tr>\n",
              "      <th>4814</th>\n",
              "      <td>Maruti Swift VDI</td>\n",
              "      <td>E</td>\n",
              "      <td>2014.0</td>\n",
              "      <td>83274.0</td>\n",
              "      <td>Diesel</td>\n",
              "      <td>Manual</td>\n",
              "      <td>First</td>\n",
              "      <td>22.9 kmpl</td>\n",
              "      <td>1248 CC</td>\n",
              "      <td>74 bhp</td>\n",
              "      <td>5.0</td>\n",
              "      <td>3</td>\n",
              "    </tr>\n",
              "    <tr>\n",
              "      <th>4815</th>\n",
              "      <td>Porsche Panamera Diesel 250hp</td>\n",
              "      <td>H</td>\n",
              "      <td>2014.0</td>\n",
              "      <td>60033.0</td>\n",
              "      <td>Diesel</td>\n",
              "      <td>Automatic</td>\n",
              "      <td>First</td>\n",
              "      <td>18.18 kmpl</td>\n",
              "      <td>2967 CC</td>\n",
              "      <td>250 bhp</td>\n",
              "      <td>4.0</td>\n",
              "      <td>5</td>\n",
              "    </tr>\n",
              "    <tr>\n",
              "      <th>4817</th>\n",
              "      <td>Hyundai Xcent 1.2 VTVT S</td>\n",
              "      <td>E</td>\n",
              "      <td>2015.0</td>\n",
              "      <td>65743.0</td>\n",
              "      <td>Petrol</td>\n",
              "      <td>Manual</td>\n",
              "      <td>First</td>\n",
              "      <td>20.14 kmpl</td>\n",
              "      <td>1197 CC</td>\n",
              "      <td>81.86 bhp</td>\n",
              "      <td>5.0</td>\n",
              "      <td>3</td>\n",
              "    </tr>\n",
              "    <tr>\n",
              "      <th>4818</th>\n",
              "      <td>Maruti Ertiga ZDI</td>\n",
              "      <td>B</td>\n",
              "      <td>2013.0</td>\n",
              "      <td>75000.0</td>\n",
              "      <td>Diesel</td>\n",
              "      <td>Manual</td>\n",
              "      <td>First</td>\n",
              "      <td>20.77 kmpl</td>\n",
              "      <td>1248 CC</td>\n",
              "      <td>88.8 bhp</td>\n",
              "      <td>7.0</td>\n",
              "      <td>3</td>\n",
              "    </tr>\n",
              "  </tbody>\n",
              "</table>\n",
              "<p>4001 rows × 12 columns</p>\n",
              "</div>"
            ],
            "text/plain": [
              "                                Nombre Ciudad  ...  Asientos  Precio_cat\n",
              "0               Maruti Swift Dzire ZDI      G  ...       5.0           3\n",
              "1          Maruti Wagon R LXI Optional      I  ...       5.0           3\n",
              "2      Mahindra KUV 100 mFALCON D75 K8      F  ...       6.0           3\n",
              "3                Hyundai i20 1.2 Magna      E  ...       5.0           3\n",
              "4             Honda Jazz 1.2 SV i VTEC      H  ...       5.0           3\n",
              "...                                ...    ...  ...       ...         ...\n",
              "4813  Volkswagen Vento Petrol Highline      C  ...       5.0           3\n",
              "4814                  Maruti Swift VDI      E  ...       5.0           3\n",
              "4815     Porsche Panamera Diesel 250hp      H  ...       4.0           5\n",
              "4817          Hyundai Xcent 1.2 VTVT S      E  ...       5.0           3\n",
              "4818                 Maruti Ertiga ZDI      B  ...       7.0           3\n",
              "\n",
              "[4001 rows x 12 columns]"
            ]
          },
          "metadata": {
            "tags": []
          },
          "execution_count": 11
        }
      ]
    },
    {
      "cell_type": "code",
      "metadata": {
        "id": "Cwa6E_QUD7Sf"
      },
      "source": [
        "def remove_units(s, n_chars):\n",
        "  return float(s[0:-n_chars])\n",
        "\n",
        "def remove_kmpl(s):\n",
        "  return remove_units(s, 5)\n",
        "\n",
        "def remove_cc(s):\n",
        "  return remove_units(s, 3)\n",
        "\n",
        "def remove_bhp(s):\n",
        "  return remove_units(s, 4)"
      ],
      "execution_count": null,
      "outputs": []
    },
    {
      "cell_type": "code",
      "metadata": {
        "id": "UKjvnnRCBpD8"
      },
      "source": [
        "d['Consumo'] = d['Consumo'].map(remove_kmpl)\n",
        "d['Motor_CC'] = d['Motor_CC'].map(remove_cc)\n",
        "d['Potencia'] = d['Potencia'].map(remove_bhp)\n",
        "d_test['Consumo'] = d_test['Consumo'].map(remove_kmpl)\n",
        "d_test['Motor_CC'] = d_test['Motor_CC'].map(remove_cc)\n",
        "d_test['Potencia'] = d_test['Potencia'].map(remove_bhp)"
      ],
      "execution_count": null,
      "outputs": []
    },
    {
      "cell_type": "markdown",
      "metadata": {
        "id": "JyoYy8LUQNJW"
      },
      "source": [
        "### Resampling"
      ]
    },
    {
      "cell_type": "markdown",
      "metadata": {
        "id": "uCiAChZKHcJ9"
      },
      "source": [
        "Vemos como de desbalanceados están los datos:"
      ]
    },
    {
      "cell_type": "code",
      "metadata": {
        "id": "JngCqSM1Het6"
      },
      "source": [
        "from collections import Counter"
      ],
      "execution_count": null,
      "outputs": []
    },
    {
      "cell_type": "code",
      "metadata": {
        "colab": {
          "base_uri": "https://localhost:8080/"
        },
        "id": "7K0R3_REHfMZ",
        "outputId": "a6dda9f6-aec0-4955-bbee-5a6c1997394d"
      },
      "source": [
        "print(Counter(rd['Precio_cat']))\n",
        "print(Counter(d['Precio_cat']))"
      ],
      "execution_count": null,
      "outputs": [
        {
          "output_type": "stream",
          "text": [
            "Counter({3: 2211, 4: 978, 5: 759, 2: 602, 1: 269})\n",
            "Counter({3: 1825, 4: 834, 5: 637, 2: 502, 1: 203})\n"
          ],
          "name": "stdout"
        }
      ]
    },
    {
      "cell_type": "markdown",
      "metadata": {
        "id": "qzV3vlHYxHNB"
      },
      "source": [
        "PROBAMOS A HACER UN SIMPLE OVERSAMPLING. EN ESTE CASO, CONSIDERAREMOS EL NÚMERO DE ASIENTOS COMO UNA VARIABLE CATEGÓRICA"
      ]
    },
    {
      "cell_type": "code",
      "metadata": {
        "colab": {
          "base_uri": "https://localhost:8080/"
        },
        "id": "t5qEa4CIICqy",
        "outputId": "7124b166-9cbd-4b98-867e-71ef32b9a5d8"
      },
      "source": [
        "from imblearn.over_sampling import SMOTENC\n",
        "categorical_features = (0,1,4,5,6,10)"
      ],
      "execution_count": null,
      "outputs": [
        {
          "output_type": "stream",
          "text": [
            "/usr/local/lib/python3.6/dist-packages/sklearn/externals/six.py:31: FutureWarning: The module is deprecated in version 0.21 and will be removed in version 0.23 since we've dropped support for Python 2.7. Please rely on the official version of six (https://pypi.org/project/six/).\n",
            "  \"(https://pypi.org/project/six/).\", FutureWarning)\n",
            "/usr/local/lib/python3.6/dist-packages/sklearn/utils/deprecation.py:144: FutureWarning: The sklearn.neighbors.base module is  deprecated in version 0.22 and will be removed in version 0.24. The corresponding classes / functions should instead be imported from sklearn.neighbors. Anything that cannot be imported from sklearn.neighbors is now part of the private API.\n",
            "  warnings.warn(message, FutureWarning)\n"
          ],
          "name": "stderr"
        }
      ]
    },
    {
      "cell_type": "code",
      "metadata": {
        "id": "A2b-eMWaKncJ"
      },
      "source": [
        "X = d.loc[:, d.columns != 'Precio_cat']\n",
        "y = d['Precio_cat']"
      ],
      "execution_count": null,
      "outputs": []
    },
    {
      "cell_type": "code",
      "metadata": {
        "colab": {
          "base_uri": "https://localhost:8080/"
        },
        "id": "OLcE4s_GLnlS",
        "outputId": "3a138645-26ee-4752-b1d2-b105bc1f2223"
      },
      "source": [
        "smote_nc = SMOTENC(categorical_features=categorical_features, random_state=0)\n",
        "X_res, y_res = smote_nc.fit_resample(X, y)\n",
        "print('Dataset after resampling:')\n",
        "print(sorted(Counter(y_res).items()))"
      ],
      "execution_count": null,
      "outputs": [
        {
          "output_type": "stream",
          "text": [
            "/usr/local/lib/python3.6/dist-packages/sklearn/utils/deprecation.py:87: FutureWarning: Function safe_indexing is deprecated; safe_indexing is deprecated in version 0.22 and will be removed in version 0.24.\n",
            "  warnings.warn(msg, category=FutureWarning)\n",
            "/usr/local/lib/python3.6/dist-packages/sklearn/utils/deprecation.py:87: FutureWarning: Function safe_indexing is deprecated; safe_indexing is deprecated in version 0.22 and will be removed in version 0.24.\n",
            "  warnings.warn(msg, category=FutureWarning)\n"
          ],
          "name": "stderr"
        },
        {
          "output_type": "stream",
          "text": [
            "Dataset after resampling:\n",
            "[(1, 1825), (2, 1825), (3, 1825), (4, 1825), (5, 1825)]\n"
          ],
          "name": "stdout"
        }
      ]
    },
    {
      "cell_type": "markdown",
      "metadata": {
        "id": "xksrV81qMf0E"
      },
      "source": [
        "Codificamos los datos categóricos."
      ]
    },
    {
      "cell_type": "code",
      "metadata": {
        "id": "RW8pFGFKO7n4"
      },
      "source": [
        "from sklearn.preprocessing import OneHotEncoder\n",
        "from sklearn.compose import ColumnTransformer\n",
        "from sklearn.pipeline import Pipeline\n",
        "from sklearn.preprocessing import LabelEncoder\n",
        "from sklearn.preprocessing import MinMaxScaler, StandardScaler\n",
        "le = [ LabelEncoder() for _ in categorical_features ]\n",
        "scaler = MinMaxScaler()\n",
        "scaler_oh = MinMaxScaler()\n",
        "#scaler_oh = StandardScaler()"
      ],
      "execution_count": null,
      "outputs": []
    },
    {
      "cell_type": "code",
      "metadata": {
        "colab": {
          "base_uri": "https://localhost:8080/"
        },
        "id": "doPJZWoqwEEB",
        "outputId": "9a03c4e5-bd95-4703-aaab-c53b4f86a83f"
      },
      "source": [
        "X_res[:,categorical_features]"
      ],
      "execution_count": null,
      "outputs": [
        {
          "output_type": "execute_result",
          "data": {
            "text/plain": [
              "array([['Maruti Swift Dzire ZDI', 'G', 'Diesel', 'Manual', 'First', 5.0],\n",
              "       ['Maruti Wagon R LXI Optional', 'I', 'Petrol', 'Manual', 'First',\n",
              "        5.0],\n",
              "       ['Mahindra KUV 100 mFALCON D75 K8', 'F', 'Diesel', 'Manual',\n",
              "        'First', 6.0],\n",
              "       ...,\n",
              "       ['Mercedes-Benz C-Class Progressive C 220d', 'J', 'Diesel',\n",
              "        'Automatic', 'First', 5.0],\n",
              "       ['Toyota Innova Crysta 2.4 VX MT', 'D', 'Diesel', 'Automatic',\n",
              "        'First', 5.0],\n",
              "       ['Mercedes-Benz GLA Class 200 CDI SPORT', 'C', 'Diesel',\n",
              "        'Automatic', 'First', 5.0]], dtype=object)"
            ]
          },
          "metadata": {
            "tags": []
          },
          "execution_count": 20
        }
      ]
    },
    {
      "cell_type": "code",
      "metadata": {
        "colab": {
          "base_uri": "https://localhost:8080/"
        },
        "id": "_vNi-i2Pra4L",
        "outputId": "7695fa5c-350c-457c-be69-46a719d08b1f"
      },
      "source": [
        "categorical_transformer = Pipeline(steps=[('onehot', OneHotEncoder())])\n",
        "\n",
        "ohe = ColumnTransformer(transformers=[('cat', categorical_transformer, categorical_features)])\n",
        "\n",
        "ohe.fit( np.vstack((X_res,d_test.to_numpy())) )\n",
        "X_oh = ohe.transform( X_res ).toarray()\n",
        "X_oh = np.hstack( (X_oh,np.delete(X_res,categorical_features,axis=1)) )\n",
        "X_oh = scaler_oh.fit_transform(X_oh)\n",
        "X_oh"
      ],
      "execution_count": null,
      "outputs": [
        {
          "output_type": "execute_result",
          "data": {
            "text/plain": [
              "array([[0.        , 0.        , 0.        , ..., 0.69767442, 0.11611463,\n",
              "        0.07569418],\n",
              "       [0.        , 0.        , 0.        , ..., 0.61150865, 0.06959434,\n",
              "        0.06245721],\n",
              "       [0.        , 0.        , 0.        , ..., 0.7549195 , 0.10681057,\n",
              "        0.08139977],\n",
              "       ...,\n",
              "       [0.        , 0.        , 0.        , ..., 0.66999855, 0.25516683,\n",
              "        0.29183494],\n",
              "       [0.        , 0.        , 0.        , ..., 0.52261414, 0.34237625,\n",
              "        0.22994234],\n",
              "       [0.        , 0.        , 0.        , ..., 0.43504377, 0.27640517,\n",
              "        0.1660974 ]])"
            ]
          },
          "metadata": {
            "tags": []
          },
          "execution_count": 21
        }
      ]
    },
    {
      "cell_type": "code",
      "metadata": {
        "id": "KS-Foa7cPVgL"
      },
      "source": [
        "for i, f in enumerate(categorical_features):\n",
        "  le[i].fit( np.hstack((X_res[:,f],d_test.to_numpy()[:,f])) )   #<------- AQUÍ PONGO LA UNIÓN DEL X DE TRAIN Y EL DE TEST, PARA QUE APRENDA A CODIFICAR LAS DOS\n",
        "  X_res[:,f] = le[i].transform(X_res[:,f])\n",
        "X_res = scaler.fit_transform(X_res)"
      ],
      "execution_count": null,
      "outputs": []
    },
    {
      "cell_type": "code",
      "metadata": {
        "id": "FLDfpnfgUfnG"
      },
      "source": [
        "###PARA DESHACER LA TRANSFORMACIÓN\n",
        "#X_res[:,categorical_features] = scaler.inverse_transform(X_res[:,categorical_features])\n",
        "#for i, f in enumerate(categorical_features):\n",
        "#  X_res[:,f] = le[i].inverse_transform(X_res[:,f].astype(int))"
      ],
      "execution_count": null,
      "outputs": []
    },
    {
      "cell_type": "markdown",
      "metadata": {
        "id": "iIBT0yXwQzH_"
      },
      "source": [
        "## Redes Neuronales"
      ]
    },
    {
      "cell_type": "code",
      "metadata": {
        "id": "F5xWp2_qRQks"
      },
      "source": [
        "import matplotlib.pyplot as plt\n",
        "import tensorflow as tf\n",
        "from tensorflow import keras\n",
        "from tensorflow.keras import layers\n",
        "import keras.utils as np_utils\n",
        "from sklearn.model_selection import train_test_split"
      ],
      "execution_count": null,
      "outputs": []
    },
    {
      "cell_type": "code",
      "metadata": {
        "id": "WzHUt8MxRUEX"
      },
      "source": [
        "def calcularAccuracy(labels, preds):\n",
        "    labels = np.argmax(labels, axis = 1)\n",
        "    preds = np.argmax(preds, axis = 1)\n",
        "    accuracy = sum(labels == preds)/len(labels)\n",
        "    return accuracy\n",
        "\n",
        "def mostrarEvolucion(hist):\n",
        "    loss = hist.history['loss']\n",
        "    val_loss = hist.history['val_loss']\n",
        "    plt.plot(loss)\n",
        "    plt.plot(val_loss)\n",
        "    plt.legend(['Training loss', 'Validation loss'])\n",
        "    plt.show()\n",
        "    \n",
        "    acc = hist.history['accuracy']\n",
        "    val_acc = hist.history['val_accuracy']\n",
        "    plt.plot(acc)\n",
        "    plt.plot(val_acc)\n",
        "    plt.legend(['Training accuracy','Validation accuracy'])\n",
        "    plt.show()"
      ],
      "execution_count": null,
      "outputs": []
    },
    {
      "cell_type": "code",
      "metadata": {
        "id": "nYdfR0ROywpq"
      },
      "source": [
        "data, labels = X_oh, y_res"
      ],
      "execution_count": null,
      "outputs": []
    },
    {
      "cell_type": "code",
      "metadata": {
        "colab": {
          "base_uri": "https://localhost:8080/"
        },
        "id": "5cbCpk6lyYQE",
        "outputId": "32423893-2983-41d0-cd34-42822b804ed0"
      },
      "source": [
        "data.shape[1]"
      ],
      "execution_count": null,
      "outputs": [
        {
          "output_type": "execute_result",
          "data": {
            "text/plain": [
              "1761"
            ]
          },
          "metadata": {
            "tags": []
          },
          "execution_count": 27
        }
      ]
    },
    {
      "cell_type": "code",
      "metadata": {
        "id": "ERVLs_klXGQv"
      },
      "source": [
        "def modelNN(n1, n2, n3, n4):\n",
        "  initializer = keras.initializers.HeUniform()\n",
        "  model = keras.Sequential()\n",
        "  model.add(layers.Dense(n1, activation='relu', kernel_initializer=initializer,\n",
        "                         input_dim=data.shape[1])\n",
        "                        )\n",
        "  model.add(layers.Dropout(0.3))\n",
        "  if n2 > 0:\n",
        "    model.add(layers.Dense(n2, activation='relu', kernel_initializer=initializer,\n",
        "                         ))\n",
        "    model.add(layers.Dropout(0.4))\n",
        "  if n3 > 0:\n",
        "    model.add(layers.Dense(n3, activation='relu', kernel_initializer=initializer,\n",
        "                         ))\n",
        "    model.add(layers.Dropout(0.3))\n",
        "  model.add(layers.Dense(n4, activation='softmax', kernel_initializer=initializer,\n",
        "                         ))\n",
        "  return model"
      ],
      "execution_count": null,
      "outputs": []
    },
    {
      "cell_type": "code",
      "metadata": {
        "colab": {
          "base_uri": "https://localhost:8080/",
          "height": 1000
        },
        "id": "1V8aq1MrTxF7",
        "outputId": "655c3077-fd92-403e-9623-c08faa9b9d83"
      },
      "source": [
        "n1 = 378\n",
        "n2 = 128\n",
        "n3 = 25\n",
        "n4 = 5\n",
        "\n",
        "#for train_idx, test_idx in kf.split(data):\n",
        "y_truth = np_utils.to_categorical(labels)[:,1:].astype(int)\n",
        "\n",
        "X_train, X_test, y_train, y_test = train_test_split(data, y_truth, test_size=0.5, shuffle=True )\n",
        "\n",
        "MLP = modelNN(n1, n2, n3, n4)\n",
        "MLP.compile(loss=keras.losses.categorical_crossentropy, \n",
        "              optimizer=keras.optimizers.Adam(learning_rate=0.0001, beta_1=0.9, beta_2=0.99), \n",
        "              metrics=['accuracy'])\n",
        "hist = MLP.fit(X_train, y_train, \n",
        "                  batch_size=10, epochs=50, \n",
        "                  callbacks=[keras.callbacks.EarlyStopping(monitor='val_loss', patience=5, restore_best_weights=True)],\n",
        "                  validation_data=(X_test,y_test))\n",
        "mostrarEvolucion(hist)\n",
        "y_predict = MLP.predict(X_test)\n",
        "acc = calcularAccuracy(y_test, y_predict)\n",
        "\n",
        "acc"
      ],
      "execution_count": null,
      "outputs": [
        {
          "output_type": "stream",
          "text": [
            "Epoch 1/50\n",
            "457/457 [==============================] - 3s 5ms/step - loss: 1.5379 - accuracy: 0.3215 - val_loss: 1.2377 - val_accuracy: 0.4946\n",
            "Epoch 2/50\n",
            "457/457 [==============================] - 2s 5ms/step - loss: 1.2329 - accuracy: 0.4756 - val_loss: 1.0395 - val_accuracy: 0.5663\n",
            "Epoch 3/50\n",
            "457/457 [==============================] - 2s 5ms/step - loss: 1.1021 - accuracy: 0.5190 - val_loss: 0.9220 - val_accuracy: 0.6513\n",
            "Epoch 4/50\n",
            "457/457 [==============================] - 2s 5ms/step - loss: 0.9833 - accuracy: 0.5718 - val_loss: 0.8151 - val_accuracy: 0.6897\n",
            "Epoch 5/50\n",
            "457/457 [==============================] - 2s 5ms/step - loss: 0.9298 - accuracy: 0.6109 - val_loss: 0.7311 - val_accuracy: 0.7348\n",
            "Epoch 6/50\n",
            "457/457 [==============================] - 2s 5ms/step - loss: 0.7987 - accuracy: 0.6650 - val_loss: 0.6575 - val_accuracy: 0.7673\n",
            "Epoch 7/50\n",
            "457/457 [==============================] - 2s 5ms/step - loss: 0.7304 - accuracy: 0.7013 - val_loss: 0.5920 - val_accuracy: 0.7896\n",
            "Epoch 8/50\n",
            "457/457 [==============================] - 2s 5ms/step - loss: 0.6345 - accuracy: 0.7530 - val_loss: 0.5242 - val_accuracy: 0.8157\n",
            "Epoch 9/50\n",
            "457/457 [==============================] - 2s 5ms/step - loss: 0.5741 - accuracy: 0.7794 - val_loss: 0.4828 - val_accuracy: 0.8337\n",
            "Epoch 10/50\n",
            "457/457 [==============================] - 2s 5ms/step - loss: 0.5333 - accuracy: 0.7973 - val_loss: 0.4487 - val_accuracy: 0.8424\n",
            "Epoch 11/50\n",
            "457/457 [==============================] - 2s 5ms/step - loss: 0.4827 - accuracy: 0.8167 - val_loss: 0.4204 - val_accuracy: 0.8514\n",
            "Epoch 12/50\n",
            "457/457 [==============================] - 2s 5ms/step - loss: 0.4412 - accuracy: 0.8451 - val_loss: 0.3904 - val_accuracy: 0.8529\n",
            "Epoch 13/50\n",
            "457/457 [==============================] - 2s 5ms/step - loss: 0.4132 - accuracy: 0.8330 - val_loss: 0.3811 - val_accuracy: 0.8615\n",
            "Epoch 14/50\n",
            "457/457 [==============================] - 2s 5ms/step - loss: 0.3633 - accuracy: 0.8737 - val_loss: 0.3562 - val_accuracy: 0.8689\n",
            "Epoch 15/50\n",
            "457/457 [==============================] - 2s 5ms/step - loss: 0.3483 - accuracy: 0.8748 - val_loss: 0.3480 - val_accuracy: 0.8711\n",
            "Epoch 16/50\n",
            "457/457 [==============================] - 2s 5ms/step - loss: 0.3014 - accuracy: 0.8985 - val_loss: 0.3378 - val_accuracy: 0.8742\n",
            "Epoch 17/50\n",
            "457/457 [==============================] - 2s 5ms/step - loss: 0.2827 - accuracy: 0.8954 - val_loss: 0.3352 - val_accuracy: 0.8755\n",
            "Epoch 18/50\n",
            "457/457 [==============================] - 2s 5ms/step - loss: 0.2704 - accuracy: 0.9098 - val_loss: 0.3285 - val_accuracy: 0.8784\n",
            "Epoch 19/50\n",
            "457/457 [==============================] - 2s 5ms/step - loss: 0.2498 - accuracy: 0.9163 - val_loss: 0.3270 - val_accuracy: 0.8810\n",
            "Epoch 20/50\n",
            "457/457 [==============================] - 2s 5ms/step - loss: 0.2425 - accuracy: 0.9171 - val_loss: 0.3278 - val_accuracy: 0.8786\n",
            "Epoch 21/50\n",
            "457/457 [==============================] - 2s 5ms/step - loss: 0.2268 - accuracy: 0.9206 - val_loss: 0.3291 - val_accuracy: 0.8782\n",
            "Epoch 22/50\n",
            "457/457 [==============================] - 2s 5ms/step - loss: 0.2215 - accuracy: 0.9270 - val_loss: 0.3312 - val_accuracy: 0.8771\n",
            "Epoch 23/50\n",
            "457/457 [==============================] - 2s 5ms/step - loss: 0.2250 - accuracy: 0.9244 - val_loss: 0.3256 - val_accuracy: 0.8821\n",
            "Epoch 24/50\n",
            "457/457 [==============================] - 2s 5ms/step - loss: 0.1920 - accuracy: 0.9347 - val_loss: 0.3284 - val_accuracy: 0.8812\n",
            "Epoch 25/50\n",
            "457/457 [==============================] - 2s 5ms/step - loss: 0.2080 - accuracy: 0.9300 - val_loss: 0.3302 - val_accuracy: 0.8801\n",
            "Epoch 26/50\n",
            "457/457 [==============================] - 2s 4ms/step - loss: 0.1718 - accuracy: 0.9417 - val_loss: 0.3437 - val_accuracy: 0.8801\n",
            "Epoch 27/50\n",
            "457/457 [==============================] - 2s 5ms/step - loss: 0.1638 - accuracy: 0.9483 - val_loss: 0.3360 - val_accuracy: 0.8819\n",
            "Epoch 28/50\n",
            "457/457 [==============================] - 2s 5ms/step - loss: 0.1893 - accuracy: 0.9386 - val_loss: 0.3366 - val_accuracy: 0.8841\n"
          ],
          "name": "stdout"
        },
        {
          "output_type": "display_data",
          "data": {
            "image/png": "[encoded data removed]",
            "text/plain": [
              "<Figure size 432x288 with 1 Axes>"
            ]
          },
          "metadata": {
            "tags": [],
            "needs_background": "light"
          }
        },
        {
          "output_type": "display_data",
          "data": {
            "image/png": "[encoded data removed]",
            "text/plain": [
              "<Figure size 432x288 with 1 Axes>"
            ]
          },
          "metadata": {
            "tags": [],
            "needs_background": "light"
          }
        },
        {
          "output_type": "execute_result",
          "data": {
            "text/plain": [
              "0.8820951128643436"
            ]
          },
          "metadata": {
            "tags": []
          },
          "execution_count": 29
        }
      ]
    },
    {
      "cell_type": "markdown",
      "metadata": {
        "id": "-vdAMqWWQ5qg"
      },
      "source": [
        "## Predicción de test"
      ]
    },
    {
      "cell_type": "markdown",
      "metadata": {
        "id": "gxHqB6vy8pUc"
      },
      "source": [
        "PREDECIMOS"
      ]
    },
    {
      "cell_type": "code",
      "metadata": {
        "id": "dJaGBP80AD9R"
      },
      "source": [
        "X_test = d_test.to_numpy()\n",
        "X_test_oh = ohe.transform( X_test ).toarray()\n",
        "X_test = np.hstack( (X_test_oh,np.delete(X_test,categorical_features,axis=1)) )\n",
        "X_test = scaler_oh.transform(X_test)"
      ],
      "execution_count": null,
      "outputs": []
    },
    {
      "cell_type": "code",
      "metadata": {
        "id": "l0MUL2Pl8nWw"
      },
      "source": [
        "y_predict = MLP.predict(X_test)"
      ],
      "execution_count": null,
      "outputs": []
    },
    {
      "cell_type": "code",
      "metadata": {
        "id": "wVvpnOse0COn"
      },
      "source": [
        "y_predict = list( map(lambda x: np.argmax(x)+1,y_predict) )"
      ],
      "execution_count": null,
      "outputs": []
    },
    {
      "cell_type": "code",
      "metadata": {
        "id": "QNgEMiVh6GRV"
      },
      "source": [
        "result = pd.DataFrame({'id':test_ids, 'Precio_cat':y_predict})"
      ],
      "execution_count": null,
      "outputs": []
    },
    {
      "cell_type": "code",
      "metadata": {
        "colab": {
          "base_uri": "https://localhost:8080/",
          "height": 391
        },
        "id": "KD56BcamjEeg",
        "outputId": "613028e9-28ba-4dbb-a9f5-c0c16304c091"
      },
      "source": [
        "result"
      ],
      "execution_count": null,
      "outputs": [
        {
          "output_type": "execute_result",
          "data": {
            "text/html": [
              "<div>\n",
              "<style scoped>\n",
              "    .dataframe tbody tr th:only-of-type {\n",
              "        vertical-align: middle;\n",
              "    }\n",
              "\n",
              "    .dataframe tbody tr th {\n",
              "        vertical-align: top;\n",
              "    }\n",
              "\n",
              "    .dataframe thead th {\n",
              "        text-align: right;\n",
              "    }\n",
              "</style>\n",
              "<table border=\"1\" class=\"dataframe\">\n",
              "  <thead>\n",
              "    <tr style=\"text-align: right;\">\n",
              "      <th></th>\n",
              "      <th>id</th>\n",
              "      <th>Precio_cat</th>\n",
              "    </tr>\n",
              "  </thead>\n",
              "  <tbody>\n",
              "    <tr>\n",
              "      <th>0</th>\n",
              "      <td>4820</td>\n",
              "      <td>5</td>\n",
              "    </tr>\n",
              "    <tr>\n",
              "      <th>1</th>\n",
              "      <td>4821</td>\n",
              "      <td>3</td>\n",
              "    </tr>\n",
              "    <tr>\n",
              "      <th>2</th>\n",
              "      <td>4822</td>\n",
              "      <td>2</td>\n",
              "    </tr>\n",
              "    <tr>\n",
              "      <th>3</th>\n",
              "      <td>4823</td>\n",
              "      <td>3</td>\n",
              "    </tr>\n",
              "    <tr>\n",
              "      <th>4</th>\n",
              "      <td>4824</td>\n",
              "      <td>3</td>\n",
              "    </tr>\n",
              "    <tr>\n",
              "      <th>...</th>\n",
              "      <td>...</td>\n",
              "      <td>...</td>\n",
              "    </tr>\n",
              "    <tr>\n",
              "      <th>1154</th>\n",
              "      <td>5974</td>\n",
              "      <td>2</td>\n",
              "    </tr>\n",
              "    <tr>\n",
              "      <th>1155</th>\n",
              "      <td>5975</td>\n",
              "      <td>3</td>\n",
              "    </tr>\n",
              "    <tr>\n",
              "      <th>1156</th>\n",
              "      <td>5976</td>\n",
              "      <td>4</td>\n",
              "    </tr>\n",
              "    <tr>\n",
              "      <th>1157</th>\n",
              "      <td>5977</td>\n",
              "      <td>5</td>\n",
              "    </tr>\n",
              "    <tr>\n",
              "      <th>1158</th>\n",
              "      <td>5978</td>\n",
              "      <td>5</td>\n",
              "    </tr>\n",
              "  </tbody>\n",
              "</table>\n",
              "<p>1159 rows × 2 columns</p>\n",
              "</div>"
            ],
            "text/plain": [
              "        id  Precio_cat\n",
              "0     4820           5\n",
              "1     4821           3\n",
              "2     4822           2\n",
              "3     4823           3\n",
              "4     4824           3\n",
              "...    ...         ...\n",
              "1154  5974           2\n",
              "1155  5975           3\n",
              "1156  5976           4\n",
              "1157  5977           5\n",
              "1158  5978           5\n",
              "\n",
              "[1159 rows x 2 columns]"
            ]
          },
          "metadata": {
            "tags": []
          },
          "execution_count": 35
        }
      ]
    },
    {
      "cell_type": "code",
      "metadata": {
        "id": "ag9SWf1c6spf"
      },
      "source": [
        "#result.to_csv('resultados_4.csv', index=False)"
      ],
      "execution_count": null,
      "outputs": []
    }
  ]
}