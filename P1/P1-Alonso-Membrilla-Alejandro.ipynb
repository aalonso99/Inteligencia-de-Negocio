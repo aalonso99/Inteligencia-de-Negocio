{
 "cells": [
  {
   "cell_type": "markdown",
   "metadata": {
    "id": "GO-49wNOSq3Q"
   },
   "source": [
    "# Práctica 1\n",
    "\n",
    "### Resolución de problemas de clasificación y análisis experimental\n",
    "\n",
    "*Alejandro Alonso Membrilla*"
   ]
  },
  {
   "cell_type": "markdown",
   "metadata": {
    "id": "n27alWmAS_QX"
   },
   "source": [
    "El primer paso es leer los datos a analizar."
   ]
  },
  {
   "cell_type": "code",
   "execution_count": 1,
   "metadata": {
    "id": "FKAf5X0LTO9d"
   },
   "outputs": [],
   "source": [
    "import numpy as np\n",
    "import matplotlib.pyplot as plt\n",
    "import pandas as pd\n",
    "raw_data=pd.read_csv(\"mamografias.csv\",na_values=[\"?\", \"N\"])"
   ]
  },
  {
   "cell_type": "markdown",
   "metadata": {
    "id": "sHyK6VqCUVOO"
   },
   "source": [
    "Y observar rápidamente la forma que tienen los datos:"
   ]
  },
  {
   "cell_type": "code",
   "execution_count": 2,
   "metadata": {
    "colab": {
     "base_uri": "https://localhost:8080/",
     "height": 419
    },
    "id": "sgQ5uQG3UcNB",
    "outputId": "f6a52c09-c1e9-41c0-a8f6-c40368af7c13"
   },
   "outputs": [
    {
     "data": {
      "text/html": [
       "<div>\n",
       "<style scoped>\n",
       "    .dataframe tbody tr th:only-of-type {\n",
       "        vertical-align: middle;\n",
       "    }\n",
       "\n",
       "    .dataframe tbody tr th {\n",
       "        vertical-align: top;\n",
       "    }\n",
       "\n",
       "    .dataframe thead th {\n",
       "        text-align: right;\n",
       "    }\n",
       "</style>\n",
       "<table border=\"1\" class=\"dataframe\">\n",
       "  <thead>\n",
       "    <tr style=\"text-align: right;\">\n",
       "      <th></th>\n",
       "      <th>BI-RADS</th>\n",
       "      <th>Age</th>\n",
       "      <th>Shape</th>\n",
       "      <th>Margin</th>\n",
       "      <th>Density</th>\n",
       "      <th>Severity</th>\n",
       "    </tr>\n",
       "  </thead>\n",
       "  <tbody>\n",
       "    <tr>\n",
       "      <th>0</th>\n",
       "      <td>5.0</td>\n",
       "      <td>67.0</td>\n",
       "      <td>L</td>\n",
       "      <td>5.0</td>\n",
       "      <td>3.0</td>\n",
       "      <td>maligno</td>\n",
       "    </tr>\n",
       "    <tr>\n",
       "      <th>1</th>\n",
       "      <td>4.0</td>\n",
       "      <td>43.0</td>\n",
       "      <td>R</td>\n",
       "      <td>1.0</td>\n",
       "      <td>NaN</td>\n",
       "      <td>maligno</td>\n",
       "    </tr>\n",
       "    <tr>\n",
       "      <th>2</th>\n",
       "      <td>5.0</td>\n",
       "      <td>58.0</td>\n",
       "      <td>I</td>\n",
       "      <td>5.0</td>\n",
       "      <td>3.0</td>\n",
       "      <td>maligno</td>\n",
       "    </tr>\n",
       "    <tr>\n",
       "      <th>3</th>\n",
       "      <td>4.0</td>\n",
       "      <td>28.0</td>\n",
       "      <td>R</td>\n",
       "      <td>1.0</td>\n",
       "      <td>3.0</td>\n",
       "      <td>benigno</td>\n",
       "    </tr>\n",
       "    <tr>\n",
       "      <th>4</th>\n",
       "      <td>5.0</td>\n",
       "      <td>74.0</td>\n",
       "      <td>R</td>\n",
       "      <td>5.0</td>\n",
       "      <td>NaN</td>\n",
       "      <td>maligno</td>\n",
       "    </tr>\n",
       "    <tr>\n",
       "      <th>...</th>\n",
       "      <td>...</td>\n",
       "      <td>...</td>\n",
       "      <td>...</td>\n",
       "      <td>...</td>\n",
       "      <td>...</td>\n",
       "      <td>...</td>\n",
       "    </tr>\n",
       "    <tr>\n",
       "      <th>95</th>\n",
       "      <td>5.0</td>\n",
       "      <td>54.0</td>\n",
       "      <td>I</td>\n",
       "      <td>4.0</td>\n",
       "      <td>3.0</td>\n",
       "      <td>maligno</td>\n",
       "    </tr>\n",
       "    <tr>\n",
       "      <th>96</th>\n",
       "      <td>4.0</td>\n",
       "      <td>40.0</td>\n",
       "      <td>R</td>\n",
       "      <td>1.0</td>\n",
       "      <td>NaN</td>\n",
       "      <td>benigno</td>\n",
       "    </tr>\n",
       "    <tr>\n",
       "      <th>97</th>\n",
       "      <td>4.0</td>\n",
       "      <td>47.0</td>\n",
       "      <td>O</td>\n",
       "      <td>1.0</td>\n",
       "      <td>NaN</td>\n",
       "      <td>benigno</td>\n",
       "    </tr>\n",
       "    <tr>\n",
       "      <th>98</th>\n",
       "      <td>5.0</td>\n",
       "      <td>62.0</td>\n",
       "      <td>I</td>\n",
       "      <td>4.0</td>\n",
       "      <td>3.0</td>\n",
       "      <td>benigno</td>\n",
       "    </tr>\n",
       "    <tr>\n",
       "      <th>99</th>\n",
       "      <td>4.0</td>\n",
       "      <td>33.0</td>\n",
       "      <td>O</td>\n",
       "      <td>1.0</td>\n",
       "      <td>3.0</td>\n",
       "      <td>benigno</td>\n",
       "    </tr>\n",
       "  </tbody>\n",
       "</table>\n",
       "<p>100 rows × 6 columns</p>\n",
       "</div>"
      ],
      "text/plain": [
       "    BI-RADS   Age Shape  Margin  Density Severity\n",
       "0       5.0  67.0     L     5.0      3.0  maligno\n",
       "1       4.0  43.0     R     1.0      NaN  maligno\n",
       "2       5.0  58.0     I     5.0      3.0  maligno\n",
       "3       4.0  28.0     R     1.0      3.0  benigno\n",
       "4       5.0  74.0     R     5.0      NaN  maligno\n",
       "..      ...   ...   ...     ...      ...      ...\n",
       "95      5.0  54.0     I     4.0      3.0  maligno\n",
       "96      4.0  40.0     R     1.0      NaN  benigno\n",
       "97      4.0  47.0     O     1.0      NaN  benigno\n",
       "98      5.0  62.0     I     4.0      3.0  benigno\n",
       "99      4.0  33.0     O     1.0      3.0  benigno\n",
       "\n",
       "[100 rows x 6 columns]"
      ]
     },
     "execution_count": 2,
     "metadata": {},
     "output_type": "execute_result"
    }
   ],
   "source": [
    "raw_data.head(100)"
   ]
  },
  {
   "cell_type": "code",
   "execution_count": 3,
   "metadata": {
    "colab": {
     "base_uri": "https://localhost:8080/"
    },
    "id": "L69fooQtUiUM",
    "outputId": "df2e9427-76ec-4ecf-b230-24319e473ad2"
   },
   "outputs": [
    {
     "name": "stdout",
     "output_type": "stream",
     "text": [
      "<class 'pandas.core.frame.DataFrame'>\n",
      "RangeIndex: 961 entries, 0 to 960\n",
      "Data columns (total 6 columns):\n",
      " #   Column    Non-Null Count  Dtype  \n",
      "---  ------    --------------  -----  \n",
      " 0   BI-RADS   959 non-null    float64\n",
      " 1   Age       956 non-null    float64\n",
      " 2   Shape     930 non-null    object \n",
      " 3   Margin    913 non-null    float64\n",
      " 4   Density   885 non-null    float64\n",
      " 5   Severity  961 non-null    object \n",
      "dtypes: float64(4), object(2)\n",
      "memory usage: 45.2+ KB\n"
     ]
    }
   ],
   "source": [
    "raw_data.info()"
   ]
  },
  {
   "cell_type": "code",
   "execution_count": 4,
   "metadata": {
    "colab": {
     "base_uri": "https://localhost:8080/",
     "height": 297
    },
    "id": "HahM974aUxDp",
    "outputId": "3c1a6d90-2af9-4c47-c55e-f3908f3c6347"
   },
   "outputs": [
    {
     "data": {
      "text/html": [
       "<div>\n",
       "<style scoped>\n",
       "    .dataframe tbody tr th:only-of-type {\n",
       "        vertical-align: middle;\n",
       "    }\n",
       "\n",
       "    .dataframe tbody tr th {\n",
       "        vertical-align: top;\n",
       "    }\n",
       "\n",
       "    .dataframe thead th {\n",
       "        text-align: right;\n",
       "    }\n",
       "</style>\n",
       "<table border=\"1\" class=\"dataframe\">\n",
       "  <thead>\n",
       "    <tr style=\"text-align: right;\">\n",
       "      <th></th>\n",
       "      <th>BI-RADS</th>\n",
       "      <th>Age</th>\n",
       "      <th>Margin</th>\n",
       "      <th>Density</th>\n",
       "    </tr>\n",
       "  </thead>\n",
       "  <tbody>\n",
       "    <tr>\n",
       "      <th>count</th>\n",
       "      <td>959.000000</td>\n",
       "      <td>956.000000</td>\n",
       "      <td>913.000000</td>\n",
       "      <td>885.000000</td>\n",
       "    </tr>\n",
       "    <tr>\n",
       "      <th>mean</th>\n",
       "      <td>4.296142</td>\n",
       "      <td>55.487448</td>\n",
       "      <td>2.796276</td>\n",
       "      <td>2.910734</td>\n",
       "    </tr>\n",
       "    <tr>\n",
       "      <th>std</th>\n",
       "      <td>0.706291</td>\n",
       "      <td>14.480131</td>\n",
       "      <td>1.566546</td>\n",
       "      <td>0.380444</td>\n",
       "    </tr>\n",
       "    <tr>\n",
       "      <th>min</th>\n",
       "      <td>0.000000</td>\n",
       "      <td>18.000000</td>\n",
       "      <td>1.000000</td>\n",
       "      <td>1.000000</td>\n",
       "    </tr>\n",
       "    <tr>\n",
       "      <th>25%</th>\n",
       "      <td>4.000000</td>\n",
       "      <td>45.000000</td>\n",
       "      <td>1.000000</td>\n",
       "      <td>3.000000</td>\n",
       "    </tr>\n",
       "    <tr>\n",
       "      <th>50%</th>\n",
       "      <td>4.000000</td>\n",
       "      <td>57.000000</td>\n",
       "      <td>3.000000</td>\n",
       "      <td>3.000000</td>\n",
       "    </tr>\n",
       "    <tr>\n",
       "      <th>75%</th>\n",
       "      <td>5.000000</td>\n",
       "      <td>66.000000</td>\n",
       "      <td>4.000000</td>\n",
       "      <td>3.000000</td>\n",
       "    </tr>\n",
       "    <tr>\n",
       "      <th>max</th>\n",
       "      <td>6.000000</td>\n",
       "      <td>96.000000</td>\n",
       "      <td>5.000000</td>\n",
       "      <td>4.000000</td>\n",
       "    </tr>\n",
       "  </tbody>\n",
       "</table>\n",
       "</div>"
      ],
      "text/plain": [
       "          BI-RADS         Age      Margin     Density\n",
       "count  959.000000  956.000000  913.000000  885.000000\n",
       "mean     4.296142   55.487448    2.796276    2.910734\n",
       "std      0.706291   14.480131    1.566546    0.380444\n",
       "min      0.000000   18.000000    1.000000    1.000000\n",
       "25%      4.000000   45.000000    1.000000    3.000000\n",
       "50%      4.000000   57.000000    3.000000    3.000000\n",
       "75%      5.000000   66.000000    4.000000    3.000000\n",
       "max      6.000000   96.000000    5.000000    4.000000"
      ]
     },
     "execution_count": 4,
     "metadata": {},
     "output_type": "execute_result"
    }
   ],
   "source": [
    "raw_data.describe()"
   ]
  },
  {
   "cell_type": "code",
   "execution_count": 5,
   "metadata": {
    "colab": {
     "base_uri": "https://localhost:8080/"
    },
    "id": "zlHtW8n4IXAc",
    "outputId": "23f74f10-d72d-4ca7-ad14-364b1b7a4bfd"
   },
   "outputs": [
    {
     "data": {
      "text/plain": [
       "930"
      ]
     },
     "execution_count": 5,
     "metadata": {},
     "output_type": "execute_result"
    }
   ],
   "source": [
    "raw_data['Shape'].count()"
   ]
  },
  {
   "cell_type": "markdown",
   "metadata": {
    "id": "8q_O-UGcU516"
   },
   "source": [
    "A excepción de la edad, los estadísticos calculados no tienen sentido para las variables medidas (BI-RADS, Margin y Density son cuantitativas). Sí tiene algo de interés el número de elementos de cada clase (nos informa de los datos perdidos) y los cuantiles. "
   ]
  },
  {
   "cell_type": "markdown",
   "metadata": {
    "id": "LG5tnCVsWtCG"
   },
   "source": [
    "Le cambiamos el nombre a las columnas para que sean más sencillas de manipular."
   ]
  },
  {
   "cell_type": "code",
   "execution_count": 6,
   "metadata": {
    "id": "xVrwuOpPWyk7"
   },
   "outputs": [],
   "source": [
    "raw_data.columns = [col.lower() for col in raw_data]"
   ]
  },
  {
   "cell_type": "markdown",
   "metadata": {
    "id": "P3U0vsiLXVlm"
   },
   "source": [
    "## 1. Preprocesamiento de los Datos"
   ]
  },
  {
   "cell_type": "markdown",
   "metadata": {
    "id": "YlP6FB5YXWfl"
   },
   "source": [
    "Transformamos los atributos de tipo cadena en valores numéricos:  "
   ]
  },
  {
   "cell_type": "code",
   "execution_count": 7,
   "metadata": {
    "id": "kKvuvIjxXhJe"
   },
   "outputs": [],
   "source": [
    "from sklearn import preprocessing\n",
    "\n",
    "le=preprocessing.LabelEncoder()\n",
    "\n",
    "data=raw_data.copy()\n",
    "\n",
    "#Codificamos la columna de la forma del tumor (necesario para la sustitución de valores perdidos)\n",
    "indices = pd.notnull(data['shape'])\n",
    "data.loc[indices, ('shape')] = le.fit_transform(raw_data.loc[indices, ('shape')])"
   ]
  },
  {
   "cell_type": "code",
   "execution_count": 8,
   "metadata": {
    "colab": {
     "base_uri": "https://localhost:8080/",
     "height": 297
    },
    "id": "StrmVPsedayC",
    "outputId": "d29c90b0-7532-48d3-dba3-2b7a7f7c3cf0"
   },
   "outputs": [
    {
     "data": {
      "text/html": [
       "<div>\n",
       "<style scoped>\n",
       "    .dataframe tbody tr th:only-of-type {\n",
       "        vertical-align: middle;\n",
       "    }\n",
       "\n",
       "    .dataframe tbody tr th {\n",
       "        vertical-align: top;\n",
       "    }\n",
       "\n",
       "    .dataframe thead th {\n",
       "        text-align: right;\n",
       "    }\n",
       "</style>\n",
       "<table border=\"1\" class=\"dataframe\">\n",
       "  <thead>\n",
       "    <tr style=\"text-align: right;\">\n",
       "      <th></th>\n",
       "      <th>bi-rads</th>\n",
       "      <th>age</th>\n",
       "      <th>margin</th>\n",
       "      <th>density</th>\n",
       "    </tr>\n",
       "  </thead>\n",
       "  <tbody>\n",
       "    <tr>\n",
       "      <th>count</th>\n",
       "      <td>959.000000</td>\n",
       "      <td>956.000000</td>\n",
       "      <td>913.000000</td>\n",
       "      <td>885.000000</td>\n",
       "    </tr>\n",
       "    <tr>\n",
       "      <th>mean</th>\n",
       "      <td>4.296142</td>\n",
       "      <td>55.487448</td>\n",
       "      <td>2.796276</td>\n",
       "      <td>2.910734</td>\n",
       "    </tr>\n",
       "    <tr>\n",
       "      <th>std</th>\n",
       "      <td>0.706291</td>\n",
       "      <td>14.480131</td>\n",
       "      <td>1.566546</td>\n",
       "      <td>0.380444</td>\n",
       "    </tr>\n",
       "    <tr>\n",
       "      <th>min</th>\n",
       "      <td>0.000000</td>\n",
       "      <td>18.000000</td>\n",
       "      <td>1.000000</td>\n",
       "      <td>1.000000</td>\n",
       "    </tr>\n",
       "    <tr>\n",
       "      <th>25%</th>\n",
       "      <td>4.000000</td>\n",
       "      <td>45.000000</td>\n",
       "      <td>1.000000</td>\n",
       "      <td>3.000000</td>\n",
       "    </tr>\n",
       "    <tr>\n",
       "      <th>50%</th>\n",
       "      <td>4.000000</td>\n",
       "      <td>57.000000</td>\n",
       "      <td>3.000000</td>\n",
       "      <td>3.000000</td>\n",
       "    </tr>\n",
       "    <tr>\n",
       "      <th>75%</th>\n",
       "      <td>5.000000</td>\n",
       "      <td>66.000000</td>\n",
       "      <td>4.000000</td>\n",
       "      <td>3.000000</td>\n",
       "    </tr>\n",
       "    <tr>\n",
       "      <th>max</th>\n",
       "      <td>6.000000</td>\n",
       "      <td>96.000000</td>\n",
       "      <td>5.000000</td>\n",
       "      <td>4.000000</td>\n",
       "    </tr>\n",
       "  </tbody>\n",
       "</table>\n",
       "</div>"
      ],
      "text/plain": [
       "          bi-rads         age      margin     density\n",
       "count  959.000000  956.000000  913.000000  885.000000\n",
       "mean     4.296142   55.487448    2.796276    2.910734\n",
       "std      0.706291   14.480131    1.566546    0.380444\n",
       "min      0.000000   18.000000    1.000000    1.000000\n",
       "25%      4.000000   45.000000    1.000000    3.000000\n",
       "50%      4.000000   57.000000    3.000000    3.000000\n",
       "75%      5.000000   66.000000    4.000000    3.000000\n",
       "max      6.000000   96.000000    5.000000    4.000000"
      ]
     },
     "execution_count": 8,
     "metadata": {},
     "output_type": "execute_result"
    }
   ],
   "source": [
    "data.describe()"
   ]
  },
  {
   "cell_type": "markdown",
   "metadata": {
    "id": "dXZfKyV8Xx9h"
   },
   "source": [
    "### Valores perdidos\n",
    "\n",
    "Antes de entrenar modelos de predicción usando nuestro conjunto de datos es importante eliminar/sustituir los valores perdidos para poder pasar a los algoritmos de aprendizaje valores numéricos con los que este pueda trabajar."
   ]
  },
  {
   "cell_type": "markdown",
   "metadata": {
    "id": "ihETfvMmZOPK"
   },
   "source": [
    "Si una columna está formada mayoritariamente por valores perdidos, esta se puede eliminar. La columna con más pérdidas en nuestro caso es \"Density\" con 76 pérdidas, menos de un 10%, lo que no es suficiente para eliminarla. Por otro lado, tampoco parece conveniente eliminar 76 filas completas de la tabla. Intentaremos, por tanto, sustituir estos valores de la forma más insesgada que encontremos.\n",
    "\n",
    "Sustituir los valores perdidos por la moda de su respectiva columna es realizable en columnas como BI-RADS y Age con ínfimas pérdidas. Para el resto de columnas, puede suponer un sesgo que es mejor evitar."
   ]
  },
  {
   "cell_type": "markdown",
   "metadata": {
    "id": "RqglVAPUbLK6"
   },
   "source": [
    "Probaremos con el IterativeImputer de Scikit-Learn:\n",
    "\n",
    "https://scikit-learn.org/stable/modules/generated/sklearn.impute.IterativeImputer.html#sklearn.impute.IterativeImputer\n",
    "\n",
    "Este método utliza valores flotantes, por lo que redondearemos el resultado para obtener un resultado válido en aquellas columnas que solo acepten valores enteros (todas).\n"
   ]
  },
  {
   "cell_type": "code",
   "execution_count": 9,
   "metadata": {
    "id": "i-eQAGdQbXaK"
   },
   "outputs": [],
   "source": [
    "from sklearn.experimental import enable_iterative_imputer\n",
    "from sklearn.impute import IterativeImputer"
   ]
  },
  {
   "cell_type": "code",
   "execution_count": 10,
   "metadata": {
    "id": "AsIvbIU5bb7K"
   },
   "outputs": [],
   "source": [
    "imp = IterativeImputer(random_state=0, initial_strategy='most_frequent')\n",
    "values = imp.fit_transform(data.values[:,0:5])\n",
    "values = values.astype(int)"
   ]
  },
  {
   "cell_type": "code",
   "execution_count": 11,
   "metadata": {
    "colab": {
     "base_uri": "https://localhost:8080/",
     "height": 419
    },
    "id": "FA4pQp3jgExz",
    "outputId": "6615dd8f-10ec-4838-c957-70169262e3f4"
   },
   "outputs": [
    {
     "data": {
      "text/html": [
       "<div>\n",
       "<style scoped>\n",
       "    .dataframe tbody tr th:only-of-type {\n",
       "        vertical-align: middle;\n",
       "    }\n",
       "\n",
       "    .dataframe tbody tr th {\n",
       "        vertical-align: top;\n",
       "    }\n",
       "\n",
       "    .dataframe thead th {\n",
       "        text-align: right;\n",
       "    }\n",
       "</style>\n",
       "<table border=\"1\" class=\"dataframe\">\n",
       "  <thead>\n",
       "    <tr style=\"text-align: right;\">\n",
       "      <th></th>\n",
       "      <th>bi-rads</th>\n",
       "      <th>age</th>\n",
       "      <th>shape</th>\n",
       "      <th>margin</th>\n",
       "      <th>density</th>\n",
       "      <th>severity</th>\n",
       "    </tr>\n",
       "  </thead>\n",
       "  <tbody>\n",
       "    <tr>\n",
       "      <th>0</th>\n",
       "      <td>5</td>\n",
       "      <td>67</td>\n",
       "      <td>1</td>\n",
       "      <td>5</td>\n",
       "      <td>3</td>\n",
       "      <td>maligno</td>\n",
       "    </tr>\n",
       "    <tr>\n",
       "      <th>1</th>\n",
       "      <td>4</td>\n",
       "      <td>43</td>\n",
       "      <td>3</td>\n",
       "      <td>1</td>\n",
       "      <td>2</td>\n",
       "      <td>maligno</td>\n",
       "    </tr>\n",
       "    <tr>\n",
       "      <th>2</th>\n",
       "      <td>5</td>\n",
       "      <td>58</td>\n",
       "      <td>0</td>\n",
       "      <td>5</td>\n",
       "      <td>3</td>\n",
       "      <td>maligno</td>\n",
       "    </tr>\n",
       "    <tr>\n",
       "      <th>3</th>\n",
       "      <td>4</td>\n",
       "      <td>28</td>\n",
       "      <td>3</td>\n",
       "      <td>1</td>\n",
       "      <td>3</td>\n",
       "      <td>benigno</td>\n",
       "    </tr>\n",
       "    <tr>\n",
       "      <th>4</th>\n",
       "      <td>5</td>\n",
       "      <td>74</td>\n",
       "      <td>3</td>\n",
       "      <td>5</td>\n",
       "      <td>2</td>\n",
       "      <td>maligno</td>\n",
       "    </tr>\n",
       "    <tr>\n",
       "      <th>...</th>\n",
       "      <td>...</td>\n",
       "      <td>...</td>\n",
       "      <td>...</td>\n",
       "      <td>...</td>\n",
       "      <td>...</td>\n",
       "      <td>...</td>\n",
       "    </tr>\n",
       "    <tr>\n",
       "      <th>956</th>\n",
       "      <td>4</td>\n",
       "      <td>47</td>\n",
       "      <td>2</td>\n",
       "      <td>1</td>\n",
       "      <td>3</td>\n",
       "      <td>benigno</td>\n",
       "    </tr>\n",
       "    <tr>\n",
       "      <th>957</th>\n",
       "      <td>4</td>\n",
       "      <td>56</td>\n",
       "      <td>0</td>\n",
       "      <td>5</td>\n",
       "      <td>3</td>\n",
       "      <td>maligno</td>\n",
       "    </tr>\n",
       "    <tr>\n",
       "      <th>958</th>\n",
       "      <td>4</td>\n",
       "      <td>64</td>\n",
       "      <td>0</td>\n",
       "      <td>5</td>\n",
       "      <td>3</td>\n",
       "      <td>benigno</td>\n",
       "    </tr>\n",
       "    <tr>\n",
       "      <th>959</th>\n",
       "      <td>5</td>\n",
       "      <td>66</td>\n",
       "      <td>0</td>\n",
       "      <td>5</td>\n",
       "      <td>3</td>\n",
       "      <td>maligno</td>\n",
       "    </tr>\n",
       "    <tr>\n",
       "      <th>960</th>\n",
       "      <td>4</td>\n",
       "      <td>62</td>\n",
       "      <td>1</td>\n",
       "      <td>3</td>\n",
       "      <td>3</td>\n",
       "      <td>benigno</td>\n",
       "    </tr>\n",
       "  </tbody>\n",
       "</table>\n",
       "<p>961 rows × 6 columns</p>\n",
       "</div>"
      ],
      "text/plain": [
       "     bi-rads  age  shape  margin  density severity\n",
       "0          5   67      1       5        3  maligno\n",
       "1          4   43      3       1        2  maligno\n",
       "2          5   58      0       5        3  maligno\n",
       "3          4   28      3       1        3  benigno\n",
       "4          5   74      3       5        2  maligno\n",
       "..       ...  ...    ...     ...      ...      ...\n",
       "956        4   47      2       1        3  benigno\n",
       "957        4   56      0       5        3  maligno\n",
       "958        4   64      0       5        3  benigno\n",
       "959        5   66      0       5        3  maligno\n",
       "960        4   62      1       3        3  benigno\n",
       "\n",
       "[961 rows x 6 columns]"
      ]
     },
     "execution_count": 11,
     "metadata": {},
     "output_type": "execute_result"
    }
   ],
   "source": [
    "data = pd.DataFrame(values)\n",
    "data.columns = raw_data.columns[0:5]\n",
    "data = data.join(raw_data['severity'])\n",
    "data"
   ]
  },
  {
   "cell_type": "markdown",
   "metadata": {
    "id": "wEAxe3i_cHh6"
   },
   "source": [
    "###Búsqueda de outliers\n",
    "\n",
    "Como estamos trabajando con datos categórigos, no podemos buscar outliers por el procedimiento estándar."
   ]
  },
  {
   "cell_type": "markdown",
   "metadata": {
    "id": "IjZEb4_98JJq"
   },
   "source": [
    "###Valores a predecir (severidad del tumor)\n",
    "\n",
    "Saber cuántos hay de cada uno nos permitirá intuir cuan buenos son nuestros modelos y nos será útil, en general, en la fase de análisis de resultados. Vamos a consultar esto en los datos originales (con etiquetas sin codificar)"
   ]
  },
  {
   "cell_type": "code",
   "execution_count": 12,
   "metadata": {
    "colab": {
     "base_uri": "https://localhost:8080/"
    },
    "id": "0BbyausrBZCQ",
    "outputId": "5345bb33-b066-42d4-af9d-0fdc54338b53"
   },
   "outputs": [
    {
     "data": {
      "text/plain": [
       "count         961\n",
       "unique          2\n",
       "top       benigno\n",
       "freq          516\n",
       "Name: severity, dtype: object"
      ]
     },
     "execution_count": 12,
     "metadata": {},
     "output_type": "execute_result"
    }
   ],
   "source": [
    "data['severity'].describe()"
   ]
  },
  {
   "cell_type": "markdown",
   "metadata": {
    "id": "mWpLRKdSBxgK"
   },
   "source": [
    "Vemos que hay 961 tumores en total, de los cuales 516 (un 53.69%) son benignos. Esto implicará que, si asumimos que todos los tumores son benignos acertaremos un 53.69% de las veces. Este umbral a superar es bastante bajo, por lo que no debería ser difícil obtener resultados mejores."
   ]
  },
  {
   "cell_type": "markdown",
   "metadata": {
    "id": "lBVivqysiGen"
   },
   "source": [
    "### Dependencia"
   ]
  },
  {
   "cell_type": "markdown",
   "metadata": {
    "id": "dolyppT_98XG"
   },
   "source": [
    "Vamos a generar un histograma que muestre la cantidad de tumores malignos y benignos encontrados en función del tipo de diagnóstico (BI-RAD)."
   ]
  },
  {
   "cell_type": "code",
   "execution_count": 13,
   "metadata": {
    "id": "wA_n0XLc8zv8"
   },
   "outputs": [],
   "source": [
    "import seaborn as sns"
   ]
  },
  {
   "cell_type": "code",
   "execution_count": 14,
   "metadata": {
    "id": "Yy7R9Suo86Rc"
   },
   "outputs": [],
   "source": [
    "sns.set(style=\"whitegrid\", color_codes=True)\n",
    "sns.set(rc={'figure.figsize':(11.7,8.27)})"
   ]
  },
  {
   "cell_type": "code",
   "execution_count": 15,
   "metadata": {
    "colab": {
     "base_uri": "https://localhost:8080/",
     "height": 588
    },
    "id": "uHNm9mWT9EAc",
    "outputId": "17927fdc-6a9d-4f9a-bcda-e875ed8c5ab5"
   },
   "outputs": [
    {
     "data": {
      "text/plain": [
       "<matplotlib.axes._subplots.AxesSubplot at 0x7f19c9a50700>"
      ]
     },
     "execution_count": 15,
     "metadata": {},
     "output_type": "execute_result"
    },
    {
     "data": {
      "image/png": "[encoded data removed]",
      "text/plain": [
       "<Figure size 842.4x595.44 with 1 Axes>"
      ]
     },
     "metadata": {},
     "output_type": "display_data"
    }
   ],
   "source": [
    "sns.countplot('bi-rads', data=data, hue='severity')"
   ]
  },
  {
   "cell_type": "code",
   "execution_count": 16,
   "metadata": {
    "colab": {
     "base_uri": "https://localhost:8080/",
     "height": 425
    },
    "id": "10ECpQd7k06H",
    "outputId": "3e5e767b-a13c-48bc-ca3f-ffcd3cd093a0"
   },
   "outputs": [
    {
     "data": {
      "text/plain": [
       "<matplotlib.axes._subplots.AxesSubplot at 0x7f19c3fd9520>"
      ]
     },
     "execution_count": 16,
     "metadata": {},
     "output_type": "execute_result"
    },
    {
     "data": {
      "image/png": "[encoded data removed]",
      "text/plain": [
       "<Figure size 1346.4x379.44 with 1 Axes>"
      ]
     },
     "metadata": {},
     "output_type": "display_data"
    }
   ],
   "source": [
    "sns.set(style=\"whitegrid\", color_codes=True)\n",
    "sns.set(rc={'figure.figsize':(18.7,5.27)})\n",
    "sns.countplot('age', data=data, hue='severity')"
   ]
  },
  {
   "cell_type": "code",
   "execution_count": 17,
   "metadata": {
    "colab": {
     "base_uri": "https://localhost:8080/",
     "height": 425
    },
    "id": "egGEWtVvYFgU",
    "outputId": "46f30ecc-7663-4465-c3ac-2e58cb014ef0"
   },
   "outputs": [
    {
     "data": {
      "text/plain": [
       "<matplotlib.axes._subplots.AxesSubplot at 0x7f19c3fcd1f0>"
      ]
     },
     "execution_count": 17,
     "metadata": {},
     "output_type": "execute_result"
    },
    {
     "data": {
      "image/png": "[encoded data removed]",
      "text/plain": [
       "<Figure size 842.4x379.44 with 1 Axes>"
      ]
     },
     "metadata": {},
     "output_type": "display_data"
    }
   ],
   "source": [
    "sns.set(style=\"whitegrid\", color_codes=True)\n",
    "sns.set(rc={'figure.figsize':(11.7,5.27)})\n",
    "#La columna 'shape' de data está codificada. La descodificamos\n",
    "data['shape'] = le.inverse_transform( data['shape'] )\n",
    "sns.countplot('shape', data=raw_data, hue='severity')"
   ]
  },
  {
   "cell_type": "code",
   "execution_count": 18,
   "metadata": {
    "colab": {
     "base_uri": "https://localhost:8080/",
     "height": 425
    },
    "id": "TIyjvlaYYVAc",
    "outputId": "58c601cc-de1c-484e-f1fa-772379ed2641"
   },
   "outputs": [
    {
     "data": {
      "text/plain": [
       "<matplotlib.axes._subplots.AxesSubplot at 0x7f19c3d8bd30>"
      ]
     },
     "execution_count": 18,
     "metadata": {},
     "output_type": "execute_result"
    },
    {
     "data": {
      "image/png": "[encoded data removed]",
      "text/plain": [
       "<Figure size 842.4x379.44 with 1 Axes>"
      ]
     },
     "metadata": {},
     "output_type": "display_data"
    }
   ],
   "source": [
    "sns.set(style=\"whitegrid\", color_codes=True)\n",
    "sns.set(rc={'figure.figsize':(11.7,5.27)})\n",
    "sns.countplot('margin', data=data, hue='severity')"
   ]
  },
  {
   "cell_type": "code",
   "execution_count": 19,
   "metadata": {
    "colab": {
     "base_uri": "https://localhost:8080/",
     "height": 425
    },
    "id": "DIZzuF1RYZ2D",
    "outputId": "c89b7ece-c69a-43d6-d6c4-2467a0b57880"
   },
   "outputs": [
    {
     "data": {
      "text/plain": [
       "<matplotlib.axes._subplots.AxesSubplot at 0x7f19c3d03880>"
      ]
     },
     "execution_count": 19,
     "metadata": {},
     "output_type": "execute_result"
    },
    {
     "data": {
      "image/png": "[encoded data removed]",
      "text/plain": [
       "<Figure size 842.4x379.44 with 1 Axes>"
      ]
     },
     "metadata": {},
     "output_type": "display_data"
    }
   ],
   "source": [
    "sns.set(style=\"whitegrid\", color_codes=True)\n",
    "sns.set(rc={'figure.figsize':(11.7,5.27)})\n",
    "sns.countplot('density', data=data, hue='severity')"
   ]
  },
  {
   "cell_type": "markdown",
   "metadata": {
    "id": "58_h8xxLgjqT"
   },
   "source": [
    "###Análisis de componentes principales\n",
    "\n",
    "Queremos ver si podemos considerar alguna de las variables como redundante. Usaremos el módulo para PCA (Principal Components Analysis) de Scikit-Learn:\n",
    "\n",
    "https://scikit-learn.org/stable/modules/generated/sklearn.decomposition.PCA.html#sklearn.decomposition.PCA"
   ]
  },
  {
   "cell_type": "code",
   "execution_count": 20,
   "metadata": {
    "id": "LjsW7yTFhZbO"
   },
   "outputs": [],
   "source": [
    "from sklearn.decomposition import PCA"
   ]
  },
  {
   "cell_type": "code",
   "execution_count": 21,
   "metadata": {
    "id": "m3xkykuWY75A"
   },
   "outputs": [],
   "source": [
    "data['severity']=le.fit_transform(raw_data['severity'])\n",
    "#Volvemos a codificar la columna de la forma del tumor (necesario para entrenar los modelos)\n",
    "indices = pd.notnull(data['shape'])\n",
    "le.fit( list(raw_data.loc[indices, ('shape')]) )\n",
    "data['shape'] = le.transform(data['shape'])"
   ]
  },
  {
   "cell_type": "code",
   "execution_count": 22,
   "metadata": {
    "colab": {
     "base_uri": "https://localhost:8080/"
    },
    "id": "7-b0dhZJheNz",
    "outputId": "501fd83f-4098-4e7d-dafe-ddb575a425c8"
   },
   "outputs": [
    {
     "name": "stdout",
     "output_type": "stream",
     "text": [
      "Componentes\n",
      " [[ 1.41921959e-02  9.98420612e-01 -3.13144990e-02  4.43629324e-02\n",
      "   2.48921260e-03]\n",
      " [-1.60104721e-01  5.59142239e-02  5.87505733e-01 -7.90343090e-01\n",
      "  -3.78799584e-02]\n",
      " [ 3.47975946e-03 -1.36866919e-03  8.03115242e-01  5.93930777e-01\n",
      "   4.73091746e-02]\n",
      " [-9.84458643e-01  5.29213941e-03 -9.16012541e-02  1.34831925e-01\n",
      "  -6.51362930e-02]\n",
      " [ 7.06691753e-02 -4.23764508e-05  2.17148274e-02  4.95612171e-02\n",
      "  -9.96031133e-01]]\n",
      "\n",
      "Peso por componente\n",
      " [9.81290006e-01 1.38315225e-02 2.16787483e-03 1.83408888e-03\n",
      " 8.76507512e-04]\n",
      "\n",
      "Datos originales\n",
      "      bi-rads  age  shape  margin  density  severity\n",
      "0          5   67      1       5        3         1\n",
      "1          4   43      3       1        2         1\n",
      "2          5   58      0       5        3         1\n",
      "3          4   28      3       1        3         0\n",
      "4          5   74      3       5        2         1\n",
      "..       ...  ...    ...     ...      ...       ...\n",
      "956        4   47      2       1        3         0\n",
      "957        4   56      0       5        3         1\n",
      "958        4   64      0       5        3         0\n",
      "959        5   66      0       5        3         1\n",
      "960        4   62      1       3        3         0\n",
      "\n",
      "[961 rows x 6 columns]\n",
      "\n",
      "Datos en componentes principales\n",
      " [[ 11.5883542   -1.40933609]\n",
      " [-12.63050262   1.78309104]\n",
      " [  2.63388319  -2.50006984]\n",
      " ...\n",
      " [  8.61021467  -2.00447977]\n",
      " [ 10.62124809  -2.05275605]\n",
      " [  6.49333308   0.05188369]]\n"
     ]
    }
   ],
   "source": [
    "pca = PCA()\n",
    "pca.fit(data.values[:,0:5])\n",
    "print(\"Componentes\\n\", pca.components_)\n",
    "print(\"\\nPeso por componente\\n\", pca.explained_variance_ratio_)\n",
    "print(\"\\nDatos originales\\n\", data)\n",
    "print(\"\\nDatos en componentes principales\\n\", pca.transform(data.values[:,0:5])[:,0:2])"
   ]
  },
  {
   "cell_type": "markdown",
   "metadata": {
    "id": "LmbTMYYVjIoA"
   },
   "source": [
    "Vemos que basta con tomar las dos primeras componentes (explican más del 99% de la información del dataset)."
   ]
  },
  {
   "cell_type": "code",
   "execution_count": 23,
   "metadata": {
    "colab": {
     "base_uri": "https://localhost:8080/",
     "height": 534
    },
    "id": "zd4O65PIUIKl",
    "outputId": "d5fafb92-d929-41e5-ac8a-2219c911e26a"
   },
   "outputs": [
    {
     "data": {
      "text/plain": [
       "[<matplotlib.lines.Line2D at 0x7f19c3c5f0d0>,\n",
       " <matplotlib.lines.Line2D at 0x7f19c3c5f100>]"
      ]
     },
     "execution_count": 23,
     "metadata": {},
     "output_type": "execute_result"
    },
    {
     "data": {
      "image/png": "[encoded data removed]",
      "text/plain": [
       "<Figure size 842.4x595.44 with 1 Axes>"
      ]
     },
     "metadata": {},
     "output_type": "display_data"
    }
   ],
   "source": [
    "t_data = pca.transform(data.values[:,0:5])[:,0:2]\n",
    "#Separamos los tumores benignos con coordenadas en este espacio de dimensión reducida...\n",
    "x_b = [d[1] for i,d in enumerate(t_data) if raw_data.values[i,5]=='benigno']\n",
    "y_b = [d[0] for i,d in enumerate(t_data) if raw_data.values[i,5]=='benigno']\n",
    "#... de los tumores malignos...\n",
    "x_m = [d[1] for i,d in enumerate(t_data) if raw_data.values[i,5]=='maligno']\n",
    "y_m = [d[0] for i,d in enumerate(t_data) if raw_data.values[i,5]=='maligno']\n",
    "#... y los visualizamos\n",
    "sns.set(rc={'figure.figsize':(11.7,8.27)})\n",
    "plt.plot(x_b, y_b, 'b.', x_m, y_m, 'r.')"
   ]
  },
  {
   "cell_type": "markdown",
   "metadata": {
    "id": "N9uEFpj0KBNB"
   },
   "source": [
    "Observamos una separación relativamente clara de ambas clases, pero también que existe una superposición de ambas que será muy difícil de eliminar."
   ]
  },
  {
   "cell_type": "markdown",
   "metadata": {
    "id": "Fm15FnchwZMI"
   },
   "source": [
    "### Análisis Factorial\n",
    "Queremos ver si podemos reducir la dimensión del dataset con análisis factorial.\n",
    "\n",
    "https://scikit-learn.org/stable/modules/generated/sklearn.decomposition.FactorAnalysis.html#sklearn.decomposition.FactorAnalysis"
   ]
  },
  {
   "cell_type": "code",
   "execution_count": 24,
   "metadata": {
    "id": "PAuZk7s4wZMJ"
   },
   "outputs": [],
   "source": [
    "from sklearn.decomposition import FactorAnalysis"
   ]
  },
  {
   "cell_type": "code",
   "execution_count": 25,
   "metadata": {
    "colab": {
     "base_uri": "https://localhost:8080/"
    },
    "id": "lBHgqGZRwZMN",
    "outputId": "ecd3bf6e-3777-481d-f1da-b1c965c2dc5d"
   },
   "outputs": [
    {
     "name": "stdout",
     "output_type": "stream",
     "text": [
      "Componentes\n",
      " [[ 2.05978836e-01  1.44040696e+01 -4.54660561e-01  6.43547466e-01\n",
      "   3.62281948e-02]\n",
      " [-2.70518156e-01  1.18635381e-01  8.91053849e-01 -1.15504088e+00\n",
      "  -6.99253995e-02]\n",
      " [-3.63024716e-02  3.92037235e-04 -2.20499242e-02  8.09453361e-03\n",
      "  -4.82660106e-02]\n",
      " [-0.00000000e+00  0.00000000e+00 -0.00000000e+00  0.00000000e+00\n",
      "   0.00000000e+00]\n",
      " [-0.00000000e+00 -0.00000000e+00  0.00000000e+00  0.00000000e+00\n",
      "  -0.00000000e+00]]\n",
      "\\Varianza por componente\n",
      " [0.40561672 0.99998193 0.64752389 0.79716145 0.18946366]\n",
      "\n",
      "Datos originales\n",
      "      bi-rads  age  shape  margin  density  severity\n",
      "0          5   67      1       5        3         1\n",
      "1          4   43      3       1        2         1\n",
      "2          5   58      0       5        3         1\n",
      "3          4   28      3       1        3         0\n",
      "4          5   74      3       5        2         1\n",
      "..       ...  ...    ...     ...      ...       ...\n",
      "956        4   47      2       1        3         0\n",
      "957        4   56      0       5        3         1\n",
      "958        4   64      0       5        3         0\n",
      "959        5   66      0       5        3         1\n",
      "960        4   62      1       3        3         0\n",
      "\n",
      "[961 rows x 6 columns]\n",
      "\n",
      "Datos factorizados\n",
      " [[ 8.01533912e-01 -6.76219698e-01 -6.69494075e-02  0.00000000e+00\n",
      "   0.00000000e+00]\n",
      " [-8.74607590e-01  9.58867379e-01  1.55525869e-01  0.00000000e+00\n",
      "   0.00000000e+00]\n",
      " [ 1.85881748e-01 -1.26937409e+00 -3.69169985e-02  0.00000000e+00\n",
      "   0.00000000e+00]\n",
      " ...\n",
      " [ 5.96126893e-01 -9.34729568e-01  5.34546015e-02  0.00000000e+00\n",
      "   0.00000000e+00]\n",
      " [ 7.36108261e-01 -1.03901334e+00 -3.38311836e-02  0.00000000e+00\n",
      "   0.00000000e+00]\n",
      " [ 4.47508162e-01  4.50385084e-02 -8.01942621e-04  0.00000000e+00\n",
      "   0.00000000e+00]]\n"
     ]
    }
   ],
   "source": [
    "fa = FactorAnalysis()\n",
    "fa.fit(data.values[:,0:5])\n",
    "print(\"Componentes\\n\", fa.components_)\n",
    "print(\"\\Varianza por componente\\n\", fa.noise_variance_)\n",
    "print(\"\\nDatos originales\\n\", data)\n",
    "print(\"\\nDatos factorizados\\n\", fa.transform(data.values[:,0:5])[:,0:5])"
   ]
  },
  {
   "cell_type": "code",
   "execution_count": 26,
   "metadata": {
    "colab": {
     "base_uri": "https://localhost:8080/"
    },
    "id": "UBDM4pLXwZMU",
    "outputId": "eaedcf7d-4af1-4c57-abc6-47c8622cdae8"
   },
   "outputs": [
    {
     "data": {
      "text/plain": [
       "array([[ 8.01533912e-01, -6.76219698e-01, -6.69494075e-02,\n",
       "         0.00000000e+00,  0.00000000e+00],\n",
       "       [-8.74607590e-01,  9.58867379e-01,  1.55525869e-01,\n",
       "         0.00000000e+00,  0.00000000e+00],\n",
       "       [ 1.85881748e-01, -1.26937409e+00, -3.69169985e-02,\n",
       "         0.00000000e+00,  0.00000000e+00],\n",
       "       ...,\n",
       "       [ 5.96126893e-01, -9.34729568e-01,  5.34546015e-02,\n",
       "         0.00000000e+00,  0.00000000e+00],\n",
       "       [ 7.36108261e-01, -1.03901334e+00, -3.38311836e-02,\n",
       "         0.00000000e+00,  0.00000000e+00],\n",
       "       [ 4.47508162e-01,  4.50385084e-02, -8.01942621e-04,\n",
       "         0.00000000e+00,  0.00000000e+00]])"
      ]
     },
     "execution_count": 26,
     "metadata": {},
     "output_type": "execute_result"
    }
   ],
   "source": [
    "f_data = fa.transform(data.values[:,0:5])\n",
    "f_data"
   ]
  },
  {
   "cell_type": "markdown",
   "metadata": {
    "id": "jdF6qRsUWjHk"
   },
   "source": [
    "###Selección de características\n",
    "\n",
    "Tratamos de encontrar las mejores cararcterísticas aplicando tests estadísticos univariables. Usamos el módulo SelectKBest de Scikit-Learn con el test de $\\chi^2$."
   ]
  },
  {
   "cell_type": "code",
   "execution_count": 27,
   "metadata": {
    "id": "PGQurtSQePLH"
   },
   "outputs": [],
   "source": [
    "from sklearn.feature_selection import SelectKBest"
   ]
  },
  {
   "cell_type": "markdown",
   "metadata": {
    "id": "Q-YkHTfZeKJT"
   },
   "source": [
    "Método de $\\chi^2$"
   ]
  },
  {
   "cell_type": "code",
   "execution_count": 28,
   "metadata": {
    "id": "RTI6mt9oW6L_"
   },
   "outputs": [],
   "source": [
    "from sklearn.feature_selection import chi2\n",
    "charact = data.values[:,0:5]\n",
    "label = data.values[:,5]\n",
    "reducer = SelectKBest(chi2, k='all').fit(charact, label)"
   ]
  },
  {
   "cell_type": "code",
   "execution_count": 29,
   "metadata": {
    "colab": {
     "base_uri": "https://localhost:8080/"
    },
    "id": "-MogPMBcY8dK",
    "outputId": "4d7c6ad9-a2a8-44d9-bd6c-f6df9618f928"
   },
   "outputs": [
    {
     "data": {
      "text/plain": [
       "array([ 28.32051067, 674.99567216, 353.2295735 , 276.67370836,\n",
       "         0.7646782 ])"
      ]
     },
     "execution_count": 29,
     "metadata": {},
     "output_type": "execute_result"
    }
   ],
   "source": [
    "reducer.scores_"
   ]
  },
  {
   "cell_type": "markdown",
   "metadata": {
    "id": "FgjD_B75aoSF"
   },
   "source": [
    "El selector de características de Scikit nos dice que la propiedad Density cuenta con una puntuación como característica muy baja. El código BI-RADS tampoco tiene una puntuación muy alta. Tendremos esto en cuenta en la fase de entrenamiento de los modelos.\n",
    "\n"
   ]
  },
  {
   "cell_type": "code",
   "execution_count": 30,
   "metadata": {
    "id": "yH7UG830ZwGO"
   },
   "outputs": [],
   "source": [
    "reducer = SelectKBest(chi2, k=3).fit(charact, label)"
   ]
  },
  {
   "cell_type": "code",
   "execution_count": 31,
   "metadata": {
    "colab": {
     "base_uri": "https://localhost:8080/"
    },
    "id": "Zm__3El5aNxd",
    "outputId": "28be5f1d-9e65-45b2-e36b-83319c5939b2"
   },
   "outputs": [
    {
     "data": {
      "text/plain": [
       "array([[67,  1,  5],\n",
       "       [43,  3,  1],\n",
       "       [58,  0,  5],\n",
       "       ...,\n",
       "       [64,  0,  5],\n",
       "       [66,  0,  5],\n",
       "       [62,  1,  3]])"
      ]
     },
     "execution_count": 31,
     "metadata": {},
     "output_type": "execute_result"
    }
   ],
   "source": [
    "#Características con mayor puntuación\n",
    "reducer.transform(charact)"
   ]
  },
  {
   "cell_type": "markdown",
   "metadata": {
    "id": "p6_yFAVh22nc"
   },
   "source": [
    "### OneHot Encoding"
   ]
  },
  {
   "cell_type": "code",
   "execution_count": 32,
   "metadata": {
    "id": "IRaVS07JiaDN"
   },
   "outputs": [],
   "source": [
    "from sklearn.preprocessing import OneHotEncoder\n",
    "from sklearn.compose import ColumnTransformer\n",
    "from sklearn.pipeline import Pipeline"
   ]
  },
  {
   "cell_type": "code",
   "execution_count": 33,
   "metadata": {
    "colab": {
     "base_uri": "https://localhost:8080/"
    },
    "id": "K0OpyWoHtxcv",
    "outputId": "0ecbf3f1-a677-4d93-dc76-cf9e17fc4298"
   },
   "outputs": [
    {
     "data": {
      "text/plain": [
       "array([[0., 0., 0., ..., 0., 1., 0.],\n",
       "       [0., 0., 0., ..., 1., 0., 0.],\n",
       "       [0., 0., 0., ..., 0., 1., 0.],\n",
       "       ...,\n",
       "       [0., 0., 0., ..., 0., 1., 0.],\n",
       "       [0., 0., 0., ..., 0., 1., 0.],\n",
       "       [0., 0., 0., ..., 0., 1., 0.]])"
      ]
     },
     "execution_count": 33,
     "metadata": {},
     "output_type": "execute_result"
    }
   ],
   "source": [
    "categorical_features = ['bi-rads', 'shape', 'margin', 'density']\n",
    "categorical_transformer = Pipeline(steps=[('onehot', OneHotEncoder())])\n",
    "\n",
    "ohe = ColumnTransformer(transformers=[('cat', categorical_transformer, categorical_features)])\n",
    "\n",
    "char_columns = ['bi-rads', 'age', 'shape', 'margin', 'density']\n",
    "onehot_char = ohe.fit_transform(data[char_columns]).toarray()\n",
    "onehot_char"
   ]
  },
  {
   "cell_type": "markdown",
   "metadata": {
    "id": "RuyRhs-rg4e6"
   },
   "source": [
    "## 2. Entrenamiento de los modelos\n",
    "\n",
    "Se usarán cinco modelos predictivos distintos. Dado el tipo de problema que estamos enfrentando, se buscarán técnicas que traten de maximizar dos métricas distintas: \n",
    "\n",
    "- **La interpretabilidad del modelo.** En el ámbito del estudio de una enfermedad nueva o con comportamientos desconocidos, puede ser de gran interés para la comunidad científica encontrar, por medio de la computación, métodos directos para clasificar la enfermedad de un paciente en base a sus síntomas. Para esto, un modelo interpretable da mucha más información útil para posterior investigación.\n",
    "\n",
    "- **La fiabilidad de sus resultados.** En caso de que los resultados de aquellos modelos interpretables no sean suficientemente buenos o no arrojen nueva información sobre el fenómeno estudiado, tiene sentido dar prioridad a aquellos métodos que resuelvan el problema de clasificación con un menor margen de error. \n",
    "\n",
    "Los modelos elegidos son el Naïve-Bayes, árboles de decisión, ... "
   ]
  },
  {
   "cell_type": "markdown",
   "metadata": {
    "id": "1Lq7sDx_oVbT"
   },
   "source": [
    "Antes de entrenar los modelos debemos diseñar el método de entrenamiento y testeo. Usaremos validación cruzada de cinco particiones."
   ]
  },
  {
   "cell_type": "markdown",
   "metadata": {
    "id": "ea4LBXdSr-W8"
   },
   "source": [
    "Una opción es con cross_val_predict"
   ]
  },
  {
   "cell_type": "code",
   "execution_count": 34,
   "metadata": {
    "id": "BTDXIKLcsEaI"
   },
   "outputs": [],
   "source": [
    "from sklearn.model_selection import cross_val_predict\n",
    "from sklearn.metrics import confusion_matrix\n",
    "#y_pred = cross_val_predict(clf, x, y, cv=5)\n",
    "#conf_mat = confusion_matrix(y, y_pred)"
   ]
  },
  {
   "cell_type": "markdown",
   "metadata": {
    "id": "bdntPZtP67ph"
   },
   "source": [
    "Función general que recibe un dataset y el target correspondientey el estimador a utilizar, y devuelve la matriz de confusión de aplicar una validación cruzada sobre el modelo generado."
   ]
  },
  {
   "cell_type": "code",
   "execution_count": 35,
   "metadata": {
    "id": "B8YAsx6P7LfI"
   },
   "outputs": [],
   "source": [
    "#reductor solo se usa si show_plot es True\n",
    "def test_model(estimator, X, y, reductor=None, cv=5, show_plot=False):\n",
    "  y_pred = cross_val_predict(estimator, X, y, cv=cv) \n",
    "  if show_plot:\n",
    "    assert len(X.shape) == 2 or reductor != None\n",
    "    red_data = reductor.transform(X)[:,0:2]\n",
    "    \n",
    "    \"\"\"\n",
    "    #Visualizamos los Aciertos\n",
    "    x_a = [d[1] for i,d in enumerate(red_data) if y[i]==y_pred[i]]\n",
    "    y_a = [d[0] for i,d in enumerate(red_data) if y[i]==y_pred[i]]\n",
    "    plt.plot(x_a, y_a, 'g.', label='Aciertos')\n",
    "    \n",
    "    #Visualizamos los Fallos\n",
    "    x_f = [d[1] for i,d in enumerate(red_data) if y[i]!=y_pred[i]]\n",
    "    y_f = [d[0] for i,d in enumerate(red_data) if y[i]!=y_pred[i]]\n",
    "    plt.plot(x_f, y_f, 'k.', label='Fallos')\n",
    "    \"\"\"\n",
    "\n",
    "    #Visualizamos los clasificados en cada clase\n",
    "    x_1 = [d[1] for i,d in enumerate(red_data) if y_pred[i]==1.0]\n",
    "    y_1 = [d[0] for i,d in enumerate(red_data) if y_pred[i]==1.0]\n",
    "    x_2 = [d[1] for i,d in enumerate(red_data) if y_pred[i]==0.0]\n",
    "    y_2 = [d[0] for i,d in enumerate(red_data) if y_pred[i]==0.0]\n",
    "    plt.plot(x_1, y_1, 'c.', x_2, y_2, 'y.')\n",
    "  return confusion_matrix(y, y_pred)\n",
    "\n",
    "#[0,0]-->True Negatives\n",
    "#[0,1]-->False Positives\n",
    "#[1,0]-->False Negatives\n",
    "#[1,1]-->True Positives\n",
    "\n",
    "def prec_from_conf_mat(conf_mat):\n",
    "  return round( (conf_mat[0,0]+conf_mat[1,1])/np.sum(conf_mat), 4)\n",
    "\n",
    "def auc_from_conf_mat(conf_mat):\n",
    "  #True Positives / Positives\n",
    "  TPR = conf_mat[1,1]/(conf_mat[1,1]+conf_mat[1,0])\n",
    "  #False Positives / Negatives\n",
    "  FPR = conf_mat[0,1]/(conf_mat[0,0]+conf_mat[0,1])\n",
    "  return round( (1.0+TPR-FPR)/2.0, 4)\n",
    "\n",
    "def f1_from_conf_mat(conf_mat):\n",
    "  return round( 2*conf_mat[1,1]/(2*conf_mat[1,1]+conf_mat[0,1]+conf_mat[1,0]), 4)"
   ]
  },
  {
   "cell_type": "code",
   "execution_count": 36,
   "metadata": {
    "id": "rfZtG2fsdl-q"
   },
   "outputs": [],
   "source": [
    "#Parámetros: lista de estimadores, lista con sus respectivos nombres, \n",
    "#             conjuntos de características, vector de valores objetivo.\n",
    "#Devuelve: un dataframe con el nombre, precisión, AUC y F-score de cada modelo generado usando cada estimador\n",
    "def test_todos(estimadores, nombres, X, y):\n",
    "  assert len(estimadores)==len(nombres)\n",
    "  tabla = []\n",
    "  for estim,nombre in zip(estimadores, nombres):\n",
    "    conf_mat = test_model(estim, X, y)\n",
    "    prec = prec_from_conf_mat(conf_mat)\n",
    "    auc = auc_from_conf_mat(conf_mat)\n",
    "    f1 = f1_from_conf_mat(conf_mat)\n",
    "    tabla.append([prec, auc, f1])\n",
    "  return pd.DataFrame(tabla, index=nombres, columns=['Precisión', 'AUC', 'F1-Score'])"
   ]
  },
  {
   "cell_type": "code",
   "execution_count": 37,
   "metadata": {
    "id": "u4kkX10vBXeA"
   },
   "outputs": [],
   "source": [
    "def normalizar_dataset(data):\n",
    "  minimo = min(data.ravel())\n",
    "  maximo = max(data.ravel())\n",
    "  rango = maximo-minimo\n",
    "  return (data-minimo)/rango"
   ]
  },
  {
   "cell_type": "code",
   "execution_count": 38,
   "metadata": {
    "id": "-ZO_jQwnswBR"
   },
   "outputs": [],
   "source": [
    "char = data.values[:,0:5]\n",
    "target = data.values[:,5]\n",
    "red_char = reducer.transform(data.values[:,0:5])  #Reduced characteristics\n",
    "norm_char = normalizar_dataset(char)\n"
   ]
  },
  {
   "cell_type": "markdown",
   "metadata": {
    "id": "483gSdZFsMbn"
   },
   "source": [
    "### **Naïve-Bayes**:"
   ]
  },
  {
   "cell_type": "code",
   "execution_count": 39,
   "metadata": {
    "id": "lQtm_K7fsU8E"
   },
   "outputs": [],
   "source": [
    "from sklearn.naive_bayes import GaussianNB"
   ]
  },
  {
   "cell_type": "code",
   "execution_count": 40,
   "metadata": {
    "colab": {
     "base_uri": "https://localhost:8080/",
     "height": 500
    },
    "id": "_yKO8PQzsl0v",
    "outputId": "2dc6bf98-3ee0-4a60-e3e3-7d54b77e79d0"
   },
   "outputs": [
    {
     "data": {
      "image/png": "[encoded data removed]",
      "text/plain": [
       "<Figure size 842.4x595.44 with 1 Axes>"
      ]
     },
     "metadata": {},
     "output_type": "display_data"
    }
   ],
   "source": [
    "conf_mat = test_model(GaussianNB(), char, target, pca, show_plot=True)"
   ]
  },
  {
   "cell_type": "code",
   "execution_count": 41,
   "metadata": {
    "colab": {
     "base_uri": "https://localhost:8080/"
    },
    "id": "v7z0KR0KtDLK",
    "outputId": "87092c18-9a57-49e2-b66d-57b0979517eb"
   },
   "outputs": [
    {
     "name": "stdout",
     "output_type": "stream",
     "text": [
      "[[403 113]\n",
      " [ 66 379]]\n",
      "Precisión: 0.8137\n",
      "AUC: 0.8163\n",
      "F1-Scores: 0.809\n"
     ]
    }
   ],
   "source": [
    "#[0,0]-->True Negatives\n",
    "#[0,1]-->False Positives\n",
    "#[1,0]-->False Negatives\n",
    "#[1,1]-->True Positives\n",
    "print(conf_mat)\n",
    "print(\"Precisión:\", prec_from_conf_mat(conf_mat))\n",
    "print(\"AUC:\", auc_from_conf_mat(conf_mat))\n",
    "print(\"F1-Scores:\", f1_from_conf_mat(conf_mat))"
   ]
  },
  {
   "cell_type": "code",
   "execution_count": 42,
   "metadata": {
    "id": "kHxHw8WQ5rhC"
   },
   "outputs": [],
   "source": [
    "conf_mat = test_model(GaussianNB(), red_char, target)"
   ]
  },
  {
   "cell_type": "code",
   "execution_count": 43,
   "metadata": {
    "colab": {
     "base_uri": "https://localhost:8080/"
    },
    "id": "MEne0f2w58LJ",
    "outputId": "0dfa577e-4baa-451d-c694-5b200869a7d7"
   },
   "outputs": [
    {
     "name": "stdout",
     "output_type": "stream",
     "text": [
      "[[378 138]\n",
      " [ 70 375]]\n",
      "Precisión: 0.7836\n",
      "AUC: 0.7876\n",
      "F1-Scores: 0.7829\n"
     ]
    }
   ],
   "source": [
    "#[0,0]-->True Negatives\n",
    "#[0,1]-->False Positives\n",
    "#[1,0]-->False Negatives\n",
    "#[1,1]-->True Positives\n",
    "print(conf_mat)\n",
    "print(\"Precisión:\", prec_from_conf_mat(conf_mat))\n",
    "print(\"AUC:\", auc_from_conf_mat(conf_mat))\n",
    "print(\"F1-Scores:\", f1_from_conf_mat(conf_mat))"
   ]
  },
  {
   "cell_type": "markdown",
   "metadata": {
    "id": "soyGrSq-6B26"
   },
   "source": [
    "La precisión no ha mejorado usando las características seleccionadas."
   ]
  },
  {
   "cell_type": "markdown",
   "metadata": {
    "id": "T3XUA5-TCdEb"
   },
   "source": [
    "### Árbol de decisión (interpretable):\n"
   ]
  },
  {
   "cell_type": "code",
   "execution_count": 44,
   "metadata": {
    "id": "8dFor4HuC4-U"
   },
   "outputs": [],
   "source": [
    "from sklearn.tree import DecisionTreeClassifier"
   ]
  },
  {
   "cell_type": "code",
   "execution_count": 45,
   "metadata": {
    "colab": {
     "base_uri": "https://localhost:8080/",
     "height": 500
    },
    "id": "tKVLcA9wVFLf",
    "outputId": "2f769ac7-da2e-4320-c2fe-cef5af869d3d"
   },
   "outputs": [
    {
     "data": {
      "image/png": "[encoded data removed]",
      "text/plain": [
       "<Figure size 842.4x595.44 with 1 Axes>"
      ]
     },
     "metadata": {},
     "output_type": "display_data"
    }
   ],
   "source": [
    "conf_mat = test_model(DecisionTreeClassifier(criterion='gini'), char, target, pca, show_plot=True)"
   ]
  },
  {
   "cell_type": "code",
   "execution_count": 46,
   "metadata": {
    "colab": {
     "base_uri": "https://localhost:8080/"
    },
    "id": "Mdb_Qr5nVlrP",
    "outputId": "97f3ee5a-a82e-40da-b7c8-fcbfa851ff87"
   },
   "outputs": [
    {
     "name": "stdout",
     "output_type": "stream",
     "text": [
      "[[414 102]\n",
      " [126 319]]\n",
      "Precisión: 0.7627\n",
      "AUC: 0.7596\n",
      "F1-Scores: 0.7367\n"
     ]
    }
   ],
   "source": [
    "print(conf_mat)\n",
    "print(\"Precisión:\", prec_from_conf_mat(conf_mat))\n",
    "print(\"AUC:\", auc_from_conf_mat(conf_mat))\n",
    "print(\"F1-Scores:\", f1_from_conf_mat(conf_mat))"
   ]
  },
  {
   "cell_type": "markdown",
   "metadata": {
    "id": "sSlogegsehGq"
   },
   "source": [
    "Ahora lo testamos para varias profundidades máximas distintas:"
   ]
  },
  {
   "cell_type": "code",
   "execution_count": 47,
   "metadata": {
    "id": "HlBIyATpem65"
   },
   "outputs": [
    {
     "name": "stderr",
     "output_type": "stream",
     "text": [
      "/home/alejandro/anaconda3/lib/python3.8/site-packages/sklearn/utils/validation.py:68: FutureWarning: Pass criterion=gini as keyword args. From version 0.25 passing these as positional arguments will result in an error\n",
      "  warnings.warn(\"Pass {} as keyword args. From version 0.25 \"\n"
     ]
    }
   ],
   "source": [
    "estimadores = [\n",
    "               DecisionTreeClassifier(max_depth=None, random_state=1),\n",
    "               DecisionTreeClassifier(max_depth=1, random_state=1),\n",
    "               DecisionTreeClassifier(max_depth=2, random_state=1),\n",
    "               DecisionTreeClassifier(max_depth=3, random_state=1),\n",
    "               DecisionTreeClassifier(max_depth=4, random_state=1),\n",
    "               DecisionTreeClassifier(max_depth=5, random_state=1)\n",
    "]\n",
    "nombres = [\n",
    "           \"Árbol completo\",\n",
    "           \"Árbol p1\",\n",
    "           \"Árbol p2\",\n",
    "           \"Árbol p3\",\n",
    "           \"Árbol p4\",\n",
    "           \"Árbol p5\"\n",
    "]\n",
    "result_arboles = test_todos(estimadores, nombres, char, target)"
   ]
  },
  {
   "cell_type": "code",
   "execution_count": 48,
   "metadata": {
    "id": "4quFW5bafU8K"
   },
   "outputs": [],
   "source": [
    "result_arboles.to_csv(\"arb_dec_comparados.csv\")"
   ]
  },
  {
   "cell_type": "code",
   "execution_count": 49,
   "metadata": {
    "colab": {
     "base_uri": "https://localhost:8080/"
    },
    "id": "09RHQlbXWaUC",
    "outputId": "31678ef7-2db4-402d-c284-d92c68a88d49"
   },
   "outputs": [
    {
     "data": {
      "text/plain": [
       "DecisionTreeClassifier(max_depth=3)"
      ]
     },
     "execution_count": 49,
     "metadata": {},
     "output_type": "execute_result"
    }
   ],
   "source": [
    "#Visualizamos un árbol de profundidad 3 con 4/5 partes del dataset como entrenamiento\n",
    "max_size = (np.size(char, axis=0)//5)*4\n",
    "tree_clf = DecisionTreeClassifier(criterion='gini', max_depth=3)\n",
    "tree_clf.fit(char[0:max_size, :], target[0:max_size])"
   ]
  },
  {
   "cell_type": "code",
   "execution_count": 53,
   "metadata": {
    "colab": {
     "base_uri": "https://localhost:8080/",
     "height": 538
    },
    "id": "XTGLOBydzrRZ",
    "outputId": "7f89062d-c263-44b0-8dfb-b4ae9972d06c",
    "scrolled": true
   },
   "outputs": [
    {
     "data": {
      "image/svg+xml": [
       "<?xml version=\"1.0\" encoding=\"UTF-8\" standalone=\"no\"?>\n",
       "<!DOCTYPE svg PUBLIC \"-//W3C//DTD SVG 1.1//EN\"\n",
       " \"http://www.w3.org/Graphics/SVG/1.1/DTD/svg11.dtd\">\n",
       "<!-- Generated by graphviz version 2.43.0 (0)\n",
       " -->\n",
       "<!-- Title: Tree Pages: 1 -->\n",
       "<svg width=\"1185pt\" height=\"373pt\"\n",
       " viewBox=\"0.00 0.00 1184.50 373.00\" xmlns=\"http://www.w3.org/2000/svg\" xmlns:xlink=\"http://www.w3.org/1999/xlink\">\n",
       "<g id=\"graph0\" class=\"graph\" transform=\"scale(1 1) rotate(0) translate(4 369)\">\n",
       "<title>Tree</title>\n",
       "<polygon fill=\"white\" stroke=\"transparent\" points=\"-4,4 -4,-369 1180.5,-369 1180.5,4 -4,4\"/>\n",
       "<!-- 0 -->\n",
       "<g id=\"node1\" class=\"node\">\n",
       "<title>0</title>\n",
       "<polygon fill=\"#fbece1\" stroke=\"black\" points=\"672,-365 523,-365 523,-297 672,-297 672,-365\"/>\n",
       "<text text-anchor=\"middle\" x=\"597.5\" y=\"-349.8\" font-family=\"Times,serif\" font-size=\"14.00\">X[0] &lt;= 4.5</text>\n",
       "<text text-anchor=\"middle\" x=\"597.5\" y=\"-334.8\" font-family=\"Times,serif\" font-size=\"14.00\">gini = 0.497</text>\n",
       "<text text-anchor=\"middle\" x=\"597.5\" y=\"-319.8\" font-family=\"Times,serif\" font-size=\"14.00\">samples = 768</text>\n",
       "<text text-anchor=\"middle\" x=\"597.5\" y=\"-304.8\" font-family=\"Times,serif\" font-size=\"14.00\">value = [415, 353]</text>\n",
       "</g>\n",
       "<!-- 1 -->\n",
       "<g id=\"node2\" class=\"node\">\n",
       "<title>1</title>\n",
       "<polygon fill=\"#eb9e67\" stroke=\"black\" points=\"513.5,-261 373.5,-261 373.5,-193 513.5,-193 513.5,-261\"/>\n",
       "<text text-anchor=\"middle\" x=\"443.5\" y=\"-245.8\" font-family=\"Times,serif\" font-size=\"14.00\">X[2] &lt;= 0.5</text>\n",
       "<text text-anchor=\"middle\" x=\"443.5\" y=\"-230.8\" font-family=\"Times,serif\" font-size=\"14.00\">gini = 0.307</text>\n",
       "<text text-anchor=\"middle\" x=\"443.5\" y=\"-215.8\" font-family=\"Times,serif\" font-size=\"14.00\">samples = 460</text>\n",
       "<text text-anchor=\"middle\" x=\"443.5\" y=\"-200.8\" font-family=\"Times,serif\" font-size=\"14.00\">value = [373, 87]</text>\n",
       "</g>\n",
       "<!-- 0&#45;&gt;1 -->\n",
       "<g id=\"edge1\" class=\"edge\">\n",
       "<title>0&#45;&gt;1</title>\n",
       "<path fill=\"none\" stroke=\"black\" d=\"M547.5,-296.88C533.04,-287.3 517.12,-276.76 502.18,-266.86\"/>\n",
       "<polygon fill=\"black\" stroke=\"black\" points=\"503.78,-263.73 493.51,-261.12 499.92,-269.56 503.78,-263.73\"/>\n",
       "<text text-anchor=\"middle\" x=\"498.49\" y=\"-281.92\" font-family=\"Times,serif\" font-size=\"14.00\">True</text>\n",
       "</g>\n",
       "<!-- 8 -->\n",
       "<g id=\"node9\" class=\"node\">\n",
       "<title>8</title>\n",
       "<polygon fill=\"#58ace9\" stroke=\"black\" points=\"816.5,-261 676.5,-261 676.5,-193 816.5,-193 816.5,-261\"/>\n",
       "<text text-anchor=\"middle\" x=\"746.5\" y=\"-245.8\" font-family=\"Times,serif\" font-size=\"14.00\">X[2] &lt;= 0.5</text>\n",
       "<text text-anchor=\"middle\" x=\"746.5\" y=\"-230.8\" font-family=\"Times,serif\" font-size=\"14.00\">gini = 0.236</text>\n",
       "<text text-anchor=\"middle\" x=\"746.5\" y=\"-215.8\" font-family=\"Times,serif\" font-size=\"14.00\">samples = 308</text>\n",
       "<text text-anchor=\"middle\" x=\"746.5\" y=\"-200.8\" font-family=\"Times,serif\" font-size=\"14.00\">value = [42, 266]</text>\n",
       "</g>\n",
       "<!-- 0&#45;&gt;8 -->\n",
       "<g id=\"edge8\" class=\"edge\">\n",
       "<title>0&#45;&gt;8</title>\n",
       "<path fill=\"none\" stroke=\"black\" d=\"M645.88,-296.88C659.87,-287.3 675.27,-276.76 689.73,-266.86\"/>\n",
       "<polygon fill=\"black\" stroke=\"black\" points=\"691.84,-269.66 698.11,-261.12 687.88,-263.89 691.84,-269.66\"/>\n",
       "<text text-anchor=\"middle\" x=\"693.51\" y=\"-282\" font-family=\"Times,serif\" font-size=\"14.00\">False</text>\n",
       "</g>\n",
       "<!-- 2 -->\n",
       "<g id=\"node3\" class=\"node\">\n",
       "<title>2</title>\n",
       "<polygon fill=\"#fdf6f0\" stroke=\"black\" points=\"280,-157 149,-157 149,-89 280,-89 280,-157\"/>\n",
       "<text text-anchor=\"middle\" x=\"214.5\" y=\"-141.8\" font-family=\"Times,serif\" font-size=\"14.00\">X[1] &lt;= 61.5</text>\n",
       "<text text-anchor=\"middle\" x=\"214.5\" y=\"-126.8\" font-family=\"Times,serif\" font-size=\"14.00\">gini = 0.499</text>\n",
       "<text text-anchor=\"middle\" x=\"214.5\" y=\"-111.8\" font-family=\"Times,serif\" font-size=\"14.00\">samples = 104</text>\n",
       "<text text-anchor=\"middle\" x=\"214.5\" y=\"-96.8\" font-family=\"Times,serif\" font-size=\"14.00\">value = [54, 50]</text>\n",
       "</g>\n",
       "<!-- 1&#45;&gt;2 -->\n",
       "<g id=\"edge2\" class=\"edge\">\n",
       "<title>1&#45;&gt;2</title>\n",
       "<path fill=\"none\" stroke=\"black\" d=\"M373.24,-194.7C346.77,-182.92 316.59,-169.47 289.69,-157.49\"/>\n",
       "<polygon fill=\"black\" stroke=\"black\" points=\"290.89,-154.19 280.33,-153.32 288.04,-160.59 290.89,-154.19\"/>\n",
       "</g>\n",
       "<!-- 5 -->\n",
       "<g id=\"node6\" class=\"node\">\n",
       "<title>5</title>\n",
       "<polygon fill=\"#e89050\" stroke=\"black\" points=\"513.5,-157 373.5,-157 373.5,-89 513.5,-89 513.5,-157\"/>\n",
       "<text text-anchor=\"middle\" x=\"443.5\" y=\"-141.8\" font-family=\"Times,serif\" font-size=\"14.00\">X[1] &lt;= 57.5</text>\n",
       "<text text-anchor=\"middle\" x=\"443.5\" y=\"-126.8\" font-family=\"Times,serif\" font-size=\"14.00\">gini = 0.186</text>\n",
       "<text text-anchor=\"middle\" x=\"443.5\" y=\"-111.8\" font-family=\"Times,serif\" font-size=\"14.00\">samples = 356</text>\n",
       "<text text-anchor=\"middle\" x=\"443.5\" y=\"-96.8\" font-family=\"Times,serif\" font-size=\"14.00\">value = [319, 37]</text>\n",
       "</g>\n",
       "<!-- 1&#45;&gt;5 -->\n",
       "<g id=\"edge5\" class=\"edge\">\n",
       "<title>1&#45;&gt;5</title>\n",
       "<path fill=\"none\" stroke=\"black\" d=\"M443.5,-192.88C443.5,-184.78 443.5,-175.98 443.5,-167.47\"/>\n",
       "<polygon fill=\"black\" stroke=\"black\" points=\"447,-167.3 443.5,-157.3 440,-167.3 447,-167.3\"/>\n",
       "</g>\n",
       "<!-- 3 -->\n",
       "<g id=\"node4\" class=\"node\">\n",
       "<title>3</title>\n",
       "<polygon fill=\"#f2c09c\" stroke=\"black\" points=\"131,-53 0,-53 0,0 131,0 131,-53\"/>\n",
       "<text text-anchor=\"middle\" x=\"65.5\" y=\"-37.8\" font-family=\"Times,serif\" font-size=\"14.00\">gini = 0.444</text>\n",
       "<text text-anchor=\"middle\" x=\"65.5\" y=\"-22.8\" font-family=\"Times,serif\" font-size=\"14.00\">samples = 60</text>\n",
       "<text text-anchor=\"middle\" x=\"65.5\" y=\"-7.8\" font-family=\"Times,serif\" font-size=\"14.00\">value = [40, 20]</text>\n",
       "</g>\n",
       "<!-- 2&#45;&gt;3 -->\n",
       "<g id=\"edge3\" class=\"edge\">\n",
       "<title>2&#45;&gt;3</title>\n",
       "<path fill=\"none\" stroke=\"black\" d=\"M162.39,-88.95C146.95,-79.16 130.11,-68.48 114.85,-58.8\"/>\n",
       "<polygon fill=\"black\" stroke=\"black\" points=\"116.4,-55.64 106.08,-53.24 112.65,-61.55 116.4,-55.64\"/>\n",
       "</g>\n",
       "<!-- 4 -->\n",
       "<g id=\"node5\" class=\"node\">\n",
       "<title>4</title>\n",
       "<polygon fill=\"#95cbf1\" stroke=\"black\" points=\"280,-53 149,-53 149,0 280,0 280,-53\"/>\n",
       "<text text-anchor=\"middle\" x=\"214.5\" y=\"-37.8\" font-family=\"Times,serif\" font-size=\"14.00\">gini = 0.434</text>\n",
       "<text text-anchor=\"middle\" x=\"214.5\" y=\"-22.8\" font-family=\"Times,serif\" font-size=\"14.00\">samples = 44</text>\n",
       "<text text-anchor=\"middle\" x=\"214.5\" y=\"-7.8\" font-family=\"Times,serif\" font-size=\"14.00\">value = [14, 30]</text>\n",
       "</g>\n",
       "<!-- 2&#45;&gt;4 -->\n",
       "<g id=\"edge4\" class=\"edge\">\n",
       "<title>2&#45;&gt;4</title>\n",
       "<path fill=\"none\" stroke=\"black\" d=\"M214.5,-88.95C214.5,-80.72 214.5,-71.85 214.5,-63.48\"/>\n",
       "<polygon fill=\"black\" stroke=\"black\" points=\"218,-63.24 214.5,-53.24 211,-63.24 218,-63.24\"/>\n",
       "</g>\n",
       "<!-- 6 -->\n",
       "<g id=\"node7\" class=\"node\">\n",
       "<title>6</title>\n",
       "<polygon fill=\"#e78946\" stroke=\"black\" points=\"438.5,-53 298.5,-53 298.5,0 438.5,0 438.5,-53\"/>\n",
       "<text text-anchor=\"middle\" x=\"368.5\" y=\"-37.8\" font-family=\"Times,serif\" font-size=\"14.00\">gini = 0.112</text>\n",
       "<text text-anchor=\"middle\" x=\"368.5\" y=\"-22.8\" font-family=\"Times,serif\" font-size=\"14.00\">samples = 251</text>\n",
       "<text text-anchor=\"middle\" x=\"368.5\" y=\"-7.8\" font-family=\"Times,serif\" font-size=\"14.00\">value = [236, 15]</text>\n",
       "</g>\n",
       "<!-- 5&#45;&gt;6 -->\n",
       "<g id=\"edge6\" class=\"edge\">\n",
       "<title>5&#45;&gt;6</title>\n",
       "<path fill=\"none\" stroke=\"black\" d=\"M417.27,-88.95C410.15,-79.98 402.44,-70.27 395.3,-61.26\"/>\n",
       "<polygon fill=\"black\" stroke=\"black\" points=\"397.88,-58.89 388.93,-53.24 392.4,-63.25 397.88,-58.89\"/>\n",
       "</g>\n",
       "<!-- 7 -->\n",
       "<g id=\"node8\" class=\"node\">\n",
       "<title>7</title>\n",
       "<polygon fill=\"#eca26d\" stroke=\"black\" points=\"588,-53 457,-53 457,0 588,0 588,-53\"/>\n",
       "<text text-anchor=\"middle\" x=\"522.5\" y=\"-37.8\" font-family=\"Times,serif\" font-size=\"14.00\">gini = 0.331</text>\n",
       "<text text-anchor=\"middle\" x=\"522.5\" y=\"-22.8\" font-family=\"Times,serif\" font-size=\"14.00\">samples = 105</text>\n",
       "<text text-anchor=\"middle\" x=\"522.5\" y=\"-7.8\" font-family=\"Times,serif\" font-size=\"14.00\">value = [83, 22]</text>\n",
       "</g>\n",
       "<!-- 5&#45;&gt;7 -->\n",
       "<g id=\"edge7\" class=\"edge\">\n",
       "<title>5&#45;&gt;7</title>\n",
       "<path fill=\"none\" stroke=\"black\" d=\"M471.13,-88.95C478.7,-79.89 486.91,-70.07 494.51,-60.99\"/>\n",
       "<polygon fill=\"black\" stroke=\"black\" points=\"497.26,-63.15 500.98,-53.24 491.89,-58.66 497.26,-63.15\"/>\n",
       "</g>\n",
       "<!-- 9 -->\n",
       "<g id=\"node10\" class=\"node\">\n",
       "<title>9</title>\n",
       "<polygon fill=\"#50a9e8\" stroke=\"black\" points=\"816.5,-157 676.5,-157 676.5,-89 816.5,-89 816.5,-157\"/>\n",
       "<text text-anchor=\"middle\" x=\"746.5\" y=\"-141.8\" font-family=\"Times,serif\" font-size=\"14.00\">X[1] &lt;= 66.5</text>\n",
       "<text text-anchor=\"middle\" x=\"746.5\" y=\"-126.8\" font-family=\"Times,serif\" font-size=\"14.00\">gini = 0.189</text>\n",
       "<text text-anchor=\"middle\" x=\"746.5\" y=\"-111.8\" font-family=\"Times,serif\" font-size=\"14.00\">samples = 236</text>\n",
       "<text text-anchor=\"middle\" x=\"746.5\" y=\"-96.8\" font-family=\"Times,serif\" font-size=\"14.00\">value = [25, 211]</text>\n",
       "</g>\n",
       "<!-- 8&#45;&gt;9 -->\n",
       "<g id=\"edge9\" class=\"edge\">\n",
       "<title>8&#45;&gt;9</title>\n",
       "<path fill=\"none\" stroke=\"black\" d=\"M746.5,-192.88C746.5,-184.78 746.5,-175.98 746.5,-167.47\"/>\n",
       "<polygon fill=\"black\" stroke=\"black\" points=\"750,-167.3 746.5,-157.3 743,-167.3 750,-167.3\"/>\n",
       "</g>\n",
       "<!-- 12 -->\n",
       "<g id=\"node13\" class=\"node\">\n",
       "<title>12</title>\n",
       "<polygon fill=\"#76bbed\" stroke=\"black\" points=\"1036,-157 905,-157 905,-89 1036,-89 1036,-157\"/>\n",
       "<text text-anchor=\"middle\" x=\"970.5\" y=\"-141.8\" font-family=\"Times,serif\" font-size=\"14.00\">X[3] &lt;= 4.5</text>\n",
       "<text text-anchor=\"middle\" x=\"970.5\" y=\"-126.8\" font-family=\"Times,serif\" font-size=\"14.00\">gini = 0.361</text>\n",
       "<text text-anchor=\"middle\" x=\"970.5\" y=\"-111.8\" font-family=\"Times,serif\" font-size=\"14.00\">samples = 72</text>\n",
       "<text text-anchor=\"middle\" x=\"970.5\" y=\"-96.8\" font-family=\"Times,serif\" font-size=\"14.00\">value = [17, 55]</text>\n",
       "</g>\n",
       "<!-- 8&#45;&gt;12 -->\n",
       "<g id=\"edge12\" class=\"edge\">\n",
       "<title>8&#45;&gt;12</title>\n",
       "<path fill=\"none\" stroke=\"black\" d=\"M816.76,-194.01C841.79,-182.61 870.06,-169.74 895.47,-158.17\"/>\n",
       "<polygon fill=\"black\" stroke=\"black\" points=\"897.04,-161.3 904.69,-153.97 894.14,-154.93 897.04,-161.3\"/>\n",
       "</g>\n",
       "<!-- 10 -->\n",
       "<g id=\"node11\" class=\"node\">\n",
       "<title>10</title>\n",
       "<polygon fill=\"#5baee9\" stroke=\"black\" points=\"746.5,-53 606.5,-53 606.5,0 746.5,0 746.5,-53\"/>\n",
       "<text text-anchor=\"middle\" x=\"676.5\" y=\"-37.8\" font-family=\"Times,serif\" font-size=\"14.00\">gini = 0.249</text>\n",
       "<text text-anchor=\"middle\" x=\"676.5\" y=\"-22.8\" font-family=\"Times,serif\" font-size=\"14.00\">samples = 144</text>\n",
       "<text text-anchor=\"middle\" x=\"676.5\" y=\"-7.8\" font-family=\"Times,serif\" font-size=\"14.00\">value = [21, 123]</text>\n",
       "</g>\n",
       "<!-- 9&#45;&gt;10 -->\n",
       "<g id=\"edge10\" class=\"edge\">\n",
       "<title>9&#45;&gt;10</title>\n",
       "<path fill=\"none\" stroke=\"black\" d=\"M722.02,-88.95C715.44,-80.07 708.33,-70.46 701.71,-61.54\"/>\n",
       "<polygon fill=\"black\" stroke=\"black\" points=\"704.33,-59.19 695.56,-53.24 698.7,-63.36 704.33,-59.19\"/>\n",
       "</g>\n",
       "<!-- 11 -->\n",
       "<g id=\"node12\" class=\"node\">\n",
       "<title>11</title>\n",
       "<polygon fill=\"#42a1e6\" stroke=\"black\" points=\"886.5,-53 764.5,-53 764.5,0 886.5,0 886.5,-53\"/>\n",
       "<text text-anchor=\"middle\" x=\"825.5\" y=\"-37.8\" font-family=\"Times,serif\" font-size=\"14.00\">gini = 0.083</text>\n",
       "<text text-anchor=\"middle\" x=\"825.5\" y=\"-22.8\" font-family=\"Times,serif\" font-size=\"14.00\">samples = 92</text>\n",
       "<text text-anchor=\"middle\" x=\"825.5\" y=\"-7.8\" font-family=\"Times,serif\" font-size=\"14.00\">value = [4, 88]</text>\n",
       "</g>\n",
       "<!-- 9&#45;&gt;11 -->\n",
       "<g id=\"edge11\" class=\"edge\">\n",
       "<title>9&#45;&gt;11</title>\n",
       "<path fill=\"none\" stroke=\"black\" d=\"M774.13,-88.95C781.7,-79.89 789.91,-70.07 797.51,-60.99\"/>\n",
       "<polygon fill=\"black\" stroke=\"black\" points=\"800.26,-63.15 803.98,-53.24 794.89,-58.66 800.26,-63.15\"/>\n",
       "</g>\n",
       "<!-- 13 -->\n",
       "<g id=\"node14\" class=\"node\">\n",
       "<title>13</title>\n",
       "<polygon fill=\"#8bc6f0\" stroke=\"black\" points=\"1036,-53 905,-53 905,0 1036,0 1036,-53\"/>\n",
       "<text text-anchor=\"middle\" x=\"970.5\" y=\"-37.8\" font-family=\"Times,serif\" font-size=\"14.00\">gini = 0.414</text>\n",
       "<text text-anchor=\"middle\" x=\"970.5\" y=\"-22.8\" font-family=\"Times,serif\" font-size=\"14.00\">samples = 58</text>\n",
       "<text text-anchor=\"middle\" x=\"970.5\" y=\"-7.8\" font-family=\"Times,serif\" font-size=\"14.00\">value = [17, 41]</text>\n",
       "</g>\n",
       "<!-- 12&#45;&gt;13 -->\n",
       "<g id=\"edge13\" class=\"edge\">\n",
       "<title>12&#45;&gt;13</title>\n",
       "<path fill=\"none\" stroke=\"black\" d=\"M970.5,-88.95C970.5,-80.72 970.5,-71.85 970.5,-63.48\"/>\n",
       "<polygon fill=\"black\" stroke=\"black\" points=\"974,-63.24 970.5,-53.24 967,-63.24 974,-63.24\"/>\n",
       "</g>\n",
       "<!-- 14 -->\n",
       "<g id=\"node15\" class=\"node\">\n",
       "<title>14</title>\n",
       "<polygon fill=\"#399de5\" stroke=\"black\" points=\"1176.5,-53 1054.5,-53 1054.5,0 1176.5,0 1176.5,-53\"/>\n",
       "<text text-anchor=\"middle\" x=\"1115.5\" y=\"-37.8\" font-family=\"Times,serif\" font-size=\"14.00\">gini = 0.0</text>\n",
       "<text text-anchor=\"middle\" x=\"1115.5\" y=\"-22.8\" font-family=\"Times,serif\" font-size=\"14.00\">samples = 14</text>\n",
       "<text text-anchor=\"middle\" x=\"1115.5\" y=\"-7.8\" font-family=\"Times,serif\" font-size=\"14.00\">value = [0, 14]</text>\n",
       "</g>\n",
       "<!-- 12&#45;&gt;14 -->\n",
       "<g id=\"edge14\" class=\"edge\">\n",
       "<title>12&#45;&gt;14</title>\n",
       "<path fill=\"none\" stroke=\"black\" d=\"M1021.21,-88.95C1036.23,-79.16 1052.63,-68.48 1067.47,-58.8\"/>\n",
       "<polygon fill=\"black\" stroke=\"black\" points=\"1069.54,-61.63 1076.01,-53.24 1065.72,-55.76 1069.54,-61.63\"/>\n",
       "</g>\n",
       "</g>\n",
       "</svg>\n"
      ],
      "text/plain": [
       "<graphviz.files.Source at 0x7f19c2f87fa0>"
      ]
     },
     "execution_count": 53,
     "metadata": {},
     "output_type": "execute_result"
    }
   ],
   "source": [
    "import graphviz\n",
    "from sklearn.tree import export_graphviz\n",
    "# DOT data\n",
    "dot_data = export_graphviz(tree_clf, out_file=None, \n",
    "                                filled=True)\n",
    "\n",
    "# Draw graph\n",
    "graph = graphviz.Source(dot_data, format=\"png\")\n",
    "graph.render('decision_tree') \n",
    "graph"
   ]
  },
  {
   "cell_type": "markdown",
   "metadata": {
    "id": "GkbzDOkDYziw"
   },
   "source": [
    "Visualizamos la clasificación hecha para una profundidad de 3 (la mejor obtenida)"
   ]
  },
  {
   "cell_type": "code",
   "execution_count": 54,
   "metadata": {
    "colab": {
     "base_uri": "https://localhost:8080/",
     "height": 500
    },
    "id": "E9O0O_vUYyBy",
    "outputId": "40544daa-c2f8-4ab1-e090-4b97a3692506"
   },
   "outputs": [
    {
     "data": {
      "image/png": "[encoded data removed]",
      "text/plain": [
       "<Figure size 842.4x595.44 with 1 Axes>"
      ]
     },
     "metadata": {},
     "output_type": "display_data"
    }
   ],
   "source": [
    "conf_mat = test_model(DecisionTreeClassifier(criterion='gini', max_depth=3), char, target, pca, show_plot=True)"
   ]
  },
  {
   "cell_type": "code",
   "execution_count": 55,
   "metadata": {
    "colab": {
     "base_uri": "https://localhost:8080/"
    },
    "id": "SHpLEuUiYyB2",
    "outputId": "d80409f7-a13d-4cf1-bb71-5c0c9bb08737"
   },
   "outputs": [
    {
     "name": "stdout",
     "output_type": "stream",
     "text": [
      "[[465  51]\n",
      " [107 338]]\n",
      "Precisión: 0.8356\n",
      "AUC: 0.8304\n",
      "F1-Scores: 0.8106\n"
     ]
    }
   ],
   "source": [
    "print(conf_mat)\n",
    "print(\"Precisión:\", prec_from_conf_mat(conf_mat))\n",
    "print(\"AUC:\", auc_from_conf_mat(conf_mat))\n",
    "print(\"F1-Scores:\", f1_from_conf_mat(conf_mat))"
   ]
  },
  {
   "cell_type": "code",
   "execution_count": 56,
   "metadata": {
    "colab": {
     "base_uri": "https://localhost:8080/",
     "height": 500
    },
    "id": "hCXHhaTu3aiw",
    "outputId": "77a474f3-48ef-46fd-b8df-32bcc4bb302d"
   },
   "outputs": [
    {
     "data": {
      "image/png": "[encoded data removed]",
      "text/plain": [
       "<Figure size 842.4x595.44 with 1 Axes>"
      ]
     },
     "metadata": {},
     "output_type": "display_data"
    }
   ],
   "source": [
    "conf_mat = test_model(DecisionTreeClassifier(criterion='gini', max_depth=3), norm_char, target, pca, show_plot=True)"
   ]
  },
  {
   "cell_type": "code",
   "execution_count": 57,
   "metadata": {
    "colab": {
     "base_uri": "https://localhost:8080/"
    },
    "id": "Rlz6GonJ3ai4",
    "outputId": "3b892011-ff17-47f3-f605-822a6f8966b5"
   },
   "outputs": [
    {
     "name": "stdout",
     "output_type": "stream",
     "text": [
      "[[465  51]\n",
      " [107 338]]\n",
      "Precisión: 0.8356\n",
      "AUC: 0.8304\n",
      "F1-Scores: 0.8106\n"
     ]
    }
   ],
   "source": [
    "print(conf_mat)\n",
    "print(\"Precisión:\", prec_from_conf_mat(conf_mat))\n",
    "print(\"AUC:\", auc_from_conf_mat(conf_mat))\n",
    "print(\"F1-Scores:\", f1_from_conf_mat(conf_mat))"
   ]
  },
  {
   "cell_type": "code",
   "execution_count": 58,
   "metadata": {
    "id": "G6k68zjQ3eE4"
   },
   "outputs": [],
   "source": [
    "conf_mat = test_model(DecisionTreeClassifier(criterion='gini', max_depth=3), red_char, target)"
   ]
  },
  {
   "cell_type": "code",
   "execution_count": 59,
   "metadata": {
    "colab": {
     "base_uri": "https://localhost:8080/"
    },
    "id": "s3yCgkrh3eE-",
    "outputId": "9cf01474-da4a-443d-81a3-5fa1a28ffb41"
   },
   "outputs": [
    {
     "name": "stdout",
     "output_type": "stream",
     "text": [
      "[[387 129]\n",
      " [ 67 378]]\n",
      "Precisión: 0.796\n",
      "AUC: 0.7997\n",
      "F1-Scores: 0.7941\n"
     ]
    }
   ],
   "source": [
    "print(conf_mat)\n",
    "print(\"Precisión:\", prec_from_conf_mat(conf_mat))\n",
    "print(\"AUC:\", auc_from_conf_mat(conf_mat))\n",
    "print(\"F1-Scores:\", f1_from_conf_mat(conf_mat))"
   ]
  },
  {
   "cell_type": "code",
   "execution_count": 60,
   "metadata": {
    "id": "kwot19g03f7R"
   },
   "outputs": [],
   "source": [
    "conf_mat = test_model(DecisionTreeClassifier(criterion='gini', max_depth=3), onehot_char, target)"
   ]
  },
  {
   "cell_type": "code",
   "execution_count": 61,
   "metadata": {
    "colab": {
     "base_uri": "https://localhost:8080/"
    },
    "id": "iX_yZZRk3f7Y",
    "outputId": "b1f4aeca-0207-421a-c45b-e9de2b9dc39d"
   },
   "outputs": [
    {
     "name": "stdout",
     "output_type": "stream",
     "text": [
      "[[416 100]\n",
      " [ 79 366]]\n",
      "Precisión: 0.8137\n",
      "AUC: 0.8143\n",
      "F1-Scores: 0.8035\n"
     ]
    }
   ],
   "source": [
    "print(conf_mat)\n",
    "print(\"Precisión:\", prec_from_conf_mat(conf_mat))\n",
    "print(\"AUC:\", auc_from_conf_mat(conf_mat))\n",
    "print(\"F1-Scores:\", f1_from_conf_mat(conf_mat))"
   ]
  },
  {
   "cell_type": "markdown",
   "metadata": {
    "id": "91oQLewiZQGe"
   },
   "source": [
    "### **AdaBoost**"
   ]
  },
  {
   "cell_type": "code",
   "execution_count": 62,
   "metadata": {
    "id": "eXKNRRWhZvlD"
   },
   "outputs": [],
   "source": [
    "from sklearn.ensemble import AdaBoostClassifier"
   ]
  },
  {
   "cell_type": "code",
   "execution_count": 63,
   "metadata": {
    "colab": {
     "base_uri": "https://localhost:8080/",
     "height": 500
    },
    "id": "ekVdnJfO4BH3",
    "outputId": "6c5775df-eb98-4ff1-8293-3a79f854ee8f"
   },
   "outputs": [
    {
     "data": {
      "image/png": "[encoded data removed]",
      "text/plain": [
       "<Figure size 842.4x595.44 with 1 Axes>"
      ]
     },
     "metadata": {},
     "output_type": "display_data"
    }
   ],
   "source": [
    "conf_mat = test_model(AdaBoostClassifier(learning_rate=1, n_estimators=5), char, target, pca, show_plot=True)"
   ]
  },
  {
   "cell_type": "code",
   "execution_count": 64,
   "metadata": {
    "colab": {
     "base_uri": "https://localhost:8080/"
    },
    "id": "giepeqoS4BIF",
    "outputId": "cd626146-2e13-43fd-924a-b57f17b566fb"
   },
   "outputs": [
    {
     "name": "stdout",
     "output_type": "stream",
     "text": [
      "[[445  71]\n",
      " [ 97 348]]\n",
      "Precisión: 0.8252\n",
      "AUC: 0.8222\n",
      "F1-Scores: 0.8056\n"
     ]
    }
   ],
   "source": [
    "#[0,0]-->True Negatives\n",
    "#[0,1]-->False Positives\n",
    "#[1,0]-->False Negatives\n",
    "#[1,1]-->True Positives\n",
    "print(conf_mat)\n",
    "print(\"Precisión:\", prec_from_conf_mat(conf_mat))\n",
    "print(\"AUC:\", auc_from_conf_mat(conf_mat))\n",
    "print(\"F1-Scores:\", f1_from_conf_mat(conf_mat))"
   ]
  },
  {
   "cell_type": "code",
   "execution_count": 65,
   "metadata": {
    "colab": {
     "base_uri": "https://localhost:8080/",
     "height": 500
    },
    "id": "WWyjyXQ6ZvlQ",
    "outputId": "7c31cda8-9058-4c3e-9e38-e0fb037a645b"
   },
   "outputs": [
    {
     "data": {
      "image/png": "[encoded data removed]",
      "text/plain": [
       "<Figure size 842.4x595.44 with 1 Axes>"
      ]
     },
     "metadata": {},
     "output_type": "display_data"
    }
   ],
   "source": [
    "conf_mat = test_model(AdaBoostClassifier(learning_rate=0.1, n_estimators=30), char, target, pca, show_plot=True)"
   ]
  },
  {
   "cell_type": "code",
   "execution_count": 66,
   "metadata": {
    "colab": {
     "base_uri": "https://localhost:8080/"
    },
    "id": "bLR2zOLJZvlT",
    "outputId": "71a92177-12bc-40b9-d5d6-efb6eaa7d598"
   },
   "outputs": [
    {
     "name": "stdout",
     "output_type": "stream",
     "text": [
      "[[462  54]\n",
      " [102 343]]\n",
      "Precisión: 0.8377\n",
      "AUC: 0.8331\n",
      "F1-Scores: 0.8147\n"
     ]
    }
   ],
   "source": [
    "#[0,0]-->True Negatives\n",
    "#[0,1]-->False Positives\n",
    "#[1,0]-->False Negatives\n",
    "#[1,1]-->True Positives\n",
    "print(conf_mat)\n",
    "print(\"Precisión:\", prec_from_conf_mat(conf_mat))\n",
    "print(\"AUC:\", auc_from_conf_mat(conf_mat))\n",
    "print(\"F1-Scores:\", f1_from_conf_mat(conf_mat))"
   ]
  },
  {
   "cell_type": "code",
   "execution_count": 67,
   "metadata": {
    "colab": {
     "base_uri": "https://localhost:8080/",
     "height": 500
    },
    "id": "cgbNRUMe6xEK",
    "outputId": "b9441b0c-308b-4c21-dc98-9f0248fce3f6"
   },
   "outputs": [
    {
     "data": {
      "image/png": "[encoded data removed]",
      "text/plain": [
       "<Figure size 842.4x595.44 with 1 Axes>"
      ]
     },
     "metadata": {},
     "output_type": "display_data"
    }
   ],
   "source": [
    "conf_mat = test_model(AdaBoostClassifier(learning_rate=0.1, n_estimators=30), norm_char, target, pca, show_plot=True)"
   ]
  },
  {
   "cell_type": "code",
   "execution_count": 68,
   "metadata": {
    "colab": {
     "base_uri": "https://localhost:8080/"
    },
    "id": "mcPwqaYJ6xEW",
    "outputId": "f4de4585-aadc-4209-cd0e-682f434d2cda"
   },
   "outputs": [
    {
     "name": "stdout",
     "output_type": "stream",
     "text": [
      "[[462  54]\n",
      " [102 343]]\n",
      "Precisión: 0.8377\n",
      "AUC: 0.8331\n",
      "F1-Scores: 0.8147\n"
     ]
    }
   ],
   "source": [
    "#[0,0]-->True Negatives\n",
    "#[0,1]-->False Positives\n",
    "#[1,0]-->False Negatives\n",
    "#[1,1]-->True Positives\n",
    "print(conf_mat)\n",
    "print(\"Precisión:\", prec_from_conf_mat(conf_mat))\n",
    "print(\"AUC:\", auc_from_conf_mat(conf_mat))\n",
    "print(\"F1-Scores:\", f1_from_conf_mat(conf_mat))"
   ]
  },
  {
   "cell_type": "code",
   "execution_count": 69,
   "metadata": {
    "id": "fEFavk-U6xnC"
   },
   "outputs": [],
   "source": [
    "conf_mat = test_model(AdaBoostClassifier(learning_rate=0.1, n_estimators=30), red_char, target)"
   ]
  },
  {
   "cell_type": "code",
   "execution_count": 70,
   "metadata": {
    "colab": {
     "base_uri": "https://localhost:8080/"
    },
    "id": "Cf7kOVgS6xnI",
    "outputId": "f9fe589c-a6da-4953-c1e9-1d821cea655d"
   },
   "outputs": [
    {
     "name": "stdout",
     "output_type": "stream",
     "text": [
      "[[411 105]\n",
      " [ 83 362]]\n",
      "Precisión: 0.8044\n",
      "AUC: 0.805\n",
      "F1-Scores: 0.7939\n"
     ]
    }
   ],
   "source": [
    "#[0,0]-->True Negatives\n",
    "#[0,1]-->False Positives\n",
    "#[1,0]-->False Negatives\n",
    "#[1,1]-->True Positives\n",
    "print(conf_mat)\n",
    "print(\"Precisión:\", prec_from_conf_mat(conf_mat))\n",
    "print(\"AUC:\", auc_from_conf_mat(conf_mat))\n",
    "print(\"F1-Scores:\", f1_from_conf_mat(conf_mat))"
   ]
  },
  {
   "cell_type": "code",
   "execution_count": 71,
   "metadata": {
    "id": "NoEJpl-o7LlK"
   },
   "outputs": [],
   "source": [
    "conf_mat = test_model(AdaBoostClassifier(learning_rate=0.1, n_estimators=30), onehot_char, target)"
   ]
  },
  {
   "cell_type": "code",
   "execution_count": 72,
   "metadata": {
    "colab": {
     "base_uri": "https://localhost:8080/"
    },
    "id": "rc2Q-d-j7LlV",
    "outputId": "31cda90c-64d6-4b9c-81d6-7a5678fadfca"
   },
   "outputs": [
    {
     "name": "stdout",
     "output_type": "stream",
     "text": [
      "[[435  81]\n",
      " [101 344]]\n",
      "Precisión: 0.8106\n",
      "AUC: 0.808\n",
      "F1-Scores: 0.7908\n"
     ]
    }
   ],
   "source": [
    "#[0,0]-->True Negatives\n",
    "#[0,1]-->False Positives\n",
    "#[1,0]-->False Negatives\n",
    "#[1,1]-->True Positives\n",
    "print(conf_mat)\n",
    "print(\"Precisión:\", prec_from_conf_mat(conf_mat))\n",
    "print(\"AUC:\", auc_from_conf_mat(conf_mat))\n",
    "print(\"F1-Scores:\", f1_from_conf_mat(conf_mat))"
   ]
  },
  {
   "cell_type": "markdown",
   "metadata": {
    "id": "WYLU-ZdhhZ6d"
   },
   "source": [
    "### Regresión Logística"
   ]
  },
  {
   "cell_type": "code",
   "execution_count": 73,
   "metadata": {
    "id": "3gJQBKYyhdBG"
   },
   "outputs": [],
   "source": [
    "from sklearn.linear_model import LogisticRegression"
   ]
  },
  {
   "cell_type": "code",
   "execution_count": 74,
   "metadata": {
    "colab": {
     "base_uri": "https://localhost:8080/",
     "height": 500
    },
    "id": "cBu9tqNehyit",
    "outputId": "1df5603a-81b6-499b-dbf5-71a4709c4bdb"
   },
   "outputs": [
    {
     "data": {
      "image/png": "[encoded data removed]",
      "text/plain": [
       "<Figure size 842.4x595.44 with 1 Axes>"
      ]
     },
     "metadata": {},
     "output_type": "display_data"
    }
   ],
   "source": [
    "conf_mat = test_model(LogisticRegression(random_state=1, C=1), char, target, pca, show_plot=True)"
   ]
  },
  {
   "cell_type": "code",
   "execution_count": 75,
   "metadata": {
    "colab": {
     "base_uri": "https://localhost:8080/"
    },
    "id": "xtCG2kGrhyix",
    "outputId": "2a1e88fd-f10a-4963-d6ca-f87f95ab6166"
   },
   "outputs": [
    {
     "name": "stdout",
     "output_type": "stream",
     "text": [
      "[[424  92]\n",
      " [ 82 363]]\n",
      "Precisión: 0.8189\n",
      "AUC: 0.8187\n",
      "F1-Scores: 0.8067\n"
     ]
    }
   ],
   "source": [
    "#[0,0]-->True Negatives\n",
    "#[0,1]-->False Positives\n",
    "#[1,0]-->False Negatives\n",
    "#[1,1]-->True Positives\n",
    "print(conf_mat)\n",
    "print(\"Precisión:\", prec_from_conf_mat(conf_mat))\n",
    "print(\"AUC:\", auc_from_conf_mat(conf_mat))\n",
    "print(\"F1-Scores:\", f1_from_conf_mat(conf_mat))"
   ]
  },
  {
   "cell_type": "code",
   "execution_count": 76,
   "metadata": {
    "colab": {
     "base_uri": "https://localhost:8080/",
     "height": 500
    },
    "id": "m2EKqIQAx65N",
    "outputId": "47522eed-f334-478a-c6cb-e275cc750566"
   },
   "outputs": [
    {
     "data": {
      "image/png": "[encoded data removed]",
      "text/plain": [
       "<Figure size 842.4x595.44 with 1 Axes>"
      ]
     },
     "metadata": {},
     "output_type": "display_data"
    }
   ],
   "source": [
    "conf_mat = test_model(LogisticRegression(random_state=1, C=0.1), char, target, pca, show_plot=True)"
   ]
  },
  {
   "cell_type": "code",
   "execution_count": 77,
   "metadata": {
    "colab": {
     "base_uri": "https://localhost:8080/"
    },
    "id": "_aryr5xIx65S",
    "outputId": "a3a5e464-6939-4863-a3cb-ce8a9458f345"
   },
   "outputs": [
    {
     "name": "stdout",
     "output_type": "stream",
     "text": [
      "[[424  92]\n",
      " [ 76 369]]\n",
      "Precisión: 0.8252\n",
      "AUC: 0.8255\n",
      "F1-Scores: 0.8146\n"
     ]
    }
   ],
   "source": [
    "#[0,0]-->True Negatives\n",
    "#[0,1]-->False Positives\n",
    "#[1,0]-->False Negatives\n",
    "#[1,1]-->True Positives\n",
    "print(conf_mat)\n",
    "print(\"Precisión:\", prec_from_conf_mat(conf_mat))\n",
    "print(\"AUC:\", auc_from_conf_mat(conf_mat))\n",
    "print(\"F1-Scores:\", f1_from_conf_mat(conf_mat))"
   ]
  },
  {
   "cell_type": "code",
   "execution_count": 78,
   "metadata": {
    "colab": {
     "base_uri": "https://localhost:8080/",
     "height": 500
    },
    "id": "hu0rBV9HA57v",
    "outputId": "35d0da09-5cdb-4bdd-ca7b-0d4dd5600572"
   },
   "outputs": [
    {
     "data": {
      "image/png": "[encoded data removed]",
      "text/plain": [
       "<Figure size 842.4x595.44 with 1 Axes>"
      ]
     },
     "metadata": {},
     "output_type": "display_data"
    }
   ],
   "source": [
    "conf_mat = test_model(LogisticRegression(random_state=1, C=0.1), norm_char, target, pca, show_plot=True)"
   ]
  },
  {
   "cell_type": "code",
   "execution_count": 79,
   "metadata": {
    "colab": {
     "base_uri": "https://localhost:8080/"
    },
    "id": "FSmWD2FzA57-",
    "outputId": "1160bc8e-face-4381-d6cc-2427f31b33ee"
   },
   "outputs": [
    {
     "name": "stdout",
     "output_type": "stream",
     "text": [
      "[[435  81]\n",
      " [226 219]]\n",
      "Precisión: 0.6805\n",
      "AUC: 0.6676\n",
      "F1-Scores: 0.5879\n"
     ]
    }
   ],
   "source": [
    "#[0,0]-->True Negatives\n",
    "#[0,1]-->False Positives\n",
    "#[1,0]-->False Negatives\n",
    "#[1,1]-->True Positives\n",
    "print(conf_mat)\n",
    "print(\"Precisión:\", prec_from_conf_mat(conf_mat))\n",
    "print(\"AUC:\", auc_from_conf_mat(conf_mat))\n",
    "print(\"F1-Scores:\", f1_from_conf_mat(conf_mat))"
   ]
  },
  {
   "cell_type": "code",
   "execution_count": 80,
   "metadata": {
    "id": "JLQZpPoTA8Ks"
   },
   "outputs": [],
   "source": [
    "conf_mat = test_model(LogisticRegression(random_state=1, C=0.1), red_char, target)"
   ]
  },
  {
   "cell_type": "code",
   "execution_count": 81,
   "metadata": {
    "colab": {
     "base_uri": "https://localhost:8080/"
    },
    "id": "CJVH40kBA8Kx",
    "outputId": "477de328-933b-4ae7-b79a-5bfd9e4616ec"
   },
   "outputs": [
    {
     "name": "stdout",
     "output_type": "stream",
     "text": [
      "[[397 119]\n",
      " [ 77 368]]\n",
      "Precisión: 0.796\n",
      "AUC: 0.7982\n",
      "F1-Scores: 0.7897\n"
     ]
    }
   ],
   "source": [
    "#[0,0]-->True Negatives\n",
    "#[0,1]-->False Positives\n",
    "#[1,0]-->False Negatives\n",
    "#[1,1]-->True Positives\n",
    "print(conf_mat)\n",
    "print(\"Precisión:\", prec_from_conf_mat(conf_mat))\n",
    "print(\"AUC:\", auc_from_conf_mat(conf_mat))\n",
    "print(\"F1-Scores:\", f1_from_conf_mat(conf_mat))"
   ]
  },
  {
   "cell_type": "code",
   "execution_count": 82,
   "metadata": {
    "id": "qjBv1l3yA_Ak"
   },
   "outputs": [],
   "source": [
    "conf_mat = test_model(LogisticRegression(random_state=1, C=0.1), onehot_char, target)"
   ]
  },
  {
   "cell_type": "code",
   "execution_count": 83,
   "metadata": {
    "colab": {
     "base_uri": "https://localhost:8080/"
    },
    "id": "TL970rspA_Ar",
    "outputId": "02bef6e7-57e5-4814-b3ea-c2fa9137255f"
   },
   "outputs": [
    {
     "name": "stdout",
     "output_type": "stream",
     "text": [
      "[[427  89]\n",
      " [ 91 354]]\n",
      "Precisión: 0.8127\n",
      "AUC: 0.8115\n",
      "F1-Scores: 0.7973\n"
     ]
    }
   ],
   "source": [
    "#[0,0]-->True Negatives\n",
    "#[0,1]-->False Positives\n",
    "#[1,0]-->False Negatives\n",
    "#[1,1]-->True Positives\n",
    "print(conf_mat)\n",
    "print(\"Precisión:\", prec_from_conf_mat(conf_mat))\n",
    "print(\"AUC:\", auc_from_conf_mat(conf_mat))\n",
    "print(\"F1-Scores:\", f1_from_conf_mat(conf_mat))"
   ]
  },
  {
   "cell_type": "markdown",
   "metadata": {
    "id": "RJwdYQeCiQD_"
   },
   "source": [
    "### Random Forest"
   ]
  },
  {
   "cell_type": "code",
   "execution_count": 84,
   "metadata": {
    "id": "ajfgmKcwiT60"
   },
   "outputs": [],
   "source": [
    "from sklearn.ensemble import RandomForestClassifier"
   ]
  },
  {
   "cell_type": "code",
   "execution_count": 85,
   "metadata": {
    "colab": {
     "base_uri": "https://localhost:8080/",
     "height": 500
    },
    "id": "R8jUHbvIiT7B",
    "outputId": "bc1554c8-99b4-421e-f5f9-6d300ceaa772"
   },
   "outputs": [
    {
     "data": {
      "image/png": "[encoded data removed]",
      "text/plain": [
       "<Figure size 842.4x595.44 with 1 Axes>"
      ]
     },
     "metadata": {},
     "output_type": "display_data"
    }
   ],
   "source": [
    "conf_mat = test_model(RandomForestClassifier(random_state=1), char, target, pca, show_plot=True)"
   ]
  },
  {
   "cell_type": "code",
   "execution_count": 86,
   "metadata": {
    "colab": {
     "base_uri": "https://localhost:8080/"
    },
    "id": "DWGaiWRAiT7E",
    "outputId": "6c71d689-c130-4724-ad71-46567fccf769"
   },
   "outputs": [
    {
     "name": "stdout",
     "output_type": "stream",
     "text": [
      "[[417  99]\n",
      " [101 344]]\n",
      "Precisión: 0.7919\n",
      "AUC: 0.7906\n",
      "F1-Scores: 0.7748\n"
     ]
    }
   ],
   "source": [
    "#[0,0]-->True Negatives\n",
    "#[0,1]-->False Positives\n",
    "#[1,0]-->False Negatives\n",
    "#[1,1]-->True Positives\n",
    "print(conf_mat)\n",
    "print(\"Precisión:\", prec_from_conf_mat(conf_mat))\n",
    "print(\"AUC:\", auc_from_conf_mat(conf_mat))\n",
    "print(\"F1-Scores:\", f1_from_conf_mat(conf_mat))"
   ]
  },
  {
   "cell_type": "markdown",
   "metadata": {
    "id": "sQ3prEdky2tT"
   },
   "source": [
    "Ahora lo testamos para varias profundidades máximas distintas:"
   ]
  },
  {
   "cell_type": "code",
   "execution_count": 87,
   "metadata": {
    "id": "8VgXdmGwy2tV"
   },
   "outputs": [],
   "source": [
    "estimadores = [\n",
    "               RandomForestClassifier(max_depth=None, random_state=1),\n",
    "               RandomForestClassifier(max_depth=1, random_state=1),\n",
    "               RandomForestClassifier(max_depth=2, random_state=1),\n",
    "               RandomForestClassifier(max_depth=3, random_state=1),\n",
    "               RandomForestClassifier(max_depth=4, random_state=1),\n",
    "               RandomForestClassifier(max_depth=5, random_state=1),\n",
    "               RandomForestClassifier(max_depth=6, random_state=1),\n",
    "               RandomForestClassifier(max_depth=7, random_state=1)\n",
    "]\n",
    "nombres = [\n",
    "           \"Árboles completos\",\n",
    "           \"Árboles p1\",\n",
    "           \"Árboles p2\",\n",
    "           \"Árboles p3\",\n",
    "           \"Árboles p4\",\n",
    "           \"Árboles p5\",\n",
    "           \"Árboles p6\",\n",
    "           \"Árboles p7\"\n",
    "]\n",
    "result_arboles = test_todos(estimadores, nombres, char, target)"
   ]
  },
  {
   "cell_type": "code",
   "execution_count": 88,
   "metadata": {
    "id": "tJWdyLlGy2tb"
   },
   "outputs": [],
   "source": [
    "result_arboles.to_csv(\"random_forest_comparacion.csv\")"
   ]
  },
  {
   "cell_type": "code",
   "execution_count": 90,
   "metadata": {
    "colab": {
     "base_uri": "https://localhost:8080/",
     "height": 500
    },
    "id": "Eq8Ty1fG9LxT",
    "outputId": "09222f0d-28d3-44b3-8344-72ed81d2ce76"
   },
   "outputs": [
    {
     "data": {
      "image/png": "[encoded data removed]",
      "text/plain": [
       "<Figure size 842.4x595.44 with 1 Axes>"
      ]
     },
     "metadata": {},
     "output_type": "display_data"
    }
   ],
   "source": [
    "conf_mat = test_model(RandomForestClassifier(max_depth=4, random_state=1), char, target, pca, show_plot=True)"
   ]
  },
  {
   "cell_type": "code",
   "execution_count": 91,
   "metadata": {
    "colab": {
     "base_uri": "https://localhost:8080/"
    },
    "id": "5KXFLhzP9Lxk",
    "outputId": "245bde43-3e7d-48cc-fd79-3fdcd9ca0d82"
   },
   "outputs": [
    {
     "name": "stdout",
     "output_type": "stream",
     "text": [
      "[[442  74]\n",
      " [ 80 365]]\n",
      "Precisión: 0.8398\n",
      "AUC: 0.8384\n",
      "F1-Scores: 0.8258\n"
     ]
    }
   ],
   "source": [
    "#[0,0]-->True Negatives\n",
    "#[0,1]-->False Positives\n",
    "#[1,0]-->False Negatives\n",
    "#[1,1]-->True Positives\n",
    "print(conf_mat)\n",
    "print(\"Precisión:\", prec_from_conf_mat(conf_mat))\n",
    "print(\"AUC:\", auc_from_conf_mat(conf_mat))\n",
    "print(\"F1-Scores:\", f1_from_conf_mat(conf_mat))"
   ]
  },
  {
   "cell_type": "code",
   "execution_count": 92,
   "metadata": {
    "id": "tCj2f7RuDXFQ"
   },
   "outputs": [],
   "source": [
    "conf_mat = test_model(RandomForestClassifier(max_depth=4, random_state=1), red_char, target)"
   ]
  },
  {
   "cell_type": "code",
   "execution_count": 93,
   "metadata": {
    "colab": {
     "base_uri": "https://localhost:8080/"
    },
    "id": "r0ic1EaXDXFh",
    "outputId": "e49148ae-b861-4042-d22e-7249a49bef4c"
   },
   "outputs": [
    {
     "name": "stdout",
     "output_type": "stream",
     "text": [
      "[[402 114]\n",
      " [ 80 365]]\n",
      "Precisión: 0.7981\n",
      "AUC: 0.7996\n",
      "F1-Scores: 0.79\n"
     ]
    }
   ],
   "source": [
    "#[0,0]-->True Negatives\n",
    "#[0,1]-->False Positives\n",
    "#[1,0]-->False Negatives\n",
    "#[1,1]-->True Positives\n",
    "print(conf_mat)\n",
    "print(\"Precisión:\", prec_from_conf_mat(conf_mat))\n",
    "print(\"AUC:\", auc_from_conf_mat(conf_mat))\n",
    "print(\"F1-Scores:\", f1_from_conf_mat(conf_mat))"
   ]
  },
  {
   "cell_type": "code",
   "execution_count": 94,
   "metadata": {
    "id": "gBKQekKFDd-1"
   },
   "outputs": [],
   "source": [
    "conf_mat = test_model(RandomForestClassifier(max_depth=4, random_state=1), onehot_char, target)"
   ]
  },
  {
   "cell_type": "code",
   "execution_count": 95,
   "metadata": {
    "colab": {
     "base_uri": "https://localhost:8080/"
    },
    "id": "p6bt5ZCjDd-_",
    "outputId": "950be492-4afd-4239-d2f9-003bb1a0b274"
   },
   "outputs": [
    {
     "name": "stdout",
     "output_type": "stream",
     "text": [
      "[[424  92]\n",
      " [ 83 362]]\n",
      "Precisión: 0.8179\n",
      "AUC: 0.8176\n",
      "F1-Scores: 0.8053\n"
     ]
    }
   ],
   "source": [
    "#[0,0]-->True Negatives\n",
    "#[0,1]-->False Positives\n",
    "#[1,0]-->False Negatives\n",
    "#[1,1]-->True Positives\n",
    "print(conf_mat)\n",
    "print(\"Precisión:\", prec_from_conf_mat(conf_mat))\n",
    "print(\"AUC:\", auc_from_conf_mat(conf_mat))\n",
    "print(\"F1-Scores:\", f1_from_conf_mat(conf_mat))"
   ]
  },
  {
   "cell_type": "markdown",
   "metadata": {
    "id": "h37tycpvrZCc"
   },
   "source": [
    "### k-NN"
   ]
  },
  {
   "cell_type": "code",
   "execution_count": 96,
   "metadata": {
    "id": "KwGTSB_Erd--"
   },
   "outputs": [],
   "source": [
    "from sklearn.neighbors import KNeighborsClassifier"
   ]
  },
  {
   "cell_type": "code",
   "execution_count": 97,
   "metadata": {
    "colab": {
     "base_uri": "https://localhost:8080/",
     "height": 500
    },
    "id": "bNq3BCZkrd_E",
    "outputId": "21ab05b2-3870-449d-bdf3-5a20f4300079"
   },
   "outputs": [
    {
     "data": {
      "image/png": "[encoded data removed]",
      "text/plain": [
       "<Figure size 842.4x595.44 with 1 Axes>"
      ]
     },
     "metadata": {},
     "output_type": "display_data"
    }
   ],
   "source": [
    "conf_mat = test_model(KNeighborsClassifier(5, metric='hamming', weights='uniform'), norm_char, target, pca, show_plot=True)"
   ]
  },
  {
   "cell_type": "code",
   "execution_count": 98,
   "metadata": {
    "colab": {
     "base_uri": "https://localhost:8080/"
    },
    "id": "6ZaqEmbOrd_H",
    "outputId": "6d2b9e5e-c179-4e27-d2eb-24393b12b96c"
   },
   "outputs": [
    {
     "name": "stdout",
     "output_type": "stream",
     "text": [
      "[[449  67]\n",
      " [114 331]]\n",
      "Precisión: 0.8117\n",
      "AUC: 0.807\n",
      "F1-Scores: 0.7853\n"
     ]
    }
   ],
   "source": [
    "#[0,0]-->True Negatives\n",
    "#[0,1]-->False Positives\n",
    "#[1,0]-->False Negatives\n",
    "#[1,1]-->True Positives\n",
    "print(conf_mat)\n",
    "print(\"Precisión:\", prec_from_conf_mat(conf_mat))\n",
    "print(\"AUC:\", auc_from_conf_mat(conf_mat))\n",
    "print(\"F1-Scores:\", f1_from_conf_mat(conf_mat))"
   ]
  },
  {
   "cell_type": "markdown",
   "metadata": {
    "id": "AckUuATyjEf7"
   },
   "source": [
    "### Redes Neuronales"
   ]
  },
  {
   "cell_type": "code",
   "execution_count": 99,
   "metadata": {
    "id": "16A9W0hMjHdK"
   },
   "outputs": [],
   "source": [
    "from sklearn.neural_network import MLPClassifier"
   ]
  },
  {
   "cell_type": "code",
   "execution_count": 100,
   "metadata": {
    "colab": {
     "base_uri": "https://localhost:8080/",
     "height": 500
    },
    "id": "FlDqqcvEjUcx",
    "outputId": "7a97540f-e73d-4297-8aad-19fa683d6649"
   },
   "outputs": [
    {
     "data": {
      "image/png": "[encoded data removed]",
      "text/plain": [
       "<Figure size 842.4x595.44 with 1 Axes>"
      ]
     },
     "metadata": {},
     "output_type": "display_data"
    }
   ],
   "source": [
    "conf_mat = test_model(MLPClassifier(hidden_layer_sizes=(25, 3), max_iter=10000, random_state=1), char, target, pca, show_plot=True)"
   ]
  },
  {
   "cell_type": "code",
   "execution_count": 101,
   "metadata": {
    "colab": {
     "base_uri": "https://localhost:8080/"
    },
    "id": "TIRKhhlKjUc0",
    "outputId": "33aeb666-4305-412f-aae1-71349367f882"
   },
   "outputs": [
    {
     "name": "stdout",
     "output_type": "stream",
     "text": [
      "[[408 108]\n",
      " [ 70 375]]\n",
      "Precisión: 0.8148\n",
      "AUC: 0.8167\n",
      "F1-Scores: 0.8082\n"
     ]
    }
   ],
   "source": [
    "#[0,0]-->True Negatives\n",
    "#[0,1]-->False Positives\n",
    "#[1,0]-->False Negatives\n",
    "#[1,1]-->True Positives\n",
    "print(conf_mat)\n",
    "print(\"Precisión:\", prec_from_conf_mat(conf_mat))\n",
    "print(\"AUC:\", auc_from_conf_mat(conf_mat))\n",
    "print(\"F1-Scores:\", f1_from_conf_mat(conf_mat))"
   ]
  },
  {
   "cell_type": "code",
   "execution_count": 102,
   "metadata": {
    "colab": {
     "base_uri": "https://localhost:8080/",
     "height": 500
    },
    "id": "WMyOwV-TFW3T",
    "outputId": "6acfd91a-0f6c-44c7-8414-2906542eff39"
   },
   "outputs": [
    {
     "data": {
      "image/png": "[encoded data removed]",
      "text/plain": [
       "<Figure size 842.4x595.44 with 1 Axes>"
      ]
     },
     "metadata": {},
     "output_type": "display_data"
    }
   ],
   "source": [
    "conf_mat = test_model(MLPClassifier(hidden_layer_sizes=(25, 3), max_iter=10000, random_state=1), norm_char, target, pca, show_plot=True)"
   ]
  },
  {
   "cell_type": "code",
   "execution_count": 103,
   "metadata": {
    "colab": {
     "base_uri": "https://localhost:8080/"
    },
    "id": "tktSUgrVFW3X",
    "outputId": "2c328316-40cf-4fb6-bbb0-8f94406b2eba"
   },
   "outputs": [
    {
     "name": "stdout",
     "output_type": "stream",
     "text": [
      "[[412 104]\n",
      " [ 78 367]]\n",
      "Precisión: 0.8106\n",
      "AUC: 0.8116\n",
      "F1-Scores: 0.8013\n"
     ]
    }
   ],
   "source": [
    "#[0,0]-->True Negatives\n",
    "#[0,1]-->False Positives\n",
    "#[1,0]-->False Negatives\n",
    "#[1,1]-->True Positives\n",
    "print(conf_mat)\n",
    "print(\"Precisión:\", prec_from_conf_mat(conf_mat))\n",
    "print(\"AUC:\", auc_from_conf_mat(conf_mat))\n",
    "print(\"F1-Scores:\", f1_from_conf_mat(conf_mat))"
   ]
  },
  {
   "cell_type": "code",
   "execution_count": 104,
   "metadata": {
    "id": "cslqMXtIJbOr"
   },
   "outputs": [],
   "source": [
    "conf_mat = test_model(MLPClassifier(hidden_layer_sizes=(25, 3), max_iter=10000, random_state=1), red_char, target)"
   ]
  },
  {
   "cell_type": "code",
   "execution_count": 105,
   "metadata": {
    "colab": {
     "base_uri": "https://localhost:8080/"
    },
    "id": "aF8skJX-JbOx",
    "outputId": "5faf42c7-14b6-420e-946d-d79f32f04e1d"
   },
   "outputs": [
    {
     "name": "stdout",
     "output_type": "stream",
     "text": [
      "[[516   0]\n",
      " [445   0]]\n",
      "Precisión: 0.5369\n",
      "AUC: 0.5\n",
      "F1-Scores: 0.0\n"
     ]
    }
   ],
   "source": [
    "#[0,0]-->True Negatives\n",
    "#[0,1]-->False Positives\n",
    "#[1,0]-->False Negatives\n",
    "#[1,1]-->True Positives\n",
    "print(conf_mat)\n",
    "print(\"Precisión:\", prec_from_conf_mat(conf_mat))\n",
    "print(\"AUC:\", auc_from_conf_mat(conf_mat))\n",
    "print(\"F1-Scores:\", f1_from_conf_mat(conf_mat))"
   ]
  },
  {
   "cell_type": "code",
   "execution_count": 106,
   "metadata": {
    "id": "ji0XCcnfJg10"
   },
   "outputs": [],
   "source": [
    "conf_mat = test_model(MLPClassifier(hidden_layer_sizes=(25, 3), max_iter=10000, random_state=1), onehot_char, target)"
   ]
  },
  {
   "cell_type": "code",
   "execution_count": 107,
   "metadata": {
    "colab": {
     "base_uri": "https://localhost:8080/"
    },
    "id": "dYsR5HLGJg14",
    "outputId": "bf99107e-0586-42ae-b226-1f843527147d"
   },
   "outputs": [
    {
     "name": "stdout",
     "output_type": "stream",
     "text": [
      "[[415 101]\n",
      " [ 80 365]]\n",
      "Precisión: 0.8117\n",
      "AUC: 0.8122\n",
      "F1-Scores: 0.8013\n"
     ]
    }
   ],
   "source": [
    "#[0,0]-->True Negatives\n",
    "#[0,1]-->False Positives\n",
    "#[1,0]-->False Negatives\n",
    "#[1,1]-->True Positives\n",
    "print(conf_mat)\n",
    "print(\"Precisión:\", prec_from_conf_mat(conf_mat))\n",
    "print(\"AUC:\", auc_from_conf_mat(conf_mat))\n",
    "print(\"F1-Scores:\", f1_from_conf_mat(conf_mat))"
   ]
  },
  {
   "cell_type": "markdown",
   "metadata": {
    "id": "m0aMexGbDEjE"
   },
   "source": [
    "### SVM"
   ]
  },
  {
   "cell_type": "code",
   "execution_count": 108,
   "metadata": {
    "id": "5ItKlYwBDJWL"
   },
   "outputs": [],
   "source": [
    "from sklearn.svm import LinearSVC"
   ]
  },
  {
   "cell_type": "code",
   "execution_count": 109,
   "metadata": {
    "colab": {
     "base_uri": "https://localhost:8080/",
     "height": 500
    },
    "id": "p_MAMYTGDJWW",
    "outputId": "ecede2b8-2845-48b3-832b-b19c1fb33e2e"
   },
   "outputs": [
    {
     "data": {
      "image/png": "[encoded data removed]",
      "text/plain": [
       "<Figure size 842.4x595.44 with 1 Axes>"
      ]
     },
     "metadata": {},
     "output_type": "display_data"
    }
   ],
   "source": [
    "conf_mat = test_model(LinearSVC(random_state=1, max_iter=300000), char, target, pca, show_plot=True)"
   ]
  },
  {
   "cell_type": "code",
   "execution_count": 110,
   "metadata": {
    "colab": {
     "base_uri": "https://localhost:8080/"
    },
    "id": "z3be1URLDJWb",
    "outputId": "507cd31d-1711-4658-db13-9efe82615391"
   },
   "outputs": [
    {
     "name": "stdout",
     "output_type": "stream",
     "text": [
      "[[423  93]\n",
      " [ 77 368]]\n",
      "Precisión: 0.8231\n",
      "AUC: 0.8234\n",
      "F1-Scores: 0.8124\n"
     ]
    }
   ],
   "source": [
    "#[0,0]-->True Negatives\n",
    "#[0,1]-->False Positives\n",
    "#[1,0]-->False Negatives\n",
    "#[1,1]-->True Positives\n",
    "print(conf_mat)\n",
    "print(\"Precisión:\", prec_from_conf_mat(conf_mat))\n",
    "print(\"AUC:\", auc_from_conf_mat(conf_mat))\n",
    "print(\"F1-Scores:\", f1_from_conf_mat(conf_mat))"
   ]
  },
  {
   "cell_type": "code",
   "execution_count": 111,
   "metadata": {
    "colab": {
     "base_uri": "https://localhost:8080/",
     "height": 500
    },
    "id": "p9Pmvug-KKNc",
    "outputId": "80d5ded2-f87d-4452-8b9e-62f3915d9b73"
   },
   "outputs": [
    {
     "data": {
      "image/png": "[encoded data removed]",
      "text/plain": [
       "<Figure size 842.4x595.44 with 1 Axes>"
      ]
     },
     "metadata": {},
     "output_type": "display_data"
    }
   ],
   "source": [
    "conf_mat = test_model(LinearSVC(random_state=1, C=0.1, max_iter=300000), norm_char, target, pca, show_plot=True)"
   ]
  },
  {
   "cell_type": "code",
   "execution_count": 112,
   "metadata": {
    "colab": {
     "base_uri": "https://localhost:8080/"
    },
    "id": "FxXVk4yMKKNh",
    "outputId": "19bc33b1-3468-493a-d849-0bdc5b7c6fd5"
   },
   "outputs": [
    {
     "name": "stdout",
     "output_type": "stream",
     "text": [
      "[[376 140]\n",
      " [153 292]]\n",
      "Precisión: 0.6951\n",
      "AUC: 0.6924\n",
      "F1-Scores: 0.6659\n"
     ]
    }
   ],
   "source": [
    "#[0,0]-->True Negatives\n",
    "#[0,1]-->False Positives\n",
    "#[1,0]-->False Negatives\n",
    "#[1,1]-->True Positives\n",
    "print(conf_mat)\n",
    "print(\"Precisión:\", prec_from_conf_mat(conf_mat))\n",
    "print(\"AUC:\", auc_from_conf_mat(conf_mat))\n",
    "print(\"F1-Scores:\", f1_from_conf_mat(conf_mat))"
   ]
  },
  {
   "cell_type": "code",
   "execution_count": 113,
   "metadata": {
    "id": "dN_kTed4KNIc"
   },
   "outputs": [],
   "source": [
    "conf_mat = test_model(LinearSVC(random_state=1, max_iter=300000), red_char, target)"
   ]
  },
  {
   "cell_type": "code",
   "execution_count": 114,
   "metadata": {
    "colab": {
     "base_uri": "https://localhost:8080/"
    },
    "id": "fZBaPkDwKNIh",
    "outputId": "b4ba6611-793a-4733-b59b-aa6abfd6185f"
   },
   "outputs": [
    {
     "name": "stdout",
     "output_type": "stream",
     "text": [
      "[[388 128]\n",
      " [ 69 376]]\n",
      "Precisión: 0.795\n",
      "AUC: 0.7984\n",
      "F1-Scores: 0.7924\n"
     ]
    }
   ],
   "source": [
    "#[0,0]-->True Negatives\n",
    "#[0,1]-->False Positives\n",
    "#[1,0]-->False Negatives\n",
    "#[1,1]-->True Positives\n",
    "print(conf_mat)\n",
    "print(\"Precisión:\", prec_from_conf_mat(conf_mat))\n",
    "print(\"AUC:\", auc_from_conf_mat(conf_mat))\n",
    "print(\"F1-Scores:\", f1_from_conf_mat(conf_mat))"
   ]
  },
  {
   "cell_type": "code",
   "execution_count": 115,
   "metadata": {
    "id": "tZXoL-D7KPb6"
   },
   "outputs": [],
   "source": [
    "conf_mat = test_model(LinearSVC(random_state=1, max_iter=300000), onehot_char, target)"
   ]
  },
  {
   "cell_type": "code",
   "execution_count": 116,
   "metadata": {
    "colab": {
     "base_uri": "https://localhost:8080/"
    },
    "id": "QTqm90TFKPcB",
    "outputId": "dcc2dfca-1f3a-4fbc-fab1-61d5a84f0dde"
   },
   "outputs": [
    {
     "name": "stdout",
     "output_type": "stream",
     "text": [
      "[[440  76]\n",
      " [ 99 346]]\n",
      "Precisión: 0.8179\n",
      "AUC: 0.8151\n",
      "F1-Scores: 0.7982\n"
     ]
    }
   ],
   "source": [
    "#[0,0]-->True Negatives\n",
    "#[0,1]-->False Positives\n",
    "#[1,0]-->False Negatives\n",
    "#[1,1]-->True Positives\n",
    "print(conf_mat)\n",
    "print(\"Precisión:\", prec_from_conf_mat(conf_mat))\n",
    "print(\"AUC:\", auc_from_conf_mat(conf_mat))\n",
    "print(\"F1-Scores:\", f1_from_conf_mat(conf_mat))"
   ]
  },
  {
   "cell_type": "markdown",
   "metadata": {
    "id": "dmEdLeYGmkOT"
   },
   "source": [
    "### Multiclasificador por Votación"
   ]
  },
  {
   "cell_type": "code",
   "execution_count": 117,
   "metadata": {
    "id": "Fr3GG6f_nRgQ"
   },
   "outputs": [],
   "source": [
    "from sklearn.ensemble import VotingClassifier"
   ]
  },
  {
   "cell_type": "code",
   "execution_count": 118,
   "metadata": {
    "id": "pVRuU9q8moPq"
   },
   "outputs": [],
   "source": [
    "clf1 = AdaBoostClassifier(learning_rate=0.1, n_estimators=30, random_state=1)\n",
    "clf2 = LogisticRegression(random_state=1, C=0.1)\n",
    "clf3 = RandomForestClassifier(max_depth=4, random_state=1)"
   ]
  },
  {
   "cell_type": "code",
   "execution_count": 119,
   "metadata": {
    "colab": {
     "base_uri": "https://localhost:8080/",
     "height": 500
    },
    "id": "OWdTw2CanOk9",
    "outputId": "b33005a5-69fe-40ef-aed7-213aec3bea13"
   },
   "outputs": [
    {
     "data": {
      "image/png": "[encoded data removed]",
      "text/plain": [
       "<Figure size 842.4x595.44 with 1 Axes>"
      ]
     },
     "metadata": {},
     "output_type": "display_data"
    }
   ],
   "source": [
    "eclf = VotingClassifier( estimators=[('ad', clf1), ('lr', clf2), ('rf', clf3)] )\n",
    "conf_mat = test_model(eclf, char, target, pca, show_plot=True)"
   ]
  },
  {
   "cell_type": "code",
   "execution_count": 120,
   "metadata": {
    "colab": {
     "base_uri": "https://localhost:8080/"
    },
    "id": "7fiwUq8AnZb5",
    "outputId": "6946530a-40bb-4ea0-eedd-4c0dcd49bd0c"
   },
   "outputs": [
    {
     "name": "stdout",
     "output_type": "stream",
     "text": [
      "[[445  71]\n",
      " [ 81 364]]\n",
      "Precisión: 0.8418\n",
      "AUC: 0.8402\n",
      "F1-Scores: 0.8273\n"
     ]
    }
   ],
   "source": [
    "print(conf_mat)\n",
    "print(\"Precisión:\", prec_from_conf_mat(conf_mat))\n",
    "print(\"AUC:\", auc_from_conf_mat(conf_mat))\n",
    "print(\"F1-Scores:\", f1_from_conf_mat(conf_mat))"
   ]
  },
  {
   "cell_type": "code",
   "execution_count": 121,
   "metadata": {
    "colab": {
     "base_uri": "https://localhost:8080/",
     "height": 585
    },
    "id": "LszW1dTQLayg",
    "outputId": "953a4c15-e06f-4081-c811-7f787c7061d8"
   },
   "outputs": [
    {
     "name": "stdout",
     "output_type": "stream",
     "text": [
      "[[460  56]\n",
      " [ 95 350]]\n",
      "Precisión: 0.8429\n",
      "AUC: 0.839\n",
      "F1-Scores: 0.8226\n"
     ]
    },
    {
     "data": {
      "image/png": "[encoded data removed]",
      "text/plain": [
       "<Figure size 842.4x595.44 with 1 Axes>"
      ]
     },
     "metadata": {},
     "output_type": "display_data"
    }
   ],
   "source": [
    "conf_mat = test_model(eclf, norm_char, target, pca, show_plot=True)\n",
    "print(conf_mat)\n",
    "print(\"Precisión:\", prec_from_conf_mat(conf_mat))\n",
    "print(\"AUC:\", auc_from_conf_mat(conf_mat))\n",
    "print(\"F1-Scores:\", f1_from_conf_mat(conf_mat))"
   ]
  },
  {
   "cell_type": "code",
   "execution_count": 122,
   "metadata": {
    "colab": {
     "base_uri": "https://localhost:8080/"
    },
    "id": "vgutvgDxLfMi",
    "outputId": "b35f2ece-1d93-4928-b2d0-28669e0ffd34"
   },
   "outputs": [
    {
     "name": "stdout",
     "output_type": "stream",
     "text": [
      "[[405 111]\n",
      " [ 79 366]]\n",
      "Precisión: 0.8023\n",
      "AUC: 0.8037\n",
      "F1-Scores: 0.7939\n"
     ]
    }
   ],
   "source": [
    "conf_mat = test_model(eclf, red_char, target)\n",
    "print(conf_mat)\n",
    "print(\"Precisión:\", prec_from_conf_mat(conf_mat))\n",
    "print(\"AUC:\", auc_from_conf_mat(conf_mat))\n",
    "print(\"F1-Scores:\", f1_from_conf_mat(conf_mat))"
   ]
  },
  {
   "cell_type": "code",
   "execution_count": 123,
   "metadata": {
    "colab": {
     "base_uri": "https://localhost:8080/"
    },
    "id": "bOWHfNn8Lhej",
    "outputId": "25a69209-b798-4110-8423-7d9d61771b90"
   },
   "outputs": [
    {
     "name": "stdout",
     "output_type": "stream",
     "text": [
      "[[424  92]\n",
      " [ 84 361]]\n",
      "Precisión: 0.8169\n",
      "AUC: 0.8165\n",
      "F1-Scores: 0.804\n"
     ]
    }
   ],
   "source": [
    "conf_mat = test_model(eclf, onehot_char, target)\n",
    "print(conf_mat)\n",
    "print(\"Precisión:\", prec_from_conf_mat(conf_mat))\n",
    "print(\"AUC:\", auc_from_conf_mat(conf_mat))\n",
    "print(\"F1-Scores:\", f1_from_conf_mat(conf_mat))"
   ]
  },
  {
   "cell_type": "markdown",
   "metadata": {
    "id": "kVpk7szJdaHH"
   },
   "source": [
    "## 3. Test completo de cada modelo\n",
    "\n",
    "Vamos a ejecutar cada modelo de los elegidos una serie de veces y quedarnos con un valor medio para cada métrica de las que estamos utilizando (precisión, AUC y F1-score)"
   ]
  },
  {
   "cell_type": "markdown",
   "metadata": {
    "id": "Of5Vg6qlsjNm"
   },
   "source": [
    "Vamos a probar los resultados de los siguientes modelos:  \n",
    "- Árbol de decisión\n",
    "- Random Forest\n",
    "- AdaBoost\n",
    "- Regresión Logística\n",
    "- Red Neuronal\n",
    "- SVM\n",
    "- Multiclasificador por Votación"
   ]
  },
  {
   "cell_type": "markdown",
   "metadata": {
    "id": "o3WlwaPCu4de"
   },
   "source": [
    "Testearemos los modelos elegidos con el dataset completo, con el dataset completo normalizado y con el dataset reducido por PCA."
   ]
  },
  {
   "cell_type": "code",
   "execution_count": 124,
   "metadata": {
    "id": "ayUhEIYLTzP8"
   },
   "outputs": [],
   "source": [
    "main_seed = 1\n",
    "n_reps = 5\n",
    "\n",
    "nombres = [\n",
    "              'Árbol de Decisión',\n",
    "              'Random Forest',\n",
    "              'AdaBoost',\n",
    "              'Regresión Logística',\n",
    "              'Red Neuronal',\n",
    "              'SVM Lineal',\n",
    "              'MultiClas por Votación'\n",
    "      ]\n",
    "\n",
    "#Se generan tantas semillas como veces se vayan a repetir las cuentas\n",
    "np.random.seed(main_seed)\n",
    "semillas = np.random.randint(0, 1000000, n_reps)  \n",
    "#Se crea una dataframe con las dimensiones del resultado\n",
    "resultados = pd.DataFrame(0, index=nombres, columns=['Precisión', 'AUC', 'F1-Score'])\n",
    "resultados_norm = pd.DataFrame(0, index=nombres, columns=['Precisión', 'AUC', 'F1-Score'])\n",
    "resultados_red = pd.DataFrame(0, index=nombres, columns=['Precisión', 'AUC', 'F1-Score'])\n",
    "\n",
    "#Se repite el experimento varias veces\n",
    "for sem in semillas:\n",
    "\n",
    "  clf1 = RandomForestClassifier(random_state=sem, max_depth=4)\n",
    "  clf2 = AdaBoostClassifier(learning_rate=0.1, n_estimators=30, random_state=sem)\n",
    "  clf3 = LogisticRegression(random_state=sem, C=0.1)\n",
    "  estimadores = [\n",
    "                DecisionTreeClassifier(random_state=sem, max_depth=3),\n",
    "                clf1,\n",
    "                clf2,\n",
    "                clf3,\n",
    "                MLPClassifier(hidden_layer_sizes=(25, 3), max_iter=10000, random_state=sem),\n",
    "                LinearSVC(random_state=sem, max_iter=300000),\n",
    "                VotingClassifier([('rf', clf1), ('ab', clf2), ('lr', clf3)])\n",
    "    ]\n",
    "  #Sumamos el dataframe resultado al actual\n",
    "  resultados += test_todos(estimadores, nombres, char, target) \n",
    "  resultados_norm += test_todos(estimadores, nombres, norm_char, target)\n",
    "  resultados_red += test_todos(estimadores, nombres, red_char, target)\n",
    "\n",
    "#Tras sumar todos los resultados, dividimos entre el número de repeticiones\n",
    "resultados /= n_reps\n",
    "resultados_norm /= n_reps\n",
    "resultados_red /= n_reps"
   ]
  },
  {
   "cell_type": "code",
   "execution_count": 125,
   "metadata": {
    "colab": {
     "base_uri": "https://localhost:8080/",
     "height": 266
    },
    "id": "I5i9D84pWJPl",
    "outputId": "94ba9a9e-b1af-4726-8e65-cbbf2466b536"
   },
   "outputs": [
    {
     "data": {
      "text/html": [
       "<div>\n",
       "<style scoped>\n",
       "    .dataframe tbody tr th:only-of-type {\n",
       "        vertical-align: middle;\n",
       "    }\n",
       "\n",
       "    .dataframe tbody tr th {\n",
       "        vertical-align: top;\n",
       "    }\n",
       "\n",
       "    .dataframe thead th {\n",
       "        text-align: right;\n",
       "    }\n",
       "</style>\n",
       "<table border=\"1\" class=\"dataframe\">\n",
       "  <thead>\n",
       "    <tr style=\"text-align: right;\">\n",
       "      <th></th>\n",
       "      <th>Precisión</th>\n",
       "      <th>AUC</th>\n",
       "      <th>F1-Score</th>\n",
       "    </tr>\n",
       "  </thead>\n",
       "  <tbody>\n",
       "    <tr>\n",
       "      <th>Árbol de Decisión</th>\n",
       "      <td>0.83560</td>\n",
       "      <td>0.83040</td>\n",
       "      <td>0.81060</td>\n",
       "    </tr>\n",
       "    <tr>\n",
       "      <th>Random Forest</th>\n",
       "      <td>0.83496</td>\n",
       "      <td>0.83404</td>\n",
       "      <td>0.82176</td>\n",
       "    </tr>\n",
       "    <tr>\n",
       "      <th>AdaBoost</th>\n",
       "      <td>0.83770</td>\n",
       "      <td>0.83310</td>\n",
       "      <td>0.81470</td>\n",
       "    </tr>\n",
       "    <tr>\n",
       "      <th>Regresión Logística</th>\n",
       "      <td>0.82520</td>\n",
       "      <td>0.82550</td>\n",
       "      <td>0.81460</td>\n",
       "    </tr>\n",
       "    <tr>\n",
       "      <th>Red Neuronal</th>\n",
       "      <td>0.74672</td>\n",
       "      <td>0.74018</td>\n",
       "      <td>0.63172</td>\n",
       "    </tr>\n",
       "    <tr>\n",
       "      <th>SVM Lineal</th>\n",
       "      <td>0.82310</td>\n",
       "      <td>0.82340</td>\n",
       "      <td>0.81240</td>\n",
       "    </tr>\n",
       "    <tr>\n",
       "      <th>MultiClas por Votación</th>\n",
       "      <td>0.83808</td>\n",
       "      <td>0.83686</td>\n",
       "      <td>0.82430</td>\n",
       "    </tr>\n",
       "  </tbody>\n",
       "</table>\n",
       "</div>"
      ],
      "text/plain": [
       "                        Precisión      AUC  F1-Score\n",
       "Árbol de Decisión         0.83560  0.83040   0.81060\n",
       "Random Forest             0.83496  0.83404   0.82176\n",
       "AdaBoost                  0.83770  0.83310   0.81470\n",
       "Regresión Logística       0.82520  0.82550   0.81460\n",
       "Red Neuronal              0.74672  0.74018   0.63172\n",
       "SVM Lineal                0.82310  0.82340   0.81240\n",
       "MultiClas por Votación    0.83808  0.83686   0.82430"
      ]
     },
     "execution_count": 125,
     "metadata": {},
     "output_type": "execute_result"
    }
   ],
   "source": [
    "resultados.to_csv(\"resultados.csv\")\n",
    "resultados"
   ]
  },
  {
   "cell_type": "code",
   "execution_count": 126,
   "metadata": {
    "colab": {
     "base_uri": "https://localhost:8080/",
     "height": 266
    },
    "id": "ogaH4YpfYlwj",
    "outputId": "91f33871-cb40-42e5-ba12-eaee44b889fa"
   },
   "outputs": [
    {
     "data": {
      "text/html": [
       "<div>\n",
       "<style scoped>\n",
       "    .dataframe tbody tr th:only-of-type {\n",
       "        vertical-align: middle;\n",
       "    }\n",
       "\n",
       "    .dataframe tbody tr th {\n",
       "        vertical-align: top;\n",
       "    }\n",
       "\n",
       "    .dataframe thead th {\n",
       "        text-align: right;\n",
       "    }\n",
       "</style>\n",
       "<table border=\"1\" class=\"dataframe\">\n",
       "  <thead>\n",
       "    <tr style=\"text-align: right;\">\n",
       "      <th></th>\n",
       "      <th>Precisión</th>\n",
       "      <th>AUC</th>\n",
       "      <th>F1-Score</th>\n",
       "    </tr>\n",
       "  </thead>\n",
       "  <tbody>\n",
       "    <tr>\n",
       "      <th>Árbol de Decisión</th>\n",
       "      <td>0.83560</td>\n",
       "      <td>0.83040</td>\n",
       "      <td>0.81060</td>\n",
       "    </tr>\n",
       "    <tr>\n",
       "      <th>Random Forest</th>\n",
       "      <td>0.83496</td>\n",
       "      <td>0.83404</td>\n",
       "      <td>0.82176</td>\n",
       "    </tr>\n",
       "    <tr>\n",
       "      <th>AdaBoost</th>\n",
       "      <td>0.83770</td>\n",
       "      <td>0.83310</td>\n",
       "      <td>0.81470</td>\n",
       "    </tr>\n",
       "    <tr>\n",
       "      <th>Regresión Logística</th>\n",
       "      <td>0.68050</td>\n",
       "      <td>0.66760</td>\n",
       "      <td>0.58790</td>\n",
       "    </tr>\n",
       "    <tr>\n",
       "      <th>Red Neuronal</th>\n",
       "      <td>0.81520</td>\n",
       "      <td>0.81600</td>\n",
       "      <td>0.80558</td>\n",
       "    </tr>\n",
       "    <tr>\n",
       "      <th>SVM Lineal</th>\n",
       "      <td>0.76170</td>\n",
       "      <td>0.76080</td>\n",
       "      <td>0.74410</td>\n",
       "    </tr>\n",
       "    <tr>\n",
       "      <th>MultiClas por Votación</th>\n",
       "      <td>0.84080</td>\n",
       "      <td>0.83692</td>\n",
       "      <td>0.82028</td>\n",
       "    </tr>\n",
       "  </tbody>\n",
       "</table>\n",
       "</div>"
      ],
      "text/plain": [
       "                        Precisión      AUC  F1-Score\n",
       "Árbol de Decisión         0.83560  0.83040   0.81060\n",
       "Random Forest             0.83496  0.83404   0.82176\n",
       "AdaBoost                  0.83770  0.83310   0.81470\n",
       "Regresión Logística       0.68050  0.66760   0.58790\n",
       "Red Neuronal              0.81520  0.81600   0.80558\n",
       "SVM Lineal                0.76170  0.76080   0.74410\n",
       "MultiClas por Votación    0.84080  0.83692   0.82028"
      ]
     },
     "execution_count": 126,
     "metadata": {},
     "output_type": "execute_result"
    }
   ],
   "source": [
    "resultados_norm.to_csv(\"resultados_norm.csv\")\n",
    "resultados_norm"
   ]
  },
  {
   "cell_type": "code",
   "execution_count": 127,
   "metadata": {
    "colab": {
     "base_uri": "https://localhost:8080/",
     "height": 266
    },
    "id": "lR5eZKE7ZeXZ",
    "outputId": "6b214980-6933-4bc2-df12-5c4f6eb36549"
   },
   "outputs": [
    {
     "data": {
      "text/html": [
       "<div>\n",
       "<style scoped>\n",
       "    .dataframe tbody tr th:only-of-type {\n",
       "        vertical-align: middle;\n",
       "    }\n",
       "\n",
       "    .dataframe tbody tr th {\n",
       "        vertical-align: top;\n",
       "    }\n",
       "\n",
       "    .dataframe thead th {\n",
       "        text-align: right;\n",
       "    }\n",
       "</style>\n",
       "<table border=\"1\" class=\"dataframe\">\n",
       "  <thead>\n",
       "    <tr style=\"text-align: right;\">\n",
       "      <th></th>\n",
       "      <th>Precisión</th>\n",
       "      <th>AUC</th>\n",
       "      <th>F1-Score</th>\n",
       "    </tr>\n",
       "  </thead>\n",
       "  <tbody>\n",
       "    <tr>\n",
       "      <th>Árbol de Decisión</th>\n",
       "      <td>0.79600</td>\n",
       "      <td>0.79970</td>\n",
       "      <td>0.79410</td>\n",
       "    </tr>\n",
       "    <tr>\n",
       "      <th>Random Forest</th>\n",
       "      <td>0.79958</td>\n",
       "      <td>0.80114</td>\n",
       "      <td>0.79160</td>\n",
       "    </tr>\n",
       "    <tr>\n",
       "      <th>AdaBoost</th>\n",
       "      <td>0.80440</td>\n",
       "      <td>0.80500</td>\n",
       "      <td>0.79390</td>\n",
       "    </tr>\n",
       "    <tr>\n",
       "      <th>Regresión Logística</th>\n",
       "      <td>0.79600</td>\n",
       "      <td>0.79820</td>\n",
       "      <td>0.78970</td>\n",
       "    </tr>\n",
       "    <tr>\n",
       "      <th>Red Neuronal</th>\n",
       "      <td>0.74192</td>\n",
       "      <td>0.73614</td>\n",
       "      <td>0.62906</td>\n",
       "    </tr>\n",
       "    <tr>\n",
       "      <th>SVM Lineal</th>\n",
       "      <td>0.79500</td>\n",
       "      <td>0.79840</td>\n",
       "      <td>0.79240</td>\n",
       "    </tr>\n",
       "    <tr>\n",
       "      <th>MultiClas por Votación</th>\n",
       "      <td>0.80438</td>\n",
       "      <td>0.80556</td>\n",
       "      <td>0.79548</td>\n",
       "    </tr>\n",
       "  </tbody>\n",
       "</table>\n",
       "</div>"
      ],
      "text/plain": [
       "                        Precisión      AUC  F1-Score\n",
       "Árbol de Decisión         0.79600  0.79970   0.79410\n",
       "Random Forest             0.79958  0.80114   0.79160\n",
       "AdaBoost                  0.80440  0.80500   0.79390\n",
       "Regresión Logística       0.79600  0.79820   0.78970\n",
       "Red Neuronal              0.74192  0.73614   0.62906\n",
       "SVM Lineal                0.79500  0.79840   0.79240\n",
       "MultiClas por Votación    0.80438  0.80556   0.79548"
      ]
     },
     "execution_count": 127,
     "metadata": {},
     "output_type": "execute_result"
    }
   ],
   "source": [
    "resultados_red.to_csv(\"resultados_red.csv\")\n",
    "resultados_red"
   ]
  },
  {
   "cell_type": "markdown",
   "metadata": {
    "id": "zxFap5cMg__h"
   },
   "source": [
    "# 4. Procesado alternativo: codificación binaria\n",
    "\n",
    "La mayor parte de las variables en este estudio no son cuantitativas sino, como ya se ha mencionado anteriormente, cualitivas. Esto hace que la segmentación espacial que llevan a cabo muchos de los algoritmos utilizados no tengan sentido, porque no existe ningún orden entre los valores de cada categoría. Como codificación alternativa se ha probado a transformar el valor de cada variable en un array binario (one-hot array) con el módulo OneHotEncoder de sklearn."
   ]
  },
  {
   "cell_type": "code",
   "execution_count": 128,
   "metadata": {
    "id": "mFq7Q0K32yR3"
   },
   "outputs": [],
   "source": [
    "from sklearn.tree import DecisionTreeClassifier\n",
    "from sklearn.ensemble import AdaBoostClassifier\n",
    "from sklearn.linear_model import LogisticRegression\n",
    "from sklearn.ensemble import RandomForestClassifier\n",
    "from sklearn.neural_network import MLPClassifier\n",
    "from sklearn.svm import LinearSVC\n",
    "from sklearn.ensemble import VotingClassifier"
   ]
  },
  {
   "cell_type": "code",
   "execution_count": 129,
   "metadata": {
    "id": "rIrxBC1OlQER"
   },
   "outputs": [],
   "source": [
    "main_seed = 1\n",
    "n_reps = 4\n",
    "\n",
    "nombres = [\n",
    "              'Árbol de Decisión',\n",
    "              'Random Forest',\n",
    "              'AdaBoost',\n",
    "              'Regresión Logística',\n",
    "              'Red Neuronal',\n",
    "              'SVM Lineal',\n",
    "              'MultiClas por Votación'\n",
    "      ]\n",
    "\n",
    "#Se generan tantas semillas como veces se vayan a repetir las cuentas\n",
    "np.random.seed(main_seed)\n",
    "semillas = np.random.randint(0, 1000000, n_reps)  \n",
    "#Se crea una dataframe con las dimensiones del resultado\n",
    "resultados_onehot = pd.DataFrame(0, index=nombres, columns=['Precisión', 'AUC', 'F1-Score'])\n",
    "\n",
    "#Se repite el experimento varias veces\n",
    "for sem in semillas:\n",
    "\n",
    "  clf1 = RandomForestClassifier(random_state=sem, max_depth=4)\n",
    "  clf2 = AdaBoostClassifier(learning_rate=0.1, n_estimators=30, random_state=sem)\n",
    "  clf3 = LogisticRegression(random_state=sem, C=0.1)\n",
    "  estimadores = [\n",
    "                DecisionTreeClassifier(random_state=sem, max_depth=3),\n",
    "                clf1,\n",
    "                clf2,\n",
    "                clf3,\n",
    "                MLPClassifier(hidden_layer_sizes=(25, 3), max_iter=10000, random_state=sem),\n",
    "                LinearSVC(random_state=sem, max_iter=300000),\n",
    "                VotingClassifier([('rf', clf1), ('ab', clf2), ('lr', clf3)])\n",
    "    ]\n",
    "  #Sumamos el dataframe resultado al actual\n",
    "  resultados_onehot += test_todos(estimadores, nombres, onehot_char, target) \n",
    "\n",
    "#Tras sumar todos los resultados, dividimos entre el número de repeticiones\n",
    "resultados_onehot /= n_reps"
   ]
  },
  {
   "cell_type": "code",
   "execution_count": 130,
   "metadata": {
    "colab": {
     "base_uri": "https://localhost:8080/",
     "height": 266
    },
    "id": "pYB9COwKpKWi",
    "outputId": "1a512530-6857-4398-a90d-32e46a4ba3ac"
   },
   "outputs": [
    {
     "data": {
      "text/html": [
       "<div>\n",
       "<style scoped>\n",
       "    .dataframe tbody tr th:only-of-type {\n",
       "        vertical-align: middle;\n",
       "    }\n",
       "\n",
       "    .dataframe tbody tr th {\n",
       "        vertical-align: top;\n",
       "    }\n",
       "\n",
       "    .dataframe thead th {\n",
       "        text-align: right;\n",
       "    }\n",
       "</style>\n",
       "<table border=\"1\" class=\"dataframe\">\n",
       "  <thead>\n",
       "    <tr style=\"text-align: right;\">\n",
       "      <th></th>\n",
       "      <th>Precisión</th>\n",
       "      <th>AUC</th>\n",
       "      <th>F1-Score</th>\n",
       "    </tr>\n",
       "  </thead>\n",
       "  <tbody>\n",
       "    <tr>\n",
       "      <th>Árbol de Decisión</th>\n",
       "      <td>0.813700</td>\n",
       "      <td>0.814300</td>\n",
       "      <td>0.803500</td>\n",
       "    </tr>\n",
       "    <tr>\n",
       "      <th>Random Forest</th>\n",
       "      <td>0.820775</td>\n",
       "      <td>0.820875</td>\n",
       "      <td>0.809475</td>\n",
       "    </tr>\n",
       "    <tr>\n",
       "      <th>AdaBoost</th>\n",
       "      <td>0.810600</td>\n",
       "      <td>0.808000</td>\n",
       "      <td>0.790800</td>\n",
       "    </tr>\n",
       "    <tr>\n",
       "      <th>Regresión Logística</th>\n",
       "      <td>0.812700</td>\n",
       "      <td>0.811500</td>\n",
       "      <td>0.797300</td>\n",
       "    </tr>\n",
       "    <tr>\n",
       "      <th>Red Neuronal</th>\n",
       "      <td>0.807225</td>\n",
       "      <td>0.806350</td>\n",
       "      <td>0.792375</td>\n",
       "    </tr>\n",
       "    <tr>\n",
       "      <th>SVM Lineal</th>\n",
       "      <td>0.817900</td>\n",
       "      <td>0.815100</td>\n",
       "      <td>0.798200</td>\n",
       "    </tr>\n",
       "    <tr>\n",
       "      <th>MultiClas por Votación</th>\n",
       "      <td>0.817650</td>\n",
       "      <td>0.817250</td>\n",
       "      <td>0.804900</td>\n",
       "    </tr>\n",
       "  </tbody>\n",
       "</table>\n",
       "</div>"
      ],
      "text/plain": [
       "                        Precisión       AUC  F1-Score\n",
       "Árbol de Decisión        0.813700  0.814300  0.803500\n",
       "Random Forest            0.820775  0.820875  0.809475\n",
       "AdaBoost                 0.810600  0.808000  0.790800\n",
       "Regresión Logística      0.812700  0.811500  0.797300\n",
       "Red Neuronal             0.807225  0.806350  0.792375\n",
       "SVM Lineal               0.817900  0.815100  0.798200\n",
       "MultiClas por Votación   0.817650  0.817250  0.804900"
      ]
     },
     "execution_count": 130,
     "metadata": {},
     "output_type": "execute_result"
    }
   ],
   "source": [
    "resultados_onehot.to_csv(\"resultados_onehot.csv\")\n",
    "resultados_onehot"
   ]
  },
  {
   "cell_type": "code",
   "execution_count": 131,
   "metadata": {
    "id": "ICC7Fz2fqtrv"
   },
   "outputs": [],
   "source": [
    "main_seed = 1\n",
    "n_reps = 5\n",
    "\n",
    "nombres = [\n",
    "              'Árbol de Decisión',\n",
    "              'Random Forest',\n",
    "      ]\n",
    "\n",
    "#Se generan tantas semillas como veces se vayan a repetir las cuentas\n",
    "np.random.seed(main_seed)\n",
    "semillas = np.random.randint(0, 1000000, n_reps)  \n",
    "#Se crea una dataframe con las dimensiones del resultado\n",
    "resultados_trees_onehot = pd.DataFrame(0, index=nombres, columns=['Precisión', 'AUC', 'F1-Score'])\n",
    "\n",
    "#Se repite el experimento varias veces\n",
    "for sem in semillas:\n",
    "  estimadores = [\n",
    "                DecisionTreeClassifier(random_state=sem, max_depth=3),\n",
    "                RandomForestClassifier(random_state=sem, max_depth=4)\n",
    "    ]\n",
    "  #Sumamos el dataframe resultado al actual\n",
    "  resultados_trees_onehot += test_todos(estimadores, nombres, onehot_char, target) \n",
    "\n",
    "#Tras sumar todos los resultados, dividimos entre el número de repeticiones\n",
    "resultados_trees_onehot /= n_reps"
   ]
  },
  {
   "cell_type": "code",
   "execution_count": 132,
   "metadata": {
    "colab": {
     "base_uri": "https://localhost:8080/",
     "height": 111
    },
    "id": "QNUfpQgTrWmG",
    "outputId": "9000fa4d-0b89-454b-ce28-23f16fe83713"
   },
   "outputs": [
    {
     "data": {
      "text/html": [
       "<div>\n",
       "<style scoped>\n",
       "    .dataframe tbody tr th:only-of-type {\n",
       "        vertical-align: middle;\n",
       "    }\n",
       "\n",
       "    .dataframe tbody tr th {\n",
       "        vertical-align: top;\n",
       "    }\n",
       "\n",
       "    .dataframe thead th {\n",
       "        text-align: right;\n",
       "    }\n",
       "</style>\n",
       "<table border=\"1\" class=\"dataframe\">\n",
       "  <thead>\n",
       "    <tr style=\"text-align: right;\">\n",
       "      <th></th>\n",
       "      <th>Precisión</th>\n",
       "      <th>AUC</th>\n",
       "      <th>F1-Score</th>\n",
       "    </tr>\n",
       "  </thead>\n",
       "  <tbody>\n",
       "    <tr>\n",
       "      <th>Árbol de Decisión</th>\n",
       "      <td>0.81370</td>\n",
       "      <td>0.8143</td>\n",
       "      <td>0.80350</td>\n",
       "    </tr>\n",
       "    <tr>\n",
       "      <th>Random Forest</th>\n",
       "      <td>0.82062</td>\n",
       "      <td>0.8207</td>\n",
       "      <td>0.80926</td>\n",
       "    </tr>\n",
       "  </tbody>\n",
       "</table>\n",
       "</div>"
      ],
      "text/plain": [
       "                   Precisión     AUC  F1-Score\n",
       "Árbol de Decisión    0.81370  0.8143   0.80350\n",
       "Random Forest        0.82062  0.8207   0.80926"
      ]
     },
     "execution_count": 132,
     "metadata": {},
     "output_type": "execute_result"
    }
   ],
   "source": [
    "resultados_trees_onehot.to_csv(\"resultados_trees_onehot.csv\")\n",
    "resultados_trees_onehot"
   ]
  },
  {
   "cell_type": "code",
   "execution_count": 133,
   "metadata": {
    "colab": {
     "base_uri": "https://localhost:8080/"
    },
    "id": "1YYlegvP35Jb",
    "outputId": "a7fc1fe9-226e-426e-a707-1fde8363f4ec"
   },
   "outputs": [
    {
     "data": {
      "text/plain": [
       "DecisionTreeClassifier(max_depth=3, random_state=87)"
      ]
     },
     "execution_count": 133,
     "metadata": {},
     "output_type": "execute_result"
    }
   ],
   "source": [
    "#Visualizamos un árbol de profundidad 3 con 4/5 partes del dataset como entrenamiento\n",
    "total_size = np.size(char, axis=0)\n",
    "max_size = (total_size//5)*4\n",
    "part_size = total_size-max_size\n",
    "tree_clf = DecisionTreeClassifier(max_depth=3, random_state=87)\n",
    "tree_clf.fit(onehot_char[part_size:total_size, :], target[part_size:total_size])"
   ]
  },
  {
   "cell_type": "code",
   "execution_count": 134,
   "metadata": {
    "colab": {
     "base_uri": "https://localhost:8080/",
     "height": 538
    },
    "id": "znOSaBod35Jk",
    "outputId": "d51f03b7-4a21-4906-a1be-09d43baca8a8"
   },
   "outputs": [
    {
     "data": {
      "image/svg+xml": [
       "<?xml version=\"1.0\" encoding=\"UTF-8\" standalone=\"no\"?>\n",
       "<!DOCTYPE svg PUBLIC \"-//W3C//DTD SVG 1.1//EN\"\n",
       " \"http://www.w3.org/Graphics/SVG/1.1/DTD/svg11.dtd\">\n",
       "<!-- Generated by graphviz version 2.43.0 (0)\n",
       " -->\n",
       "<!-- Title: Tree Pages: 1 -->\n",
       "<svg width=\"1121pt\" height=\"373pt\"\n",
       " viewBox=\"0.00 0.00 1120.50 373.00\" xmlns=\"http://www.w3.org/2000/svg\" xmlns:xlink=\"http://www.w3.org/1999/xlink\">\n",
       "<g id=\"graph0\" class=\"graph\" transform=\"scale(1 1) rotate(0) translate(4 369)\">\n",
       "<title>Tree</title>\n",
       "<polygon fill=\"white\" stroke=\"transparent\" points=\"-4,4 -4,-369 1116.5,-369 1116.5,4 -4,4\"/>\n",
       "<!-- 0 -->\n",
       "<g id=\"node1\" class=\"node\">\n",
       "<title>0</title>\n",
       "<polygon fill=\"#fdf3ec\" stroke=\"black\" points=\"632.5,-365 483.5,-365 483.5,-297 632.5,-297 632.5,-365\"/>\n",
       "<text text-anchor=\"middle\" x=\"558\" y=\"-349.8\" font-family=\"Times,serif\" font-size=\"14.00\">X[4] &lt;= 0.5</text>\n",
       "<text text-anchor=\"middle\" x=\"558\" y=\"-334.8\" font-family=\"Times,serif\" font-size=\"14.00\">gini = 0.499</text>\n",
       "<text text-anchor=\"middle\" x=\"558\" y=\"-319.8\" font-family=\"Times,serif\" font-size=\"14.00\">samples = 768</text>\n",
       "<text text-anchor=\"middle\" x=\"558\" y=\"-304.8\" font-family=\"Times,serif\" font-size=\"14.00\">value = [403, 365]</text>\n",
       "</g>\n",
       "<!-- 1 -->\n",
       "<g id=\"node2\" class=\"node\">\n",
       "<title>1</title>\n",
       "<polygon fill=\"#eda978\" stroke=\"black\" points=\"497.5,-261 348.5,-261 348.5,-193 497.5,-193 497.5,-261\"/>\n",
       "<text text-anchor=\"middle\" x=\"423\" y=\"-245.8\" font-family=\"Times,serif\" font-size=\"14.00\">X[6] &lt;= 0.5</text>\n",
       "<text text-anchor=\"middle\" x=\"423\" y=\"-230.8\" font-family=\"Times,serif\" font-size=\"14.00\">gini = 0.366</text>\n",
       "<text text-anchor=\"middle\" x=\"423\" y=\"-215.8\" font-family=\"Times,serif\" font-size=\"14.00\">samples = 501</text>\n",
       "<text text-anchor=\"middle\" x=\"423\" y=\"-200.8\" font-family=\"Times,serif\" font-size=\"14.00\">value = [380, 121]</text>\n",
       "</g>\n",
       "<!-- 0&#45;&gt;1 -->\n",
       "<g id=\"edge1\" class=\"edge\">\n",
       "<title>0&#45;&gt;1</title>\n",
       "<path fill=\"none\" stroke=\"black\" d=\"M514.17,-296.88C501.79,-287.53 488.2,-277.26 475.37,-267.57\"/>\n",
       "<polygon fill=\"black\" stroke=\"black\" points=\"477.16,-264.54 467.07,-261.3 472.94,-270.12 477.16,-264.54\"/>\n",
       "<text text-anchor=\"middle\" x=\"470.52\" y=\"-282.36\" font-family=\"Times,serif\" font-size=\"14.00\">True</text>\n",
       "</g>\n",
       "<!-- 8 -->\n",
       "<g id=\"node9\" class=\"node\">\n",
       "<title>8</title>\n",
       "<polygon fill=\"#4ca6e7\" stroke=\"black\" points=\"780,-261 640,-261 640,-193 780,-193 780,-261\"/>\n",
       "<text text-anchor=\"middle\" x=\"710\" y=\"-245.8\" font-family=\"Times,serif\" font-size=\"14.00\">X[19] &lt;= 0.5</text>\n",
       "<text text-anchor=\"middle\" x=\"710\" y=\"-230.8\" font-family=\"Times,serif\" font-size=\"14.00\">gini = 0.157</text>\n",
       "<text text-anchor=\"middle\" x=\"710\" y=\"-215.8\" font-family=\"Times,serif\" font-size=\"14.00\">samples = 267</text>\n",
       "<text text-anchor=\"middle\" x=\"710\" y=\"-200.8\" font-family=\"Times,serif\" font-size=\"14.00\">value = [23, 244]</text>\n",
       "</g>\n",
       "<!-- 0&#45;&gt;8 -->\n",
       "<g id=\"edge8\" class=\"edge\">\n",
       "<title>0&#45;&gt;8</title>\n",
       "<path fill=\"none\" stroke=\"black\" d=\"M607.35,-296.88C621.63,-287.3 637.34,-276.76 652.08,-266.86\"/>\n",
       "<polygon fill=\"black\" stroke=\"black\" points=\"654.28,-269.6 660.64,-261.12 650.38,-263.79 654.28,-269.6\"/>\n",
       "<text text-anchor=\"middle\" x=\"655.81\" y=\"-281.95\" font-family=\"Times,serif\" font-size=\"14.00\">False</text>\n",
       "</g>\n",
       "<!-- 2 -->\n",
       "<g id=\"node3\" class=\"node\">\n",
       "<title>2</title>\n",
       "<polygon fill=\"#e99355\" stroke=\"black\" points=\"285,-157 145,-157 145,-89 285,-89 285,-157\"/>\n",
       "<text text-anchor=\"middle\" x=\"215\" y=\"-141.8\" font-family=\"Times,serif\" font-size=\"14.00\">X[15] &lt;= 0.5</text>\n",
       "<text text-anchor=\"middle\" x=\"215\" y=\"-126.8\" font-family=\"Times,serif\" font-size=\"14.00\">gini = 0.218</text>\n",
       "<text text-anchor=\"middle\" x=\"215\" y=\"-111.8\" font-family=\"Times,serif\" font-size=\"14.00\">samples = 369</text>\n",
       "<text text-anchor=\"middle\" x=\"215\" y=\"-96.8\" font-family=\"Times,serif\" font-size=\"14.00\">value = [323, 46]</text>\n",
       "</g>\n",
       "<!-- 1&#45;&gt;2 -->\n",
       "<g id=\"edge2\" class=\"edge\">\n",
       "<title>1&#45;&gt;2</title>\n",
       "<path fill=\"none\" stroke=\"black\" d=\"M355.47,-192.88C335.11,-182.9 312.62,-171.87 291.71,-161.62\"/>\n",
       "<polygon fill=\"black\" stroke=\"black\" points=\"293.07,-158.39 282.55,-157.12 289.99,-164.67 293.07,-158.39\"/>\n",
       "</g>\n",
       "<!-- 5 -->\n",
       "<g id=\"node6\" class=\"node\">\n",
       "<title>5</title>\n",
       "<polygon fill=\"#cfe7f9\" stroke=\"black\" points=\"488.5,-157 357.5,-157 357.5,-89 488.5,-89 488.5,-157\"/>\n",
       "<text text-anchor=\"middle\" x=\"423\" y=\"-141.8\" font-family=\"Times,serif\" font-size=\"14.00\">X[5] &lt;= 0.5</text>\n",
       "<text text-anchor=\"middle\" x=\"423\" y=\"-126.8\" font-family=\"Times,serif\" font-size=\"14.00\">gini = 0.491</text>\n",
       "<text text-anchor=\"middle\" x=\"423\" y=\"-111.8\" font-family=\"Times,serif\" font-size=\"14.00\">samples = 132</text>\n",
       "<text text-anchor=\"middle\" x=\"423\" y=\"-96.8\" font-family=\"Times,serif\" font-size=\"14.00\">value = [57, 75]</text>\n",
       "</g>\n",
       "<!-- 1&#45;&gt;5 -->\n",
       "<g id=\"edge5\" class=\"edge\">\n",
       "<title>1&#45;&gt;5</title>\n",
       "<path fill=\"none\" stroke=\"black\" d=\"M423,-192.88C423,-184.78 423,-175.98 423,-167.47\"/>\n",
       "<polygon fill=\"black\" stroke=\"black\" points=\"426.5,-167.3 423,-157.3 419.5,-167.3 426.5,-167.3\"/>\n",
       "</g>\n",
       "<!-- 3 -->\n",
       "<g id=\"node4\" class=\"node\">\n",
       "<title>3</title>\n",
       "<polygon fill=\"#e99254\" stroke=\"black\" points=\"140,-53 0,-53 0,0 140,0 140,-53\"/>\n",
       "<text text-anchor=\"middle\" x=\"70\" y=\"-37.8\" font-family=\"Times,serif\" font-size=\"14.00\">gini = 0.211</text>\n",
       "<text text-anchor=\"middle\" x=\"70\" y=\"-22.8\" font-family=\"Times,serif\" font-size=\"14.00\">samples = 367</text>\n",
       "<text text-anchor=\"middle\" x=\"70\" y=\"-7.8\" font-family=\"Times,serif\" font-size=\"14.00\">value = [323, 44]</text>\n",
       "</g>\n",
       "<!-- 2&#45;&gt;3 -->\n",
       "<g id=\"edge3\" class=\"edge\">\n",
       "<title>2&#45;&gt;3</title>\n",
       "<path fill=\"none\" stroke=\"black\" d=\"M164.29,-88.95C149.27,-79.16 132.87,-68.48 118.03,-58.8\"/>\n",
       "<polygon fill=\"black\" stroke=\"black\" points=\"119.78,-55.76 109.49,-53.24 115.96,-61.63 119.78,-55.76\"/>\n",
       "</g>\n",
       "<!-- 4 -->\n",
       "<g id=\"node5\" class=\"node\">\n",
       "<title>4</title>\n",
       "<polygon fill=\"#399de5\" stroke=\"black\" points=\"271.5,-53 158.5,-53 158.5,0 271.5,0 271.5,-53\"/>\n",
       "<text text-anchor=\"middle\" x=\"215\" y=\"-37.8\" font-family=\"Times,serif\" font-size=\"14.00\">gini = 0.0</text>\n",
       "<text text-anchor=\"middle\" x=\"215\" y=\"-22.8\" font-family=\"Times,serif\" font-size=\"14.00\">samples = 2</text>\n",
       "<text text-anchor=\"middle\" x=\"215\" y=\"-7.8\" font-family=\"Times,serif\" font-size=\"14.00\">value = [0, 2]</text>\n",
       "</g>\n",
       "<!-- 2&#45;&gt;4 -->\n",
       "<g id=\"edge4\" class=\"edge\">\n",
       "<title>2&#45;&gt;4</title>\n",
       "<path fill=\"none\" stroke=\"black\" d=\"M215,-88.95C215,-80.72 215,-71.85 215,-63.48\"/>\n",
       "<polygon fill=\"black\" stroke=\"black\" points=\"218.5,-63.24 215,-53.24 211.5,-63.24 218.5,-63.24\"/>\n",
       "</g>\n",
       "<!-- 6 -->\n",
       "<g id=\"node7\" class=\"node\">\n",
       "<title>6</title>\n",
       "<polygon fill=\"#daedfa\" stroke=\"black\" points=\"420.5,-53 289.5,-53 289.5,0 420.5,0 420.5,-53\"/>\n",
       "<text text-anchor=\"middle\" x=\"355\" y=\"-37.8\" font-family=\"Times,serif\" font-size=\"14.00\">gini = 0.495</text>\n",
       "<text text-anchor=\"middle\" x=\"355\" y=\"-22.8\" font-family=\"Times,serif\" font-size=\"14.00\">samples = 127</text>\n",
       "<text text-anchor=\"middle\" x=\"355\" y=\"-7.8\" font-family=\"Times,serif\" font-size=\"14.00\">value = [57, 70]</text>\n",
       "</g>\n",
       "<!-- 5&#45;&gt;6 -->\n",
       "<g id=\"edge6\" class=\"edge\">\n",
       "<title>5&#45;&gt;6</title>\n",
       "<path fill=\"none\" stroke=\"black\" d=\"M399.22,-88.95C392.83,-80.07 385.92,-70.46 379.49,-61.54\"/>\n",
       "<polygon fill=\"black\" stroke=\"black\" points=\"382.2,-59.31 373.52,-53.24 376.52,-63.4 382.2,-59.31\"/>\n",
       "</g>\n",
       "<!-- 7 -->\n",
       "<g id=\"node8\" class=\"node\">\n",
       "<title>7</title>\n",
       "<polygon fill=\"#399de5\" stroke=\"black\" points=\"551.5,-53 438.5,-53 438.5,0 551.5,0 551.5,-53\"/>\n",
       "<text text-anchor=\"middle\" x=\"495\" y=\"-37.8\" font-family=\"Times,serif\" font-size=\"14.00\">gini = 0.0</text>\n",
       "<text text-anchor=\"middle\" x=\"495\" y=\"-22.8\" font-family=\"Times,serif\" font-size=\"14.00\">samples = 5</text>\n",
       "<text text-anchor=\"middle\" x=\"495\" y=\"-7.8\" font-family=\"Times,serif\" font-size=\"14.00\">value = [0, 5]</text>\n",
       "</g>\n",
       "<!-- 5&#45;&gt;7 -->\n",
       "<g id=\"edge7\" class=\"edge\">\n",
       "<title>5&#45;&gt;7</title>\n",
       "<path fill=\"none\" stroke=\"black\" d=\"M448.18,-88.95C455.01,-79.98 462.42,-70.27 469.28,-61.26\"/>\n",
       "<polygon fill=\"black\" stroke=\"black\" points=\"472.11,-63.31 475.39,-53.24 466.55,-59.07 472.11,-63.31\"/>\n",
       "</g>\n",
       "<!-- 9 -->\n",
       "<g id=\"node10\" class=\"node\">\n",
       "<title>9</title>\n",
       "<polygon fill=\"#4aa5e7\" stroke=\"black\" points=\"780,-157 640,-157 640,-89 780,-89 780,-157\"/>\n",
       "<text text-anchor=\"middle\" x=\"710\" y=\"-141.8\" font-family=\"Times,serif\" font-size=\"14.00\">X[8] &lt;= 0.5</text>\n",
       "<text text-anchor=\"middle\" x=\"710\" y=\"-126.8\" font-family=\"Times,serif\" font-size=\"14.00\">gini = 0.146</text>\n",
       "<text text-anchor=\"middle\" x=\"710\" y=\"-111.8\" font-family=\"Times,serif\" font-size=\"14.00\">samples = 264</text>\n",
       "<text text-anchor=\"middle\" x=\"710\" y=\"-96.8\" font-family=\"Times,serif\" font-size=\"14.00\">value = [21, 243]</text>\n",
       "</g>\n",
       "<!-- 8&#45;&gt;9 -->\n",
       "<g id=\"edge9\" class=\"edge\">\n",
       "<title>8&#45;&gt;9</title>\n",
       "<path fill=\"none\" stroke=\"black\" d=\"M710,-192.88C710,-184.78 710,-175.98 710,-167.47\"/>\n",
       "<polygon fill=\"black\" stroke=\"black\" points=\"713.5,-167.3 710,-157.3 706.5,-167.3 713.5,-167.3\"/>\n",
       "</g>\n",
       "<!-- 12 -->\n",
       "<g id=\"node13\" class=\"node\">\n",
       "<title>12</title>\n",
       "<polygon fill=\"#f2c09c\" stroke=\"black\" points=\"981.5,-157 868.5,-157 868.5,-89 981.5,-89 981.5,-157\"/>\n",
       "<text text-anchor=\"middle\" x=\"925\" y=\"-141.8\" font-family=\"Times,serif\" font-size=\"14.00\">X[15] &lt;= 0.5</text>\n",
       "<text text-anchor=\"middle\" x=\"925\" y=\"-126.8\" font-family=\"Times,serif\" font-size=\"14.00\">gini = 0.444</text>\n",
       "<text text-anchor=\"middle\" x=\"925\" y=\"-111.8\" font-family=\"Times,serif\" font-size=\"14.00\">samples = 3</text>\n",
       "<text text-anchor=\"middle\" x=\"925\" y=\"-96.8\" font-family=\"Times,serif\" font-size=\"14.00\">value = [2, 1]</text>\n",
       "</g>\n",
       "<!-- 8&#45;&gt;12 -->\n",
       "<g id=\"edge12\" class=\"edge\">\n",
       "<title>8&#45;&gt;12</title>\n",
       "<path fill=\"none\" stroke=\"black\" d=\"M779.8,-192.88C805.36,-180.76 834.17,-167.09 859.34,-155.15\"/>\n",
       "<polygon fill=\"black\" stroke=\"black\" points=\"860.91,-158.28 868.44,-150.83 857.91,-151.96 860.91,-158.28\"/>\n",
       "</g>\n",
       "<!-- 10 -->\n",
       "<g id=\"node11\" class=\"node\">\n",
       "<title>10</title>\n",
       "<polygon fill=\"#48a5e7\" stroke=\"black\" points=\"710,-53 570,-53 570,0 710,0 710,-53\"/>\n",
       "<text text-anchor=\"middle\" x=\"640\" y=\"-37.8\" font-family=\"Times,serif\" font-size=\"14.00\">gini = 0.135</text>\n",
       "<text text-anchor=\"middle\" x=\"640\" y=\"-22.8\" font-family=\"Times,serif\" font-size=\"14.00\">samples = 248</text>\n",
       "<text text-anchor=\"middle\" x=\"640\" y=\"-7.8\" font-family=\"Times,serif\" font-size=\"14.00\">value = [18, 230]</text>\n",
       "</g>\n",
       "<!-- 9&#45;&gt;10 -->\n",
       "<g id=\"edge10\" class=\"edge\">\n",
       "<title>9&#45;&gt;10</title>\n",
       "<path fill=\"none\" stroke=\"black\" d=\"M685.52,-88.95C678.94,-80.07 671.83,-70.46 665.21,-61.54\"/>\n",
       "<polygon fill=\"black\" stroke=\"black\" points=\"667.83,-59.19 659.06,-53.24 662.2,-63.36 667.83,-59.19\"/>\n",
       "</g>\n",
       "<!-- 11 -->\n",
       "<g id=\"node12\" class=\"node\">\n",
       "<title>11</title>\n",
       "<polygon fill=\"#67b4eb\" stroke=\"black\" points=\"850,-53 728,-53 728,0 850,0 850,-53\"/>\n",
       "<text text-anchor=\"middle\" x=\"789\" y=\"-37.8\" font-family=\"Times,serif\" font-size=\"14.00\">gini = 0.305</text>\n",
       "<text text-anchor=\"middle\" x=\"789\" y=\"-22.8\" font-family=\"Times,serif\" font-size=\"14.00\">samples = 16</text>\n",
       "<text text-anchor=\"middle\" x=\"789\" y=\"-7.8\" font-family=\"Times,serif\" font-size=\"14.00\">value = [3, 13]</text>\n",
       "</g>\n",
       "<!-- 9&#45;&gt;11 -->\n",
       "<g id=\"edge11\" class=\"edge\">\n",
       "<title>9&#45;&gt;11</title>\n",
       "<path fill=\"none\" stroke=\"black\" d=\"M737.63,-88.95C745.2,-79.89 753.41,-70.07 761.01,-60.99\"/>\n",
       "<polygon fill=\"black\" stroke=\"black\" points=\"763.76,-63.15 767.48,-53.24 758.39,-58.66 763.76,-63.15\"/>\n",
       "</g>\n",
       "<!-- 13 -->\n",
       "<g id=\"node14\" class=\"node\">\n",
       "<title>13</title>\n",
       "<polygon fill=\"#e58139\" stroke=\"black\" points=\"981.5,-53 868.5,-53 868.5,0 981.5,0 981.5,-53\"/>\n",
       "<text text-anchor=\"middle\" x=\"925\" y=\"-37.8\" font-family=\"Times,serif\" font-size=\"14.00\">gini = 0.0</text>\n",
       "<text text-anchor=\"middle\" x=\"925\" y=\"-22.8\" font-family=\"Times,serif\" font-size=\"14.00\">samples = 2</text>\n",
       "<text text-anchor=\"middle\" x=\"925\" y=\"-7.8\" font-family=\"Times,serif\" font-size=\"14.00\">value = [2, 0]</text>\n",
       "</g>\n",
       "<!-- 12&#45;&gt;13 -->\n",
       "<g id=\"edge13\" class=\"edge\">\n",
       "<title>12&#45;&gt;13</title>\n",
       "<path fill=\"none\" stroke=\"black\" d=\"M925,-88.95C925,-80.72 925,-71.85 925,-63.48\"/>\n",
       "<polygon fill=\"black\" stroke=\"black\" points=\"928.5,-63.24 925,-53.24 921.5,-63.24 928.5,-63.24\"/>\n",
       "</g>\n",
       "<!-- 14 -->\n",
       "<g id=\"node15\" class=\"node\">\n",
       "<title>14</title>\n",
       "<polygon fill=\"#399de5\" stroke=\"black\" points=\"1112.5,-53 999.5,-53 999.5,0 1112.5,0 1112.5,-53\"/>\n",
       "<text text-anchor=\"middle\" x=\"1056\" y=\"-37.8\" font-family=\"Times,serif\" font-size=\"14.00\">gini = 0.0</text>\n",
       "<text text-anchor=\"middle\" x=\"1056\" y=\"-22.8\" font-family=\"Times,serif\" font-size=\"14.00\">samples = 1</text>\n",
       "<text text-anchor=\"middle\" x=\"1056\" y=\"-7.8\" font-family=\"Times,serif\" font-size=\"14.00\">value = [0, 1]</text>\n",
       "</g>\n",
       "<!-- 12&#45;&gt;14 -->\n",
       "<g id=\"edge14\" class=\"edge\">\n",
       "<title>12&#45;&gt;14</title>\n",
       "<path fill=\"none\" stroke=\"black\" d=\"M970.82,-88.95C984.13,-79.34 998.64,-68.87 1011.86,-59.34\"/>\n",
       "<polygon fill=\"black\" stroke=\"black\" points=\"1014.26,-61.93 1020.32,-53.24 1010.16,-56.25 1014.26,-61.93\"/>\n",
       "</g>\n",
       "</g>\n",
       "</svg>\n"
      ],
      "text/plain": [
       "<graphviz.files.Source at 0x7f19c2a95400>"
      ]
     },
     "execution_count": 134,
     "metadata": {},
     "output_type": "execute_result"
    }
   ],
   "source": [
    "import graphviz\n",
    "from sklearn.tree import export_graphviz\n",
    "# DOT data\n",
    "dot_data = export_graphviz(tree_clf, out_file=None, \n",
    "                                filled=True)\n",
    "\n",
    "# Draw graph\n",
    "graph = graphviz.Source(dot_data, format=\"png\")\n",
    "graph.render('decision_tree_oneshot') \n",
    "graph"
   ]
  },
  {
   "cell_type": "code",
   "execution_count": 135,
   "metadata": {
    "colab": {
     "base_uri": "https://localhost:8080/"
    },
    "id": "BwOwHEqu4fMT",
    "outputId": "b0d39183-821b-4e23-9458-984472d9fd36"
   },
   "outputs": [
    {
     "name": "stdout",
     "output_type": "stream",
     "text": [
      "[[416 100]\n",
      " [ 79 366]]\n",
      "Precisión: 0.8137\n",
      "AUC: 0.8143\n",
      "F1-Scores: 0.8035\n"
     ]
    }
   ],
   "source": [
    "conf_mat = test_model(tree_clf, onehot_char, target)\n",
    "print(conf_mat)\n",
    "print(\"Precisión:\", prec_from_conf_mat(conf_mat))\n",
    "print(\"AUC:\", auc_from_conf_mat(conf_mat))\n",
    "print(\"F1-Scores:\", f1_from_conf_mat(conf_mat))"
   ]
  }
 ],
 "metadata": {
  "colab": {
   "collapsed_sections": [],
   "name": "P1.ipynb",
   "provenance": []
  },
  "kernelspec": {
   "display_name": "Python 3",
   "language": "python",
   "name": "python3"
  },
  "language_info": {
   "codemirror_mode": {
    "name": "ipython",
    "version": 3
   },
   "file_extension": ".py",
   "mimetype": "text/x-python",
   "name": "python",
   "nbconvert_exporter": "python",
   "pygments_lexer": "ipython3",
   "version": "3.8.3"
  }
 },
 "nbformat": 4,
 "nbformat_minor": 1
}
